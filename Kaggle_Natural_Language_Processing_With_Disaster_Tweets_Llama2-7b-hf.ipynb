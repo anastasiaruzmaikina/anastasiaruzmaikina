{
 "cells": [
  {
   "cell_type": "code",
   "execution_count": null,
   "metadata": {},
   "outputs": [],
   "source": [
    "#This notebook is by Anastasia Ruzmaikina for Kaggle Competition Natural Language Processing with Disaster Tweets"
   ]
  },
  {
   "cell_type": "markdown",
   "metadata": {},
   "source": [
    "Twitter has become an important communication channel in times of emergency. The ubiquitousness of smartphones enables people to announce an emergency they’re observing in real-time. Because of this, more agencies are interested in programatically monitoring Twitter (i.e. disaster relief organizations and news agencies).\n",
    "\n",
    "But, it’s not always clear whether a person’s words are actually announcing a disaster.\n",
    "\n",
    "In this competition, you’re challenged to build a machine learning model that predicts which Tweets are about real disasters and which one’s aren’t. You’ll have access to a dataset of 10,000 tweets that were hand classified.\n",
    "\n",
    "In this notebook, I use Llama-2-7b-hf to classify tweets as disaster tweets and non-disaster tweets. This notebook is 80.6% accurate on the validation dataset not previously seen by the model."
   ]
  },
  {
   "cell_type": "code",
   "execution_count": 1,
   "metadata": {
    "_cell_guid": "b1076dfc-b9ad-4769-8c92-a6c4dae69d19",
    "_uuid": "8f2839f25d086af736a60e9eeb907d3b93b6e0e5",
    "execution": {
     "iopub.execute_input": "2024-10-22T10:56:49.181990Z",
     "iopub.status.busy": "2024-10-22T10:56:49.180990Z",
     "iopub.status.idle": "2024-10-22T10:56:49.305107Z",
     "shell.execute_reply": "2024-10-22T10:56:49.304050Z",
     "shell.execute_reply.started": "2024-10-22T10:56:49.181940Z"
    }
   },
   "outputs": [],
   "source": [
    "# This Python 3 environment comes with many helpful analytics libraries installed\n",
    "# It is defined by the kaggle/python Docker image: https://github.com/kaggle/docker-python\n",
    "# For example, here's several helpful packages to load\n",
    "\n",
    "import numpy as np # linear algebra\n",
    "import pandas as pd # data processing, CSV file I/O (e.g. pd.read_csv)\n",
    "\n",
    "# Input data files are available in the read-only \"../input/\" directory\n",
    "# For example, running this (by clicking run or pressing Shift+Enter) will list all files under the input directory\n",
    "\n",
    "import os\n",
    "for dirname, _, filenames in os.walk('/kaggle/input'):\n",
    "    for filename in filenames:\n",
    "        #print(os.path.join(dirname, filename))\n",
    "        pass\n",
    "\n",
    "# You can write up to 20GB to the current directory (/kaggle/working/) that gets preserved as output when you create a version using \"Save & Run All\" \n",
    "# You can also write temporary files to /kaggle/temp/, but they won't be saved outside of the current session"
   ]
  },
  {
   "cell_type": "code",
   "execution_count": 2,
   "metadata": {
    "execution": {
     "iopub.execute_input": "2024-10-22T10:56:49.307157Z",
     "iopub.status.busy": "2024-10-22T10:56:49.306819Z",
     "iopub.status.idle": "2024-10-22T10:59:18.476947Z",
     "shell.execute_reply": "2024-10-22T10:59:18.475781Z",
     "shell.execute_reply.started": "2024-10-22T10:56:49.307123Z"
    }
   },
   "outputs": [
    {
     "name": "stdout",
     "output_type": "stream",
     "text": [
      "\n",
      "Usage:   \n",
      "  pip install [options] <requirement specifier> [package-index-options] ...\n",
      "  pip install [options] -r <requirements file> [package-index-options] ...\n",
      "  pip install [options] [-e] <vcs project url> ...\n",
      "  pip install [options] [-e] <local project path> ...\n",
      "  pip install [options] <archive url/path> ...\n",
      "\n",
      "ambiguous option: --no-dep (--no-dependencies, --no-deps?)\n",
      "\n",
      "Usage:   \n",
      "  pip install [options] <requirement specifier> [package-index-options] ...\n",
      "  pip install [options] -r <requirements file> [package-index-options] ...\n",
      "  pip install [options] [-e] <vcs project url> ...\n",
      "  pip install [options] [-e] <local project path> ...\n",
      "  pip install [options] <archive url/path> ...\n",
      "\n",
      "ambiguous option: --no-dep (--no-dependencies, --no-deps?)\n"
     ]
    }
   ],
   "source": [
    "# Install package for inferences\n",
    "!pip install -qq --no-deps /kaggle/input/daigt-pip/peft-0.6.0-py3-none-any.whl --use-deprecated=legacy-resolver\n",
    "!pip install -qq --no-deps /kaggle/input/daigt-pip/transformers-4.35.0-py3-none-any.whl --use-deprecated=legacy-resolver\n",
    "!pip install -qq --no-deps /kaggle/input/daigt-pip/tokenizers-0.14.1-cp310-cp310-manylinux_2_17_x86_64.manylinux2014_x86_64.whl --use-deprecated=legacy-resolver\n",
    "!pip install -qq --no-deps /kaggle/input/accelerate-and-bitsandbytes/accelerate-0.29.3-py3-none-any.whl --use-deprecated=legacy-resolver\n",
    "!pip install -qq --no-deps /kaggle/input/accelerate-and-bitsandbytes/bitsandbytes-0.43.1-py3-none-manylinux_2_24_x86_64.whl --use-deprecated=legacy-resolver\n",
    "!pip install -qq --no-deps /kaggle/input/daigt-pip/optimum-1.14.0-py3-none-any.whl --use-deprecated=legacy-resolver\n",
    "#!pip install -qq --no-deps /kaggle/input/llm-detect-pip/accelerate-0.24.1-py3-none-any.whl\n",
    "#!pip install -qq --no-deps /kaggle/input/llm-detect-pip/bitsandbytes-0.41.1-py3-none-any.whl\n",
    "#!os.register_at_fork()\n",
    "!pip install -qq --no-dep /kaggle/input/bitsandbytes-accelerate/packages/accelerate-1.0.1-py3-none-any.whl --use-deprecated=legacy-resolver\n",
    "!pip install -qq --no-dep /kaggle/input/bitsandbytes-accelerate/packages/bitsandbytes-0.42.0-py3-none-any.whl --use-deprecated=legacy-resolver"
   ]
  },
  {
   "cell_type": "code",
   "execution_count": 3,
   "metadata": {
    "execution": {
     "iopub.execute_input": "2024-10-22T10:59:18.480305Z",
     "iopub.status.busy": "2024-10-22T10:59:18.479485Z",
     "iopub.status.idle": "2024-10-22T11:01:38.008856Z",
     "shell.execute_reply": "2024-10-22T11:01:38.007712Z",
     "shell.execute_reply.started": "2024-10-22T10:59:18.480245Z"
    }
   },
   "outputs": [],
   "source": [
    "#!pip install -q -U peft --no-index --find-links ../input/llm-detect-pip/ --use-deprecated=legacy-resolver\n",
    "#!pip install -q -U accelerate --no-index --find-links ../input/llm-detect-pip/ --use-deprecated=legacy-resolver\n",
    "#!pip install -q -U bitsandbytes --no-index --find-links ../input/llm-detect-pip/ --use-deprecated=legacy-resolver\n",
    "#!pip install -q -U transformers --no-index --find-links ../input/llm-detect-pip/ --use-deprecated=legacy-resolver\n",
    "# Install package for inferences\n",
    "#!pip install -qq --no-deps /kaggle/input/hf-libraries/bitsandbytes --use-deprecated=legacy-resolver\n",
    "!pip install -qq --no-deps /kaggle/input/daigt-pip/peft-0.6.0-py3-none-any.whl --use-deprecated=legacy-resolver\n",
    "#!pip install -qq --no-deps /kaggle/input/daigt-pip/transformers-4.35.0-py3-none-any.whl \n",
    "#!pip install -qq --no-deps /kaggle/input/daigt-pip/tokenizers-0.14.1-cp310-cp310-manylinux_2_17_x86_64.manylinux2014_x86_64.whl\n",
    "!pip install -qq --no-deps /kaggle/input/daigt-pip/optimum-1.14.0-py3-none-any.whl --use-deprecated=legacy-resolver\n",
    "!pip install -qq --no-deps /kaggle/input/llm-detect-pip/accelerate-0.24.1-py3-none-any.whl  --use-deprecated=legacy-resolver\n",
    "!pip install -qq --no-deps /kaggle/input/llm-detect-pip/bitsandbytes-0.41.1-py3-none-any.whl --use-deprecated=legacy-resolver\n",
    "#!pip install -qq --no-deps /kaggle/input/bitsandbytes-0-42-0 --use-deprecated=legacy-resolver\n",
    "!pip install -qq --no-deps /kaggle/input/llama3-1-dependencies/dependencies/bitsandbytes-0.43.2-py3-none-manylinux_2_24_x86_64.whl  --use-deprecated=legacy-resolver\n",
    "!pip install -qq --no-deps /kaggle/input/llama3-1-dependencies/dependencies/accelerate-0.33.0-py3-none-any.whl  --use-deprecated=legacy-resolver"
   ]
  },
  {
   "cell_type": "code",
   "execution_count": 4,
   "metadata": {
    "execution": {
     "iopub.execute_input": "2024-10-22T11:01:38.010620Z",
     "iopub.status.busy": "2024-10-22T11:01:38.010294Z",
     "iopub.status.idle": "2024-10-22T11:01:38.015375Z",
     "shell.execute_reply": "2024-10-22T11:01:38.014454Z",
     "shell.execute_reply.started": "2024-10-22T11:01:38.010586Z"
    }
   },
   "outputs": [],
   "source": [
    "from __future__ import annotations\n",
    "\n",
    "TARGET_MODEL = '/kaggle/input/llama2-7b-hf/Llama2-7b-hf' #'/kaggle/input/llama2-7b-hf/Llama2-7b-hf'#\"mistralai/Mistral-7B-v0.1\"\n",
    "\n",
    "DEBUG = False"
   ]
  },
  {
   "cell_type": "code",
   "execution_count": 5,
   "metadata": {
    "execution": {
     "iopub.execute_input": "2024-10-22T11:01:38.017788Z",
     "iopub.status.busy": "2024-10-22T11:01:38.017510Z",
     "iopub.status.idle": "2024-10-22T11:01:38.031538Z",
     "shell.execute_reply": "2024-10-22T11:01:38.030805Z",
     "shell.execute_reply.started": "2024-10-22T11:01:38.017758Z"
    }
   },
   "outputs": [],
   "source": [
    "# ====================================================\n",
    "# Directory settings\n",
    "# ====================================================\n",
    "from pathlib import Path\n",
    "\n",
    "OUTPUT_DIR = Path(\"./\")\n",
    "OUTPUT_DIR.mkdir(exist_ok=True, parents=True)\n",
    "\n",
    "INPUT_DIR = Path(\"../input/\")"
   ]
  },
  {
   "cell_type": "code",
   "execution_count": 6,
   "metadata": {
    "execution": {
     "iopub.execute_input": "2024-10-22T11:01:38.033018Z",
     "iopub.status.busy": "2024-10-22T11:01:38.032658Z",
     "iopub.status.idle": "2024-10-22T11:01:38.173456Z",
     "shell.execute_reply": "2024-10-22T11:01:38.172641Z",
     "shell.execute_reply.started": "2024-10-22T11:01:38.032974Z"
    }
   },
   "outputs": [
    {
     "data": {
      "text/html": [
       "<div>\n",
       "<style scoped>\n",
       "    .dataframe tbody tr th:only-of-type {\n",
       "        vertical-align: middle;\n",
       "    }\n",
       "\n",
       "    .dataframe tbody tr th {\n",
       "        vertical-align: top;\n",
       "    }\n",
       "\n",
       "    .dataframe thead th {\n",
       "        text-align: right;\n",
       "    }\n",
       "</style>\n",
       "<table border=\"1\" class=\"dataframe\">\n",
       "  <thead>\n",
       "    <tr style=\"text-align: right;\">\n",
       "      <th></th>\n",
       "      <th>id</th>\n",
       "      <th>input</th>\n",
       "      <th>keyword</th>\n",
       "      <th>location</th>\n",
       "      <th>text</th>\n",
       "      <th>target</th>\n",
       "      <th>label</th>\n",
       "    </tr>\n",
       "  </thead>\n",
       "  <tbody>\n",
       "    <tr>\n",
       "      <th>0</th>\n",
       "      <td>1</td>\n",
       "      <td>TEXT: Our Deeds are the Reason of this #earthq...</td>\n",
       "      <td>NaN</td>\n",
       "      <td>NaN</td>\n",
       "      <td>Our Deeds are the Reason of this #earthquake M...</td>\n",
       "      <td>1</td>\n",
       "      <td>1</td>\n",
       "    </tr>\n",
       "    <tr>\n",
       "      <th>1</th>\n",
       "      <td>4</td>\n",
       "      <td>TEXT: Forest fire near La Ronge Sask. Canada</td>\n",
       "      <td>NaN</td>\n",
       "      <td>NaN</td>\n",
       "      <td>Forest fire near La Ronge Sask. Canada</td>\n",
       "      <td>1</td>\n",
       "      <td>1</td>\n",
       "    </tr>\n",
       "    <tr>\n",
       "      <th>2</th>\n",
       "      <td>5</td>\n",
       "      <td>TEXT: All residents asked to 'shelter in place...</td>\n",
       "      <td>NaN</td>\n",
       "      <td>NaN</td>\n",
       "      <td>All residents asked to 'shelter in place' are ...</td>\n",
       "      <td>1</td>\n",
       "      <td>1</td>\n",
       "    </tr>\n",
       "    <tr>\n",
       "      <th>3</th>\n",
       "      <td>6</td>\n",
       "      <td>TEXT: 13,000 people receive #wildfires evacuat...</td>\n",
       "      <td>NaN</td>\n",
       "      <td>NaN</td>\n",
       "      <td>13,000 people receive #wildfires evacuation or...</td>\n",
       "      <td>1</td>\n",
       "      <td>1</td>\n",
       "    </tr>\n",
       "    <tr>\n",
       "      <th>4</th>\n",
       "      <td>7</td>\n",
       "      <td>TEXT: Just got sent this photo from Ruby #Alas...</td>\n",
       "      <td>NaN</td>\n",
       "      <td>NaN</td>\n",
       "      <td>Just got sent this photo from Ruby #Alaska as ...</td>\n",
       "      <td>1</td>\n",
       "      <td>1</td>\n",
       "    </tr>\n",
       "    <tr>\n",
       "      <th>...</th>\n",
       "      <td>...</td>\n",
       "      <td>...</td>\n",
       "      <td>...</td>\n",
       "      <td>...</td>\n",
       "      <td>...</td>\n",
       "      <td>...</td>\n",
       "      <td>...</td>\n",
       "    </tr>\n",
       "    <tr>\n",
       "      <th>7608</th>\n",
       "      <td>10869</td>\n",
       "      <td>TEXT: Two giant cranes holding a bridge collap...</td>\n",
       "      <td>NaN</td>\n",
       "      <td>NaN</td>\n",
       "      <td>Two giant cranes holding a bridge collapse int...</td>\n",
       "      <td>1</td>\n",
       "      <td>1</td>\n",
       "    </tr>\n",
       "    <tr>\n",
       "      <th>7609</th>\n",
       "      <td>10870</td>\n",
       "      <td>TEXT: @aria_ahrary @TheTawniest The out of con...</td>\n",
       "      <td>NaN</td>\n",
       "      <td>NaN</td>\n",
       "      <td>@aria_ahrary @TheTawniest The out of control w...</td>\n",
       "      <td>1</td>\n",
       "      <td>1</td>\n",
       "    </tr>\n",
       "    <tr>\n",
       "      <th>7610</th>\n",
       "      <td>10871</td>\n",
       "      <td>TEXT: M1.94 [01:04 UTC]?5km S of Volcano Hawai...</td>\n",
       "      <td>NaN</td>\n",
       "      <td>NaN</td>\n",
       "      <td>M1.94 [01:04 UTC]?5km S of Volcano Hawaii. htt...</td>\n",
       "      <td>1</td>\n",
       "      <td>1</td>\n",
       "    </tr>\n",
       "    <tr>\n",
       "      <th>7611</th>\n",
       "      <td>10872</td>\n",
       "      <td>TEXT: Police investigating after an e-bike col...</td>\n",
       "      <td>NaN</td>\n",
       "      <td>NaN</td>\n",
       "      <td>Police investigating after an e-bike collided ...</td>\n",
       "      <td>1</td>\n",
       "      <td>1</td>\n",
       "    </tr>\n",
       "    <tr>\n",
       "      <th>7612</th>\n",
       "      <td>10873</td>\n",
       "      <td>TEXT: The Latest: More Homes Razed by Northern...</td>\n",
       "      <td>NaN</td>\n",
       "      <td>NaN</td>\n",
       "      <td>The Latest: More Homes Razed by Northern Calif...</td>\n",
       "      <td>1</td>\n",
       "      <td>1</td>\n",
       "    </tr>\n",
       "  </tbody>\n",
       "</table>\n",
       "<p>7613 rows × 7 columns</p>\n",
       "</div>"
      ],
      "text/plain": [
       "         id                                              input keyword  \\\n",
       "0         1  TEXT: Our Deeds are the Reason of this #earthq...     NaN   \n",
       "1         4       TEXT: Forest fire near La Ronge Sask. Canada     NaN   \n",
       "2         5  TEXT: All residents asked to 'shelter in place...     NaN   \n",
       "3         6  TEXT: 13,000 people receive #wildfires evacuat...     NaN   \n",
       "4         7  TEXT: Just got sent this photo from Ruby #Alas...     NaN   \n",
       "...     ...                                                ...     ...   \n",
       "7608  10869  TEXT: Two giant cranes holding a bridge collap...     NaN   \n",
       "7609  10870  TEXT: @aria_ahrary @TheTawniest The out of con...     NaN   \n",
       "7610  10871  TEXT: M1.94 [01:04 UTC]?5km S of Volcano Hawai...     NaN   \n",
       "7611  10872  TEXT: Police investigating after an e-bike col...     NaN   \n",
       "7612  10873  TEXT: The Latest: More Homes Razed by Northern...     NaN   \n",
       "\n",
       "     location                                               text  target  \\\n",
       "0         NaN  Our Deeds are the Reason of this #earthquake M...       1   \n",
       "1         NaN             Forest fire near La Ronge Sask. Canada       1   \n",
       "2         NaN  All residents asked to 'shelter in place' are ...       1   \n",
       "3         NaN  13,000 people receive #wildfires evacuation or...       1   \n",
       "4         NaN  Just got sent this photo from Ruby #Alaska as ...       1   \n",
       "...       ...                                                ...     ...   \n",
       "7608      NaN  Two giant cranes holding a bridge collapse int...       1   \n",
       "7609      NaN  @aria_ahrary @TheTawniest The out of control w...       1   \n",
       "7610      NaN  M1.94 [01:04 UTC]?5km S of Volcano Hawaii. htt...       1   \n",
       "7611      NaN  Police investigating after an e-bike collided ...       1   \n",
       "7612      NaN  The Latest: More Homes Razed by Northern Calif...       1   \n",
       "\n",
       "      label  \n",
       "0         1  \n",
       "1         1  \n",
       "2         1  \n",
       "3         1  \n",
       "4         1  \n",
       "...     ...  \n",
       "7608      1  \n",
       "7609      1  \n",
       "7610      1  \n",
       "7611      1  \n",
       "7612      1  \n",
       "\n",
       "[7613 rows x 7 columns]"
      ]
     },
     "execution_count": 6,
     "metadata": {},
     "output_type": "execute_result"
    }
   ],
   "source": [
    "import pandas as pd\n",
    "train_df = pd.read_csv(INPUT_DIR / \"/kaggle/input/nlp-getting-started/train.csv\", sep=',')\n",
    "test_df = pd.read_csv(INPUT_DIR / \"/kaggle/input/nlp-getting-started/test.csv\", sep=',')\n",
    "external_df = pd.read_csv(INPUT_DIR / \"/kaggle/input/nlp-getting-started/train.csv\", sep=',')\n",
    "train_df['input'] = 'TEXT: ' + train_df.text \n",
    "train_df['label'] = train_df.target\n",
    "train_df.insert(1, 'input', train_df.pop('input'))\n",
    "test_df['input'] = 'TEXT: ' + test_df.text \n",
    "test_df.insert(1, 'input', test_df.pop('input'))\n",
    "#test_df['label'] = test_df.target\n",
    "train_df"
   ]
  },
  {
   "cell_type": "code",
   "execution_count": 7,
   "metadata": {
    "execution": {
     "iopub.execute_input": "2024-10-22T11:01:38.174814Z",
     "iopub.status.busy": "2024-10-22T11:01:38.174530Z",
     "iopub.status.idle": "2024-10-22T11:01:38.185382Z",
     "shell.execute_reply": "2024-10-22T11:01:38.184491Z",
     "shell.execute_reply.started": "2024-10-22T11:01:38.174783Z"
    }
   },
   "outputs": [
    {
     "data": {
      "text/html": [
       "<div>\n",
       "<style scoped>\n",
       "    .dataframe tbody tr th:only-of-type {\n",
       "        vertical-align: middle;\n",
       "    }\n",
       "\n",
       "    .dataframe tbody tr th {\n",
       "        vertical-align: top;\n",
       "    }\n",
       "\n",
       "    .dataframe thead th {\n",
       "        text-align: right;\n",
       "    }\n",
       "</style>\n",
       "<table border=\"1\" class=\"dataframe\">\n",
       "  <thead>\n",
       "    <tr style=\"text-align: right;\">\n",
       "      <th></th>\n",
       "      <th>input</th>\n",
       "    </tr>\n",
       "  </thead>\n",
       "  <tbody>\n",
       "    <tr>\n",
       "      <th>0</th>\n",
       "      <td>TEXT: Just happened a terrible car crash</td>\n",
       "    </tr>\n",
       "    <tr>\n",
       "      <th>1</th>\n",
       "      <td>TEXT: Heard about #earthquake is different cit...</td>\n",
       "    </tr>\n",
       "    <tr>\n",
       "      <th>2</th>\n",
       "      <td>TEXT: there is a forest fire at spot pond, gee...</td>\n",
       "    </tr>\n",
       "    <tr>\n",
       "      <th>3</th>\n",
       "      <td>TEXT: Apocalypse lighting. #Spokane #wildfires</td>\n",
       "    </tr>\n",
       "    <tr>\n",
       "      <th>4</th>\n",
       "      <td>TEXT: Typhoon Soudelor kills 28 in China and T...</td>\n",
       "    </tr>\n",
       "    <tr>\n",
       "      <th>...</th>\n",
       "      <td>...</td>\n",
       "    </tr>\n",
       "    <tr>\n",
       "      <th>3258</th>\n",
       "      <td>TEXT: EARTHQUAKE SAFETY LOS ANGELES ÛÒ SAFETY...</td>\n",
       "    </tr>\n",
       "    <tr>\n",
       "      <th>3259</th>\n",
       "      <td>TEXT: Storm in RI worse than last hurricane. M...</td>\n",
       "    </tr>\n",
       "    <tr>\n",
       "      <th>3260</th>\n",
       "      <td>TEXT: Green Line derailment in Chicago http://...</td>\n",
       "    </tr>\n",
       "    <tr>\n",
       "      <th>3261</th>\n",
       "      <td>TEXT: MEG issues Hazardous Weather Outlook (HW...</td>\n",
       "    </tr>\n",
       "    <tr>\n",
       "      <th>3262</th>\n",
       "      <td>TEXT: #CityofCalgary has activated its Municip...</td>\n",
       "    </tr>\n",
       "  </tbody>\n",
       "</table>\n",
       "<p>3263 rows × 1 columns</p>\n",
       "</div>"
      ],
      "text/plain": [
       "                                                  input\n",
       "0              TEXT: Just happened a terrible car crash\n",
       "1     TEXT: Heard about #earthquake is different cit...\n",
       "2     TEXT: there is a forest fire at spot pond, gee...\n",
       "3        TEXT: Apocalypse lighting. #Spokane #wildfires\n",
       "4     TEXT: Typhoon Soudelor kills 28 in China and T...\n",
       "...                                                 ...\n",
       "3258  TEXT: EARTHQUAKE SAFETY LOS ANGELES ÛÒ SAFETY...\n",
       "3259  TEXT: Storm in RI worse than last hurricane. M...\n",
       "3260  TEXT: Green Line derailment in Chicago http://...\n",
       "3261  TEXT: MEG issues Hazardous Weather Outlook (HW...\n",
       "3262  TEXT: #CityofCalgary has activated its Municip...\n",
       "\n",
       "[3263 rows x 1 columns]"
      ]
     },
     "execution_count": 7,
     "metadata": {},
     "output_type": "execute_result"
    }
   ],
   "source": [
    "# rename column generated to label\n",
    "\n",
    "#train_df = train_df.rename(columns={'label': 'label'})\n",
    "#test_df = test_df.rename(columns={'label': 'label'})\n",
    "#external_df = external_df.rename(columns={'label': 'label'})\n",
    "test_df = test_df.drop(['id','keyword', 'location','text'], axis=1)\n",
    "test_df.reset_index(inplace=True, drop=True)\n",
    "test_df"
   ]
  },
  {
   "cell_type": "code",
   "execution_count": 8,
   "metadata": {
    "execution": {
     "iopub.execute_input": "2024-10-22T11:01:38.187023Z",
     "iopub.status.busy": "2024-10-22T11:01:38.186623Z",
     "iopub.status.idle": "2024-10-22T11:01:38.200701Z",
     "shell.execute_reply": "2024-10-22T11:01:38.199770Z",
     "shell.execute_reply.started": "2024-10-22T11:01:38.186966Z"
    }
   },
   "outputs": [
    {
     "name": "stdout",
     "output_type": "stream",
     "text": [
      "Train dataframe has shape: (7613, 2)\n"
     ]
    },
    {
     "data": {
      "text/html": [
       "<div>\n",
       "<style scoped>\n",
       "    .dataframe tbody tr th:only-of-type {\n",
       "        vertical-align: middle;\n",
       "    }\n",
       "\n",
       "    .dataframe tbody tr th {\n",
       "        vertical-align: top;\n",
       "    }\n",
       "\n",
       "    .dataframe thead th {\n",
       "        text-align: right;\n",
       "    }\n",
       "</style>\n",
       "<table border=\"1\" class=\"dataframe\">\n",
       "  <thead>\n",
       "    <tr style=\"text-align: right;\">\n",
       "      <th></th>\n",
       "      <th>input</th>\n",
       "      <th>label</th>\n",
       "    </tr>\n",
       "  </thead>\n",
       "  <tbody>\n",
       "    <tr>\n",
       "      <th>0</th>\n",
       "      <td>TEXT: Our Deeds are the Reason of this #earthq...</td>\n",
       "      <td>1</td>\n",
       "    </tr>\n",
       "    <tr>\n",
       "      <th>1</th>\n",
       "      <td>TEXT: Forest fire near La Ronge Sask. Canada</td>\n",
       "      <td>1</td>\n",
       "    </tr>\n",
       "    <tr>\n",
       "      <th>2</th>\n",
       "      <td>TEXT: All residents asked to 'shelter in place...</td>\n",
       "      <td>1</td>\n",
       "    </tr>\n",
       "    <tr>\n",
       "      <th>3</th>\n",
       "      <td>TEXT: 13,000 people receive #wildfires evacuat...</td>\n",
       "      <td>1</td>\n",
       "    </tr>\n",
       "    <tr>\n",
       "      <th>4</th>\n",
       "      <td>TEXT: Just got sent this photo from Ruby #Alas...</td>\n",
       "      <td>1</td>\n",
       "    </tr>\n",
       "  </tbody>\n",
       "</table>\n",
       "</div>"
      ],
      "text/plain": [
       "                                               input  label\n",
       "0  TEXT: Our Deeds are the Reason of this #earthq...      1\n",
       "1       TEXT: Forest fire near La Ronge Sask. Canada      1\n",
       "2  TEXT: All residents asked to 'shelter in place...      1\n",
       "3  TEXT: 13,000 people receive #wildfires evacuat...      1\n",
       "4  TEXT: Just got sent this photo from Ruby #Alas...      1"
      ]
     },
     "execution_count": 8,
     "metadata": {},
     "output_type": "execute_result"
    }
   ],
   "source": [
    "#train_df = pd.concat([train_df, external_df])\n",
    "train_df = train_df.drop(['id','keyword', 'location','target','text'], axis=1)\n",
    "train_df.reset_index(inplace=True, drop=True)\n",
    "print(f\"Train dataframe has shape: {train_df.shape}\")\n",
    "train_df.head()"
   ]
  },
  {
   "cell_type": "code",
   "execution_count": 9,
   "metadata": {
    "execution": {
     "iopub.execute_input": "2024-10-22T11:01:38.202279Z",
     "iopub.status.busy": "2024-10-22T11:01:38.201882Z",
     "iopub.status.idle": "2024-10-22T11:01:38.235885Z",
     "shell.execute_reply": "2024-10-22T11:01:38.235093Z",
     "shell.execute_reply.started": "2024-10-22T11:01:38.202198Z"
    }
   },
   "outputs": [
    {
     "name": "stdout",
     "output_type": "stream",
     "text": [
      "fold  label\n",
      "0.0   0        868\n",
      "      1        655\n",
      "1.0   0        869\n",
      "      1        654\n",
      "2.0   0        869\n",
      "      1        654\n",
      "3.0   0        868\n",
      "      1        654\n",
      "4.0   0        868\n",
      "      1        654\n",
      "Name: count, dtype: int64\n"
     ]
    },
    {
     "data": {
      "text/html": [
       "<div>\n",
       "<style scoped>\n",
       "    .dataframe tbody tr th:only-of-type {\n",
       "        vertical-align: middle;\n",
       "    }\n",
       "\n",
       "    .dataframe tbody tr th {\n",
       "        vertical-align: top;\n",
       "    }\n",
       "\n",
       "    .dataframe thead th {\n",
       "        text-align: right;\n",
       "    }\n",
       "</style>\n",
       "<table border=\"1\" class=\"dataframe\">\n",
       "  <thead>\n",
       "    <tr style=\"text-align: right;\">\n",
       "      <th></th>\n",
       "      <th>input</th>\n",
       "      <th>label</th>\n",
       "      <th>fold</th>\n",
       "    </tr>\n",
       "  </thead>\n",
       "  <tbody>\n",
       "    <tr>\n",
       "      <th>0</th>\n",
       "      <td>TEXT: Our Deeds are the Reason of this #earthq...</td>\n",
       "      <td>1</td>\n",
       "      <td>2.0</td>\n",
       "    </tr>\n",
       "    <tr>\n",
       "      <th>1</th>\n",
       "      <td>TEXT: Forest fire near La Ronge Sask. Canada</td>\n",
       "      <td>1</td>\n",
       "      <td>0.0</td>\n",
       "    </tr>\n",
       "    <tr>\n",
       "      <th>2</th>\n",
       "      <td>TEXT: All residents asked to 'shelter in place...</td>\n",
       "      <td>1</td>\n",
       "      <td>0.0</td>\n",
       "    </tr>\n",
       "    <tr>\n",
       "      <th>3</th>\n",
       "      <td>TEXT: 13,000 people receive #wildfires evacuat...</td>\n",
       "      <td>1</td>\n",
       "      <td>0.0</td>\n",
       "    </tr>\n",
       "    <tr>\n",
       "      <th>4</th>\n",
       "      <td>TEXT: Just got sent this photo from Ruby #Alas...</td>\n",
       "      <td>1</td>\n",
       "      <td>1.0</td>\n",
       "    </tr>\n",
       "  </tbody>\n",
       "</table>\n",
       "</div>"
      ],
      "text/plain": [
       "                                               input  label  fold\n",
       "0  TEXT: Our Deeds are the Reason of this #earthq...      1   2.0\n",
       "1       TEXT: Forest fire near La Ronge Sask. Canada      1   0.0\n",
       "2  TEXT: All residents asked to 'shelter in place...      1   0.0\n",
       "3  TEXT: 13,000 people receive #wildfires evacuat...      1   0.0\n",
       "4  TEXT: Just got sent this photo from Ruby #Alas...      1   1.0"
      ]
     },
     "execution_count": 9,
     "metadata": {},
     "output_type": "execute_result"
    }
   ],
   "source": [
    "from sklearn.model_selection import StratifiedKFold\n",
    "\n",
    "skf = StratifiedKFold(n_splits=5, shuffle=True, random_state=42)\n",
    "X = train_df.loc[:, train_df.columns != \"label\"]\n",
    "y = train_df.loc[:, train_df.columns == \"label\"]\n",
    "\n",
    "for i, (train_index, valid_index) in enumerate(skf.split(X, y)):\n",
    "    train_df.loc[valid_index, \"fold\"] = i\n",
    "    \n",
    "print(train_df.groupby(\"fold\")[\"label\"].value_counts())\n",
    "train_df.head()"
   ]
  },
  {
   "cell_type": "code",
   "execution_count": 10,
   "metadata": {
    "execution": {
     "iopub.execute_input": "2024-10-22T11:01:38.237245Z",
     "iopub.status.busy": "2024-10-22T11:01:38.236853Z",
     "iopub.status.idle": "2024-10-22T11:01:38.244814Z",
     "shell.execute_reply": "2024-10-22T11:01:38.243826Z",
     "shell.execute_reply.started": "2024-10-22T11:01:38.237199Z"
    }
   },
   "outputs": [
    {
     "name": "stdout",
     "output_type": "stream",
     "text": [
      "(6090, 3)\n",
      "(1523, 3)\n"
     ]
    }
   ],
   "source": [
    "# fold0 as valid\n",
    "valid_df = train_df[train_df[\"fold\"] == 0]\n",
    "train_df = train_df[train_df[\"fold\"] != 0]\n",
    "print(train_df.shape)\n",
    "print(valid_df.shape)"
   ]
  },
  {
   "cell_type": "code",
   "execution_count": 11,
   "metadata": {
    "execution": {
     "iopub.execute_input": "2024-10-22T11:01:38.249112Z",
     "iopub.status.busy": "2024-10-22T11:01:38.248571Z",
     "iopub.status.idle": "2024-10-22T11:01:44.236330Z",
     "shell.execute_reply": "2024-10-22T11:01:44.235400Z",
     "shell.execute_reply.started": "2024-10-22T11:01:38.249071Z"
    }
   },
   "outputs": [
    {
     "name": "stderr",
     "output_type": "stream",
     "text": [
      "/opt/conda/lib/python3.10/site-packages/transformers/utils/generic.py:441: FutureWarning: `torch.utils._pytree._register_pytree_node` is deprecated. Please use `torch.utils._pytree.register_pytree_node` instead.\n",
      "  _torch_pytree._register_pytree_node(\n",
      "/opt/conda/lib/python3.10/site-packages/transformers/utils/generic.py:309: FutureWarning: `torch.utils._pytree._register_pytree_node` is deprecated. Please use `torch.utils._pytree.register_pytree_node` instead.\n",
      "  _torch_pytree._register_pytree_node(\n"
     ]
    }
   ],
   "source": [
    "from peft import get_peft_config, PeftModel, PeftConfig, get_peft_model, LoraConfig, TaskType # type: ignore\n",
    "from transformers import BitsAndBytesConfig\n",
    "import torch\n",
    "\n",
    "peft_config = LoraConfig(\n",
    "    r=4, #\n",
    "    lora_alpha=16,\n",
    "    lora_dropout=0.1,\n",
    "    bias=\"none\",\n",
    "    task_type=TaskType.SEQ_CLS,\n",
    "    inference_mode=False,\n",
    "    target_modules=[\n",
    "        \"q_proj\",\n",
    "        \"v_proj\"\n",
    "    ],\n",
    ")\n",
    "\n",
    "bnb_config = BitsAndBytesConfig(\n",
    "    load_in_4bit=True,\n",
    "    bnb_4bit_quant_type=\"nf4\",\n",
    "    bnb_4bit_use_double_quant=True,\n",
    "    bnb_4bit_compute_dtype=torch.bfloat16\n",
    ")"
   ]
  },
  {
   "cell_type": "code",
   "execution_count": 12,
   "metadata": {
    "execution": {
     "iopub.execute_input": "2024-10-22T11:01:44.237853Z",
     "iopub.status.busy": "2024-10-22T11:01:44.237399Z",
     "iopub.status.idle": "2024-10-22T11:01:44.517275Z",
     "shell.execute_reply": "2024-10-22T11:01:44.516224Z",
     "shell.execute_reply.started": "2024-10-22T11:01:44.237820Z"
    }
   },
   "outputs": [],
   "source": [
    "from transformers import AutoTokenizer, LlamaForSequenceClassification\n",
    "\n",
    "tokenizer = AutoTokenizer.from_pretrained(TARGET_MODEL, use_fast=False)\n",
    "tokenizer.pad_token = tokenizer.eos_token"
   ]
  },
  {
   "cell_type": "code",
   "execution_count": 13,
   "metadata": {
    "execution": {
     "iopub.execute_input": "2024-10-22T11:01:44.519197Z",
     "iopub.status.busy": "2024-10-22T11:01:44.518558Z",
     "iopub.status.idle": "2024-10-22T11:04:25.244781Z",
     "shell.execute_reply": "2024-10-22T11:04:25.244031Z",
     "shell.execute_reply.started": "2024-10-22T11:01:44.519149Z"
    }
   },
   "outputs": [
    {
     "data": {
      "application/vnd.jupyter.widget-view+json": {
       "model_id": "84d8a26dbbf24854bafa86b7b8bd848b",
       "version_major": 2,
       "version_minor": 0
      },
      "text/plain": [
       "Loading checkpoint shards:   0%|          | 0/2 [00:00<?, ?it/s]"
      ]
     },
     "metadata": {},
     "output_type": "display_data"
    },
    {
     "name": "stderr",
     "output_type": "stream",
     "text": [
      "/opt/conda/lib/python3.10/site-packages/transformers/modeling_utils.py:484: FutureWarning: You are using `torch.load` with `weights_only=False` (the current default value), which uses the default pickle module implicitly. It is possible to construct malicious pickle data which will execute arbitrary code during unpickling (See https://github.com/pytorch/pytorch/blob/main/SECURITY.md#untrusted-models for more details). In a future release, the default value for `weights_only` will be flipped to `True`. This limits the functions that could be executed during unpickling. Arbitrary objects will no longer be allowed to be loaded via this mode unless they are explicitly allowlisted by the user via `torch.serialization.add_safe_globals`. We recommend you start setting `weights_only=True` for any use case where you don't have full control of the loaded file. Please open an issue on GitHub for any issues related to this experimental feature.\n",
      "  return torch.load(checkpoint_file, map_location=map_location)\n",
      "Some weights of LlamaForSequenceClassification were not initialized from the model checkpoint at /kaggle/input/llama2-7b-hf/Llama2-7b-hf and are newly initialized: ['score.weight']\n",
      "You should probably TRAIN this model on a down-stream task to be able to use it for predictions and inference.\n"
     ]
    }
   ],
   "source": [
    "base_model = LlamaForSequenceClassification.from_pretrained(\n",
    "    TARGET_MODEL,\n",
    "    num_labels=2,\n",
    "    quantization_config=bnb_config,\n",
    "    device_map={\"\":0}\n",
    ")\n",
    "base_model.config.pretraining_tp = 1 # 1 is 7b\n",
    "base_model.config.pad_token_id = tokenizer.pad_token_id\n"
   ]
  },
  {
   "cell_type": "code",
   "execution_count": 14,
   "metadata": {
    "execution": {
     "iopub.execute_input": "2024-10-22T11:04:25.246118Z",
     "iopub.status.busy": "2024-10-22T11:04:25.245832Z",
     "iopub.status.idle": "2024-10-22T11:04:25.357498Z",
     "shell.execute_reply": "2024-10-22T11:04:25.356753Z",
     "shell.execute_reply.started": "2024-10-22T11:04:25.246086Z"
    }
   },
   "outputs": [],
   "source": [
    "model = get_peft_model(base_model, peft_config)"
   ]
  },
  {
   "cell_type": "code",
   "execution_count": 15,
   "metadata": {
    "execution": {
     "iopub.execute_input": "2024-10-22T11:04:25.358779Z",
     "iopub.status.busy": "2024-10-22T11:04:25.358499Z",
     "iopub.status.idle": "2024-10-22T11:04:25.367085Z",
     "shell.execute_reply": "2024-10-22T11:04:25.366248Z",
     "shell.execute_reply.started": "2024-10-22T11:04:25.358748Z"
    }
   },
   "outputs": [
    {
     "name": "stdout",
     "output_type": "stream",
     "text": [
      "trainable params: 2,105,344 || all params: 6,609,457,152 || trainable%: 0.031853508564813525\n"
     ]
    }
   ],
   "source": [
    "model.print_trainable_parameters()"
   ]
  },
  {
   "cell_type": "code",
   "execution_count": 16,
   "metadata": {
    "execution": {
     "iopub.execute_input": "2024-10-22T11:04:25.368601Z",
     "iopub.status.busy": "2024-10-22T11:04:25.368316Z",
     "iopub.status.idle": "2024-10-22T11:04:25.388944Z",
     "shell.execute_reply": "2024-10-22T11:04:25.387969Z",
     "shell.execute_reply.started": "2024-10-22T11:04:25.368570Z"
    }
   },
   "outputs": [
    {
     "name": "stdout",
     "output_type": "stream",
     "text": [
      "                                                  input  label  fold\n",
      "4111  TEXT: Hail:The user summons a hailstorm lastin...      0   1.0\n",
      "997   TEXT: Mopheme and Bigstar Johnson are a proble...      0   1.0\n",
      "3012  TEXT: The answer my friend is yelling in the w...      0   3.0\n",
      "1317  TEXT: Now playing: Boat Club - Memories on Lon...      0   4.0\n",
      "2048  TEXT: The girl that I wanna save is like a dan...      0   2.0\n",
      "label\n",
      "0    1170\n",
      "1     830\n",
      "Name: count, dtype: int64 label\n",
      "0    868\n",
      "1    655\n",
      "Name: count, dtype: int64\n"
     ]
    }
   ],
   "source": [
    "#remove this for actual calculation  here we take a smaller sample of the dataframe to speed up \n",
    "train_df = train_df.sample(2000, random_state=42)  #2400\n",
    "print(train_df.tail())\n",
    "print(train_df.label.value_counts(), valid_df.label.value_counts())"
   ]
  },
  {
   "cell_type": "code",
   "execution_count": 17,
   "metadata": {
    "execution": {
     "iopub.execute_input": "2024-10-22T11:04:25.390555Z",
     "iopub.status.busy": "2024-10-22T11:04:25.390181Z",
     "iopub.status.idle": "2024-10-22T11:04:25.397785Z",
     "shell.execute_reply": "2024-10-22T11:04:25.396860Z",
     "shell.execute_reply.started": "2024-10-22T11:04:25.390513Z"
    }
   },
   "outputs": [
    {
     "name": "stdout",
     "output_type": "stream",
     "text": [
      "(2000, 3)\n",
      "(1462, 3)\n",
      "(61, 3)\n"
     ]
    }
   ],
   "source": [
    "valid_df1 = valid_df.sample(frac = 0.04, random_state=42)\n",
    "valid_df = valid_df.loc[~valid_df.index.isin(valid_df1.index)]\n",
    "print(train_df.shape)\n",
    "print(valid_df.shape)\n",
    "print(valid_df1.shape)"
   ]
  },
  {
   "cell_type": "code",
   "execution_count": 18,
   "metadata": {
    "execution": {
     "iopub.execute_input": "2024-10-22T11:04:25.399441Z",
     "iopub.status.busy": "2024-10-22T11:04:25.399148Z",
     "iopub.status.idle": "2024-10-22T11:04:25.885125Z",
     "shell.execute_reply": "2024-10-22T11:04:25.884411Z",
     "shell.execute_reply.started": "2024-10-22T11:04:25.399411Z"
    }
   },
   "outputs": [],
   "source": [
    "# datasets\n",
    "from datasets import Dataset\n",
    "\n",
    "# from pandas\n",
    "train_ds = Dataset.from_pandas(train_df)\n",
    "valid_ds = Dataset.from_pandas(valid_df)\n",
    "test_ds = Dataset.from_pandas(test_df)\n",
    "valid_ds1 = Dataset.from_pandas(valid_df1)\n"
   ]
  },
  {
   "cell_type": "code",
   "execution_count": 19,
   "metadata": {
    "execution": {
     "iopub.execute_input": "2024-10-22T11:04:25.886507Z",
     "iopub.status.busy": "2024-10-22T11:04:25.886099Z",
     "iopub.status.idle": "2024-10-22T11:04:25.891474Z",
     "shell.execute_reply": "2024-10-22T11:04:25.890446Z",
     "shell.execute_reply.started": "2024-10-22T11:04:25.886474Z"
    }
   },
   "outputs": [],
   "source": [
    "def preprocess_function(examples, max_length=512):\n",
    "    return tokenizer(examples[\"input\"], truncation=True, max_length=max_length, padding=True)"
   ]
  },
  {
   "cell_type": "code",
   "execution_count": 20,
   "metadata": {
    "execution": {
     "iopub.execute_input": "2024-10-22T11:04:25.893565Z",
     "iopub.status.busy": "2024-10-22T11:04:25.892835Z",
     "iopub.status.idle": "2024-10-22T11:04:28.697473Z",
     "shell.execute_reply": "2024-10-22T11:04:28.696557Z",
     "shell.execute_reply.started": "2024-10-22T11:04:25.893519Z"
    }
   },
   "outputs": [
    {
     "data": {
      "application/vnd.jupyter.widget-view+json": {
       "model_id": "4b22e08a5e5647ed8d8e2769f64fc0fa",
       "version_major": 2,
       "version_minor": 0
      },
      "text/plain": [
       "Map:   0%|          | 0/2000 [00:00<?, ? examples/s]"
      ]
     },
     "metadata": {},
     "output_type": "display_data"
    },
    {
     "data": {
      "application/vnd.jupyter.widget-view+json": {
       "model_id": "fca7c1bbd4a54951b2ebe44a2a859788",
       "version_major": 2,
       "version_minor": 0
      },
      "text/plain": [
       "Map:   0%|          | 0/1462 [00:00<?, ? examples/s]"
      ]
     },
     "metadata": {},
     "output_type": "display_data"
    },
    {
     "data": {
      "application/vnd.jupyter.widget-view+json": {
       "model_id": "160d173e4cbe4651af8999f48ed2b161",
       "version_major": 2,
       "version_minor": 0
      },
      "text/plain": [
       "Map:   0%|          | 0/3263 [00:00<?, ? examples/s]"
      ]
     },
     "metadata": {},
     "output_type": "display_data"
    },
    {
     "data": {
      "application/vnd.jupyter.widget-view+json": {
       "model_id": "c4142a8804b14fe2b7f29e4fc7b8e2b6",
       "version_major": 2,
       "version_minor": 0
      },
      "text/plain": [
       "Map:   0%|          | 0/61 [00:00<?, ? examples/s]"
      ]
     },
     "metadata": {},
     "output_type": "display_data"
    }
   ],
   "source": [
    "train_tokenized_ds = train_ds.map(preprocess_function, batched=True)\n",
    "valid_tokenized_ds = valid_ds.map(preprocess_function, batched=True)\n",
    "test_tokenized_ds = test_ds.map(preprocess_function, batched=True)\n",
    "valid_tokenized_ds1 = valid_ds1.map(preprocess_function, batched=True)\n"
   ]
  },
  {
   "cell_type": "code",
   "execution_count": 21,
   "metadata": {
    "execution": {
     "iopub.execute_input": "2024-10-22T11:04:28.699009Z",
     "iopub.status.busy": "2024-10-22T11:04:28.698715Z",
     "iopub.status.idle": "2024-10-22T11:04:38.642682Z",
     "shell.execute_reply": "2024-10-22T11:04:38.641850Z",
     "shell.execute_reply.started": "2024-10-22T11:04:28.698977Z"
    }
   },
   "outputs": [],
   "source": [
    "from transformers import DataCollatorWithPadding\n",
    "\n",
    "data_collator = DataCollatorWithPadding(tokenizer=tokenizer, padding=\"longest\")"
   ]
  },
  {
   "cell_type": "code",
   "execution_count": 22,
   "metadata": {
    "execution": {
     "iopub.execute_input": "2024-10-22T11:04:38.644420Z",
     "iopub.status.busy": "2024-10-22T11:04:38.643759Z",
     "iopub.status.idle": "2024-10-22T11:04:38.650413Z",
     "shell.execute_reply": "2024-10-22T11:04:38.649336Z",
     "shell.execute_reply.started": "2024-10-22T11:04:38.644383Z"
    }
   },
   "outputs": [],
   "source": [
    "import numpy as np\n",
    "from sklearn.metrics import accuracy_score, roc_auc_score\n",
    "import numpy as np\n",
    "\n",
    "def compute_metrics(eval_pred):\n",
    "    predictions, labels = eval_pred\n",
    "    predictions = np.argmax(predictions, axis=1)\n",
    "    \n",
    "    accuracy_val = accuracy_score(labels, predictions)\n",
    "    #roc_auc_val = roc_auc_score(labels, predictions)\n",
    "    \n",
    "    return {\n",
    "        \"accuracy\": accuracy_val,\n",
    "        #\"roc_auc\": roc_auc_val,\n",
    "    }"
   ]
  },
  {
   "cell_type": "code",
   "execution_count": 23,
   "metadata": {
    "execution": {
     "iopub.execute_input": "2024-10-22T11:04:38.652640Z",
     "iopub.status.busy": "2024-10-22T11:04:38.651995Z",
     "iopub.status.idle": "2024-10-22T13:13:34.368622Z",
     "shell.execute_reply": "2024-10-22T13:13:34.367643Z",
     "shell.execute_reply.started": "2024-10-22T11:04:38.652596Z"
    }
   },
   "outputs": [
    {
     "name": "stderr",
     "output_type": "stream",
     "text": [
      "/opt/conda/lib/python3.10/site-packages/accelerate/accelerator.py:451: FutureWarning: Passing the following arguments to `Accelerator` is deprecated and will be removed in version 1.0 of Accelerate: dict_keys(['dispatch_batches', 'split_batches']). Please pass an `accelerate.DataLoaderConfiguration` instead: \n",
      "dataloader_config = DataLoaderConfiguration(dispatch_batches=None, split_batches=False)\n",
      "  warnings.warn(\n"
     ]
    },
    {
     "data": {
      "text/html": [
       "\n",
       "    <div>\n",
       "      \n",
       "      <progress value='125' max='125' style='width:300px; height:20px; vertical-align: middle;'></progress>\n",
       "      [125/125 2:08:35, Epoch 1/1]\n",
       "    </div>\n",
       "    <table border=\"1\" class=\"dataframe\">\n",
       "  <thead>\n",
       " <tr style=\"text-align: left;\">\n",
       "      <th>Step</th>\n",
       "      <th>Training Loss</th>\n",
       "      <th>Validation Loss</th>\n",
       "      <th>Accuracy</th>\n",
       "    </tr>\n",
       "  </thead>\n",
       "  <tbody>\n",
       "    <tr>\n",
       "      <td>20</td>\n",
       "      <td>1.017200</td>\n",
       "      <td>0.663574</td>\n",
       "      <td>0.748974</td>\n",
       "    </tr>\n",
       "    <tr>\n",
       "      <td>40</td>\n",
       "      <td>0.705800</td>\n",
       "      <td>0.583984</td>\n",
       "      <td>0.776334</td>\n",
       "    </tr>\n",
       "    <tr>\n",
       "      <td>60</td>\n",
       "      <td>0.659000</td>\n",
       "      <td>0.616699</td>\n",
       "      <td>0.796170</td>\n",
       "    </tr>\n",
       "    <tr>\n",
       "      <td>80</td>\n",
       "      <td>0.588600</td>\n",
       "      <td>0.624023</td>\n",
       "      <td>0.768810</td>\n",
       "    </tr>\n",
       "    <tr>\n",
       "      <td>100</td>\n",
       "      <td>0.540900</td>\n",
       "      <td>0.601074</td>\n",
       "      <td>0.790698</td>\n",
       "    </tr>\n",
       "    <tr>\n",
       "      <td>120</td>\n",
       "      <td>0.608800</td>\n",
       "      <td>0.545898</td>\n",
       "      <td>0.806430</td>\n",
       "    </tr>\n",
       "  </tbody>\n",
       "</table><p>"
      ],
      "text/plain": [
       "<IPython.core.display.HTML object>"
      ]
     },
     "metadata": {},
     "output_type": "display_data"
    },
    {
     "data": {
      "text/plain": [
       "TrainOutput(global_step=125, training_loss=0.6763491878509521, metrics={'train_runtime': 7734.8496, 'train_samples_per_second': 0.259, 'train_steps_per_second': 0.016, 'total_flos': 7229877829632000.0, 'train_loss': 0.6763491878509521, 'epoch': 1.0})"
      ]
     },
     "execution_count": 23,
     "metadata": {},
     "output_type": "execute_result"
    }
   ],
   "source": [
    "from transformers import TrainingArguments, Trainer\n",
    "\n",
    "steps = 5 if DEBUG else 20\n",
    "\n",
    "training_args = TrainingArguments(\n",
    "    output_dir=OUTPUT_DIR,\n",
    "    learning_rate=5e-4,\n",
    "    per_device_train_batch_size=1,\n",
    "    per_device_eval_batch_size=1,\n",
    "    gradient_accumulation_steps=16,\n",
    "    max_grad_norm=0.3,\n",
    "    optim='paged_adamw_32bit',\n",
    "    lr_scheduler_type=\"cosine\",\n",
    "    num_train_epochs=1,\n",
    "    weight_decay=0.01,\n",
    "    evaluation_strategy=\"steps\",\n",
    "    save_strategy=\"steps\",\n",
    "    load_best_model_at_end=True,\n",
    "    push_to_hub=False,\n",
    "    warmup_steps=steps,\n",
    "    eval_steps=steps,\n",
    "    logging_steps=steps,\n",
    "    report_to='none' # if DEBUG else 'wandb',\n",
    ")\n",
    "\n",
    "trainer = Trainer(\n",
    "    model=model,\n",
    "    args=training_args,\n",
    "    train_dataset=train_tokenized_ds,\n",
    "    eval_dataset=valid_tokenized_ds,\n",
    "    tokenizer=tokenizer,\n",
    "    data_collator=data_collator,\n",
    "    compute_metrics=compute_metrics,\n",
    ")\n",
    "\n",
    "trainer.train()"
   ]
  },
  {
   "cell_type": "code",
   "execution_count": 24,
   "metadata": {
    "execution": {
     "iopub.execute_input": "2024-10-22T13:13:34.371573Z",
     "iopub.status.busy": "2024-10-22T13:13:34.371164Z",
     "iopub.status.idle": "2024-10-22T13:14:11.793650Z",
     "shell.execute_reply": "2024-10-22T13:14:11.792719Z",
     "shell.execute_reply.started": "2024-10-22T13:13:34.371534Z"
    }
   },
   "outputs": [
    {
     "data": {
      "text/html": [],
      "text/plain": [
       "<IPython.core.display.HTML object>"
      ]
     },
     "metadata": {},
     "output_type": "display_data"
    }
   ],
   "source": [
    "#this is to check if the predictions work on a known dataframe not previously seen by the model\n",
    "preds = trainer.predict(valid_tokenized_ds1)\n",
    "logits = preds.predictions\n"
   ]
  },
  {
   "cell_type": "code",
   "execution_count": 25,
   "metadata": {
    "execution": {
     "iopub.execute_input": "2024-10-22T13:14:11.795217Z",
     "iopub.status.busy": "2024-10-22T13:14:11.794890Z",
     "iopub.status.idle": "2024-10-22T13:14:11.805471Z",
     "shell.execute_reply": "2024-10-22T13:14:11.804410Z",
     "shell.execute_reply.started": "2024-10-22T13:14:11.795184Z"
    }
   },
   "outputs": [
    {
     "name": "stdout",
     "output_type": "stream",
     "text": [
      "[0 0 0 1 0 1 0 1 1 0 0 0 0 0 1 1 0 1 0 0 0 1 1 0 1 0 0 0 0 1 1 1 0 1 1 0 1\n",
      " 0 1 1 1 1 1 0 0 0 0 1 1 0 0 0 1 0 0 1 1 1 1 0 1]\n"
     ]
    },
    {
     "data": {
      "text/plain": [
       "((61,), array([0, 0, 0, 1, 0]))"
      ]
     },
     "execution_count": 25,
     "metadata": {},
     "output_type": "execute_result"
    }
   ],
   "source": [
    "# from scipy.special import expit as sigmoid\n",
    "import numpy as np\n",
    "def sigmoid(x):\n",
    "    return 1 / (1 + np.exp(-x))  \n",
    "logits = sigmoid(logits)\n",
    "logits = np.argmax(logits, axis=1)\n",
    "print(logits)\n",
    "logits.shape, logits[0:5]"
   ]
  },
  {
   "cell_type": "code",
   "execution_count": 26,
   "metadata": {
    "execution": {
     "iopub.execute_input": "2024-10-22T13:14:11.807030Z",
     "iopub.status.busy": "2024-10-22T13:14:11.806696Z",
     "iopub.status.idle": "2024-10-22T13:14:11.827995Z",
     "shell.execute_reply": "2024-10-22T13:14:11.827098Z",
     "shell.execute_reply.started": "2024-10-22T13:14:11.806980Z"
    }
   },
   "outputs": [
    {
     "data": {
      "text/html": [
       "<div>\n",
       "<style scoped>\n",
       "    .dataframe tbody tr th:only-of-type {\n",
       "        vertical-align: middle;\n",
       "    }\n",
       "\n",
       "    .dataframe tbody tr th {\n",
       "        vertical-align: top;\n",
       "    }\n",
       "\n",
       "    .dataframe thead th {\n",
       "        text-align: right;\n",
       "    }\n",
       "</style>\n",
       "<table border=\"1\" class=\"dataframe\">\n",
       "  <thead>\n",
       "    <tr style=\"text-align: right;\">\n",
       "      <th></th>\n",
       "      <th>input</th>\n",
       "      <th>label</th>\n",
       "      <th>fold</th>\n",
       "      <th>preds</th>\n",
       "    </tr>\n",
       "  </thead>\n",
       "  <tbody>\n",
       "    <tr>\n",
       "      <th>2686</th>\n",
       "      <td>TEXT: Ignition Knock (Detonation) Sensor-Senso...</td>\n",
       "      <td>1</td>\n",
       "      <td>0.0</td>\n",
       "      <td>0</td>\n",
       "    </tr>\n",
       "    <tr>\n",
       "      <th>5465</th>\n",
       "      <td>TEXT: Reddit Will Now Quarantine Offensive Con...</td>\n",
       "      <td>0</td>\n",
       "      <td>0.0</td>\n",
       "      <td>0</td>\n",
       "    </tr>\n",
       "    <tr>\n",
       "      <th>7283</th>\n",
       "      <td>TEXT: reap the whirlwind</td>\n",
       "      <td>0</td>\n",
       "      <td>0.0</td>\n",
       "      <td>0</td>\n",
       "    </tr>\n",
       "    <tr>\n",
       "      <th>5781</th>\n",
       "      <td>TEXT: Twitter is doing a count down to the rio...</td>\n",
       "      <td>1</td>\n",
       "      <td>0.0</td>\n",
       "      <td>1</td>\n",
       "    </tr>\n",
       "    <tr>\n",
       "      <th>4976</th>\n",
       "      <td>TEXT: #3: TITAN WarriorCord 100 Feet - Authent...</td>\n",
       "      <td>0</td>\n",
       "      <td>0.0</td>\n",
       "      <td>0</td>\n",
       "    </tr>\n",
       "    <tr>\n",
       "      <th>...</th>\n",
       "      <td>...</td>\n",
       "      <td>...</td>\n",
       "      <td>...</td>\n",
       "      <td>...</td>\n",
       "    </tr>\n",
       "    <tr>\n",
       "      <th>4711</th>\n",
       "      <td>TEXT: Perfect night for a soak! Lava here I co...</td>\n",
       "      <td>0</td>\n",
       "      <td>0.0</td>\n",
       "      <td>1</td>\n",
       "    </tr>\n",
       "    <tr>\n",
       "      <th>2186</th>\n",
       "      <td>TEXT: MH370: Aircraft debris found on La Reuni...</td>\n",
       "      <td>1</td>\n",
       "      <td>0.0</td>\n",
       "      <td>1</td>\n",
       "    </tr>\n",
       "    <tr>\n",
       "      <th>78</th>\n",
       "      <td>TEXT: I-77 Mile Marker 31 to 40 South Mooresvi...</td>\n",
       "      <td>1</td>\n",
       "      <td>0.0</td>\n",
       "      <td>1</td>\n",
       "    </tr>\n",
       "    <tr>\n",
       "      <th>435</th>\n",
       "      <td>TEXT: @_Doofus_ @diamorfiend im jokin still ca...</td>\n",
       "      <td>0</td>\n",
       "      <td>0.0</td>\n",
       "      <td>0</td>\n",
       "    </tr>\n",
       "    <tr>\n",
       "      <th>7535</th>\n",
       "      <td>TEXT: Wreckage 'conclusively confirmed' as fro...</td>\n",
       "      <td>1</td>\n",
       "      <td>0.0</td>\n",
       "      <td>1</td>\n",
       "    </tr>\n",
       "  </tbody>\n",
       "</table>\n",
       "<p>61 rows × 4 columns</p>\n",
       "</div>"
      ],
      "text/plain": [
       "                                                  input  label  fold  preds\n",
       "2686  TEXT: Ignition Knock (Detonation) Sensor-Senso...      1   0.0      0\n",
       "5465  TEXT: Reddit Will Now Quarantine Offensive Con...      0   0.0      0\n",
       "7283                           TEXT: reap the whirlwind      0   0.0      0\n",
       "5781  TEXT: Twitter is doing a count down to the rio...      1   0.0      1\n",
       "4976  TEXT: #3: TITAN WarriorCord 100 Feet - Authent...      0   0.0      0\n",
       "...                                                 ...    ...   ...    ...\n",
       "4711  TEXT: Perfect night for a soak! Lava here I co...      0   0.0      1\n",
       "2186  TEXT: MH370: Aircraft debris found on La Reuni...      1   0.0      1\n",
       "78    TEXT: I-77 Mile Marker 31 to 40 South Mooresvi...      1   0.0      1\n",
       "435   TEXT: @_Doofus_ @diamorfiend im jokin still ca...      0   0.0      0\n",
       "7535  TEXT: Wreckage 'conclusively confirmed' as fro...      1   0.0      1\n",
       "\n",
       "[61 rows x 4 columns]"
      ]
     },
     "execution_count": 26,
     "metadata": {},
     "output_type": "execute_result"
    }
   ],
   "source": [
    "#this is to check if the predictions work on a known dataframe not previosly seen by the model\n",
    "valid_df1['preds'] = logits #np.argmax(probs, axis=1)\n",
    "valid_df1"
   ]
  },
  {
   "cell_type": "code",
   "execution_count": 27,
   "metadata": {
    "execution": {
     "iopub.execute_input": "2024-10-22T13:14:11.830568Z",
     "iopub.status.busy": "2024-10-22T13:14:11.829768Z",
     "iopub.status.idle": "2024-10-22T13:47:34.572466Z",
     "shell.execute_reply": "2024-10-22T13:47:34.571531Z",
     "shell.execute_reply.started": "2024-10-22T13:14:11.830526Z"
    }
   },
   "outputs": [
    {
     "data": {
      "text/html": [],
      "text/plain": [
       "<IPython.core.display.HTML object>"
      ]
     },
     "metadata": {},
     "output_type": "display_data"
    }
   ],
   "source": [
    "#this is for the predictions on the test set\n",
    "preds = trainer.predict(test_tokenized_ds)#.predictions.astype(float)\n",
    "logits = preds.predictions\n"
   ]
  },
  {
   "cell_type": "code",
   "execution_count": 28,
   "metadata": {
    "execution": {
     "iopub.execute_input": "2024-10-22T13:47:34.574558Z",
     "iopub.status.busy": "2024-10-22T13:47:34.573878Z",
     "iopub.status.idle": "2024-10-22T13:47:34.582216Z",
     "shell.execute_reply": "2024-10-22T13:47:34.581355Z",
     "shell.execute_reply.started": "2024-10-22T13:47:34.574500Z"
    }
   },
   "outputs": [
    {
     "data": {
      "text/plain": [
       "array([[ 0.9897 ,  2.531  ],\n",
       "       [ 1.875  ,  1.618  ],\n",
       "       [ 0.6772 ,  3.678  ],\n",
       "       ...,\n",
       "       [-4.46   ,  0.953  ],\n",
       "       [-4.793  , -0.04187],\n",
       "       [-6.94   ,  2.008  ]], dtype=float16)"
      ]
     },
     "execution_count": 28,
     "metadata": {},
     "output_type": "execute_result"
    }
   ],
   "source": [
    "logits = preds.predictions\n",
    "logits"
   ]
  },
  {
   "cell_type": "code",
   "execution_count": 29,
   "metadata": {
    "execution": {
     "iopub.execute_input": "2024-10-22T13:47:34.590867Z",
     "iopub.status.busy": "2024-10-22T13:47:34.590577Z",
     "iopub.status.idle": "2024-10-22T13:47:34.598691Z",
     "shell.execute_reply": "2024-10-22T13:47:34.597836Z",
     "shell.execute_reply.started": "2024-10-22T13:47:34.590835Z"
    }
   },
   "outputs": [
    {
     "data": {
      "text/plain": [
       "array([1, 0, 1, 1, 1, 1, 0, 0, 0, 0, 0, 0, 0, 0, 0, 1, 0, 0, 0, 1, 0, 0,\n",
       "       0, 1, 0, 1, 0, 0, 0, 1, 0, 1, 1, 1, 1, 0, 1, 0, 0, 1, 0, 1, 0, 0,\n",
       "       0, 0, 0, 0, 1, 0, 0, 0, 0, 0, 1, 0, 0, 0, 0, 1, 1, 0, 0, 1, 0, 1,\n",
       "       0, 1, 1, 1, 0, 0, 1, 1, 1, 1, 0, 0, 0, 1, 0, 0, 0, 1, 1, 1, 0, 0,\n",
       "       1, 1, 1, 0, 0, 0, 0, 0, 0, 0, 1, 1])"
      ]
     },
     "execution_count": 29,
     "metadata": {},
     "output_type": "execute_result"
    }
   ],
   "source": [
    "# from scipy.special import expit as sigmoid\n",
    "import numpy as np\n",
    "def sigmoid(x):\n",
    "    #if x > -100:\n",
    "        return 1 / (1 + np.exp(-x))  \n",
    "   # else:\n",
    "       # return 0\n",
    "logits = sigmoid(logits)\n",
    "logits = np.argmax(logits, axis=1)\n",
    "logits[:100]"
   ]
  },
  {
   "cell_type": "code",
   "execution_count": 30,
   "metadata": {
    "execution": {
     "iopub.execute_input": "2024-10-22T13:47:34.600335Z",
     "iopub.status.busy": "2024-10-22T13:47:34.599878Z",
     "iopub.status.idle": "2024-10-22T13:47:34.609328Z",
     "shell.execute_reply": "2024-10-22T13:47:34.608470Z",
     "shell.execute_reply.started": "2024-10-22T13:47:34.600292Z"
    }
   },
   "outputs": [
    {
     "data": {
      "text/plain": [
       "((3263,), array([1, 0, 1, 1, 1]))"
      ]
     },
     "execution_count": 30,
     "metadata": {},
     "output_type": "execute_result"
    }
   ],
   "source": [
    "logits.shape, logits[0:5]\n"
   ]
  },
  {
   "cell_type": "code",
   "execution_count": 31,
   "metadata": {
    "execution": {
     "iopub.execute_input": "2024-10-22T13:47:34.611024Z",
     "iopub.status.busy": "2024-10-22T13:47:34.610655Z",
     "iopub.status.idle": "2024-10-22T13:47:34.660092Z",
     "shell.execute_reply": "2024-10-22T13:47:34.659306Z",
     "shell.execute_reply.started": "2024-10-22T13:47:34.610983Z"
    }
   },
   "outputs": [
    {
     "data": {
      "text/html": [
       "<div>\n",
       "<style scoped>\n",
       "    .dataframe tbody tr th:only-of-type {\n",
       "        vertical-align: middle;\n",
       "    }\n",
       "\n",
       "    .dataframe tbody tr th {\n",
       "        vertical-align: top;\n",
       "    }\n",
       "\n",
       "    .dataframe thead th {\n",
       "        text-align: right;\n",
       "    }\n",
       "</style>\n",
       "<table border=\"1\" class=\"dataframe\">\n",
       "  <thead>\n",
       "    <tr style=\"text-align: right;\">\n",
       "      <th></th>\n",
       "      <th>id</th>\n",
       "      <th>prediction</th>\n",
       "    </tr>\n",
       "  </thead>\n",
       "  <tbody>\n",
       "    <tr>\n",
       "      <th>0</th>\n",
       "      <td>0</td>\n",
       "      <td>1</td>\n",
       "    </tr>\n",
       "    <tr>\n",
       "      <th>1</th>\n",
       "      <td>2</td>\n",
       "      <td>0</td>\n",
       "    </tr>\n",
       "    <tr>\n",
       "      <th>2</th>\n",
       "      <td>3</td>\n",
       "      <td>1</td>\n",
       "    </tr>\n",
       "    <tr>\n",
       "      <th>3</th>\n",
       "      <td>9</td>\n",
       "      <td>1</td>\n",
       "    </tr>\n",
       "    <tr>\n",
       "      <th>4</th>\n",
       "      <td>11</td>\n",
       "      <td>1</td>\n",
       "    </tr>\n",
       "    <tr>\n",
       "      <th>...</th>\n",
       "      <td>...</td>\n",
       "      <td>...</td>\n",
       "    </tr>\n",
       "    <tr>\n",
       "      <th>95</th>\n",
       "      <td>323</td>\n",
       "      <td>0</td>\n",
       "    </tr>\n",
       "    <tr>\n",
       "      <th>96</th>\n",
       "      <td>324</td>\n",
       "      <td>0</td>\n",
       "    </tr>\n",
       "    <tr>\n",
       "      <th>97</th>\n",
       "      <td>325</td>\n",
       "      <td>0</td>\n",
       "    </tr>\n",
       "    <tr>\n",
       "      <th>98</th>\n",
       "      <td>326</td>\n",
       "      <td>1</td>\n",
       "    </tr>\n",
       "    <tr>\n",
       "      <th>99</th>\n",
       "      <td>333</td>\n",
       "      <td>1</td>\n",
       "    </tr>\n",
       "  </tbody>\n",
       "</table>\n",
       "<p>100 rows × 2 columns</p>\n",
       "</div>"
      ],
      "text/plain": [
       "     id  prediction\n",
       "0     0           1\n",
       "1     2           0\n",
       "2     3           1\n",
       "3     9           1\n",
       "4    11           1\n",
       "..  ...         ...\n",
       "95  323           0\n",
       "96  324           0\n",
       "97  325           0\n",
       "98  326           1\n",
       "99  333           1\n",
       "\n",
       "[100 rows x 2 columns]"
      ]
     },
     "execution_count": 31,
     "metadata": {},
     "output_type": "execute_result"
    }
   ],
   "source": [
    "#this is to provide the sample submission\n",
    "sub = pd.DataFrame()\n",
    "test_df = pd.read_csv('/kaggle/input/nlp-getting-started/test.csv')\n",
    "\n",
    "sub['id'] = test_df['id']\n",
    "import math\n",
    "\n",
    "sub[\"prediction\"] = logits\n",
    "\n",
    "sub['prediction'] = sub['prediction'].astype('int')\n",
    "sub.to_csv('/kaggle/working/submission.csv', index=False)\n",
    "sub[:100]"
   ]
  }
 ],
 "metadata": {
  "kaggle": {
   "accelerator": "gpu",
   "dataSources": [
    {
     "databundleVersionId": 869809,
     "sourceId": 17777,
     "sourceType": "competition"
    },
    {
     "datasetId": 3601853,
     "sourceId": 6266221,
     "sourceType": "datasetVersion"
    },
    {
     "datasetId": 3774343,
     "sourceId": 6528795,
     "sourceType": "datasetVersion"
    },
    {
     "datasetId": 3972872,
     "sourceId": 6921012,
     "sourceType": "datasetVersion"
    },
    {
     "datasetId": 4310865,
     "sourceId": 7411444,
     "sourceType": "datasetVersion"
    },
    {
     "datasetId": 4653463,
     "sourceId": 7919233,
     "sourceType": "datasetVersion"
    },
    {
     "datasetId": 4822801,
     "sourceId": 8153733,
     "sourceType": "datasetVersion"
    },
    {
     "datasetId": 5457551,
     "sourceId": 9051512,
     "sourceType": "datasetVersion"
    },
    {
     "datasetId": 5864493,
     "sourceId": 9610991,
     "sourceType": "datasetVersion"
    }
   ],
   "dockerImageVersionId": 30787,
   "isGpuEnabled": true,
   "isInternetEnabled": false,
   "language": "python",
   "sourceType": "notebook"
  },
  "kernelspec": {
   "display_name": "Python 3 (ipykernel)",
   "language": "python",
   "name": "python3"
  },
  "language_info": {
   "codemirror_mode": {
    "name": "ipython",
    "version": 3
   },
   "file_extension": ".py",
   "mimetype": "text/x-python",
   "name": "python",
   "nbconvert_exporter": "python",
   "pygments_lexer": "ipython3",
   "version": "3.9.7"
  }
 },
 "nbformat": 4,
 "nbformat_minor": 4
}
