{
 "cells": [
  {
   "cell_type": "markdown",
   "id": "7c661b7b",
   "metadata": {},
   "source": [
    "This notebook is by Anastasia Ruzmaikina.\n",
    "\n",
    "Here we analyze a dataset of nearly 5000 movies. The goal is to be able to predict the revenue of a movie given all the information available about the movie. The available data columns are the title, names of actors and actresses, movie genres, vote count, movie budget etc.\n",
    "\n",
    "We use Random Forest Regression to predict the revenue of a movie. After fine tuning the parameters, we can predict the revenue with the R2 score 0.715."
   ]
  },
  {
   "cell_type": "markdown",
   "id": "24da2a2c",
   "metadata": {},
   "source": [
    "First we download all the Python libraries we need to use."
   ]
  },
  {
   "cell_type": "code",
   "execution_count": 66,
   "id": "f3e5ecc0",
   "metadata": {},
   "outputs": [],
   "source": [
    "# Data manipulation\n",
    "import numpy as np \n",
    "import pandas as pd\n",
    "\n",
    "# Data Visualazation\n",
    "import seaborn as sns\n",
    "import matplotlib.pyplot as plt\n",
    "\n",
    "# Machine learning\n",
    "from sklearn.preprocessing import normalize, StandardScaler\n",
    "# Importing GridsearchCV\n",
    "from sklearn.model_selection import GridSearchCV\n",
    "from sklearn.preprocessing import LabelEncoder\n",
    "from sklearn.model_selection import train_test_split\n",
    "import statsmodels.api as sm\n",
    "from sklearn.feature_selection import RFE\n",
    "from statsmodels.stats.outliers_influence import variance_inflation_factor\n",
    "from sklearn.metrics import mean_absolute_error, mean_squared_error,r2_score\n",
    "\n",
    "import random\n",
    "import scipy.optimize\n",
    "\n",
    "import warnings\n",
    "warnings.filterwarnings(\"ignore\")\n",
    "%matplotlib inline"
   ]
  },
  {
   "cell_type": "markdown",
   "id": "45011294",
   "metadata": {},
   "source": [
    "We download the movie data set from Harvard Edx website."
   ]
  },
  {
   "cell_type": "code",
   "execution_count": 2,
   "id": "813ed6fd",
   "metadata": {},
   "outputs": [
    {
     "data": {
      "text/html": [
       "<div>\n",
       "<style scoped>\n",
       "    .dataframe tbody tr th:only-of-type {\n",
       "        vertical-align: middle;\n",
       "    }\n",
       "\n",
       "    .dataframe tbody tr th {\n",
       "        vertical-align: top;\n",
       "    }\n",
       "\n",
       "    .dataframe thead th {\n",
       "        text-align: right;\n",
       "    }\n",
       "</style>\n",
       "<table border=\"1\" class=\"dataframe\">\n",
       "  <thead>\n",
       "    <tr style=\"text-align: right;\">\n",
       "      <th></th>\n",
       "      <th>budget</th>\n",
       "      <th>genres</th>\n",
       "      <th>homepage</th>\n",
       "      <th>id</th>\n",
       "      <th>keywords</th>\n",
       "      <th>original_language</th>\n",
       "      <th>original_title</th>\n",
       "      <th>overview</th>\n",
       "      <th>popularity</th>\n",
       "      <th>production_companies</th>\n",
       "      <th>...</th>\n",
       "      <th>revenue</th>\n",
       "      <th>runtime</th>\n",
       "      <th>spoken_languages</th>\n",
       "      <th>status</th>\n",
       "      <th>tagline</th>\n",
       "      <th>title</th>\n",
       "      <th>vote_average</th>\n",
       "      <th>vote_count</th>\n",
       "      <th>movie_id</th>\n",
       "      <th>cast</th>\n",
       "    </tr>\n",
       "  </thead>\n",
       "  <tbody>\n",
       "    <tr>\n",
       "      <th>0</th>\n",
       "      <td>237000000</td>\n",
       "      <td>Action, Adventure, Fantasy, Science Fiction</td>\n",
       "      <td>http://www.avatarmovie.com/</td>\n",
       "      <td>19995</td>\n",
       "      <td>culture clash, future, space war, space colony...</td>\n",
       "      <td>en</td>\n",
       "      <td>Avatar</td>\n",
       "      <td>In the 22nd century, a paraplegic Marine is di...</td>\n",
       "      <td>150.437577</td>\n",
       "      <td>Ingenious Film Partners, Twentieth Century Fox...</td>\n",
       "      <td>...</td>\n",
       "      <td>2787965087</td>\n",
       "      <td>162.0</td>\n",
       "      <td>English, Español</td>\n",
       "      <td>Released</td>\n",
       "      <td>Enter the World of Pandora.</td>\n",
       "      <td>Avatar</td>\n",
       "      <td>7.2</td>\n",
       "      <td>11800</td>\n",
       "      <td>19995</td>\n",
       "      <td>Sam Worthington, Zoe Saldana, Sigourney Weaver...</td>\n",
       "    </tr>\n",
       "    <tr>\n",
       "      <th>1</th>\n",
       "      <td>300000000</td>\n",
       "      <td>Adventure, Fantasy, Action</td>\n",
       "      <td>http://disney.go.com/disneypictures/pirates/</td>\n",
       "      <td>285</td>\n",
       "      <td>ocean, drug abuse, exotic island, east india t...</td>\n",
       "      <td>en</td>\n",
       "      <td>Pirates of the Caribbean: At World's End</td>\n",
       "      <td>Captain Barbossa, long believed to be dead, ha...</td>\n",
       "      <td>139.082615</td>\n",
       "      <td>Walt Disney Pictures, Jerry Bruckheimer Films,...</td>\n",
       "      <td>...</td>\n",
       "      <td>961000000</td>\n",
       "      <td>169.0</td>\n",
       "      <td>English</td>\n",
       "      <td>Released</td>\n",
       "      <td>At the end of the world, the adventure begins.</td>\n",
       "      <td>Pirates of the Caribbean: At World's End</td>\n",
       "      <td>6.9</td>\n",
       "      <td>4500</td>\n",
       "      <td>285</td>\n",
       "      <td>Johnny Depp, Orlando Bloom, Keira Knightley, S...</td>\n",
       "    </tr>\n",
       "    <tr>\n",
       "      <th>2</th>\n",
       "      <td>245000000</td>\n",
       "      <td>Action, Adventure, Crime</td>\n",
       "      <td>http://www.sonypictures.com/movies/spectre/</td>\n",
       "      <td>206647</td>\n",
       "      <td>spy, based on novel, secret agent, sequel, mi6...</td>\n",
       "      <td>en</td>\n",
       "      <td>Spectre</td>\n",
       "      <td>A cryptic message from Bond’s past sends him o...</td>\n",
       "      <td>107.376788</td>\n",
       "      <td>Columbia Pictures, Danjaq, B24</td>\n",
       "      <td>...</td>\n",
       "      <td>880674609</td>\n",
       "      <td>148.0</td>\n",
       "      <td>Français, English, Español, Italiano, Deutsch</td>\n",
       "      <td>Released</td>\n",
       "      <td>A Plan No One Escapes</td>\n",
       "      <td>Spectre</td>\n",
       "      <td>6.3</td>\n",
       "      <td>4466</td>\n",
       "      <td>206647</td>\n",
       "      <td>Daniel Craig, Christoph Waltz, Léa Seydoux, Ra...</td>\n",
       "    </tr>\n",
       "    <tr>\n",
       "      <th>3</th>\n",
       "      <td>250000000</td>\n",
       "      <td>Action, Crime, Drama, Thriller</td>\n",
       "      <td>http://www.thedarkknightrises.com/</td>\n",
       "      <td>49026</td>\n",
       "      <td>dc comics, crime fighter, terrorist, secret id...</td>\n",
       "      <td>en</td>\n",
       "      <td>The Dark Knight Rises</td>\n",
       "      <td>Following the death of District Attorney Harve...</td>\n",
       "      <td>112.312950</td>\n",
       "      <td>Legendary Pictures, Warner Bros., DC Entertain...</td>\n",
       "      <td>...</td>\n",
       "      <td>1084939099</td>\n",
       "      <td>165.0</td>\n",
       "      <td>English</td>\n",
       "      <td>Released</td>\n",
       "      <td>The Legend Ends</td>\n",
       "      <td>The Dark Knight Rises</td>\n",
       "      <td>7.6</td>\n",
       "      <td>9106</td>\n",
       "      <td>49026</td>\n",
       "      <td>Christian Bale, Michael Caine, Gary Oldman, An...</td>\n",
       "    </tr>\n",
       "    <tr>\n",
       "      <th>4</th>\n",
       "      <td>260000000</td>\n",
       "      <td>Action, Adventure, Science Fiction</td>\n",
       "      <td>http://movies.disney.com/john-carter</td>\n",
       "      <td>49529</td>\n",
       "      <td>based on novel, mars, medallion, space travel,...</td>\n",
       "      <td>en</td>\n",
       "      <td>John Carter</td>\n",
       "      <td>John Carter is a war-weary, former military ca...</td>\n",
       "      <td>43.926995</td>\n",
       "      <td>Walt Disney Pictures</td>\n",
       "      <td>...</td>\n",
       "      <td>284139100</td>\n",
       "      <td>132.0</td>\n",
       "      <td>English</td>\n",
       "      <td>Released</td>\n",
       "      <td>Lost in our world, found in another.</td>\n",
       "      <td>John Carter</td>\n",
       "      <td>6.1</td>\n",
       "      <td>2124</td>\n",
       "      <td>49529</td>\n",
       "      <td>Taylor Kitsch, Lynn Collins, Samantha Morton, ...</td>\n",
       "    </tr>\n",
       "    <tr>\n",
       "      <th>...</th>\n",
       "      <td>...</td>\n",
       "      <td>...</td>\n",
       "      <td>...</td>\n",
       "      <td>...</td>\n",
       "      <td>...</td>\n",
       "      <td>...</td>\n",
       "      <td>...</td>\n",
       "      <td>...</td>\n",
       "      <td>...</td>\n",
       "      <td>...</td>\n",
       "      <td>...</td>\n",
       "      <td>...</td>\n",
       "      <td>...</td>\n",
       "      <td>...</td>\n",
       "      <td>...</td>\n",
       "      <td>...</td>\n",
       "      <td>...</td>\n",
       "      <td>...</td>\n",
       "      <td>...</td>\n",
       "      <td>...</td>\n",
       "      <td>...</td>\n",
       "    </tr>\n",
       "    <tr>\n",
       "      <th>4798</th>\n",
       "      <td>220000</td>\n",
       "      <td>Action, Crime, Thriller</td>\n",
       "      <td>NaN</td>\n",
       "      <td>9367</td>\n",
       "      <td>united states–mexico barrier, legs, arms, pape...</td>\n",
       "      <td>es</td>\n",
       "      <td>El Mariachi</td>\n",
       "      <td>El Mariachi just wants to play his guitar and ...</td>\n",
       "      <td>14.269792</td>\n",
       "      <td>Columbia Pictures</td>\n",
       "      <td>...</td>\n",
       "      <td>2040920</td>\n",
       "      <td>81.0</td>\n",
       "      <td>Español</td>\n",
       "      <td>Released</td>\n",
       "      <td>He didn't come looking for trouble, but troubl...</td>\n",
       "      <td>El Mariachi</td>\n",
       "      <td>6.6</td>\n",
       "      <td>238</td>\n",
       "      <td>9367</td>\n",
       "      <td>Carlos Gallardo, Jaime de Hoyos, Peter Marquar...</td>\n",
       "    </tr>\n",
       "    <tr>\n",
       "      <th>4799</th>\n",
       "      <td>9000</td>\n",
       "      <td>Comedy, Romance</td>\n",
       "      <td>NaN</td>\n",
       "      <td>72766</td>\n",
       "      <td>NaN</td>\n",
       "      <td>en</td>\n",
       "      <td>Newlyweds</td>\n",
       "      <td>A newlywed couple's honeymoon is upended by th...</td>\n",
       "      <td>0.642552</td>\n",
       "      <td>NaN</td>\n",
       "      <td>...</td>\n",
       "      <td>0</td>\n",
       "      <td>85.0</td>\n",
       "      <td>NaN</td>\n",
       "      <td>Released</td>\n",
       "      <td>A newlywed couple's honeymoon is upended by th...</td>\n",
       "      <td>Newlyweds</td>\n",
       "      <td>5.9</td>\n",
       "      <td>5</td>\n",
       "      <td>72766</td>\n",
       "      <td>Edward Burns, Kerry Bishé, Marsha Dietlein, Ca...</td>\n",
       "    </tr>\n",
       "    <tr>\n",
       "      <th>4800</th>\n",
       "      <td>0</td>\n",
       "      <td>Comedy, Drama, Romance, TV Movie</td>\n",
       "      <td>http://www.hallmarkchannel.com/signedsealeddel...</td>\n",
       "      <td>231617</td>\n",
       "      <td>date, love at first sight, narration, investig...</td>\n",
       "      <td>en</td>\n",
       "      <td>Signed, Sealed, Delivered</td>\n",
       "      <td>\"Signed, Sealed, Delivered\" introduces a dedic...</td>\n",
       "      <td>1.444476</td>\n",
       "      <td>Front Street Pictures, Muse Entertainment Ente...</td>\n",
       "      <td>...</td>\n",
       "      <td>0</td>\n",
       "      <td>120.0</td>\n",
       "      <td>English</td>\n",
       "      <td>Released</td>\n",
       "      <td>NaN</td>\n",
       "      <td>Signed, Sealed, Delivered</td>\n",
       "      <td>7.0</td>\n",
       "      <td>6</td>\n",
       "      <td>231617</td>\n",
       "      <td>Eric Mabius, Kristin Booth, Crystal Lowe, Geof...</td>\n",
       "    </tr>\n",
       "    <tr>\n",
       "      <th>4801</th>\n",
       "      <td>0</td>\n",
       "      <td>NaN</td>\n",
       "      <td>http://shanghaicalling.com/</td>\n",
       "      <td>126186</td>\n",
       "      <td>NaN</td>\n",
       "      <td>en</td>\n",
       "      <td>Shanghai Calling</td>\n",
       "      <td>When ambitious New York attorney Sam is sent t...</td>\n",
       "      <td>0.857008</td>\n",
       "      <td>NaN</td>\n",
       "      <td>...</td>\n",
       "      <td>0</td>\n",
       "      <td>98.0</td>\n",
       "      <td>English</td>\n",
       "      <td>Released</td>\n",
       "      <td>A New Yorker in Shanghai</td>\n",
       "      <td>Shanghai Calling</td>\n",
       "      <td>5.7</td>\n",
       "      <td>7</td>\n",
       "      <td>126186</td>\n",
       "      <td>Daniel Henney, Eliza Coupe, Bill Paxton, Alan ...</td>\n",
       "    </tr>\n",
       "    <tr>\n",
       "      <th>4802</th>\n",
       "      <td>0</td>\n",
       "      <td>Documentary</td>\n",
       "      <td>NaN</td>\n",
       "      <td>25975</td>\n",
       "      <td>obsession, camcorder, crush, dream girl</td>\n",
       "      <td>en</td>\n",
       "      <td>My Date with Drew</td>\n",
       "      <td>Ever since the second grade when he first saw ...</td>\n",
       "      <td>1.929883</td>\n",
       "      <td>rusty bear entertainment, lucky crow films</td>\n",
       "      <td>...</td>\n",
       "      <td>0</td>\n",
       "      <td>90.0</td>\n",
       "      <td>English</td>\n",
       "      <td>Released</td>\n",
       "      <td>NaN</td>\n",
       "      <td>My Date with Drew</td>\n",
       "      <td>6.3</td>\n",
       "      <td>16</td>\n",
       "      <td>25975</td>\n",
       "      <td>Drew Barrymore, Brian Herzlinger, Corey Feldma...</td>\n",
       "    </tr>\n",
       "  </tbody>\n",
       "</table>\n",
       "<p>4803 rows × 22 columns</p>\n",
       "</div>"
      ],
      "text/plain": [
       "         budget                                       genres  \\\n",
       "0     237000000  Action, Adventure, Fantasy, Science Fiction   \n",
       "1     300000000                   Adventure, Fantasy, Action   \n",
       "2     245000000                     Action, Adventure, Crime   \n",
       "3     250000000               Action, Crime, Drama, Thriller   \n",
       "4     260000000           Action, Adventure, Science Fiction   \n",
       "...         ...                                          ...   \n",
       "4798     220000                      Action, Crime, Thriller   \n",
       "4799       9000                              Comedy, Romance   \n",
       "4800          0             Comedy, Drama, Romance, TV Movie   \n",
       "4801          0                                          NaN   \n",
       "4802          0                                  Documentary   \n",
       "\n",
       "                                               homepage      id  \\\n",
       "0                           http://www.avatarmovie.com/   19995   \n",
       "1          http://disney.go.com/disneypictures/pirates/     285   \n",
       "2           http://www.sonypictures.com/movies/spectre/  206647   \n",
       "3                    http://www.thedarkknightrises.com/   49026   \n",
       "4                  http://movies.disney.com/john-carter   49529   \n",
       "...                                                 ...     ...   \n",
       "4798                                                NaN    9367   \n",
       "4799                                                NaN   72766   \n",
       "4800  http://www.hallmarkchannel.com/signedsealeddel...  231617   \n",
       "4801                        http://shanghaicalling.com/  126186   \n",
       "4802                                                NaN   25975   \n",
       "\n",
       "                                               keywords original_language  \\\n",
       "0     culture clash, future, space war, space colony...                en   \n",
       "1     ocean, drug abuse, exotic island, east india t...                en   \n",
       "2     spy, based on novel, secret agent, sequel, mi6...                en   \n",
       "3     dc comics, crime fighter, terrorist, secret id...                en   \n",
       "4     based on novel, mars, medallion, space travel,...                en   \n",
       "...                                                 ...               ...   \n",
       "4798  united states–mexico barrier, legs, arms, pape...                es   \n",
       "4799                                                NaN                en   \n",
       "4800  date, love at first sight, narration, investig...                en   \n",
       "4801                                                NaN                en   \n",
       "4802            obsession, camcorder, crush, dream girl                en   \n",
       "\n",
       "                                original_title  \\\n",
       "0                                       Avatar   \n",
       "1     Pirates of the Caribbean: At World's End   \n",
       "2                                      Spectre   \n",
       "3                        The Dark Knight Rises   \n",
       "4                                  John Carter   \n",
       "...                                        ...   \n",
       "4798                               El Mariachi   \n",
       "4799                                 Newlyweds   \n",
       "4800                 Signed, Sealed, Delivered   \n",
       "4801                          Shanghai Calling   \n",
       "4802                         My Date with Drew   \n",
       "\n",
       "                                               overview  popularity  \\\n",
       "0     In the 22nd century, a paraplegic Marine is di...  150.437577   \n",
       "1     Captain Barbossa, long believed to be dead, ha...  139.082615   \n",
       "2     A cryptic message from Bond’s past sends him o...  107.376788   \n",
       "3     Following the death of District Attorney Harve...  112.312950   \n",
       "4     John Carter is a war-weary, former military ca...   43.926995   \n",
       "...                                                 ...         ...   \n",
       "4798  El Mariachi just wants to play his guitar and ...   14.269792   \n",
       "4799  A newlywed couple's honeymoon is upended by th...    0.642552   \n",
       "4800  \"Signed, Sealed, Delivered\" introduces a dedic...    1.444476   \n",
       "4801  When ambitious New York attorney Sam is sent t...    0.857008   \n",
       "4802  Ever since the second grade when he first saw ...    1.929883   \n",
       "\n",
       "                                   production_companies  ...     revenue  \\\n",
       "0     Ingenious Film Partners, Twentieth Century Fox...  ...  2787965087   \n",
       "1     Walt Disney Pictures, Jerry Bruckheimer Films,...  ...   961000000   \n",
       "2                        Columbia Pictures, Danjaq, B24  ...   880674609   \n",
       "3     Legendary Pictures, Warner Bros., DC Entertain...  ...  1084939099   \n",
       "4                                  Walt Disney Pictures  ...   284139100   \n",
       "...                                                 ...  ...         ...   \n",
       "4798                                  Columbia Pictures  ...     2040920   \n",
       "4799                                                NaN  ...           0   \n",
       "4800  Front Street Pictures, Muse Entertainment Ente...  ...           0   \n",
       "4801                                                NaN  ...           0   \n",
       "4802         rusty bear entertainment, lucky crow films  ...           0   \n",
       "\n",
       "     runtime                               spoken_languages    status  \\\n",
       "0      162.0                               English, Español  Released   \n",
       "1      169.0                                        English  Released   \n",
       "2      148.0  Français, English, Español, Italiano, Deutsch  Released   \n",
       "3      165.0                                        English  Released   \n",
       "4      132.0                                        English  Released   \n",
       "...      ...                                            ...       ...   \n",
       "4798    81.0                                        Español  Released   \n",
       "4799    85.0                                            NaN  Released   \n",
       "4800   120.0                                        English  Released   \n",
       "4801    98.0                                        English  Released   \n",
       "4802    90.0                                        English  Released   \n",
       "\n",
       "                                                tagline  \\\n",
       "0                           Enter the World of Pandora.   \n",
       "1        At the end of the world, the adventure begins.   \n",
       "2                                 A Plan No One Escapes   \n",
       "3                                       The Legend Ends   \n",
       "4                  Lost in our world, found in another.   \n",
       "...                                                 ...   \n",
       "4798  He didn't come looking for trouble, but troubl...   \n",
       "4799  A newlywed couple's honeymoon is upended by th...   \n",
       "4800                                                NaN   \n",
       "4801                           A New Yorker in Shanghai   \n",
       "4802                                                NaN   \n",
       "\n",
       "                                         title vote_average vote_count  \\\n",
       "0                                       Avatar          7.2      11800   \n",
       "1     Pirates of the Caribbean: At World's End          6.9       4500   \n",
       "2                                      Spectre          6.3       4466   \n",
       "3                        The Dark Knight Rises          7.6       9106   \n",
       "4                                  John Carter          6.1       2124   \n",
       "...                                        ...          ...        ...   \n",
       "4798                               El Mariachi          6.6        238   \n",
       "4799                                 Newlyweds          5.9          5   \n",
       "4800                 Signed, Sealed, Delivered          7.0          6   \n",
       "4801                          Shanghai Calling          5.7          7   \n",
       "4802                         My Date with Drew          6.3         16   \n",
       "\n",
       "      movie_id                                               cast  \n",
       "0        19995  Sam Worthington, Zoe Saldana, Sigourney Weaver...  \n",
       "1          285  Johnny Depp, Orlando Bloom, Keira Knightley, S...  \n",
       "2       206647  Daniel Craig, Christoph Waltz, Léa Seydoux, Ra...  \n",
       "3        49026  Christian Bale, Michael Caine, Gary Oldman, An...  \n",
       "4        49529  Taylor Kitsch, Lynn Collins, Samantha Morton, ...  \n",
       "...        ...                                                ...  \n",
       "4798      9367  Carlos Gallardo, Jaime de Hoyos, Peter Marquar...  \n",
       "4799     72766  Edward Burns, Kerry Bishé, Marsha Dietlein, Ca...  \n",
       "4800    231617  Eric Mabius, Kristin Booth, Crystal Lowe, Geof...  \n",
       "4801    126186  Daniel Henney, Eliza Coupe, Bill Paxton, Alan ...  \n",
       "4802     25975  Drew Barrymore, Brian Herzlinger, Corey Feldma...  \n",
       "\n",
       "[4803 rows x 22 columns]"
      ]
     },
     "execution_count": 2,
     "metadata": {},
     "output_type": "execute_result"
    }
   ],
   "source": [
    "df = pd.read_csv(\"https://courses.edx.org/asset-v1:HarvardX+PH526x+2T2019+type@asset+block@movie_data.csv\", index_col=0)\n",
    "\n",
    "df"
   ]
  },
  {
   "cell_type": "code",
   "execution_count": 3,
   "id": "d48ea2cc",
   "metadata": {},
   "outputs": [
    {
     "data": {
      "text/plain": [
       "(4803, 22)"
      ]
     },
     "execution_count": 3,
     "metadata": {},
     "output_type": "execute_result"
    }
   ],
   "source": [
    "df.shape"
   ]
  },
  {
   "cell_type": "markdown",
   "id": "b5181c10",
   "metadata": {},
   "source": [
    "We replace infinite values with NaN values in the data frame. NaN values are handled later."
   ]
  },
  {
   "cell_type": "code",
   "execution_count": 4,
   "id": "105948de",
   "metadata": {},
   "outputs": [],
   "source": [
    "df = df.replace(to_replace = np.inf, value = np.nan)\n",
    "df = df.replace(to_replace = -np.inf, value = np.nan)"
   ]
  },
  {
   "cell_type": "markdown",
   "id": "a87a67ae",
   "metadata": {},
   "source": [
    "Next we do a one hot encoding of the 'genres' column.\n",
    "\n",
    "First we identify how many different genres are present in the 'genres' column.\n",
    "\n",
    "We split the genres into different columns. Each column contains 1's or 0's, one if that particlar genre is present in that row.\n",
    "\n"
   ]
  },
  {
   "cell_type": "code",
   "execution_count": 5,
   "id": "24124d30",
   "metadata": {},
   "outputs": [],
   "source": [
    "genr = []\n",
    "for i in range(len(df['genres'])):\n",
    "    temp = df['genres'].iloc[i]\n",
    "    if not (isinstance(temp, float)):\n",
    "       temp = temp.split(',')\n",
    "       genr += temp\n",
    "       \n",
    "genre = list(set(genr))\n",
    "for i in range(len(genre)):\n",
    "    genre[i] = genre[i].strip()\n",
    "genre = list(set(genre))\n",
    "for item in genre:\n",
    "    df[item] = df['budget']\n",
    "for item in genre:\n",
    "    for i in range(len(df['genres'])):\n",
    "        if not (isinstance(df['genres'].iloc[i], float)):\n",
    "             if item in df['genres'].iloc[i]:\n",
    "                   df[item].iloc[i] = 1\n",
    "             else:\n",
    "                   df[item].iloc[i] = 0"
   ]
  },
  {
   "cell_type": "markdown",
   "id": "29843a91",
   "metadata": {},
   "source": [
    "Before solving the problem, it's very important to have a good understanding of data.\n",
    "\n",
    "First we get the descriptive statistics of the data \n",
    "\n",
    "Then we get the information about missing values in the data\n",
    "\n"
   ]
  },
  {
   "cell_type": "code",
   "execution_count": 6,
   "id": "b8b1d79a",
   "metadata": {},
   "outputs": [
    {
     "name": "stdout",
     "output_type": "stream",
     "text": [
      "<class 'pandas.core.frame.DataFrame'>\n",
      "Int64Index: 4803 entries, 0 to 4802\n",
      "Data columns (total 42 columns):\n",
      " #   Column                Non-Null Count  Dtype  \n",
      "---  ------                --------------  -----  \n",
      " 0   budget                4803 non-null   int64  \n",
      " 1   genres                4775 non-null   object \n",
      " 2   homepage              1712 non-null   object \n",
      " 3   id                    4803 non-null   int64  \n",
      " 4   keywords              4391 non-null   object \n",
      " 5   original_language     4803 non-null   object \n",
      " 6   original_title        4803 non-null   object \n",
      " 7   overview              4800 non-null   object \n",
      " 8   popularity            4803 non-null   float64\n",
      " 9   production_companies  4452 non-null   object \n",
      " 10  production_countries  4629 non-null   object \n",
      " 11  release_date          4802 non-null   object \n",
      " 12  revenue               4803 non-null   int64  \n",
      " 13  runtime               4801 non-null   float64\n",
      " 14  spoken_languages      4716 non-null   object \n",
      " 15  status                4803 non-null   object \n",
      " 16  tagline               3959 non-null   object \n",
      " 17  title                 4803 non-null   object \n",
      " 18  vote_average          4803 non-null   float64\n",
      " 19  vote_count            4803 non-null   int64  \n",
      " 20  movie_id              4803 non-null   int64  \n",
      " 21  cast                  4760 non-null   object \n",
      " 22  Comedy                4803 non-null   int64  \n",
      " 23  History               4803 non-null   int64  \n",
      " 24  Action                4803 non-null   int64  \n",
      " 25  Drama                 4803 non-null   int64  \n",
      " 26  Horror                4803 non-null   int64  \n",
      " 27  Foreign               4803 non-null   int64  \n",
      " 28  Western               4803 non-null   int64  \n",
      " 29  War                   4803 non-null   int64  \n",
      " 30  Adventure             4803 non-null   int64  \n",
      " 31  Fantasy               4803 non-null   int64  \n",
      " 32  Music                 4803 non-null   int64  \n",
      " 33  Mystery               4803 non-null   int64  \n",
      " 34  Romance               4803 non-null   int64  \n",
      " 35  TV Movie              4803 non-null   int64  \n",
      " 36  Crime                 4803 non-null   int64  \n",
      " 37  Documentary           4803 non-null   int64  \n",
      " 38  Thriller              4803 non-null   int64  \n",
      " 39  Animation             4803 non-null   int64  \n",
      " 40  Family                4803 non-null   int64  \n",
      " 41  Science Fiction       4803 non-null   int64  \n",
      "dtypes: float64(3), int64(25), object(14)\n",
      "memory usage: 1.6+ MB\n"
     ]
    }
   ],
   "source": [
    "# Info of the data\n",
    "df.info()"
   ]
  },
  {
   "cell_type": "markdown",
   "id": "9f1b671f",
   "metadata": {},
   "source": [
    "Summary Statistics"
   ]
  },
  {
   "cell_type": "code",
   "execution_count": 7,
   "id": "4187f27d",
   "metadata": {},
   "outputs": [
    {
     "data": {
      "text/html": [
       "<div>\n",
       "<style scoped>\n",
       "    .dataframe tbody tr th:only-of-type {\n",
       "        vertical-align: middle;\n",
       "    }\n",
       "\n",
       "    .dataframe tbody tr th {\n",
       "        vertical-align: top;\n",
       "    }\n",
       "\n",
       "    .dataframe thead th {\n",
       "        text-align: right;\n",
       "    }\n",
       "</style>\n",
       "<table border=\"1\" class=\"dataframe\">\n",
       "  <thead>\n",
       "    <tr style=\"text-align: right;\">\n",
       "      <th></th>\n",
       "      <th>budget</th>\n",
       "      <th>id</th>\n",
       "      <th>popularity</th>\n",
       "      <th>revenue</th>\n",
       "      <th>runtime</th>\n",
       "      <th>vote_average</th>\n",
       "      <th>vote_count</th>\n",
       "      <th>movie_id</th>\n",
       "      <th>Comedy</th>\n",
       "      <th>History</th>\n",
       "      <th>...</th>\n",
       "      <th>Music</th>\n",
       "      <th>Mystery</th>\n",
       "      <th>Romance</th>\n",
       "      <th>TV Movie</th>\n",
       "      <th>Crime</th>\n",
       "      <th>Documentary</th>\n",
       "      <th>Thriller</th>\n",
       "      <th>Animation</th>\n",
       "      <th>Family</th>\n",
       "      <th>Science Fiction</th>\n",
       "    </tr>\n",
       "  </thead>\n",
       "  <tbody>\n",
       "    <tr>\n",
       "      <th>count</th>\n",
       "      <td>4.803000e+03</td>\n",
       "      <td>4803.000000</td>\n",
       "      <td>4803.000000</td>\n",
       "      <td>4.803000e+03</td>\n",
       "      <td>4801.000000</td>\n",
       "      <td>4803.000000</td>\n",
       "      <td>4803.000000</td>\n",
       "      <td>4803.000000</td>\n",
       "      <td>4.803000e+03</td>\n",
       "      <td>4.803000e+03</td>\n",
       "      <td>...</td>\n",
       "      <td>4.803000e+03</td>\n",
       "      <td>4.803000e+03</td>\n",
       "      <td>4.803000e+03</td>\n",
       "      <td>4.803000e+03</td>\n",
       "      <td>4.803000e+03</td>\n",
       "      <td>4.803000e+03</td>\n",
       "      <td>4.803000e+03</td>\n",
       "      <td>4.803000e+03</td>\n",
       "      <td>4.803000e+03</td>\n",
       "      <td>4.803000e+03</td>\n",
       "    </tr>\n",
       "    <tr>\n",
       "      <th>mean</th>\n",
       "      <td>2.904504e+07</td>\n",
       "      <td>57165.484281</td>\n",
       "      <td>21.492301</td>\n",
       "      <td>8.226064e+07</td>\n",
       "      <td>106.875859</td>\n",
       "      <td>6.092172</td>\n",
       "      <td>690.217989</td>\n",
       "      <td>57165.484281</td>\n",
       "      <td>7.707106e+02</td>\n",
       "      <td>7.703931e+02</td>\n",
       "      <td>...</td>\n",
       "      <td>7.703906e+02</td>\n",
       "      <td>7.704245e+02</td>\n",
       "      <td>7.705382e+02</td>\n",
       "      <td>7.703537e+02</td>\n",
       "      <td>7.704970e+02</td>\n",
       "      <td>7.703750e+02</td>\n",
       "      <td>7.706173e+02</td>\n",
       "      <td>7.704008e+02</td>\n",
       "      <td>7.704589e+02</td>\n",
       "      <td>7.704635e+02</td>\n",
       "    </tr>\n",
       "    <tr>\n",
       "      <th>std</th>\n",
       "      <td>4.072239e+07</td>\n",
       "      <td>88694.614033</td>\n",
       "      <td>31.816650</td>\n",
       "      <td>1.628571e+08</td>\n",
       "      <td>22.611935</td>\n",
       "      <td>1.194612</td>\n",
       "      <td>1234.585891</td>\n",
       "      <td>88694.614033</td>\n",
       "      <td>3.441408e+04</td>\n",
       "      <td>3.441409e+04</td>\n",
       "      <td>...</td>\n",
       "      <td>3.441409e+04</td>\n",
       "      <td>3.441409e+04</td>\n",
       "      <td>3.441408e+04</td>\n",
       "      <td>3.441409e+04</td>\n",
       "      <td>3.441408e+04</td>\n",
       "      <td>3.441409e+04</td>\n",
       "      <td>3.441408e+04</td>\n",
       "      <td>3.441409e+04</td>\n",
       "      <td>3.441408e+04</td>\n",
       "      <td>3.441408e+04</td>\n",
       "    </tr>\n",
       "    <tr>\n",
       "      <th>min</th>\n",
       "      <td>0.000000e+00</td>\n",
       "      <td>5.000000</td>\n",
       "      <td>0.000000</td>\n",
       "      <td>0.000000e+00</td>\n",
       "      <td>0.000000</td>\n",
       "      <td>0.000000</td>\n",
       "      <td>0.000000</td>\n",
       "      <td>5.000000</td>\n",
       "      <td>0.000000e+00</td>\n",
       "      <td>0.000000e+00</td>\n",
       "      <td>...</td>\n",
       "      <td>0.000000e+00</td>\n",
       "      <td>0.000000e+00</td>\n",
       "      <td>0.000000e+00</td>\n",
       "      <td>0.000000e+00</td>\n",
       "      <td>0.000000e+00</td>\n",
       "      <td>0.000000e+00</td>\n",
       "      <td>0.000000e+00</td>\n",
       "      <td>0.000000e+00</td>\n",
       "      <td>0.000000e+00</td>\n",
       "      <td>0.000000e+00</td>\n",
       "    </tr>\n",
       "    <tr>\n",
       "      <th>25%</th>\n",
       "      <td>7.900000e+05</td>\n",
       "      <td>9014.500000</td>\n",
       "      <td>4.668070</td>\n",
       "      <td>0.000000e+00</td>\n",
       "      <td>94.000000</td>\n",
       "      <td>5.600000</td>\n",
       "      <td>54.000000</td>\n",
       "      <td>9014.500000</td>\n",
       "      <td>0.000000e+00</td>\n",
       "      <td>0.000000e+00</td>\n",
       "      <td>...</td>\n",
       "      <td>0.000000e+00</td>\n",
       "      <td>0.000000e+00</td>\n",
       "      <td>0.000000e+00</td>\n",
       "      <td>0.000000e+00</td>\n",
       "      <td>0.000000e+00</td>\n",
       "      <td>0.000000e+00</td>\n",
       "      <td>0.000000e+00</td>\n",
       "      <td>0.000000e+00</td>\n",
       "      <td>0.000000e+00</td>\n",
       "      <td>0.000000e+00</td>\n",
       "    </tr>\n",
       "    <tr>\n",
       "      <th>50%</th>\n",
       "      <td>1.500000e+07</td>\n",
       "      <td>14629.000000</td>\n",
       "      <td>12.921594</td>\n",
       "      <td>1.917000e+07</td>\n",
       "      <td>103.000000</td>\n",
       "      <td>6.200000</td>\n",
       "      <td>235.000000</td>\n",
       "      <td>14629.000000</td>\n",
       "      <td>0.000000e+00</td>\n",
       "      <td>0.000000e+00</td>\n",
       "      <td>...</td>\n",
       "      <td>0.000000e+00</td>\n",
       "      <td>0.000000e+00</td>\n",
       "      <td>0.000000e+00</td>\n",
       "      <td>0.000000e+00</td>\n",
       "      <td>0.000000e+00</td>\n",
       "      <td>0.000000e+00</td>\n",
       "      <td>0.000000e+00</td>\n",
       "      <td>0.000000e+00</td>\n",
       "      <td>0.000000e+00</td>\n",
       "      <td>0.000000e+00</td>\n",
       "    </tr>\n",
       "    <tr>\n",
       "      <th>75%</th>\n",
       "      <td>4.000000e+07</td>\n",
       "      <td>58610.500000</td>\n",
       "      <td>28.313505</td>\n",
       "      <td>9.291719e+07</td>\n",
       "      <td>118.000000</td>\n",
       "      <td>6.800000</td>\n",
       "      <td>737.000000</td>\n",
       "      <td>58610.500000</td>\n",
       "      <td>1.000000e+00</td>\n",
       "      <td>0.000000e+00</td>\n",
       "      <td>...</td>\n",
       "      <td>0.000000e+00</td>\n",
       "      <td>0.000000e+00</td>\n",
       "      <td>0.000000e+00</td>\n",
       "      <td>0.000000e+00</td>\n",
       "      <td>0.000000e+00</td>\n",
       "      <td>0.000000e+00</td>\n",
       "      <td>1.000000e+00</td>\n",
       "      <td>0.000000e+00</td>\n",
       "      <td>0.000000e+00</td>\n",
       "      <td>0.000000e+00</td>\n",
       "    </tr>\n",
       "    <tr>\n",
       "      <th>max</th>\n",
       "      <td>3.800000e+08</td>\n",
       "      <td>459488.000000</td>\n",
       "      <td>875.581305</td>\n",
       "      <td>2.787965e+09</td>\n",
       "      <td>338.000000</td>\n",
       "      <td>10.000000</td>\n",
       "      <td>13752.000000</td>\n",
       "      <td>459488.000000</td>\n",
       "      <td>2.000000e+06</td>\n",
       "      <td>2.000000e+06</td>\n",
       "      <td>...</td>\n",
       "      <td>2.000000e+06</td>\n",
       "      <td>2.000000e+06</td>\n",
       "      <td>2.000000e+06</td>\n",
       "      <td>2.000000e+06</td>\n",
       "      <td>2.000000e+06</td>\n",
       "      <td>2.000000e+06</td>\n",
       "      <td>2.000000e+06</td>\n",
       "      <td>2.000000e+06</td>\n",
       "      <td>2.000000e+06</td>\n",
       "      <td>2.000000e+06</td>\n",
       "    </tr>\n",
       "  </tbody>\n",
       "</table>\n",
       "<p>8 rows × 28 columns</p>\n",
       "</div>"
      ],
      "text/plain": [
       "             budget             id   popularity       revenue      runtime  \\\n",
       "count  4.803000e+03    4803.000000  4803.000000  4.803000e+03  4801.000000   \n",
       "mean   2.904504e+07   57165.484281    21.492301  8.226064e+07   106.875859   \n",
       "std    4.072239e+07   88694.614033    31.816650  1.628571e+08    22.611935   \n",
       "min    0.000000e+00       5.000000     0.000000  0.000000e+00     0.000000   \n",
       "25%    7.900000e+05    9014.500000     4.668070  0.000000e+00    94.000000   \n",
       "50%    1.500000e+07   14629.000000    12.921594  1.917000e+07   103.000000   \n",
       "75%    4.000000e+07   58610.500000    28.313505  9.291719e+07   118.000000   \n",
       "max    3.800000e+08  459488.000000   875.581305  2.787965e+09   338.000000   \n",
       "\n",
       "       vote_average    vote_count       movie_id        Comedy       History  \\\n",
       "count   4803.000000   4803.000000    4803.000000  4.803000e+03  4.803000e+03   \n",
       "mean       6.092172    690.217989   57165.484281  7.707106e+02  7.703931e+02   \n",
       "std        1.194612   1234.585891   88694.614033  3.441408e+04  3.441409e+04   \n",
       "min        0.000000      0.000000       5.000000  0.000000e+00  0.000000e+00   \n",
       "25%        5.600000     54.000000    9014.500000  0.000000e+00  0.000000e+00   \n",
       "50%        6.200000    235.000000   14629.000000  0.000000e+00  0.000000e+00   \n",
       "75%        6.800000    737.000000   58610.500000  1.000000e+00  0.000000e+00   \n",
       "max       10.000000  13752.000000  459488.000000  2.000000e+06  2.000000e+06   \n",
       "\n",
       "       ...         Music       Mystery       Romance      TV Movie  \\\n",
       "count  ...  4.803000e+03  4.803000e+03  4.803000e+03  4.803000e+03   \n",
       "mean   ...  7.703906e+02  7.704245e+02  7.705382e+02  7.703537e+02   \n",
       "std    ...  3.441409e+04  3.441409e+04  3.441408e+04  3.441409e+04   \n",
       "min    ...  0.000000e+00  0.000000e+00  0.000000e+00  0.000000e+00   \n",
       "25%    ...  0.000000e+00  0.000000e+00  0.000000e+00  0.000000e+00   \n",
       "50%    ...  0.000000e+00  0.000000e+00  0.000000e+00  0.000000e+00   \n",
       "75%    ...  0.000000e+00  0.000000e+00  0.000000e+00  0.000000e+00   \n",
       "max    ...  2.000000e+06  2.000000e+06  2.000000e+06  2.000000e+06   \n",
       "\n",
       "              Crime   Documentary      Thriller     Animation        Family  \\\n",
       "count  4.803000e+03  4.803000e+03  4.803000e+03  4.803000e+03  4.803000e+03   \n",
       "mean   7.704970e+02  7.703750e+02  7.706173e+02  7.704008e+02  7.704589e+02   \n",
       "std    3.441408e+04  3.441409e+04  3.441408e+04  3.441409e+04  3.441408e+04   \n",
       "min    0.000000e+00  0.000000e+00  0.000000e+00  0.000000e+00  0.000000e+00   \n",
       "25%    0.000000e+00  0.000000e+00  0.000000e+00  0.000000e+00  0.000000e+00   \n",
       "50%    0.000000e+00  0.000000e+00  0.000000e+00  0.000000e+00  0.000000e+00   \n",
       "75%    0.000000e+00  0.000000e+00  1.000000e+00  0.000000e+00  0.000000e+00   \n",
       "max    2.000000e+06  2.000000e+06  2.000000e+06  2.000000e+06  2.000000e+06   \n",
       "\n",
       "       Science Fiction  \n",
       "count     4.803000e+03  \n",
       "mean      7.704635e+02  \n",
       "std       3.441408e+04  \n",
       "min       0.000000e+00  \n",
       "25%       0.000000e+00  \n",
       "50%       0.000000e+00  \n",
       "75%       0.000000e+00  \n",
       "max       2.000000e+06  \n",
       "\n",
       "[8 rows x 28 columns]"
      ]
     },
     "execution_count": 7,
     "metadata": {},
     "output_type": "execute_result"
    }
   ],
   "source": [
    "# Summary statistic of the data\n",
    "df.describe()  "
   ]
  },
  {
   "cell_type": "markdown",
   "id": "2893f472",
   "metadata": {},
   "source": [
    "Counts of missing values in every column"
   ]
  },
  {
   "cell_type": "code",
   "execution_count": 8,
   "id": "0adf2133",
   "metadata": {},
   "outputs": [
    {
     "name": "stdout",
     "output_type": "stream",
     "text": [
      "budget                     0\n",
      "genres                    28\n",
      "homepage                3091\n",
      "id                         0\n",
      "keywords                 412\n",
      "original_language          0\n",
      "original_title             0\n",
      "overview                   3\n",
      "popularity                 0\n",
      "production_companies     351\n",
      "production_countries     174\n",
      "release_date               1\n",
      "revenue                    0\n",
      "runtime                    2\n",
      "spoken_languages          87\n",
      "status                     0\n",
      "tagline                  844\n",
      "title                      0\n",
      "vote_average               0\n",
      "vote_count                 0\n",
      "movie_id                   0\n",
      "cast                      43\n",
      "Comedy                     0\n",
      "History                    0\n",
      "Action                     0\n",
      "Drama                      0\n",
      "Horror                     0\n",
      "Foreign                    0\n",
      "Western                    0\n",
      "War                        0\n",
      "Adventure                  0\n",
      "Fantasy                    0\n",
      "Music                      0\n",
      "Mystery                    0\n",
      "Romance                    0\n",
      "TV Movie                   0\n",
      "Crime                      0\n",
      "Documentary                0\n",
      "Thriller                   0\n",
      "Animation                  0\n",
      "Family                     0\n",
      "Science Fiction            0\n",
      "dtype: int64\n"
     ]
    }
   ],
   "source": [
    "# Get count of missing values in every column\n",
    "print(df.isna().sum())"
   ]
  },
  {
   "cell_type": "markdown",
   "id": "01020a64",
   "metadata": {},
   "source": [
    "Conclusions: \n",
    "\n",
    "The data contains some categorical columns, these columns need to be handled before building the model\n",
    "\n",
    "Some columns have missing values, these need to be handled before building the model\n",
    "\n",
    "The y variable (revenue) doesn't have any missing values, which is good"
   ]
  },
  {
   "cell_type": "code",
   "execution_count": 9,
   "id": "c517f4c8",
   "metadata": {},
   "outputs": [
    {
     "name": "stdout",
     "output_type": "stream",
     "text": [
      "Numerical columns: \n",
      " Index(['budget', 'id', 'popularity', 'revenue', 'runtime', 'vote_average',\n",
      "       'vote_count', 'movie_id', 'Comedy', 'History', 'Action', 'Drama',\n",
      "       'Horror', 'Foreign', 'Western', 'War', 'Adventure', 'Fantasy', 'Music',\n",
      "       'Mystery', 'Romance', 'TV Movie', 'Crime', 'Documentary', 'Thriller',\n",
      "       'Animation', 'Family', 'Science Fiction'],\n",
      "      dtype='object')\n",
      "Categorical columns: \n",
      " Index(['genres', 'homepage', 'keywords', 'original_language', 'original_title',\n",
      "       'overview', 'production_companies', 'production_countries',\n",
      "       'release_date', 'spoken_languages', 'status', 'tagline', 'title',\n",
      "       'cast'],\n",
      "      dtype='object')\n"
     ]
    }
   ],
   "source": [
    "# Create list of numeric and categorical columns and check if they have extra spaces in the column names\n",
    "num_col = df.select_dtypes(include=np.number).columns\n",
    "print(\"Numerical columns: \\n\",num_col)\n",
    "\n",
    "cat_col = df.select_dtypes(exclude=np.number).columns\n",
    "print(\"Categorical columns: \\n\",cat_col)"
   ]
  },
  {
   "cell_type": "markdown",
   "id": "c519621f",
   "metadata": {},
   "source": [
    "We already did one hot encoding on the 'genres' column, so we can drop the 'genres' column.\n",
    "\n",
    "The only categorical column that can influence the 'revenue' column is the 'cast' column. But if we do a one hot encoding, we find that we need a hundred or more columns. Therefore it is impractical to use 'cast' data.\n",
    "\n",
    "All other categorical columns have very little influence on the revenue from the movie, so we can drop them."
   ]
  },
  {
   "cell_type": "code",
   "execution_count": 10,
   "id": "ad923d89",
   "metadata": {},
   "outputs": [],
   "source": [
    "df = df.drop(columns=['genres', 'homepage', 'keywords', 'original_language', 'original_title',\n",
    "       'overview', 'production_companies', 'production_countries',\n",
    "       'release_date', 'spoken_languages', 'status', 'tagline', 'title',\n",
    "       'cast'])"
   ]
  },
  {
   "cell_type": "markdown",
   "id": "f022c514",
   "metadata": {},
   "source": [
    "We are going to drop the columns 'id' and 'movie_id', because they carry no information.\n",
    "\n",
    "We are going to drop rows with NaN values, because there are only 2 rows with NaN values left."
   ]
  },
  {
   "cell_type": "code",
   "execution_count": 11,
   "id": "d53fea71",
   "metadata": {},
   "outputs": [
    {
     "name": "stdout",
     "output_type": "stream",
     "text": [
      "(4801, 26)\n"
     ]
    }
   ],
   "source": [
    "df = df.drop(columns=['id', 'movie_id'])\n",
    "df = df.dropna()\n",
    "print(df.shape)"
   ]
  },
  {
   "cell_type": "code",
   "execution_count": 12,
   "id": "ce97a33b",
   "metadata": {},
   "outputs": [
    {
     "data": {
      "text/html": [
       "<div>\n",
       "<style scoped>\n",
       "    .dataframe tbody tr th:only-of-type {\n",
       "        vertical-align: middle;\n",
       "    }\n",
       "\n",
       "    .dataframe tbody tr th {\n",
       "        vertical-align: top;\n",
       "    }\n",
       "\n",
       "    .dataframe thead th {\n",
       "        text-align: right;\n",
       "    }\n",
       "</style>\n",
       "<table border=\"1\" class=\"dataframe\">\n",
       "  <thead>\n",
       "    <tr style=\"text-align: right;\">\n",
       "      <th></th>\n",
       "      <th>budget</th>\n",
       "      <th>popularity</th>\n",
       "      <th>revenue</th>\n",
       "      <th>runtime</th>\n",
       "      <th>vote_average</th>\n",
       "      <th>vote_count</th>\n",
       "      <th>Comedy</th>\n",
       "      <th>History</th>\n",
       "      <th>Action</th>\n",
       "      <th>Drama</th>\n",
       "      <th>...</th>\n",
       "      <th>Music</th>\n",
       "      <th>Mystery</th>\n",
       "      <th>Romance</th>\n",
       "      <th>TV Movie</th>\n",
       "      <th>Crime</th>\n",
       "      <th>Documentary</th>\n",
       "      <th>Thriller</th>\n",
       "      <th>Animation</th>\n",
       "      <th>Family</th>\n",
       "      <th>Science Fiction</th>\n",
       "    </tr>\n",
       "  </thead>\n",
       "  <tbody>\n",
       "    <tr>\n",
       "      <th>0</th>\n",
       "      <td>237000000</td>\n",
       "      <td>150.437577</td>\n",
       "      <td>2787965087</td>\n",
       "      <td>162.0</td>\n",
       "      <td>7.2</td>\n",
       "      <td>11800</td>\n",
       "      <td>0</td>\n",
       "      <td>0</td>\n",
       "      <td>1</td>\n",
       "      <td>0</td>\n",
       "      <td>...</td>\n",
       "      <td>0</td>\n",
       "      <td>0</td>\n",
       "      <td>0</td>\n",
       "      <td>0</td>\n",
       "      <td>0</td>\n",
       "      <td>0</td>\n",
       "      <td>0</td>\n",
       "      <td>0</td>\n",
       "      <td>0</td>\n",
       "      <td>1</td>\n",
       "    </tr>\n",
       "    <tr>\n",
       "      <th>1</th>\n",
       "      <td>300000000</td>\n",
       "      <td>139.082615</td>\n",
       "      <td>961000000</td>\n",
       "      <td>169.0</td>\n",
       "      <td>6.9</td>\n",
       "      <td>4500</td>\n",
       "      <td>0</td>\n",
       "      <td>0</td>\n",
       "      <td>1</td>\n",
       "      <td>0</td>\n",
       "      <td>...</td>\n",
       "      <td>0</td>\n",
       "      <td>0</td>\n",
       "      <td>0</td>\n",
       "      <td>0</td>\n",
       "      <td>0</td>\n",
       "      <td>0</td>\n",
       "      <td>0</td>\n",
       "      <td>0</td>\n",
       "      <td>0</td>\n",
       "      <td>0</td>\n",
       "    </tr>\n",
       "    <tr>\n",
       "      <th>2</th>\n",
       "      <td>245000000</td>\n",
       "      <td>107.376788</td>\n",
       "      <td>880674609</td>\n",
       "      <td>148.0</td>\n",
       "      <td>6.3</td>\n",
       "      <td>4466</td>\n",
       "      <td>0</td>\n",
       "      <td>0</td>\n",
       "      <td>1</td>\n",
       "      <td>0</td>\n",
       "      <td>...</td>\n",
       "      <td>0</td>\n",
       "      <td>0</td>\n",
       "      <td>0</td>\n",
       "      <td>0</td>\n",
       "      <td>1</td>\n",
       "      <td>0</td>\n",
       "      <td>0</td>\n",
       "      <td>0</td>\n",
       "      <td>0</td>\n",
       "      <td>0</td>\n",
       "    </tr>\n",
       "    <tr>\n",
       "      <th>3</th>\n",
       "      <td>250000000</td>\n",
       "      <td>112.312950</td>\n",
       "      <td>1084939099</td>\n",
       "      <td>165.0</td>\n",
       "      <td>7.6</td>\n",
       "      <td>9106</td>\n",
       "      <td>0</td>\n",
       "      <td>0</td>\n",
       "      <td>1</td>\n",
       "      <td>1</td>\n",
       "      <td>...</td>\n",
       "      <td>0</td>\n",
       "      <td>0</td>\n",
       "      <td>0</td>\n",
       "      <td>0</td>\n",
       "      <td>1</td>\n",
       "      <td>0</td>\n",
       "      <td>1</td>\n",
       "      <td>0</td>\n",
       "      <td>0</td>\n",
       "      <td>0</td>\n",
       "    </tr>\n",
       "    <tr>\n",
       "      <th>4</th>\n",
       "      <td>260000000</td>\n",
       "      <td>43.926995</td>\n",
       "      <td>284139100</td>\n",
       "      <td>132.0</td>\n",
       "      <td>6.1</td>\n",
       "      <td>2124</td>\n",
       "      <td>0</td>\n",
       "      <td>0</td>\n",
       "      <td>1</td>\n",
       "      <td>0</td>\n",
       "      <td>...</td>\n",
       "      <td>0</td>\n",
       "      <td>0</td>\n",
       "      <td>0</td>\n",
       "      <td>0</td>\n",
       "      <td>0</td>\n",
       "      <td>0</td>\n",
       "      <td>0</td>\n",
       "      <td>0</td>\n",
       "      <td>0</td>\n",
       "      <td>1</td>\n",
       "    </tr>\n",
       "  </tbody>\n",
       "</table>\n",
       "<p>5 rows × 26 columns</p>\n",
       "</div>"
      ],
      "text/plain": [
       "      budget  popularity     revenue  runtime  vote_average  vote_count  \\\n",
       "0  237000000  150.437577  2787965087    162.0           7.2       11800   \n",
       "1  300000000  139.082615   961000000    169.0           6.9        4500   \n",
       "2  245000000  107.376788   880674609    148.0           6.3        4466   \n",
       "3  250000000  112.312950  1084939099    165.0           7.6        9106   \n",
       "4  260000000   43.926995   284139100    132.0           6.1        2124   \n",
       "\n",
       "   Comedy  History  Action  Drama  ...  Music  Mystery  Romance  TV Movie  \\\n",
       "0       0        0       1      0  ...      0        0        0         0   \n",
       "1       0        0       1      0  ...      0        0        0         0   \n",
       "2       0        0       1      0  ...      0        0        0         0   \n",
       "3       0        0       1      1  ...      0        0        0         0   \n",
       "4       0        0       1      0  ...      0        0        0         0   \n",
       "\n",
       "   Crime  Documentary  Thriller  Animation  Family  Science Fiction  \n",
       "0      0            0         0          0       0                1  \n",
       "1      0            0         0          0       0                0  \n",
       "2      1            0         0          0       0                0  \n",
       "3      1            0         1          0       0                0  \n",
       "4      0            0         0          0       0                1  \n",
       "\n",
       "[5 rows x 26 columns]"
      ]
     },
     "execution_count": 12,
     "metadata": {},
     "output_type": "execute_result"
    }
   ],
   "source": [
    "df.head()"
   ]
  },
  {
   "cell_type": "markdown",
   "id": "a14e5e7c",
   "metadata": {},
   "source": [
    "Exploratory data analysis is an approach to analyze or investigate data sets to find out patterns and see if any of the variables can be useful in predicting the y variables. Visual methods are often used to summarise the data. Primarily EDA is for seeing what the data can tell us beyond the formal modeling or hypothesis testing tasks.\n",
    "\n",
    "We are going to:\n",
    "\n",
    "Create list of columns by data type\n",
    "\n",
    "Check the distribution of target variable\n",
    "\n",
    "Check the correlation between different features\n",
    "\n",
    "Check the relation between different features"
   ]
  },
  {
   "cell_type": "code",
   "execution_count": 13,
   "id": "47e5acf1",
   "metadata": {},
   "outputs": [
    {
     "data": {
      "image/png": "[encoded data removed]",
      "text/plain": [
       "<Figure size 640x640 with 1 Axes>"
      ]
     },
     "metadata": {
      "needs_background": "light"
     },
     "output_type": "display_data"
    }
   ],
   "source": [
    "# Check the distribution of y variable (Revenue) using box plot\n",
    "plt.figure(figsize=(8,8), dpi= 80)\n",
    "sns.boxplot(df['revenue'])\n",
    "plt.title('Revenue Box Plot')\n",
    "plt.show()"
   ]
  },
  {
   "cell_type": "code",
   "execution_count": 14,
   "id": "d660b87f",
   "metadata": {},
   "outputs": [
    {
     "data": {
      "text/plain": [
       "<AxesSubplot:title={'center':'Revenue Distribution Plot'}, xlabel='revenue', ylabel='Density'>"
      ]
     },
     "execution_count": 14,
     "metadata": {},
     "output_type": "execute_result"
    },
    {
     "data": {
      "image/png": "[encoded data removed]",
      "text/plain": [
       "<Figure size 576x576 with 1 Axes>"
      ]
     },
     "metadata": {
      "needs_background": "light"
     },
     "output_type": "display_data"
    }
   ],
   "source": [
    "# Check the distribution of y variable (Revenue) using dist plot\n",
    "plt.figure(figsize=(8,8))\n",
    "plt.title('Revenue Distribution Plot')\n",
    "sns.distplot(df['revenue'])"
   ]
  },
  {
   "cell_type": "markdown",
   "id": "3adb5ced",
   "metadata": {},
   "source": [
    "We see that the data set has some very high revenue movies, which contribute to the right skewness of the data. The high kurtosis of the data shows that the data is far from normally distributed."
   ]
  },
  {
   "cell_type": "code",
   "execution_count": 15,
   "id": "c570fc32",
   "metadata": {},
   "outputs": [
    {
     "name": "stdout",
     "output_type": "stream",
     "text": [
      "Skewness: 4.443922\n",
      "Kurtosis: 33.112510\n"
     ]
    }
   ],
   "source": [
    "# Skew and kurt\n",
    "print(\"Skewness: %f\" % abs(df['revenue']).skew())\n",
    "print(\"Kurtosis: %f\" % abs(df['revenue']).kurt())"
   ]
  },
  {
   "cell_type": "markdown",
   "id": "ad6aef32",
   "metadata": {},
   "source": [
    "Next we calculate all the correlations between 'revenue' and other columns. We plot the correlations as the heat map."
   ]
  },
  {
   "cell_type": "code",
   "execution_count": 16,
   "id": "16af2e59",
   "metadata": {},
   "outputs": [
    {
     "data": {
      "image/png": "[encoded data removed]",
      "text/plain": [
       "<Figure size 1800x1800 with 2 Axes>"
      ]
     },
     "metadata": {
      "needs_background": "light"
     },
     "output_type": "display_data"
    }
   ],
   "source": [
    "# Check the multicollinearity of features using the correlation matric\n",
    "plt.figure(figsize=(25,25))\n",
    "p = sns.heatmap(df.corr(), annot=True,cmap='RdYlGn',center=0) "
   ]
  },
  {
   "cell_type": "markdown",
   "id": "cbd01336",
   "metadata": {},
   "source": [
    "Not all of the features have a significant influence on the 'revenue'.\n",
    "\n",
    "It is clear that different movie genres have very little influence on the 'revenue'.\n",
    "\n",
    "Let's look at the correlation matrix of top 7 features, which have the highest correlation with 'revenue'."
   ]
  },
  {
   "cell_type": "code",
   "execution_count": 17,
   "id": "9ee3c722",
   "metadata": {},
   "outputs": [
    {
     "data": {
      "image/png": "[encoded data removed]",
      "text/plain": [
       "<Figure size 864x504 with 2 Axes>"
      ]
     },
     "metadata": {
      "needs_background": "light"
     },
     "output_type": "display_data"
    }
   ],
   "source": [
    "main_columns = ['budget', 'revenue', 'popularity', 'runtime', 'vote_average', 'vote_count']\n",
    "k = 7 #number of variables for heatmap\n",
    "cols = df.corr().nlargest(k, 'revenue')['revenue'].index\n",
    "plt.figure(figsize=(12,7))\n",
    "p = sns.heatmap(df[cols].corr(), annot=True,cmap='RdYlGn',center=0) "
   ]
  },
  {
   "cell_type": "markdown",
   "id": "907d4956",
   "metadata": {},
   "source": [
    "Now we make scatterplots of different covariates vs the 'revenue'."
   ]
  },
  {
   "cell_type": "code",
   "execution_count": 18,
   "id": "f17f2cea",
   "metadata": {},
   "outputs": [],
   "source": [
    "def scatterplot(x=\"vote_count\", y='revenue'):\n",
    "    plt.figure(figsize=(10,7))\n",
    "    plt.scatter(df[x], df[y], )\n",
    "    plt.title(x + ' vs ' + y)\n",
    "    plt.show()"
   ]
  },
  {
   "cell_type": "code",
   "execution_count": 19,
   "id": "c74794a8",
   "metadata": {},
   "outputs": [
    {
     "data": {
      "image/png": "[encoded data removed]",
      "text/plain": [
       "<Figure size 720x504 with 1 Axes>"
      ]
     },
     "metadata": {
      "needs_background": "light"
     },
     "output_type": "display_data"
    },
    {
     "data": {
      "image/png": "[encoded data removed]",
      "text/plain": [
       "<Figure size 720x504 with 1 Axes>"
      ]
     },
     "metadata": {
      "needs_background": "light"
     },
     "output_type": "display_data"
    },
    {
     "data": {
      "image/png": "[encoded data removed]",
      "text/plain": [
       "<Figure size 720x504 with 1 Axes>"
      ]
     },
     "metadata": {
      "needs_background": "light"
     },
     "output_type": "display_data"
    },
    {
     "data": {
      "image/png": "[encoded data removed]",
      "text/plain": [
       "<Figure size 720x504 with 1 Axes>"
      ]
     },
     "metadata": {
      "needs_background": "light"
     },
     "output_type": "display_data"
    },
    {
     "data": {
      "image/png": "[encoded data removed]",
      "text/plain": [
       "<Figure size 720x504 with 1 Axes>"
      ]
     },
     "metadata": {
      "needs_background": "light"
     },
     "output_type": "display_data"
    },
    {
     "data": {
      "image/png": "[encoded data removed]",
      "text/plain": [
       "<Figure size 720x504 with 1 Axes>"
      ]
     },
     "metadata": {
      "needs_background": "light"
     },
     "output_type": "display_data"
    }
   ],
   "source": [
    "for col in cols[1:]:\n",
    "    scatterplot(x=col, y='revenue')"
   ]
  },
  {
   "cell_type": "markdown",
   "id": "a8611252",
   "metadata": {},
   "source": [
    "We want the highest correlation values between the 'revenue' column and other columns."
   ]
  },
  {
   "cell_type": "code",
   "execution_count": 20,
   "id": "b21bb776",
   "metadata": {},
   "outputs": [
    {
     "name": "stdout",
     "output_type": "stream",
     "text": [
      "vote_count      0.781462\n",
      "budget          0.730798\n",
      "popularity      0.644677\n",
      "runtime         0.251093\n",
      "vote_average    0.197286\n",
      "Adventure      -0.011186\n",
      "Name: revenue, dtype: float64\n"
     ]
    }
   ],
   "source": [
    "# Store 7 highest correlated variables for future reference\n",
    "corr = df.corr()\n",
    "print (corr['revenue'].sort_values(ascending=False)[1:7])\n",
    "highest_correlated_cols = corr['revenue'].sort_values(ascending=False)[1:7].index"
   ]
  },
  {
   "cell_type": "markdown",
   "id": "9b5247a5",
   "metadata": {},
   "source": [
    "Data Preprocessing\n",
    "\n",
    "We use the standard scaler on the columns to make sure that the columns with the larger values do not influence the target variable more than the columns with the smaller values\n",
    "\n",
    "We take the predictor variables X to be all of the columns except for the 'revenue' column and we take the target variable y to be the 'revenue' column"
   ]
  },
  {
   "cell_type": "code",
   "execution_count": 23,
   "id": "303c4ba5",
   "metadata": {},
   "outputs": [
    {
     "name": "stdout",
     "output_type": "stream",
     "text": [
      "X.shape= (4801, 25) y.shape= (4801,)\n"
     ]
    },
    {
     "data": {
      "text/html": [
       "<div>\n",
       "<style scoped>\n",
       "    .dataframe tbody tr th:only-of-type {\n",
       "        vertical-align: middle;\n",
       "    }\n",
       "\n",
       "    .dataframe tbody tr th {\n",
       "        vertical-align: top;\n",
       "    }\n",
       "\n",
       "    .dataframe thead th {\n",
       "        text-align: right;\n",
       "    }\n",
       "</style>\n",
       "<table border=\"1\" class=\"dataframe\">\n",
       "  <thead>\n",
       "    <tr style=\"text-align: right;\">\n",
       "      <th></th>\n",
       "      <th>budget</th>\n",
       "      <th>popularity</th>\n",
       "      <th>revenue</th>\n",
       "      <th>runtime</th>\n",
       "      <th>vote_average</th>\n",
       "      <th>vote_count</th>\n",
       "      <th>Comedy</th>\n",
       "      <th>History</th>\n",
       "      <th>Action</th>\n",
       "      <th>Drama</th>\n",
       "      <th>...</th>\n",
       "      <th>Music</th>\n",
       "      <th>Mystery</th>\n",
       "      <th>Romance</th>\n",
       "      <th>TV Movie</th>\n",
       "      <th>Crime</th>\n",
       "      <th>Documentary</th>\n",
       "      <th>Thriller</th>\n",
       "      <th>Animation</th>\n",
       "      <th>Family</th>\n",
       "      <th>Science Fiction</th>\n",
       "    </tr>\n",
       "  </thead>\n",
       "  <tbody>\n",
       "    <tr>\n",
       "      <th>0</th>\n",
       "      <td>5.106231</td>\n",
       "      <td>4.052434</td>\n",
       "      <td>16.612922</td>\n",
       "      <td>2.438088</td>\n",
       "      <td>0.929025</td>\n",
       "      <td>8.998200</td>\n",
       "      <td>0</td>\n",
       "      <td>0</td>\n",
       "      <td>1</td>\n",
       "      <td>0</td>\n",
       "      <td>...</td>\n",
       "      <td>0</td>\n",
       "      <td>0</td>\n",
       "      <td>0</td>\n",
       "      <td>0</td>\n",
       "      <td>0</td>\n",
       "      <td>0</td>\n",
       "      <td>0</td>\n",
       "      <td>0</td>\n",
       "      <td>0</td>\n",
       "      <td>1</td>\n",
       "    </tr>\n",
       "    <tr>\n",
       "      <th>1</th>\n",
       "      <td>6.653231</td>\n",
       "      <td>3.695551</td>\n",
       "      <td>5.395284</td>\n",
       "      <td>2.747691</td>\n",
       "      <td>0.677213</td>\n",
       "      <td>3.085524</td>\n",
       "      <td>0</td>\n",
       "      <td>0</td>\n",
       "      <td>1</td>\n",
       "      <td>0</td>\n",
       "      <td>...</td>\n",
       "      <td>0</td>\n",
       "      <td>0</td>\n",
       "      <td>0</td>\n",
       "      <td>0</td>\n",
       "      <td>0</td>\n",
       "      <td>0</td>\n",
       "      <td>0</td>\n",
       "      <td>0</td>\n",
       "      <td>0</td>\n",
       "      <td>0</td>\n",
       "    </tr>\n",
       "    <tr>\n",
       "      <th>2</th>\n",
       "      <td>5.302675</td>\n",
       "      <td>2.699047</td>\n",
       "      <td>4.902083</td>\n",
       "      <td>1.818881</td>\n",
       "      <td>0.173591</td>\n",
       "      <td>3.057985</td>\n",
       "      <td>0</td>\n",
       "      <td>0</td>\n",
       "      <td>1</td>\n",
       "      <td>0</td>\n",
       "      <td>...</td>\n",
       "      <td>0</td>\n",
       "      <td>0</td>\n",
       "      <td>0</td>\n",
       "      <td>0</td>\n",
       "      <td>1</td>\n",
       "      <td>0</td>\n",
       "      <td>0</td>\n",
       "      <td>0</td>\n",
       "      <td>0</td>\n",
       "      <td>0</td>\n",
       "    </tr>\n",
       "    <tr>\n",
       "      <th>3</th>\n",
       "      <td>5.425453</td>\n",
       "      <td>2.854189</td>\n",
       "      <td>6.156275</td>\n",
       "      <td>2.570775</td>\n",
       "      <td>1.264773</td>\n",
       "      <td>6.816180</td>\n",
       "      <td>0</td>\n",
       "      <td>0</td>\n",
       "      <td>1</td>\n",
       "      <td>1</td>\n",
       "      <td>...</td>\n",
       "      <td>0</td>\n",
       "      <td>0</td>\n",
       "      <td>0</td>\n",
       "      <td>0</td>\n",
       "      <td>1</td>\n",
       "      <td>0</td>\n",
       "      <td>1</td>\n",
       "      <td>0</td>\n",
       "      <td>0</td>\n",
       "      <td>0</td>\n",
       "    </tr>\n",
       "    <tr>\n",
       "      <th>4</th>\n",
       "      <td>5.671009</td>\n",
       "      <td>0.704839</td>\n",
       "      <td>1.239331</td>\n",
       "      <td>1.111217</td>\n",
       "      <td>0.005717</td>\n",
       "      <td>1.161069</td>\n",
       "      <td>0</td>\n",
       "      <td>0</td>\n",
       "      <td>1</td>\n",
       "      <td>0</td>\n",
       "      <td>...</td>\n",
       "      <td>0</td>\n",
       "      <td>0</td>\n",
       "      <td>0</td>\n",
       "      <td>0</td>\n",
       "      <td>0</td>\n",
       "      <td>0</td>\n",
       "      <td>0</td>\n",
       "      <td>0</td>\n",
       "      <td>0</td>\n",
       "      <td>1</td>\n",
       "    </tr>\n",
       "  </tbody>\n",
       "</table>\n",
       "<p>5 rows × 26 columns</p>\n",
       "</div>"
      ],
      "text/plain": [
       "     budget  popularity    revenue   runtime  vote_average  vote_count  \\\n",
       "0  5.106231    4.052434  16.612922  2.438088      0.929025    8.998200   \n",
       "1  6.653231    3.695551   5.395284  2.747691      0.677213    3.085524   \n",
       "2  5.302675    2.699047   4.902083  1.818881      0.173591    3.057985   \n",
       "3  5.425453    2.854189   6.156275  2.570775      1.264773    6.816180   \n",
       "4  5.671009    0.704839   1.239331  1.111217      0.005717    1.161069   \n",
       "\n",
       "   Comedy  History  Action  Drama  ...  Music  Mystery  Romance  TV Movie  \\\n",
       "0       0        0       1      0  ...      0        0        0         0   \n",
       "1       0        0       1      0  ...      0        0        0         0   \n",
       "2       0        0       1      0  ...      0        0        0         0   \n",
       "3       0        0       1      1  ...      0        0        0         0   \n",
       "4       0        0       1      0  ...      0        0        0         0   \n",
       "\n",
       "   Crime  Documentary  Thriller  Animation  Family  Science Fiction  \n",
       "0      0            0         0          0       0                1  \n",
       "1      0            0         0          0       0                0  \n",
       "2      1            0         0          0       0                0  \n",
       "3      1            0         1          0       0                0  \n",
       "4      0            0         0          0       0                1  \n",
       "\n",
       "[5 rows x 26 columns]"
      ]
     },
     "execution_count": 23,
     "metadata": {},
     "output_type": "execute_result"
    }
   ],
   "source": [
    "# data preprocessing such as scaling/normalization is typically useful for \n",
    "# linear models to accelerate the training convergence\n",
    "\n",
    "# standardize features by removing the mean and scaling to unit variance\n",
    "df.iloc[:, 0:6] = StandardScaler().fit_transform(df.iloc[:, 0:6])\n",
    "data_matrix = df.values\n",
    "\n",
    "# X: feature matrix (for this analysis, we exclude the 'revenue' variable from the dataset)\n",
    "X = data_matrix[:, [0,1,3,4,5,6,7,8,9,10,11,12,13,14,15,16,17,18,19,20,21,22,23,24,25]]\n",
    "\n",
    "# y: labels vector\n",
    "y = data_matrix[:, 2]\n",
    "\n",
    "# data normalization\n",
    "X = normalize(X, norm=\"l1\")\n",
    "\n",
    "# print the shape of the features matrix and the labels vector\n",
    "print('X.shape=', X.shape, 'y.shape=', y.shape)\n",
    "\n",
    "df.head()"
   ]
  },
  {
   "cell_type": "markdown",
   "id": "4ea529e0",
   "metadata": {},
   "source": [
    "Train Test Split\n",
    "\n",
    "We split the X and y data into the training set and the test set"
   ]
  },
  {
   "cell_type": "code",
   "execution_count": 24,
   "id": "2867046b",
   "metadata": {},
   "outputs": [],
   "source": [
    "from sklearn.model_selection import train_test_split\n",
    "x_train,x_test,y_train,y_test=train_test_split(X,y,test_size=0.33,random_state=100)\n",
    "#get training and testing data"
   ]
  },
  {
   "cell_type": "code",
   "execution_count": 25,
   "id": "d9ec32b7",
   "metadata": {},
   "outputs": [
    {
     "data": {
      "text/plain": [
       "array([[-0.10204143, -0.00682955, -0.16383237, ...,  0.        ,\n",
       "         0.        ,  0.        ],\n",
       "       [ 0.13811649, -0.04294524, -0.03196601, ...,  0.        ,\n",
       "         0.        ,  0.        ],\n",
       "       [ 0.01000499, -0.05025042,  0.50121685, ...,  0.        ,\n",
       "         0.        ,  0.        ],\n",
       "       ...,\n",
       "       [ 0.18447821,  0.0701577 , -0.04685383, ...,  0.        ,\n",
       "         0.        ,  0.        ],\n",
       "       [ 0.27758141,  0.11597088,  0.05008387, ...,  0.        ,\n",
       "         0.        ,  0.06612742],\n",
       "       [-0.15211594,  0.01853666, -0.07230772, ...,  0.        ,\n",
       "         0.23776622,  0.        ]])"
      ]
     },
     "execution_count": 25,
     "metadata": {},
     "output_type": "execute_result"
    }
   ],
   "source": [
    "x_train"
   ]
  },
  {
   "cell_type": "markdown",
   "id": "5942b0a6",
   "metadata": {},
   "source": [
    "Model Building\n",
    "\n",
    "Use a Random Forest Regression with 500 trees with maximum depth 4"
   ]
  },
  {
   "cell_type": "code",
   "execution_count": 51,
   "id": "9ef150e6",
   "metadata": {},
   "outputs": [
    {
     "data": {
      "text/plain": [
       "RandomForestRegressor(max_depth=4, n_estimators=500, random_state=100)"
      ]
     },
     "execution_count": 51,
     "metadata": {},
     "output_type": "execute_result"
    }
   ],
   "source": [
    "# Importing the library\n",
    "from sklearn.ensemble import RandomForestRegressor\n",
    "\n",
    "#storing the random forest regressor into rg_tree\n",
    "rg_tree = RandomForestRegressor(random_state=100, n_estimators = 500, max_depth=4, criterion = 'mse',\n",
    "                                max_features = 'auto')\n",
    "\n",
    "#Fitting the model into rg_tree variable\n",
    "rg_tree.fit(x_train, y_train)\n"
   ]
  },
  {
   "cell_type": "markdown",
   "id": "d83d942a",
   "metadata": {},
   "source": [
    "Take a look at the predicted values of y"
   ]
  },
  {
   "cell_type": "code",
   "execution_count": 52,
   "id": "06a2dd3a",
   "metadata": {},
   "outputs": [
    {
     "name": "stdout",
     "output_type": "stream",
     "text": [
      "Predicted values of y: [ 0.48624941 -0.46076518 -0.46076518 ... -0.46076518  2.94675359\n",
      "  0.27854014]\n",
      "Actual values of y: [ 0.56259368 -0.50529397 -0.4009133  ... -0.50529397  1.26762949\n",
      " -0.20794376]\n"
     ]
    }
   ],
   "source": [
    "#predictions\n",
    "y_train_pred = rg_tree.predict(x_train)\n",
    "y_test_pred = rg_tree.predict(x_test)\n",
    "\n",
    "print(\"Predicted values of y:\", y_test_pred)\n",
    "print(\"Actual values of y:\", y_test)"
   ]
  },
  {
   "cell_type": "markdown",
   "id": "331dd950",
   "metadata": {},
   "source": [
    "Take a look at the R2 score"
   ]
  },
  {
   "cell_type": "code",
   "execution_count": 53,
   "id": "19cf4224",
   "metadata": {},
   "outputs": [
    {
     "data": {
      "text/plain": [
       "0.6704949649750602"
      ]
     },
     "execution_count": 53,
     "metadata": {},
     "output_type": "execute_result"
    }
   ],
   "source": [
    "rg_tree.score(x_test,y_test)\n"
   ]
  },
  {
   "cell_type": "markdown",
   "id": "8c25724c",
   "metadata": {},
   "source": [
    "Try to increase the number of trees"
   ]
  },
  {
   "cell_type": "code",
   "execution_count": 54,
   "id": "98475686",
   "metadata": {},
   "outputs": [
    {
     "data": {
      "text/plain": [
       "RandomForestRegressor(max_depth=4, n_estimators=1000, random_state=100)"
      ]
     },
     "execution_count": 54,
     "metadata": {},
     "output_type": "execute_result"
    }
   ],
   "source": [
    "#storing the random forest regressor into rg_tree\n",
    "rg_tree = RandomForestRegressor(random_state=100, n_estimators = 1000, max_depth=4, criterion = 'mse',\n",
    "                                max_features = 'auto')\n",
    "\n",
    "#Fitting the model into rg_tree variable\n",
    "rg_tree.fit(x_train, y_train)\n"
   ]
  },
  {
   "cell_type": "markdown",
   "id": "7446b71a",
   "metadata": {},
   "source": [
    "Look at the predicted y values"
   ]
  },
  {
   "cell_type": "code",
   "execution_count": 55,
   "id": "fd40e900",
   "metadata": {},
   "outputs": [
    {
     "name": "stdout",
     "output_type": "stream",
     "text": [
      "Predicted values of y: [ 0.47963643 -0.4608866  -0.4608866  ... -0.4608866   2.90761803\n",
      "  0.29478321]\n",
      "Actual values of y: [ 0.56259368 -0.50529397 -0.4009133  ... -0.50529397  1.26762949\n",
      " -0.20794376]\n"
     ]
    }
   ],
   "source": [
    "#predictions\n",
    "y_train_pred = rg_tree.predict(x_train)\n",
    "y_test_pred = rg_tree.predict(x_test)\n",
    "\n",
    "print(\"Predicted values of y:\", y_test_pred)\n",
    "print(\"Actual values of y:\", y_test)"
   ]
  },
  {
   "cell_type": "markdown",
   "id": "49e34279",
   "metadata": {},
   "source": [
    "Look at the R2 score"
   ]
  },
  {
   "cell_type": "code",
   "execution_count": 56,
   "id": "7cb7409f",
   "metadata": {},
   "outputs": [
    {
     "data": {
      "text/plain": [
       "0.6701683310514273"
      ]
     },
     "execution_count": 56,
     "metadata": {},
     "output_type": "execute_result"
    }
   ],
   "source": [
    "rg_tree.score(x_test,y_test)\n"
   ]
  },
  {
   "cell_type": "markdown",
   "id": "cf9c2d50",
   "metadata": {},
   "source": [
    "We see that the R2 score is the same when we keep maximum depth small but increase the number of trees\n",
    "\n",
    "This means that maximum depth is important"
   ]
  },
  {
   "cell_type": "markdown",
   "id": "4c1b40b4",
   "metadata": {},
   "source": [
    "Try to increase maximum depth"
   ]
  },
  {
   "cell_type": "code",
   "execution_count": 57,
   "id": "78ae91e9",
   "metadata": {},
   "outputs": [
    {
     "data": {
      "text/plain": [
       "RandomForestRegressor(max_depth=14, n_estimators=1000, random_state=100)"
      ]
     },
     "execution_count": 57,
     "metadata": {},
     "output_type": "execute_result"
    }
   ],
   "source": [
    "#storing the random forest regressor into rg_tree\n",
    "rg_tree = RandomForestRegressor(random_state=100, n_estimators = 1000, max_depth=14, criterion = 'mse',\n",
    "                                max_features = 'auto')\n",
    "\n",
    "#Fitting the model into rg_tree variable\n",
    "rg_tree.fit(x_train, y_train)\n"
   ]
  },
  {
   "cell_type": "markdown",
   "id": "99215beb",
   "metadata": {},
   "source": [
    "Take a look at the predicted values of y"
   ]
  },
  {
   "cell_type": "code",
   "execution_count": 58,
   "id": "03a59b71",
   "metadata": {},
   "outputs": [
    {
     "name": "stdout",
     "output_type": "stream",
     "text": [
      "Predicted values of y: [ 0.72301949 -0.49641623 -0.48773994 ... -0.49688537  3.59760011\n",
      "  0.52795821]\n",
      "Actual values of y: [ 0.56259368 -0.50529397 -0.4009133  ... -0.50529397  1.26762949\n",
      " -0.20794376]\n"
     ]
    }
   ],
   "source": [
    "y_train_pred = rg_tree.predict(x_train)\n",
    "y_test_pred = rg_tree.predict(x_test)\n",
    "\n",
    "print(\"Predicted values of y:\", y_test_pred)\n",
    "print(\"Actual values of y:\", y_test)"
   ]
  },
  {
   "cell_type": "markdown",
   "id": "d191f1c5",
   "metadata": {},
   "source": [
    "Take a look at the R2 score"
   ]
  },
  {
   "cell_type": "code",
   "execution_count": 59,
   "id": "b3220112",
   "metadata": {},
   "outputs": [
    {
     "data": {
      "text/plain": [
       "0.7054391821835354"
      ]
     },
     "execution_count": 59,
     "metadata": {},
     "output_type": "execute_result"
    }
   ],
   "source": [
    "rg_tree.score(x_test,y_test)\n"
   ]
  },
  {
   "cell_type": "markdown",
   "id": "489504a4",
   "metadata": {},
   "source": [
    "Increasing the maximum tree depth improved the R2 score by 3%\n",
    "\n",
    "Try to increase the number of trees further"
   ]
  },
  {
   "cell_type": "code",
   "execution_count": 60,
   "id": "b294f3b8",
   "metadata": {},
   "outputs": [
    {
     "data": {
      "text/plain": [
       "RandomForestRegressor(max_depth=14, n_estimators=5000, random_state=100)"
      ]
     },
     "execution_count": 60,
     "metadata": {},
     "output_type": "execute_result"
    }
   ],
   "source": [
    "#storing the random forest regressor into rg_tree\n",
    "rg_tree = RandomForestRegressor(random_state=100, n_estimators = 5000, max_depth=14, criterion = 'mse',\n",
    "                                max_features = 'auto')\n",
    "\n",
    "#Fitting the model into rg_tree variable\n",
    "rg_tree.fit(x_train, y_train)\n"
   ]
  },
  {
   "cell_type": "markdown",
   "id": "7fef4fe4",
   "metadata": {},
   "source": [
    "Take a look at the predicted values of y"
   ]
  },
  {
   "cell_type": "code",
   "execution_count": 61,
   "id": "19d1538f",
   "metadata": {},
   "outputs": [
    {
     "name": "stdout",
     "output_type": "stream",
     "text": [
      "Predicted values of y: [ 0.70976918 -0.49672629 -0.48813792 ... -0.4969771   3.64241088\n",
      "  0.49879182]\n",
      "Actual values of y: [ 0.56259368 -0.50529397 -0.4009133  ... -0.50529397  1.26762949\n",
      " -0.20794376]\n"
     ]
    }
   ],
   "source": [
    "y_train_pred = rg_tree.predict(x_train)\n",
    "y_test_pred = rg_tree.predict(x_test)\n",
    "\n",
    "print(\"Predicted values of y:\", y_test_pred)\n",
    "print(\"Actual values of y:\", y_test)"
   ]
  },
  {
   "cell_type": "markdown",
   "id": "486426a4",
   "metadata": {},
   "source": [
    "Take a look at the R2 score"
   ]
  },
  {
   "cell_type": "code",
   "execution_count": 62,
   "id": "9cf53c01",
   "metadata": {},
   "outputs": [
    {
     "data": {
      "text/plain": [
       "0.7046338338840117"
      ]
     },
     "execution_count": 62,
     "metadata": {},
     "output_type": "execute_result"
    }
   ],
   "source": [
    "rg_tree.score(x_test,y_test)\n"
   ]
  },
  {
   "cell_type": "markdown",
   "id": "f6068387",
   "metadata": {},
   "source": [
    "Increasing the number of trees to 5000 did not improve the R2 score\n",
    "\n",
    "Try to increase the maximum depth of each tree"
   ]
  },
  {
   "cell_type": "code",
   "execution_count": 63,
   "id": "b518fb87",
   "metadata": {},
   "outputs": [
    {
     "data": {
      "text/plain": [
       "RandomForestRegressor(max_depth=18, n_estimators=2000, random_state=100)"
      ]
     },
     "execution_count": 63,
     "metadata": {},
     "output_type": "execute_result"
    }
   ],
   "source": [
    "#storing the random forest regressor into rg_tree\n",
    "rg_tree = RandomForestRegressor(random_state=100, n_estimators = 2000, max_depth=18, criterion = 'mse',\n",
    "                                max_features = 'auto')\n",
    "\n",
    "#Fitting the model into rg_tree variable\n",
    "rg_tree.fit(x_train, y_train)\n"
   ]
  },
  {
   "cell_type": "markdown",
   "id": "76633c4f",
   "metadata": {},
   "source": [
    "Look at the predicted values of y"
   ]
  },
  {
   "cell_type": "code",
   "execution_count": 64,
   "id": "125d14f7",
   "metadata": {},
   "outputs": [
    {
     "name": "stdout",
     "output_type": "stream",
     "text": [
      "Predicted values of y: [ 0.71536363 -0.50005755 -0.48620498 ... -0.50052997  3.64617237\n",
      "  0.50257057]\n",
      "Actual values of y: [ 0.56259368 -0.50529397 -0.4009133  ... -0.50529397  1.26762949\n",
      " -0.20794376]\n"
     ]
    }
   ],
   "source": [
    "y_train_pred = rg_tree.predict(x_train)\n",
    "y_test_pred = rg_tree.predict(x_test)\n",
    "\n",
    "print(\"Predicted values of y:\", y_test_pred)\n",
    "print(\"Actual values of y:\", y_test)"
   ]
  },
  {
   "cell_type": "markdown",
   "id": "d9be51f8",
   "metadata": {},
   "source": [
    "Look at the R2 score"
   ]
  },
  {
   "cell_type": "code",
   "execution_count": 65,
   "id": "4431dd6b",
   "metadata": {},
   "outputs": [
    {
     "data": {
      "text/plain": [
       "0.7047583900932586"
      ]
     },
     "execution_count": 65,
     "metadata": {},
     "output_type": "execute_result"
    }
   ],
   "source": [
    "rg_tree.score(x_test,y_test)\n"
   ]
  },
  {
   "cell_type": "markdown",
   "id": "707778d5",
   "metadata": {},
   "source": [
    "Clearly, increasing the tree depth further does not improve the R2 score\n",
    "\n",
    "Try a Grid Search instead"
   ]
  },
  {
   "cell_type": "code",
   "execution_count": 131,
   "id": "8050f7af",
   "metadata": {},
   "outputs": [],
   "source": [
    "# Assigning all the parameters of random forest regressor for  parameters variable\n",
    "\n",
    "parameters = {\n",
    "    'n_estimators' : [1000, 2000, 3000],\n",
    "    'max_depth' : [12, 14, 16],\n",
    "    'criterion' : ['mse', 'poisson'],\n",
    "    'max_features' : ['sqrt', 'log2']\n",
    "}"
   ]
  },
  {
   "cell_type": "code",
   "execution_count": 132,
   "id": "59416232",
   "metadata": {},
   "outputs": [],
   "source": [
    "# Assigning parameters for GridSearchCV\n",
    "grid_search = GridSearchCV(RandomForestRegressor(), parameters, scoring = 'r2', verbose=2, cv=3, n_jobs = -1)"
   ]
  },
  {
   "cell_type": "code",
   "execution_count": 133,
   "id": "7f0e4bdc",
   "metadata": {},
   "outputs": [
    {
     "name": "stdout",
     "output_type": "stream",
     "text": [
      "Fitting 3 folds for each of 36 candidates, totalling 108 fits\n",
      "[CV] END criterion=mse, max_depth=12, max_features=sqrt, n_estimators=1000; total time=   6.9s\n",
      "[CV] END criterion=mse, max_depth=12, max_features=sqrt, n_estimators=2000; total time=  12.6s\n",
      "[CV] END criterion=mse, max_depth=12, max_features=sqrt, n_estimators=3000; total time=  19.7s\n",
      "[CV] END criterion=mse, max_depth=12, max_features=log2, n_estimators=3000; total time=  18.6s\n",
      "[CV] END criterion=mse, max_depth=14, max_features=sqrt, n_estimators=1000; total time=   8.3s\n",
      "[CV] END criterion=mse, max_depth=14, max_features=sqrt, n_estimators=3000; total time=  22.8s\n",
      "[CV] END criterion=mse, max_depth=14, max_features=log2, n_estimators=1000; total time=   6.6s\n",
      "[CV] END criterion=mse, max_depth=14, max_features=log2, n_estimators=2000; total time=  14.0s\n",
      "[CV] END criterion=mse, max_depth=14, max_features=log2, n_estimators=3000; total time=  20.3s\n",
      "[CV] END criterion=mse, max_depth=16, max_features=sqrt, n_estimators=3000; total time=  25.8s\n",
      "[CV] END criterion=mse, max_depth=16, max_features=log2, n_estimators=1000; total time=   7.4s\n",
      "[CV] END criterion=mse, max_depth=16, max_features=log2, n_estimators=2000; total time=  13.9s\n",
      "[CV] END criterion=mse, max_depth=16, max_features=log2, n_estimators=3000; total time=  21.5s\n",
      "[CV] END criterion=poisson, max_depth=12, max_features=sqrt, n_estimators=3000; total time=   9.3s\n",
      "[CV] END criterion=poisson, max_depth=12, max_features=log2, n_estimators=1000; total time=   2.9s\n",
      "[CV] END criterion=poisson, max_depth=12, max_features=log2, n_estimators=2000; total time=   6.3s\n",
      "[CV] END criterion=poisson, max_depth=12, max_features=log2, n_estimators=3000; total time=   9.3s\n",
      "[CV] END criterion=poisson, max_depth=14, max_features=sqrt, n_estimators=1000; total time=   3.0s\n",
      "[CV] END criterion=poisson, max_depth=14, max_features=sqrt, n_estimators=2000; total time=   6.1s\n",
      "[CV] END criterion=poisson, max_depth=14, max_features=sqrt, n_estimators=3000; total time=  15.9s\n",
      "[CV] END criterion=poisson, max_depth=14, max_features=log2, n_estimators=3000; total time=  10.8s\n",
      "[CV] END criterion=poisson, max_depth=16, max_features=sqrt, n_estimators=2000; total time=   7.4s\n",
      "[CV] END criterion=poisson, max_depth=16, max_features=sqrt, n_estimators=3000; total time=   9.4s\n",
      "[CV] END criterion=poisson, max_depth=16, max_features=log2, n_estimators=1000; total time=   4.6s\n",
      "[CV] END criterion=poisson, max_depth=16, max_features=log2, n_estimators=2000; total time=   9.7s\n",
      "[CV] END criterion=mse, max_depth=12, max_features=sqrt, n_estimators=1000; total time=   6.9s\n",
      "[CV] END criterion=mse, max_depth=12, max_features=sqrt, n_estimators=2000; total time=  12.6s\n",
      "[CV] END criterion=mse, max_depth=12, max_features=log2, n_estimators=1000; total time=   5.8s\n",
      "[CV] END criterion=mse, max_depth=12, max_features=log2, n_estimators=1000; total time=   6.1s\n",
      "[CV] END criterion=mse, max_depth=12, max_features=log2, n_estimators=2000; total time=  11.7s\n",
      "[CV] END criterion=mse, max_depth=12, max_features=log2, n_estimators=3000; total time=  19.4s\n",
      "[CV] END criterion=mse, max_depth=14, max_features=sqrt, n_estimators=2000; total time=  15.2s\n",
      "[CV] END criterion=mse, max_depth=14, max_features=sqrt, n_estimators=3000; total time=  22.8s\n",
      "[CV] END criterion=mse, max_depth=14, max_features=log2, n_estimators=3000; total time=  20.9s\n",
      "[CV] END criterion=mse, max_depth=16, max_features=sqrt, n_estimators=1000; total time=   7.8s\n",
      "[CV] END criterion=mse, max_depth=16, max_features=sqrt, n_estimators=2000; total time=  17.4s\n",
      "[CV] END criterion=mse, max_depth=16, max_features=log2, n_estimators=1000; total time=   7.5s\n",
      "[CV] END criterion=mse, max_depth=16, max_features=log2, n_estimators=1000; total time=   7.4s\n",
      "[CV] END criterion=mse, max_depth=16, max_features=log2, n_estimators=2000; total time=  13.9s\n",
      "[CV] END criterion=mse, max_depth=16, max_features=log2, n_estimators=3000; total time=  21.5s\n",
      "[CV] END criterion=poisson, max_depth=12, max_features=sqrt, n_estimators=2000; total time=  10.3s\n",
      "[CV] END criterion=poisson, max_depth=12, max_features=log2, n_estimators=1000; total time=   3.4s\n",
      "[CV] END criterion=poisson, max_depth=12, max_features=log2, n_estimators=2000; total time=   7.3s\n",
      "[CV] END criterion=poisson, max_depth=12, max_features=log2, n_estimators=3000; total time=  14.1s\n",
      "[CV] END criterion=poisson, max_depth=14, max_features=sqrt, n_estimators=2000; total time=  10.2s\n",
      "[CV] END criterion=poisson, max_depth=14, max_features=log2, n_estimators=1000; total time=   3.9s\n",
      "[CV] END criterion=poisson, max_depth=14, max_features=log2, n_estimators=2000; total time=   6.7s\n",
      "[CV] END criterion=poisson, max_depth=14, max_features=log2, n_estimators=3000; total time=  14.3s\n",
      "[CV] END criterion=poisson, max_depth=16, max_features=sqrt, n_estimators=3000; total time=  11.5s\n",
      "[CV] END criterion=poisson, max_depth=16, max_features=log2, n_estimators=1000; total time=   2.9s\n",
      "[CV] END criterion=poisson, max_depth=16, max_features=log2, n_estimators=2000; total time=   6.2s\n",
      "[CV] END criterion=poisson, max_depth=16, max_features=log2, n_estimators=3000; total time=   8.0s\n",
      "[CV] END criterion=mse, max_depth=12, max_features=sqrt, n_estimators=1000; total time=   6.9s\n",
      "[CV] END criterion=mse, max_depth=12, max_features=sqrt, n_estimators=3000; total time=  19.1s\n",
      "[CV] END criterion=mse, max_depth=12, max_features=log2, n_estimators=1000; total time=   6.2s\n",
      "[CV] END criterion=mse, max_depth=12, max_features=log2, n_estimators=2000; total time=  11.8s\n",
      "[CV] END criterion=mse, max_depth=12, max_features=log2, n_estimators=3000; total time=  19.6s\n",
      "[CV] END criterion=mse, max_depth=14, max_features=sqrt, n_estimators=2000; total time=  15.4s\n",
      "[CV] END criterion=mse, max_depth=14, max_features=log2, n_estimators=1000; total time=   6.8s\n",
      "[CV] END criterion=mse, max_depth=14, max_features=log2, n_estimators=1000; total time=   6.7s\n",
      "[CV] END criterion=mse, max_depth=14, max_features=log2, n_estimators=2000; total time=  13.8s\n",
      "[CV] END criterion=mse, max_depth=14, max_features=log2, n_estimators=3000; total time=  20.3s\n",
      "[CV] END criterion=mse, max_depth=16, max_features=sqrt, n_estimators=2000; total time=  16.7s\n",
      "[CV] END criterion=mse, max_depth=16, max_features=sqrt, n_estimators=3000; total time=  24.8s\n",
      "[CV] END criterion=mse, max_depth=16, max_features=log2, n_estimators=2000; total time=  14.3s\n",
      "[CV] END criterion=poisson, max_depth=12, max_features=sqrt, n_estimators=1000; total time=   3.6s\n",
      "[CV] END criterion=poisson, max_depth=12, max_features=sqrt, n_estimators=1000; total time=   3.0s\n",
      "[CV] END criterion=poisson, max_depth=12, max_features=sqrt, n_estimators=1000; total time=   5.6s\n",
      "[CV] END criterion=poisson, max_depth=12, max_features=sqrt, n_estimators=2000; total time=   6.3s\n",
      "[CV] END criterion=poisson, max_depth=12, max_features=sqrt, n_estimators=3000; total time=  15.6s\n",
      "[CV] END criterion=poisson, max_depth=12, max_features=log2, n_estimators=3000; total time=  10.7s\n",
      "[CV] END criterion=poisson, max_depth=14, max_features=sqrt, n_estimators=1000; total time=   5.1s\n",
      "[CV] END criterion=poisson, max_depth=14, max_features=sqrt, n_estimators=3000; total time=  10.9s\n",
      "[CV] END criterion=poisson, max_depth=14, max_features=log2, n_estimators=1000; total time=   3.4s\n",
      "[CV] END criterion=poisson, max_depth=14, max_features=log2, n_estimators=2000; total time=   5.8s\n",
      "[CV] END criterion=poisson, max_depth=14, max_features=log2, n_estimators=3000; total time=   9.1s\n",
      "[CV] END criterion=poisson, max_depth=16, max_features=sqrt, n_estimators=1000; total time=   3.0s\n",
      "[CV] END criterion=poisson, max_depth=16, max_features=sqrt, n_estimators=2000; total time=   6.0s\n",
      "[CV] END criterion=poisson, max_depth=16, max_features=sqrt, n_estimators=3000; total time=  16.4s\n",
      "[CV] END criterion=poisson, max_depth=16, max_features=log2, n_estimators=3000; total time=   9.3s\n",
      "[CV] END criterion=mse, max_depth=12, max_features=sqrt, n_estimators=2000; total time=  12.9s\n",
      "[CV] END criterion=mse, max_depth=12, max_features=sqrt, n_estimators=3000; total time=  19.9s\n",
      "[CV] END criterion=mse, max_depth=12, max_features=log2, n_estimators=2000; total time=  11.9s\n",
      "[CV] END criterion=mse, max_depth=14, max_features=sqrt, n_estimators=1000; total time=   7.6s\n",
      "[CV] END criterion=mse, max_depth=14, max_features=sqrt, n_estimators=1000; total time=   7.5s\n",
      "[CV] END criterion=mse, max_depth=14, max_features=sqrt, n_estimators=2000; total time=  15.5s\n",
      "[CV] END criterion=mse, max_depth=14, max_features=sqrt, n_estimators=3000; total time=  22.7s\n",
      "[CV] END criterion=mse, max_depth=14, max_features=log2, n_estimators=2000; total time=  13.9s\n",
      "[CV] END criterion=mse, max_depth=16, max_features=sqrt, n_estimators=1000; total time=   8.1s\n",
      "[CV] END criterion=mse, max_depth=16, max_features=sqrt, n_estimators=1000; total time=   7.8s\n",
      "[CV] END criterion=mse, max_depth=16, max_features=sqrt, n_estimators=2000; total time=  17.1s\n",
      "[CV] END criterion=mse, max_depth=16, max_features=sqrt, n_estimators=3000; total time=  24.4s\n",
      "[CV] END criterion=mse, max_depth=16, max_features=log2, n_estimators=3000; total time=  21.0s\n",
      "[CV] END criterion=poisson, max_depth=12, max_features=sqrt, n_estimators=2000; total time=   7.7s\n",
      "[CV] END criterion=poisson, max_depth=12, max_features=sqrt, n_estimators=3000; total time=  11.2s\n",
      "[CV] END criterion=poisson, max_depth=12, max_features=log2, n_estimators=1000; total time=   5.0s\n",
      "[CV] END criterion=poisson, max_depth=12, max_features=log2, n_estimators=2000; total time=   9.0s\n",
      "[CV] END criterion=poisson, max_depth=14, max_features=sqrt, n_estimators=1000; total time=   4.0s\n",
      "[CV] END criterion=poisson, max_depth=14, max_features=sqrt, n_estimators=2000; total time=   7.4s\n",
      "[CV] END criterion=poisson, max_depth=14, max_features=sqrt, n_estimators=3000; total time=   8.9s\n",
      "[CV] END criterion=poisson, max_depth=14, max_features=log2, n_estimators=1000; total time=   5.0s\n",
      "[CV] END criterion=poisson, max_depth=14, max_features=log2, n_estimators=2000; total time=   9.4s\n",
      "[CV] END criterion=poisson, max_depth=16, max_features=sqrt, n_estimators=1000; total time=   3.7s\n",
      "[CV] END criterion=poisson, max_depth=16, max_features=sqrt, n_estimators=1000; total time=   5.1s\n",
      "[CV] END criterion=poisson, max_depth=16, max_features=sqrt, n_estimators=2000; total time=  11.0s\n",
      "[CV] END criterion=poisson, max_depth=16, max_features=log2, n_estimators=1000; total time=   3.4s\n",
      "[CV] END criterion=poisson, max_depth=16, max_features=log2, n_estimators=2000; total time=   7.3s\n",
      "[CV] END criterion=poisson, max_depth=16, max_features=log2, n_estimators=3000; total time=  10.5s\n"
     ]
    }
   ],
   "source": [
    "# Fitting the model into gridsearchCV\n",
    "grid_result= grid_search.fit(x_train, y_train)"
   ]
  },
  {
   "cell_type": "code",
   "execution_count": 134,
   "id": "b39f9b8c",
   "metadata": {},
   "outputs": [
    {
     "name": "stdout",
     "output_type": "stream",
     "text": [
      "Best index:  10\n"
     ]
    }
   ],
   "source": [
    "print('Best index: ', grid_result.best_index_)"
   ]
  },
  {
   "cell_type": "markdown",
   "id": "30e1a4ee",
   "metadata": {},
   "source": [
    "Take a look at the best hyperparameter values"
   ]
  },
  {
   "cell_type": "code",
   "execution_count": 135,
   "id": "e798beb7",
   "metadata": {},
   "outputs": [
    {
     "name": "stdout",
     "output_type": "stream",
     "text": [
      "Best Params:  {'criterion': 'mse', 'max_depth': 14, 'max_features': 'log2', 'n_estimators': 2000}\n"
     ]
    }
   ],
   "source": [
    "print('Best Params: ', grid_result.best_params_)"
   ]
  },
  {
   "cell_type": "markdown",
   "id": "cb2d4f13",
   "metadata": {},
   "source": [
    "This is the highest R2 score"
   ]
  },
  {
   "cell_type": "code",
   "execution_count": 137,
   "id": "0f95ece2",
   "metadata": {},
   "outputs": [
    {
     "name": "stdout",
     "output_type": "stream",
     "text": [
      "Best R2 Score on training data:  0.7671188455260594\n",
      "R2 Score on test data:  0.6865545067984922\n"
     ]
    }
   ],
   "source": [
    "print('Best R2 Score on training data: ', grid_result.best_score_)\n",
    "best = grid_result.best_estimator_\n",
    "print('R2 Score on test data: ', r2_score(y_pred = best.predict(x_test), y_true = y_test))"
   ]
  },
  {
   "cell_type": "markdown",
   "id": "66797363",
   "metadata": {},
   "source": [
    "Random Forest is prone to overfitting. We found parameter values which gave a high R2 score on the training set, but didn't do well on the test set\n",
    "\n",
    "Try again with a different train test split and a wider Grid Search"
   ]
  },
  {
   "cell_type": "code",
   "execution_count": 138,
   "id": "8dffd002",
   "metadata": {},
   "outputs": [
    {
     "name": "stdout",
     "output_type": "stream",
     "text": [
      "Fitting 3 folds for each of 64 candidates, totalling 192 fits\n"
     ]
    }
   ],
   "source": [
    "x_train,x_test,y_train,y_test=train_test_split(X,y,test_size=0.13,random_state=100)\n",
    "#get training and testing data\n",
    "rf_reg = RandomForestRegressor()\n",
    "params = {\n",
    "    'n_estimators' : [500, 1000, 2000, 3000],\n",
    "    'max_depth' : [8, 10, 12, 15],\n",
    "    'criterion' : ['mse', 'poisson'],\n",
    "    'max_features' : ['sqrt', 'log2']\n",
    "   \n",
    "         }\n",
    "#define params \n",
    "\n",
    "grid_search = GridSearchCV(rf_reg, params, scoring ='r2', n_jobs=-1, cv = 3, verbose=1)\n",
    "\n",
    "grid_result = grid_search.fit(x_train, y_train)\n",
    "#fit the params"
   ]
  },
  {
   "cell_type": "code",
   "execution_count": 139,
   "id": "d3ccc813",
   "metadata": {},
   "outputs": [
    {
     "data": {
      "text/plain": [
       "{'criterion': 'mse',\n",
       " 'max_depth': 15,\n",
       " 'max_features': 'log2',\n",
       " 'n_estimators': 3000}"
      ]
     },
     "execution_count": 139,
     "metadata": {},
     "output_type": "execute_result"
    }
   ],
   "source": [
    "grid_search.best_params_\n",
    "#let's see the best parameters as per our grid search"
   ]
  },
  {
   "cell_type": "code",
   "execution_count": 141,
   "id": "e68384f1",
   "metadata": {},
   "outputs": [
    {
     "name": "stdout",
     "output_type": "stream",
     "text": [
      "Best R2 Score on training data:  0.745058234449933\n",
      "R2 Score on test data:  0.7126702120121219\n",
      "Evaluation metrics\n",
      "Test  R2 Score : 0.71\n",
      "Test  mae Score : 0.23\n",
      "Test  mse Score : 0.28\n"
     ]
    }
   ],
   "source": [
    "print('Best R2 Score on training data: ', grid_result.best_score_)\n",
    "best = grid_result.best_estimator_\n",
    "print('R2 Score on test data: ', r2_score(y_pred = best.predict(x_test), y_true = y_test))\n",
    "\n",
    "y_pred = grid_search.predict(x_test)\n",
    "\n",
    "print(\"Evaluation metrics\")\n",
    "#evaluation metric\n",
    "print(\"Test  R2 Score : %.2f\"%r2_score(y_test, y_pred))\n",
    "print(\"Test  mae Score : %.2f\"%mean_absolute_error(y_test, y_pred))\n",
    "print(\"Test  mse Score : %.2f\"%mean_squared_error(y_test, y_pred))"
   ]
  },
  {
   "cell_type": "markdown",
   "id": "6f10d13c",
   "metadata": {},
   "source": [
    "The R2 score has increased, so we try one more Grid Search with more trees and the maximum depth of a tree close to previously found optimal value"
   ]
  },
  {
   "cell_type": "code",
   "execution_count": 142,
   "id": "794d8701",
   "metadata": {},
   "outputs": [
    {
     "name": "stdout",
     "output_type": "stream",
     "text": [
      "Fitting 3 folds for each of 36 candidates, totalling 108 fits\n"
     ]
    }
   ],
   "source": [
    "x_train,x_test,y_train,y_test=train_test_split(X,y,test_size=0.13,random_state=100)\n",
    "#get training and testing data\n",
    "rf_reg = RandomForestRegressor()\n",
    "params = {\n",
    "    'n_estimators' : [3000, 4000, 5000],\n",
    "    'max_depth' : [15, 16, 17],\n",
    "    'criterion' : ['mse', 'poisson'],\n",
    "    'max_features' : ['sqrt', 'log2']\n",
    "   \n",
    "         }\n",
    "#define params \n",
    "\n",
    "grid_search = GridSearchCV(rf_reg, params, scoring ='r2', n_jobs=-1, cv = 3, verbose=1)\n",
    "\n",
    "grid_result = grid_search.fit(x_train, y_train)\n",
    "#fit the params"
   ]
  },
  {
   "cell_type": "code",
   "execution_count": 143,
   "id": "92fb29c6",
   "metadata": {},
   "outputs": [
    {
     "data": {
      "text/plain": [
       "{'criterion': 'mse',\n",
       " 'max_depth': 15,\n",
       " 'max_features': 'log2',\n",
       " 'n_estimators': 4000}"
      ]
     },
     "execution_count": 143,
     "metadata": {},
     "output_type": "execute_result"
    }
   ],
   "source": [
    "grid_search.best_params_\n",
    "#let's see the best parameters as per our grid search"
   ]
  },
  {
   "cell_type": "code",
   "execution_count": 144,
   "id": "b6b44284",
   "metadata": {},
   "outputs": [
    {
     "name": "stdout",
     "output_type": "stream",
     "text": [
      "Best R2 Score on training data:  0.7448484861720335\n",
      "R2 Score on test data:  0.7147654836084232\n",
      "Evaluation metrics\n",
      "Test  R2 Score : 0.71\n",
      "Test  mae Score : 0.23\n",
      "Test  mse Score : 0.28\n"
     ]
    }
   ],
   "source": [
    "print('Best R2 Score on training data: ', grid_result.best_score_)\n",
    "best = grid_result.best_estimator_\n",
    "print('R2 Score on test data: ', r2_score(y_pred = best.predict(x_test), y_true = y_test))\n",
    "\n",
    "y_pred = grid_search.predict(x_test)\n",
    "\n",
    "print(\"Evaluation metrics\")\n",
    "#evaluation metric\n",
    "print(\"Test  R2 Score : %.2f\"%r2_score(y_test, y_pred))\n",
    "print(\"Test  mae Score : %.2f\"%mean_absolute_error(y_test, y_pred))\n",
    "print(\"Test  mse Score : %.2f\"%mean_squared_error(y_test, y_pred))"
   ]
  },
  {
   "cell_type": "markdown",
   "id": "8fd265eb",
   "metadata": {},
   "source": [
    "Conclusion: Random Forest can predict the revenue of a movie with the R2 score 0.715."
   ]
  },
  {
   "cell_type": "code",
   "execution_count": null,
   "id": "0f5befbd",
   "metadata": {},
   "outputs": [],
   "source": []
  }
 ],
 "metadata": {
  "kernelspec": {
   "display_name": "Python 3 (ipykernel)",
   "language": "python",
   "name": "python3"
  },
  "language_info": {
   "codemirror_mode": {
    "name": "ipython",
    "version": 3
   },
   "file_extension": ".py",
   "mimetype": "text/x-python",
   "name": "python",
   "nbconvert_exporter": "python",
   "pygments_lexer": "ipython3",
   "version": "3.9.7"
  }
 },
 "nbformat": 4,
 "nbformat_minor": 5
}
