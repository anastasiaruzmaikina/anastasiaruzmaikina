{
 "cells": [
  {
   "cell_type": "code",
   "execution_count": 1,
   "metadata": {
    "_cell_guid": "b1076dfc-b9ad-4769-8c92-a6c4dae69d19",
    "_uuid": "8f2839f25d086af736a60e9eeb907d3b93b6e0e5",
    "execution": {
     "iopub.execute_input": "2024-09-15T13:11:07.355365Z",
     "iopub.status.busy": "2024-09-15T13:11:07.354000Z",
     "iopub.status.idle": "2024-09-15T13:11:07.445138Z",
     "shell.execute_reply": "2024-09-15T13:11:07.444006Z",
     "shell.execute_reply.started": "2024-09-15T13:11:07.355289Z"
    }
   },
   "outputs": [
    {
     "name": "stdout",
     "output_type": "stream",
     "text": [
      "/kaggle/input/llm-detect-pip/accelerate-0.24.1-py3-none-any.whl\n",
      "/kaggle/input/llm-detect-pip/nvidia_nccl_cu12-2.18.1-py3-none-manylinux1_x86_64.whl\n",
      "/kaggle/input/llm-detect-pip/tqdm-4.66.1-py3-none-any.whl\n",
      "/kaggle/input/llm-detect-pip/huggingface_hub-0.17.3-py3-none-any.whl\n",
      "/kaggle/input/llm-detect-pip/idna-3.4-py3-none-any.whl\n",
      "/kaggle/input/llm-detect-pip/numpy-1.26.1-cp310-cp310-manylinux_2_17_x86_64.manylinux2014_x86_64.whl\n",
      "/kaggle/input/llm-detect-pip/transformers-4.34.1-py3-none-any.whl\n",
      "/kaggle/input/llm-detect-pip/peft-0.5.0-py3-none-any.whl\n",
      "/kaggle/input/llm-detect-pip/psutil-5.9.6-cp36-abi3-manylinux_2_12_x86_64.manylinux2010_x86_64.manylinux_2_17_x86_64.manylinux2014_x86_64.whl\n",
      "/kaggle/input/llm-detect-pip/Jinja2-3.1.2-py3-none-any.whl\n",
      "/kaggle/input/llm-detect-pip/tokenizers-0.14.1-cp310-cp310-manylinux_2_17_x86_64.manylinux2014_x86_64.whl\n",
      "/kaggle/input/llm-detect-pip/regex-2023.10.3-cp310-cp310-manylinux_2_17_x86_64.manylinux2014_x86_64.whl\n",
      "/kaggle/input/llm-detect-pip/nvidia_cudnn_cu12-8.9.2.26-py3-none-manylinux1_x86_64.whl\n",
      "/kaggle/input/llm-detect-pip/torch-2.1.0-cp310-cp310-manylinux1_x86_64.whl\n",
      "/kaggle/input/llm-detect-pip/requests-2.31.0-py3-none-any.whl\n",
      "/kaggle/input/llm-detect-pip/urllib3-2.0.7-py3-none-any.whl\n",
      "/kaggle/input/llm-detect-pip/nvidia_cuda_cupti_cu12-12.1.105-py3-none-manylinux1_x86_64.whl\n",
      "/kaggle/input/llm-detect-pip/nvidia_nvtx_cu12-12.1.105-py3-none-manylinux1_x86_64.whl\n",
      "/kaggle/input/llm-detect-pip/fsspec-2023.10.0-py3-none-any.whl\n",
      "/kaggle/input/llm-detect-pip/typing_extensions-4.8.0-py3-none-any.whl\n",
      "/kaggle/input/llm-detect-pip/__results__.html\n",
      "/kaggle/input/llm-detect-pip/nvidia_cuda_runtime_cu12-12.1.105-py3-none-manylinux1_x86_64.whl\n",
      "/kaggle/input/llm-detect-pip/mpmath-1.3.0-py3-none-any.whl\n",
      "/kaggle/input/llm-detect-pip/packaging-23.2-py3-none-any.whl\n",
      "/kaggle/input/llm-detect-pip/networkx-3.2.1-py3-none-any.whl\n",
      "/kaggle/input/llm-detect-pip/PyYAML-6.0.1-cp310-cp310-manylinux_2_17_x86_64.manylinux2014_x86_64.whl\n",
      "/kaggle/input/llm-detect-pip/nvidia_nvjitlink_cu12-12.3.52-py3-none-manylinux1_x86_64.whl\n",
      "/kaggle/input/llm-detect-pip/triton-2.1.0-0-cp310-cp310-manylinux2014_x86_64.manylinux_2_17_x86_64.whl\n",
      "/kaggle/input/llm-detect-pip/nvidia_cublas_cu12-12.1.3.1-py3-none-manylinux1_x86_64.whl\n",
      "/kaggle/input/llm-detect-pip/__notebook__.ipynb\n",
      "/kaggle/input/llm-detect-pip/nvidia_curand_cu12-10.3.2.106-py3-none-manylinux1_x86_64.whl\n",
      "/kaggle/input/llm-detect-pip/nvidia_cusolver_cu12-11.4.5.107-py3-none-manylinux1_x86_64.whl\n",
      "/kaggle/input/llm-detect-pip/nvidia_cusparse_cu12-12.1.0.106-py3-none-manylinux1_x86_64.whl\n",
      "/kaggle/input/llm-detect-pip/safetensors-0.4.0-cp310-cp310-manylinux_2_17_x86_64.manylinux2014_x86_64.whl\n",
      "/kaggle/input/llm-detect-pip/__output__.json\n",
      "/kaggle/input/llm-detect-pip/charset_normalizer-3.3.2-cp310-cp310-manylinux_2_17_x86_64.manylinux2014_x86_64.whl\n",
      "/kaggle/input/llm-detect-pip/huggingface_hub-0.18.0-py3-none-any.whl\n",
      "/kaggle/input/llm-detect-pip/nvidia_cuda_nvrtc_cu12-12.1.105-py3-none-manylinux1_x86_64.whl\n",
      "/kaggle/input/llm-detect-pip/bitsandbytes-0.41.1-py3-none-any.whl\n",
      "/kaggle/input/llm-detect-pip/sympy-1.12-py3-none-any.whl\n",
      "/kaggle/input/llm-detect-pip/MarkupSafe-2.1.3-cp310-cp310-manylinux_2_17_x86_64.manylinux2014_x86_64.whl\n",
      "/kaggle/input/llm-detect-pip/certifi-2023.7.22-py3-none-any.whl\n",
      "/kaggle/input/llm-detect-pip/nvidia_cufft_cu12-11.0.2.54-py3-none-manylinux1_x86_64.whl\n",
      "/kaggle/input/llm-detect-pip/filelock-3.13.1-py3-none-any.whl\n",
      "/kaggle/input/llm-detect-pip/custom.css\n",
      "/kaggle/input/d/jefersonpazze/llama2-7b-hf/config.json\n",
      "/kaggle/input/d/jefersonpazze/llama2-7b-hf/Responsible-Use-Guide.pdf\n",
      "/kaggle/input/d/jefersonpazze/llama2-7b-hf/pytorch_model-00002-of-00002.bin\n",
      "/kaggle/input/d/jefersonpazze/llama2-7b-hf/USE_POLICY.md\n",
      "/kaggle/input/d/jefersonpazze/llama2-7b-hf/tokenizer.json\n",
      "/kaggle/input/d/jefersonpazze/llama2-7b-hf/tokenizer_config.json\n",
      "/kaggle/input/d/jefersonpazze/llama2-7b-hf/pytorch_model.bin.index.json\n",
      "/kaggle/input/d/jefersonpazze/llama2-7b-hf/LICENSE.txt\n",
      "/kaggle/input/d/jefersonpazze/llama2-7b-hf/pytorch_model-00001-of-00002.bin\n",
      "/kaggle/input/d/jefersonpazze/llama2-7b-hf/special_tokens_map.json\n",
      "/kaggle/input/d/jefersonpazze/llama2-7b-hf/gitattributes.txt\n",
      "/kaggle/input/d/jefersonpazze/llama2-7b-hf/tokenizer.model\n",
      "/kaggle/input/d/jefersonpazze/llama2-7b-hf/generation_config.json\n",
      "/kaggle/input/daigt-pip/peft-0.6.0-py3-none-any.whl\n",
      "/kaggle/input/daigt-pip/optimum-1.14.0-py3-none-any.whl\n",
      "/kaggle/input/daigt-pip/tokenizers-0.14.1-cp310-cp310-manylinux_2_17_x86_64.manylinux2014_x86_64.whl\n",
      "/kaggle/input/daigt-pip/transformers-4.35.0-py3-none-any.whl\n",
      "/kaggle/input/huggingface-hub-permissible-models-and-datasets/top_300_permissible_models.csv\n",
      "/kaggle/input/huggingface-hub-permissible-models-and-datasets/all_datasets.csv\n",
      "/kaggle/input/huggingface-hub-permissible-models-and-datasets/all_models.csv\n",
      "/kaggle/input/huggingface-hub-permissible-models-and-datasets/all_spaces.csv\n",
      "/kaggle/input/llama2-7b-hf/Llama2-7b-hf/config.json\n",
      "/kaggle/input/llama2-7b-hf/Llama2-7b-hf/pytorch_model-00002-of-00002.bin\n",
      "/kaggle/input/llama2-7b-hf/Llama2-7b-hf/tokenizer.json\n",
      "/kaggle/input/llama2-7b-hf/Llama2-7b-hf/tokenizer_config.json\n",
      "/kaggle/input/llama2-7b-hf/Llama2-7b-hf/pytorch_model.bin.index.json\n",
      "/kaggle/input/llama2-7b-hf/Llama2-7b-hf/pytorch_model-00001-of-00002.bin\n",
      "/kaggle/input/llama2-7b-hf/Llama2-7b-hf/special_tokens_map.json\n",
      "/kaggle/input/llama2-7b-hf/Llama2-7b-hf/tokenizer.model\n",
      "/kaggle/input/llama2-7b-hf/Llama2-7b-hf/generation_config.json\n",
      "/kaggle/input/bitsandbytes-0-43-1/bitsandbytes-0.43.1-py3-none-manylinux_2_24_x86_64.whl\n",
      "/kaggle/input/us-patent-phrase-to-phrase-matching/sample_submission.csv\n",
      "/kaggle/input/us-patent-phrase-to-phrase-matching/train.csv\n",
      "/kaggle/input/us-patent-phrase-to-phrase-matching/test.csv\n",
      "/kaggle/input/accelerate-and-bitsandbytes/accelerate-0.29.3-py3-none-any.whl\n",
      "/kaggle/input/accelerate-and-bitsandbytes/bitsandbytes-0.43.1-py3-none-manylinux_2_24_x86_64.whl\n",
      "/kaggle/input/bitsandbytes-0-42-0/bitsandbytes-0.42.0-py3-none-any.whl\n"
     ]
    }
   ],
   "source": [
    "# This notebook is by Anastasia Ruzmaikina. It uses Llama-2-7b in Kaggle Competition US Patent Phrase to Phrase Matching"
   ]
  },
  {
   "cell_type": "markdown",
   "metadata": {},
   "source": []
  },
  {
   "cell_type": "markdown",
   "metadata": {},
   "source": [
    "Can you extract meaning from a large, text-based dataset derived from inventions? Here's your chance to do so.\n",
    "\n",
    "The U.S. Patent and Trademark Office (USPTO) offers one of the largest repositories of scientific, technical, and commercial information in the world through its Open Data Portal. Patents are a form of intellectual property granted in exchange for the public disclosure of new and useful inventions. Because patents undergo an intensive vetting process prior to grant, and because the history of U.S. innovation spans over two centuries and 11 million patents, the U.S. patent archives stand as a rare combination of data volume, quality, and diversity.\n",
    "\n",
    "In this competition, you will train your models on a novel semantic similarity dataset to extract relevant information by matching key phrases in patent documents. Determining the semantic similarity between phrases is critically important during the patent search and examination process to determine if an invention has been described before. For example, if one invention claims \"television set\" and a prior publication describes \"TV set\", a model would ideally recognize these are the same and assist a patent attorney or examiner in retrieving relevant documents. This extends beyond paraphrase identification; if one invention claims a \"strong material\" and another uses \"steel\", that may also be a match. What counts as a \"strong material\" varies per domain (it may be steel in one domain and ripstop fabric in another, but you wouldn't want your parachute made of steel). We have included the Cooperative Patent Classification as the technical domain context as an additional feature to help you disambiguate these situations.\n",
    "\n",
    "Can you build a model to match phrases in order to extract contextual information, thereby helping the patent community connect the dots between millions of patent documents?\n",
    "\n"
   ]
  },
  {
   "cell_type": "markdown",
   "metadata": {},
   "source": [
    "In this notebook I use Llama-2-7b to classify key phrases appearing in patents by similarity to known phrases. The classifier outputs the similarity scores 0, 0.25, 0.5, 0.75, 1."
   ]
  },
  {
   "cell_type": "code",
   "execution_count": null,
   "metadata": {},
   "outputs": [],
   "source": [
    "import numpy as np # linear algebra\n",
    "import pandas as pd # data processing, CSV file I/O (e.g. pd.read_csv)\n",
    "\n",
    "# Input data files are available in the read-only \"../input/\" directory\n",
    "# For example, running this (by clicking run or pressing Shift+Enter) will list all files under the input directory\n",
    "\n",
    "import os\n",
    "for dirname, _, filenames in os.walk('/kaggle/input'):\n",
    "    for filename in filenames:\n",
    "        print(os.path.join(dirname, filename))\n"
   ]
  },
  {
   "cell_type": "code",
   "execution_count": 2,
   "metadata": {
    "execution": {
     "iopub.execute_input": "2024-09-15T13:11:07.447715Z",
     "iopub.status.busy": "2024-09-15T13:11:07.447122Z",
     "iopub.status.idle": "2024-09-15T13:13:36.721960Z",
     "shell.execute_reply": "2024-09-15T13:13:36.720710Z",
     "shell.execute_reply.started": "2024-09-15T13:11:07.447676Z"
    }
   },
   "outputs": [],
   "source": [
    "# Install package for inferences\n",
    "!pip install -qq --no-deps /kaggle/input/daigt-pip/peft-0.6.0-py3-none-any.whl --use-deprecated=legacy-resolver\n",
    "!pip install -qq --no-deps /kaggle/input/daigt-pip/transformers-4.35.0-py3-none-any.whl --use-deprecated=legacy-resolver\n",
    "!pip install -qq --no-deps /kaggle/input/daigt-pip/tokenizers-0.14.1-cp310-cp310-manylinux_2_17_x86_64.manylinux2014_x86_64.whl --use-deprecated=legacy-resolver\n",
    "!pip install -qq --no-deps /kaggle/input/accelerate-and-bitsandbytes/accelerate-0.29.3-py3-none-any.whl --use-deprecated=legacy-resolver\n",
    "!pip install -qq --no-deps /kaggle/input/accelerate-and-bitsandbytes/bitsandbytes-0.43.1-py3-none-manylinux_2_24_x86_64.whl --use-deprecated=legacy-resolver\n",
    "!pip install -qq --no-deps /kaggle/input/daigt-pip/optimum-1.14.0-py3-none-any.whl --use-deprecated=legacy-resolver\n",
    "#!pip install -qq --no-deps /kaggle/input/llm-detect-pip/accelerate-0.24.1-py3-none-any.whl\n",
    "#!pip install -qq --no-deps /kaggle/input/llm-detect-pip/bitsandbytes-0.41.1-py3-none-any.whl\n",
    "#!os.register_at_fork()"
   ]
  },
  {
   "cell_type": "code",
   "execution_count": 3,
   "metadata": {
    "execution": {
     "iopub.execute_input": "2024-09-15T13:13:36.723970Z",
     "iopub.status.busy": "2024-09-15T13:13:36.723625Z",
     "iopub.status.idle": "2024-09-15T13:13:36.732982Z",
     "shell.execute_reply": "2024-09-15T13:13:36.732071Z",
     "shell.execute_reply.started": "2024-09-15T13:13:36.723932Z"
    }
   },
   "outputs": [],
   "source": [
    "from __future__ import annotations\n",
    "\n",
    "TARGET_MODEL = '/kaggle/input/llama2-7b-hf/Llama2-7b-hf'#\"mistralai/Mistral-7B-v0.1\"\n",
    "\n",
    "DEBUG = False\n",
    "from pathlib import Path\n",
    "\n",
    "OUTPUT_DIR = Path(\"./\")\n",
    "OUTPUT_DIR.mkdir(exist_ok=True, parents=True)\n",
    "\n",
    "INPUT_DIR = Path(\"../input/\")\n"
   ]
  },
  {
   "cell_type": "code",
   "execution_count": 4,
   "metadata": {
    "execution": {
     "iopub.execute_input": "2024-09-15T13:13:36.736918Z",
     "iopub.status.busy": "2024-09-15T13:13:36.736170Z",
     "iopub.status.idle": "2024-09-15T13:14:43.395318Z",
     "shell.execute_reply": "2024-09-15T13:14:43.393891Z",
     "shell.execute_reply.started": "2024-09-15T13:13:36.736873Z"
    }
   },
   "outputs": [
    {
     "name": "stdout",
     "output_type": "stream",
     "text": [
      "\u001b[31mERROR: Directory '/kaggle/input/bitsandbytes-0-42-0' is not installable. Neither 'setup.py' nor 'pyproject.toml' found.\u001b[0m\u001b[31m\n",
      "\u001b[0m"
     ]
    }
   ],
   "source": [
    "#!pip install -q -U peft --no-index --find-links ../input/llm-detect-pip/ --use-deprecated=legacy-resolver\n",
    "#!pip install -q -U accelerate --no-index --find-links ../input/llm-detect-pip/ --use-deprecated=legacy-resolver\n",
    "#!pip install -q -U bitsandbytes --no-index --find-links ../input/llm-detect-pip/ --use-deprecated=legacy-resolver\n",
    "#!pip install -q -U transformers --no-index --find-links ../input/llm-detect-pip/ --use-deprecated=legacy-resolver\n",
    "# Install package for inferences\n",
    "#!pip install -qq --no-deps /kaggle/input/hf-libraries/bitsandbytes --use-deprecated=legacy-resolver\n",
    "!pip install -qq --no-deps /kaggle/input/daigt-pip/peft-0.6.0-py3-none-any.whl --use-deprecated=legacy-resolver\n",
    "#!pip install -qq --no-deps /kaggle/input/daigt-pip/transformers-4.35.0-py3-none-any.whl \n",
    "#!pip install -qq --no-deps /kaggle/input/daigt-pip/tokenizers-0.14.1-cp310-cp310-manylinux_2_17_x86_64.manylinux2014_x86_64.whl\n",
    "!pip install -qq --no-deps /kaggle/input/daigt-pip/optimum-1.14.0-py3-none-any.whl --use-deprecated=legacy-resolver\n",
    "#!pip install -qq --no-deps /kaggle/input/llm-detect-pip/accelerate-0.24.1-py3-none-any.whl\n",
    "#!pip install -qq --no-deps /kaggle/input/llm-detect-pip/bitsandbytes-0.41.1-py3-none-any.whl --use-deprecated=legacy-resolver\n",
    "!pip install -qq --no-deps /kaggle/input/bitsandbytes-0-42-0 --use-deprecated=legacy-resolver"
   ]
  },
  {
   "cell_type": "code",
   "execution_count": 5,
   "metadata": {
    "execution": {
     "iopub.execute_input": "2024-09-15T13:14:43.397647Z",
     "iopub.status.busy": "2024-09-15T13:14:43.397146Z",
     "iopub.status.idle": "2024-09-15T13:14:43.587970Z",
     "shell.execute_reply": "2024-09-15T13:14:43.586966Z",
     "shell.execute_reply.started": "2024-09-15T13:14:43.397591Z"
    }
   },
   "outputs": [
    {
     "data": {
      "text/html": [
       "<div>\n",
       "<style scoped>\n",
       "    .dataframe tbody tr th:only-of-type {\n",
       "        vertical-align: middle;\n",
       "    }\n",
       "\n",
       "    .dataframe tbody tr th {\n",
       "        vertical-align: top;\n",
       "    }\n",
       "\n",
       "    .dataframe thead th {\n",
       "        text-align: right;\n",
       "    }\n",
       "</style>\n",
       "<table border=\"1\" class=\"dataframe\">\n",
       "  <thead>\n",
       "    <tr style=\"text-align: right;\">\n",
       "      <th></th>\n",
       "      <th>index</th>\n",
       "      <th>id</th>\n",
       "      <th>input</th>\n",
       "      <th>anchor</th>\n",
       "      <th>target</th>\n",
       "      <th>context</th>\n",
       "      <th>score</th>\n",
       "    </tr>\n",
       "  </thead>\n",
       "  <tbody>\n",
       "    <tr>\n",
       "      <th>0</th>\n",
       "      <td>32208</td>\n",
       "      <td>0705f31eb52c7078</td>\n",
       "      <td>ANCHOR: substituted carboxylic; TARGET:carboxy...</td>\n",
       "      <td>substituted carboxylic</td>\n",
       "      <td>carboxylic</td>\n",
       "      <td>C07</td>\n",
       "      <td>1</td>\n",
       "    </tr>\n",
       "    <tr>\n",
       "      <th>1</th>\n",
       "      <td>27009</td>\n",
       "      <td>977b3577123f1e9d</td>\n",
       "      <td>ANCHOR: receive via surface; TARGET:collect vi...</td>\n",
       "      <td>receive via surface</td>\n",
       "      <td>collect via flat surface</td>\n",
       "      <td>H01</td>\n",
       "      <td>2</td>\n",
       "    </tr>\n",
       "    <tr>\n",
       "      <th>2</th>\n",
       "      <td>9141</td>\n",
       "      <td>0b09a1a184809195</td>\n",
       "      <td>ANCHOR: digital multimeters; TARGET:current ra...</td>\n",
       "      <td>digital multimeters</td>\n",
       "      <td>current rating</td>\n",
       "      <td>G01</td>\n",
       "      <td>1</td>\n",
       "    </tr>\n",
       "    <tr>\n",
       "      <th>3</th>\n",
       "      <td>10799</td>\n",
       "      <td>6711d24b2951bac4</td>\n",
       "      <td>ANCHOR: elastic repulsive; TARGET:electric;</td>\n",
       "      <td>elastic repulsive</td>\n",
       "      <td>electric</td>\n",
       "      <td>H01</td>\n",
       "      <td>1</td>\n",
       "    </tr>\n",
       "    <tr>\n",
       "      <th>4</th>\n",
       "      <td>1605</td>\n",
       "      <td>9386540710690f91</td>\n",
       "      <td>ANCHOR: annular neck; TARGET:extending tubular...</td>\n",
       "      <td>annular neck</td>\n",
       "      <td>extending tubular projection</td>\n",
       "      <td>G04</td>\n",
       "      <td>2</td>\n",
       "    </tr>\n",
       "    <tr>\n",
       "      <th>...</th>\n",
       "      <td>...</td>\n",
       "      <td>...</td>\n",
       "      <td>...</td>\n",
       "      <td>...</td>\n",
       "      <td>...</td>\n",
       "      <td>...</td>\n",
       "      <td>...</td>\n",
       "    </tr>\n",
       "    <tr>\n",
       "      <th>3642</th>\n",
       "      <td>9</td>\n",
       "      <td>ef2d4c2e6bbb208d</td>\n",
       "      <td>ANCHOR: abatement; TARGET:mixing core materials;</td>\n",
       "      <td>abatement</td>\n",
       "      <td>mixing core materials</td>\n",
       "      <td>A47</td>\n",
       "      <td>1</td>\n",
       "    </tr>\n",
       "    <tr>\n",
       "      <th>3643</th>\n",
       "      <td>21400</td>\n",
       "      <td>d3be99c5f327c803</td>\n",
       "      <td>ANCHOR: nvm array; TARGET:substrate layer;</td>\n",
       "      <td>nvm array</td>\n",
       "      <td>substrate layer</td>\n",
       "      <td>H01</td>\n",
       "      <td>1</td>\n",
       "    </tr>\n",
       "    <tr>\n",
       "      <th>3644</th>\n",
       "      <td>22927</td>\n",
       "      <td>abdfa7fd9b2ce0a4</td>\n",
       "      <td>ANCHOR: overflow device; TARGET:overflow mecha...</td>\n",
       "      <td>overflow device</td>\n",
       "      <td>overflow mechanism</td>\n",
       "      <td>E04</td>\n",
       "      <td>2</td>\n",
       "    </tr>\n",
       "    <tr>\n",
       "      <th>3645</th>\n",
       "      <td>2637</td>\n",
       "      <td>30eaf9b720c735ba</td>\n",
       "      <td>ANCHOR: axial extension; TARGET:eyelash extens...</td>\n",
       "      <td>axial extension</td>\n",
       "      <td>eyelash extension</td>\n",
       "      <td>A61</td>\n",
       "      <td>0</td>\n",
       "    </tr>\n",
       "    <tr>\n",
       "      <th>3646</th>\n",
       "      <td>11573</td>\n",
       "      <td>a77bd9b37edfb808</td>\n",
       "      <td>ANCHOR: energy storage spring; TARGET:driving ...</td>\n",
       "      <td>energy storage spring</td>\n",
       "      <td>driving mechanism</td>\n",
       "      <td>H01</td>\n",
       "      <td>1</td>\n",
       "    </tr>\n",
       "  </tbody>\n",
       "</table>\n",
       "<p>3647 rows × 7 columns</p>\n",
       "</div>"
      ],
      "text/plain": [
       "      index                id  \\\n",
       "0     32208  0705f31eb52c7078   \n",
       "1     27009  977b3577123f1e9d   \n",
       "2      9141  0b09a1a184809195   \n",
       "3     10799  6711d24b2951bac4   \n",
       "4      1605  9386540710690f91   \n",
       "...     ...               ...   \n",
       "3642      9  ef2d4c2e6bbb208d   \n",
       "3643  21400  d3be99c5f327c803   \n",
       "3644  22927  abdfa7fd9b2ce0a4   \n",
       "3645   2637  30eaf9b720c735ba   \n",
       "3646  11573  a77bd9b37edfb808   \n",
       "\n",
       "                                                  input  \\\n",
       "0     ANCHOR: substituted carboxylic; TARGET:carboxy...   \n",
       "1     ANCHOR: receive via surface; TARGET:collect vi...   \n",
       "2     ANCHOR: digital multimeters; TARGET:current ra...   \n",
       "3           ANCHOR: elastic repulsive; TARGET:electric;   \n",
       "4     ANCHOR: annular neck; TARGET:extending tubular...   \n",
       "...                                                 ...   \n",
       "3642   ANCHOR: abatement; TARGET:mixing core materials;   \n",
       "3643         ANCHOR: nvm array; TARGET:substrate layer;   \n",
       "3644  ANCHOR: overflow device; TARGET:overflow mecha...   \n",
       "3645  ANCHOR: axial extension; TARGET:eyelash extens...   \n",
       "3646  ANCHOR: energy storage spring; TARGET:driving ...   \n",
       "\n",
       "                      anchor                        target context  score  \n",
       "0     substituted carboxylic                    carboxylic     C07      1  \n",
       "1        receive via surface      collect via flat surface     H01      2  \n",
       "2        digital multimeters                current rating     G01      1  \n",
       "3          elastic repulsive                      electric     H01      1  \n",
       "4               annular neck  extending tubular projection     G04      2  \n",
       "...                      ...                           ...     ...    ...  \n",
       "3642               abatement         mixing core materials     A47      1  \n",
       "3643               nvm array               substrate layer     H01      1  \n",
       "3644         overflow device            overflow mechanism     E04      2  \n",
       "3645         axial extension             eyelash extension     A61      0  \n",
       "3646   energy storage spring             driving mechanism     H01      1  \n",
       "\n",
       "[3647 rows x 7 columns]"
      ]
     },
     "execution_count": 5,
     "metadata": {},
     "output_type": "execute_result"
    }
   ],
   "source": [
    "import pandas as pd\n",
    "train_df = pd.read_csv('/kaggle/input/us-patent-phrase-to-phrase-matching/train.csv')#(INPUT_DIR / \"\", sep=',')\n",
    "train_df.score = train_df['score'] * 4\n",
    "train_df.score = train_df['score'].round().astype(int)\n",
    "train_df['input'] = 'ANCHOR: ' + train_df.anchor + '; TARGET:' + train_df.target + ';'\n",
    "train_df.insert(1, 'input', train_df.pop('input'))\n",
    "train_df = train_df.sample(frac=1)\n",
    "train_df = train_df.reset_index()\n",
    "\n",
    "test_df = pd.read_csv('/kaggle/input/us-patent-phrase-to-phrase-matching/test.csv')  #(INPUT_DIR / \"\", sep=',')\n",
    "test_df['input'] = 'ANCHOR: ' + test_df.anchor + '; TARGET:' + test_df.target + ';'\n",
    "test_df.insert(1, 'input', test_df.pop('input'))\n",
    "\n",
    "train_df"
   ]
  },
  {
   "cell_type": "code",
   "execution_count": 6,
   "metadata": {
    "execution": {
     "iopub.execute_input": "2024-09-15T13:14:43.589580Z",
     "iopub.status.busy": "2024-09-15T13:14:43.589235Z",
     "iopub.status.idle": "2024-09-15T13:14:43.609073Z",
     "shell.execute_reply": "2024-09-15T13:14:43.608091Z",
     "shell.execute_reply.started": "2024-09-15T13:14:43.589544Z"
    }
   },
   "outputs": [
    {
     "data": {
      "text/html": [
       "<div>\n",
       "<style scoped>\n",
       "    .dataframe tbody tr th:only-of-type {\n",
       "        vertical-align: middle;\n",
       "    }\n",
       "\n",
       "    .dataframe tbody tr th {\n",
       "        vertical-align: top;\n",
       "    }\n",
       "\n",
       "    .dataframe thead th {\n",
       "        text-align: right;\n",
       "    }\n",
       "</style>\n",
       "<table border=\"1\" class=\"dataframe\">\n",
       "  <thead>\n",
       "    <tr style=\"text-align: right;\">\n",
       "      <th></th>\n",
       "      <th>index</th>\n",
       "      <th>id</th>\n",
       "      <th>input</th>\n",
       "      <th>anchor</th>\n",
       "      <th>target</th>\n",
       "      <th>context</th>\n",
       "      <th>label</th>\n",
       "    </tr>\n",
       "  </thead>\n",
       "  <tbody>\n",
       "    <tr>\n",
       "      <th>0</th>\n",
       "      <td>32208</td>\n",
       "      <td>0705f31eb52c7078</td>\n",
       "      <td>ANCHOR: substituted carboxylic; TARGET:carboxy...</td>\n",
       "      <td>substituted carboxylic</td>\n",
       "      <td>carboxylic</td>\n",
       "      <td>C07</td>\n",
       "      <td>1</td>\n",
       "    </tr>\n",
       "    <tr>\n",
       "      <th>1</th>\n",
       "      <td>27009</td>\n",
       "      <td>977b3577123f1e9d</td>\n",
       "      <td>ANCHOR: receive via surface; TARGET:collect vi...</td>\n",
       "      <td>receive via surface</td>\n",
       "      <td>collect via flat surface</td>\n",
       "      <td>H01</td>\n",
       "      <td>2</td>\n",
       "    </tr>\n",
       "    <tr>\n",
       "      <th>2</th>\n",
       "      <td>9141</td>\n",
       "      <td>0b09a1a184809195</td>\n",
       "      <td>ANCHOR: digital multimeters; TARGET:current ra...</td>\n",
       "      <td>digital multimeters</td>\n",
       "      <td>current rating</td>\n",
       "      <td>G01</td>\n",
       "      <td>1</td>\n",
       "    </tr>\n",
       "    <tr>\n",
       "      <th>3</th>\n",
       "      <td>10799</td>\n",
       "      <td>6711d24b2951bac4</td>\n",
       "      <td>ANCHOR: elastic repulsive; TARGET:electric;</td>\n",
       "      <td>elastic repulsive</td>\n",
       "      <td>electric</td>\n",
       "      <td>H01</td>\n",
       "      <td>1</td>\n",
       "    </tr>\n",
       "    <tr>\n",
       "      <th>4</th>\n",
       "      <td>1605</td>\n",
       "      <td>9386540710690f91</td>\n",
       "      <td>ANCHOR: annular neck; TARGET:extending tubular...</td>\n",
       "      <td>annular neck</td>\n",
       "      <td>extending tubular projection</td>\n",
       "      <td>G04</td>\n",
       "      <td>2</td>\n",
       "    </tr>\n",
       "    <tr>\n",
       "      <th>...</th>\n",
       "      <td>...</td>\n",
       "      <td>...</td>\n",
       "      <td>...</td>\n",
       "      <td>...</td>\n",
       "      <td>...</td>\n",
       "      <td>...</td>\n",
       "      <td>...</td>\n",
       "    </tr>\n",
       "    <tr>\n",
       "      <th>3642</th>\n",
       "      <td>9</td>\n",
       "      <td>ef2d4c2e6bbb208d</td>\n",
       "      <td>ANCHOR: abatement; TARGET:mixing core materials;</td>\n",
       "      <td>abatement</td>\n",
       "      <td>mixing core materials</td>\n",
       "      <td>A47</td>\n",
       "      <td>1</td>\n",
       "    </tr>\n",
       "    <tr>\n",
       "      <th>3643</th>\n",
       "      <td>21400</td>\n",
       "      <td>d3be99c5f327c803</td>\n",
       "      <td>ANCHOR: nvm array; TARGET:substrate layer;</td>\n",
       "      <td>nvm array</td>\n",
       "      <td>substrate layer</td>\n",
       "      <td>H01</td>\n",
       "      <td>1</td>\n",
       "    </tr>\n",
       "    <tr>\n",
       "      <th>3644</th>\n",
       "      <td>22927</td>\n",
       "      <td>abdfa7fd9b2ce0a4</td>\n",
       "      <td>ANCHOR: overflow device; TARGET:overflow mecha...</td>\n",
       "      <td>overflow device</td>\n",
       "      <td>overflow mechanism</td>\n",
       "      <td>E04</td>\n",
       "      <td>2</td>\n",
       "    </tr>\n",
       "    <tr>\n",
       "      <th>3645</th>\n",
       "      <td>2637</td>\n",
       "      <td>30eaf9b720c735ba</td>\n",
       "      <td>ANCHOR: axial extension; TARGET:eyelash extens...</td>\n",
       "      <td>axial extension</td>\n",
       "      <td>eyelash extension</td>\n",
       "      <td>A61</td>\n",
       "      <td>0</td>\n",
       "    </tr>\n",
       "    <tr>\n",
       "      <th>3646</th>\n",
       "      <td>11573</td>\n",
       "      <td>a77bd9b37edfb808</td>\n",
       "      <td>ANCHOR: energy storage spring; TARGET:driving ...</td>\n",
       "      <td>energy storage spring</td>\n",
       "      <td>driving mechanism</td>\n",
       "      <td>H01</td>\n",
       "      <td>1</td>\n",
       "    </tr>\n",
       "  </tbody>\n",
       "</table>\n",
       "<p>3647 rows × 7 columns</p>\n",
       "</div>"
      ],
      "text/plain": [
       "      index                id  \\\n",
       "0     32208  0705f31eb52c7078   \n",
       "1     27009  977b3577123f1e9d   \n",
       "2      9141  0b09a1a184809195   \n",
       "3     10799  6711d24b2951bac4   \n",
       "4      1605  9386540710690f91   \n",
       "...     ...               ...   \n",
       "3642      9  ef2d4c2e6bbb208d   \n",
       "3643  21400  d3be99c5f327c803   \n",
       "3644  22927  abdfa7fd9b2ce0a4   \n",
       "3645   2637  30eaf9b720c735ba   \n",
       "3646  11573  a77bd9b37edfb808   \n",
       "\n",
       "                                                  input  \\\n",
       "0     ANCHOR: substituted carboxylic; TARGET:carboxy...   \n",
       "1     ANCHOR: receive via surface; TARGET:collect vi...   \n",
       "2     ANCHOR: digital multimeters; TARGET:current ra...   \n",
       "3           ANCHOR: elastic repulsive; TARGET:electric;   \n",
       "4     ANCHOR: annular neck; TARGET:extending tubular...   \n",
       "...                                                 ...   \n",
       "3642   ANCHOR: abatement; TARGET:mixing core materials;   \n",
       "3643         ANCHOR: nvm array; TARGET:substrate layer;   \n",
       "3644  ANCHOR: overflow device; TARGET:overflow mecha...   \n",
       "3645  ANCHOR: axial extension; TARGET:eyelash extens...   \n",
       "3646  ANCHOR: energy storage spring; TARGET:driving ...   \n",
       "\n",
       "                      anchor                        target context  label  \n",
       "0     substituted carboxylic                    carboxylic     C07      1  \n",
       "1        receive via surface      collect via flat surface     H01      2  \n",
       "2        digital multimeters                current rating     G01      1  \n",
       "3          elastic repulsive                      electric     H01      1  \n",
       "4               annular neck  extending tubular projection     G04      2  \n",
       "...                      ...                           ...     ...    ...  \n",
       "3642               abatement         mixing core materials     A47      1  \n",
       "3643               nvm array               substrate layer     H01      1  \n",
       "3644         overflow device            overflow mechanism     E04      2  \n",
       "3645         axial extension             eyelash extension     A61      0  \n",
       "3646   energy storage spring             driving mechanism     H01      1  \n",
       "\n",
       "[3647 rows x 7 columns]"
      ]
     },
     "execution_count": 6,
     "metadata": {},
     "output_type": "execute_result"
    }
   ],
   "source": [
    "train_df = train_df.rename(columns={'score': 'label'})\n",
    "train_df"
   ]
  },
  {
   "cell_type": "code",
   "execution_count": 7,
   "metadata": {
    "execution": {
     "iopub.execute_input": "2024-09-15T13:14:43.610917Z",
     "iopub.status.busy": "2024-09-15T13:14:43.610497Z",
     "iopub.status.idle": "2024-09-15T13:14:43.624958Z",
     "shell.execute_reply": "2024-09-15T13:14:43.623852Z",
     "shell.execute_reply.started": "2024-09-15T13:14:43.610869Z"
    }
   },
   "outputs": [
    {
     "data": {
      "text/plain": [
       "label\n",
       "2    1168\n",
       "1    1167\n",
       "0     764\n",
       "3     429\n",
       "4     119\n",
       "Name: count, dtype: int64"
      ]
     },
     "execution_count": 7,
     "metadata": {},
     "output_type": "execute_result"
    }
   ],
   "source": [
    "train_df.label.value_counts()"
   ]
  },
  {
   "cell_type": "code",
   "execution_count": 8,
   "metadata": {
    "execution": {
     "iopub.execute_input": "2024-09-15T13:14:43.626750Z",
     "iopub.status.busy": "2024-09-15T13:14:43.626381Z",
     "iopub.status.idle": "2024-09-15T13:14:43.644674Z",
     "shell.execute_reply": "2024-09-15T13:14:43.643735Z",
     "shell.execute_reply.started": "2024-09-15T13:14:43.626706Z"
    }
   },
   "outputs": [
    {
     "name": "stdout",
     "output_type": "stream",
     "text": [
      "Train dataframe has shape: (3647, 4)\n"
     ]
    },
    {
     "data": {
      "text/html": [
       "<div>\n",
       "<style scoped>\n",
       "    .dataframe tbody tr th:only-of-type {\n",
       "        vertical-align: middle;\n",
       "    }\n",
       "\n",
       "    .dataframe tbody tr th {\n",
       "        vertical-align: top;\n",
       "    }\n",
       "\n",
       "    .dataframe thead th {\n",
       "        text-align: right;\n",
       "    }\n",
       "</style>\n",
       "<table border=\"1\" class=\"dataframe\">\n",
       "  <thead>\n",
       "    <tr style=\"text-align: right;\">\n",
       "      <th></th>\n",
       "      <th>index</th>\n",
       "      <th>input</th>\n",
       "      <th>context</th>\n",
       "      <th>label</th>\n",
       "    </tr>\n",
       "  </thead>\n",
       "  <tbody>\n",
       "    <tr>\n",
       "      <th>0</th>\n",
       "      <td>32208</td>\n",
       "      <td>ANCHOR: substituted carboxylic; TARGET:carboxy...</td>\n",
       "      <td>C07</td>\n",
       "      <td>1</td>\n",
       "    </tr>\n",
       "    <tr>\n",
       "      <th>1</th>\n",
       "      <td>27009</td>\n",
       "      <td>ANCHOR: receive via surface; TARGET:collect vi...</td>\n",
       "      <td>H01</td>\n",
       "      <td>2</td>\n",
       "    </tr>\n",
       "    <tr>\n",
       "      <th>2</th>\n",
       "      <td>9141</td>\n",
       "      <td>ANCHOR: digital multimeters; TARGET:current ra...</td>\n",
       "      <td>G01</td>\n",
       "      <td>1</td>\n",
       "    </tr>\n",
       "    <tr>\n",
       "      <th>3</th>\n",
       "      <td>10799</td>\n",
       "      <td>ANCHOR: elastic repulsive; TARGET:electric;</td>\n",
       "      <td>H01</td>\n",
       "      <td>1</td>\n",
       "    </tr>\n",
       "    <tr>\n",
       "      <th>4</th>\n",
       "      <td>1605</td>\n",
       "      <td>ANCHOR: annular neck; TARGET:extending tubular...</td>\n",
       "      <td>G04</td>\n",
       "      <td>2</td>\n",
       "    </tr>\n",
       "  </tbody>\n",
       "</table>\n",
       "</div>"
      ],
      "text/plain": [
       "   index                                              input context  label\n",
       "0  32208  ANCHOR: substituted carboxylic; TARGET:carboxy...     C07      1\n",
       "1  27009  ANCHOR: receive via surface; TARGET:collect vi...     H01      2\n",
       "2   9141  ANCHOR: digital multimeters; TARGET:current ra...     G01      1\n",
       "3  10799        ANCHOR: elastic repulsive; TARGET:electric;     H01      1\n",
       "4   1605  ANCHOR: annular neck; TARGET:extending tubular...     G04      2"
      ]
     },
     "execution_count": 8,
     "metadata": {},
     "output_type": "execute_result"
    }
   ],
   "source": [
    "train_df = train_df.drop(['id', 'target', 'anchor'], axis=1)\n",
    "test1_df = test_df\n",
    "test_df = test_df.drop(['id', 'target', 'anchor'], axis=1)\n",
    "train_df.reset_index(inplace=True, drop=True)\n",
    "print(f\"Train dataframe has shape: {train_df.shape}\")\n",
    "train_df.head()"
   ]
  },
  {
   "cell_type": "code",
   "execution_count": 9,
   "metadata": {
    "execution": {
     "iopub.execute_input": "2024-09-15T13:14:43.646717Z",
     "iopub.status.busy": "2024-09-15T13:14:43.646321Z",
     "iopub.status.idle": "2024-09-15T13:14:43.685637Z",
     "shell.execute_reply": "2024-09-15T13:14:43.684564Z",
     "shell.execute_reply.started": "2024-09-15T13:14:43.646662Z"
    }
   },
   "outputs": [
    {
     "name": "stdout",
     "output_type": "stream",
     "text": [
      "fold  label\n",
      "0.0   1        234\n",
      "      2        233\n",
      "      0        153\n",
      "      3         86\n",
      "      4         24\n",
      "1.0   1        234\n",
      "      2        233\n",
      "      0        153\n",
      "      3         86\n",
      "      4         24\n",
      "2.0   2        234\n",
      "      1        233\n",
      "      0        153\n",
      "      3         86\n",
      "      4         23\n",
      "3.0   2        234\n",
      "      1        233\n",
      "      0        153\n",
      "      3         85\n",
      "      4         24\n",
      "4.0   2        234\n",
      "      1        233\n",
      "      0        152\n",
      "      3         86\n",
      "      4         24\n",
      "Name: count, dtype: int64\n"
     ]
    },
    {
     "data": {
      "text/html": [
       "<div>\n",
       "<style scoped>\n",
       "    .dataframe tbody tr th:only-of-type {\n",
       "        vertical-align: middle;\n",
       "    }\n",
       "\n",
       "    .dataframe tbody tr th {\n",
       "        vertical-align: top;\n",
       "    }\n",
       "\n",
       "    .dataframe thead th {\n",
       "        text-align: right;\n",
       "    }\n",
       "</style>\n",
       "<table border=\"1\" class=\"dataframe\">\n",
       "  <thead>\n",
       "    <tr style=\"text-align: right;\">\n",
       "      <th></th>\n",
       "      <th>index</th>\n",
       "      <th>input</th>\n",
       "      <th>context</th>\n",
       "      <th>label</th>\n",
       "      <th>fold</th>\n",
       "    </tr>\n",
       "  </thead>\n",
       "  <tbody>\n",
       "    <tr>\n",
       "      <th>0</th>\n",
       "      <td>32208</td>\n",
       "      <td>ANCHOR: substituted carboxylic; TARGET:carboxy...</td>\n",
       "      <td>C07</td>\n",
       "      <td>1</td>\n",
       "      <td>2.0</td>\n",
       "    </tr>\n",
       "    <tr>\n",
       "      <th>1</th>\n",
       "      <td>27009</td>\n",
       "      <td>ANCHOR: receive via surface; TARGET:collect vi...</td>\n",
       "      <td>H01</td>\n",
       "      <td>2</td>\n",
       "      <td>4.0</td>\n",
       "    </tr>\n",
       "    <tr>\n",
       "      <th>2</th>\n",
       "      <td>9141</td>\n",
       "      <td>ANCHOR: digital multimeters; TARGET:current ra...</td>\n",
       "      <td>G01</td>\n",
       "      <td>1</td>\n",
       "      <td>4.0</td>\n",
       "    </tr>\n",
       "    <tr>\n",
       "      <th>3</th>\n",
       "      <td>10799</td>\n",
       "      <td>ANCHOR: elastic repulsive; TARGET:electric;</td>\n",
       "      <td>H01</td>\n",
       "      <td>1</td>\n",
       "      <td>0.0</td>\n",
       "    </tr>\n",
       "    <tr>\n",
       "      <th>4</th>\n",
       "      <td>1605</td>\n",
       "      <td>ANCHOR: annular neck; TARGET:extending tubular...</td>\n",
       "      <td>G04</td>\n",
       "      <td>2</td>\n",
       "      <td>3.0</td>\n",
       "    </tr>\n",
       "  </tbody>\n",
       "</table>\n",
       "</div>"
      ],
      "text/plain": [
       "   index                                              input context  label  \\\n",
       "0  32208  ANCHOR: substituted carboxylic; TARGET:carboxy...     C07      1   \n",
       "1  27009  ANCHOR: receive via surface; TARGET:collect vi...     H01      2   \n",
       "2   9141  ANCHOR: digital multimeters; TARGET:current ra...     G01      1   \n",
       "3  10799        ANCHOR: elastic repulsive; TARGET:electric;     H01      1   \n",
       "4   1605  ANCHOR: annular neck; TARGET:extending tubular...     G04      2   \n",
       "\n",
       "   fold  \n",
       "0   2.0  \n",
       "1   4.0  \n",
       "2   4.0  \n",
       "3   0.0  \n",
       "4   3.0  "
      ]
     },
     "execution_count": 9,
     "metadata": {},
     "output_type": "execute_result"
    }
   ],
   "source": [
    "from sklearn.model_selection import StratifiedKFold\n",
    "\n",
    "skf = StratifiedKFold(n_splits=5, shuffle=True, random_state=42)\n",
    "X = train_df.loc[:, train_df.columns != \"label\"]\n",
    "y = train_df.loc[:, train_df.columns == \"label\"]\n",
    "\n",
    "for i, (train_index, valid_index) in enumerate(skf.split(X, y)):\n",
    "    train_df.loc[valid_index, \"fold\"] = i\n",
    "    \n",
    "print(train_df.groupby(\"fold\")[\"label\"].value_counts())\n",
    "train_df.head()"
   ]
  },
  {
   "cell_type": "code",
   "execution_count": 10,
   "metadata": {
    "execution": {
     "iopub.execute_input": "2024-09-15T13:14:43.690796Z",
     "iopub.status.busy": "2024-09-15T13:14:43.690459Z",
     "iopub.status.idle": "2024-09-15T13:14:43.699442Z",
     "shell.execute_reply": "2024-09-15T13:14:43.698296Z",
     "shell.execute_reply.started": "2024-09-15T13:14:43.690760Z"
    }
   },
   "outputs": [
    {
     "name": "stdout",
     "output_type": "stream",
     "text": [
      "(2917, 5)\n",
      "(730, 5)\n"
     ]
    }
   ],
   "source": [
    "# fold0 as valid\n",
    "valid_df = train_df[train_df[\"fold\"] == 0]\n",
    "train_df = train_df[train_df[\"fold\"] != 0]\n",
    "print(train_df.shape)\n",
    "print(valid_df.shape)"
   ]
  },
  {
   "cell_type": "code",
   "execution_count": 11,
   "metadata": {
    "execution": {
     "iopub.execute_input": "2024-09-15T13:14:43.702011Z",
     "iopub.status.busy": "2024-09-15T13:14:43.701057Z",
     "iopub.status.idle": "2024-09-15T13:14:51.530319Z",
     "shell.execute_reply": "2024-09-15T13:14:51.529280Z",
     "shell.execute_reply.started": "2024-09-15T13:14:43.701957Z"
    }
   },
   "outputs": [
    {
     "name": "stderr",
     "output_type": "stream",
     "text": [
      "/opt/conda/lib/python3.10/site-packages/transformers/utils/generic.py:441: FutureWarning: `torch.utils._pytree._register_pytree_node` is deprecated. Please use `torch.utils._pytree.register_pytree_node` instead.\n",
      "  _torch_pytree._register_pytree_node(\n",
      "/opt/conda/lib/python3.10/site-packages/transformers/utils/generic.py:309: FutureWarning: `torch.utils._pytree._register_pytree_node` is deprecated. Please use `torch.utils._pytree.register_pytree_node` instead.\n",
      "  _torch_pytree._register_pytree_node(\n"
     ]
    }
   ],
   "source": [
    "# load model with 4bit bnb\n",
    "\n",
    "from peft import get_peft_config, PeftModel, PeftConfig, get_peft_model, LoraConfig, TaskType # type: ignore\n",
    "from transformers import BitsAndBytesConfig\n",
    "import torch\n",
    "\n",
    "peft_config = LoraConfig(\n",
    "    r=4,\n",
    "    lora_alpha=16,\n",
    "    lora_dropout=0.1,\n",
    "    bias=\"none\",\n",
    "    task_type=TaskType.SEQ_CLS,\n",
    "    inference_mode=False,\n",
    "    target_modules=[\n",
    "        \"q_proj\",\n",
    "        \"v_proj\"\n",
    "    ],\n",
    ")\n",
    "\n",
    "bnb_config = BitsAndBytesConfig(\n",
    "    load_in_4bit=True,\n",
    "    bnb_4bit_quant_type=\"nf4\",\n",
    "    bnb_4bit_use_double_quant=True,\n",
    "    bnb_4bit_compute_dtype=torch.bfloat16\n",
    ")"
   ]
  },
  {
   "cell_type": "code",
   "execution_count": 12,
   "metadata": {
    "execution": {
     "iopub.execute_input": "2024-09-15T13:14:51.532139Z",
     "iopub.status.busy": "2024-09-15T13:14:51.531583Z",
     "iopub.status.idle": "2024-09-15T13:14:56.918449Z",
     "shell.execute_reply": "2024-09-15T13:14:56.917087Z",
     "shell.execute_reply.started": "2024-09-15T13:14:51.532095Z"
    }
   },
   "outputs": [
    {
     "name": "stderr",
     "output_type": "stream",
     "text": [
      "/opt/conda/lib/python3.10/pty.py:89: RuntimeWarning: os.fork() was called. os.fork() is incompatible with multithreaded code, and JAX is multithreaded, so this will likely lead to a deadlock.\n",
      "  pid, fd = os.forkpty()\n"
     ]
    },
    {
     "name": "stdout",
     "output_type": "stream",
     "text": [
      "++++++++++++++++++++++++++++++++++++++++++++++++++++++++++++\n",
      "++++++++++++++++++ BUG REPORT INFORMATION ++++++++++++++++++\n",
      "++++++++++++++++++++++++++++++++++++++++++++++++++++++++++++\n",
      "++++++++++++++++++++++++++ OTHER +++++++++++++++++++++++++++\n",
      "CUDA specs: CUDASpecs(highest_compute_capability=(6, 0), cuda_version_string='123', cuda_version_tuple=(12, 3))\n",
      "PyTorch settings found: CUDA_VERSION=123, Highest Compute Capability: (6, 0).\n",
      "To manually override the PyTorch CUDA version please see: https://github.com/TimDettmers/bitsandbytes/blob/main/docs/source/nonpytorchcuda.mdx\n",
      "WARNING: Compute capability < 7.5 detected! Only slow 8-bit matmul is supported for your GPU!\n",
      "If you run into issues with 8-bit matmul, you can try 4-bit quantization:\n",
      "https://huggingface.co/blog/4bit-transformers-bitsandbytes\n",
      "Found duplicate CUDA runtime files (see below).\n",
      "\n",
      "We select the PyTorch default CUDA runtime, which is 12.3,\n",
      "but this might mismatch with the CUDA version that is needed for bitsandbytes.\n",
      "To override this behavior set the `BNB_CUDA_VERSION=<version string, e.g. 122>` environmental variable.\n",
      "\n",
      "For example, if you want to use the CUDA version 122,\n",
      "    BNB_CUDA_VERSION=122 python ...\n",
      "\n",
      "OR set the environmental variable in your .bashrc:\n",
      "    export BNB_CUDA_VERSION=122\n",
      "\n",
      "In the case of a manual override, make sure you set LD_LIBRARY_PATH, e.g.\n",
      "export LD_LIBRARY_PATH=$LD_LIBRARY_PATH:/usr/local/cuda-11.2,\n",
      "* Found CUDA runtime at: /usr/local/cuda/lib64/libcudart.so.12\n",
      "* Found CUDA runtime at: /usr/local/cuda/lib64/libcudart.so.12.3.101\n",
      "* Found CUDA runtime at: /usr/local/cuda/lib64/libcudart.so\n",
      "* Found CUDA runtime at: /opt/conda/lib/libcudart.so.12\n",
      "* Found CUDA runtime at: /opt/conda/lib/libcudart.so\n",
      "* Found CUDA runtime at: /opt/conda/lib/libcudart.so.12.3.101\n",
      "* Found CUDA runtime at: /usr/local/cuda/lib64/libcudart.so.12\n",
      "* Found CUDA runtime at: /usr/local/cuda/lib64/libcudart.so.12.3.101\n",
      "* Found CUDA runtime at: /usr/local/cuda/lib64/libcudart.so\n",
      "* Found CUDA runtime at: /opt/conda/lib/libcudart.so.12\n",
      "* Found CUDA runtime at: /opt/conda/lib/libcudart.so\n",
      "* Found CUDA runtime at: /opt/conda/lib/libcudart.so.12.3.101\n",
      "* Found CUDA runtime at: /opt/conda/lib/libcudart.so.12\n",
      "* Found CUDA runtime at: /opt/conda/lib/libcudart.so\n",
      "* Found CUDA runtime at: /opt/conda/lib/libcudart.so.12.3.101\n",
      "++++++++++++++++++++++++++++++++++++++++++++++++++++++++++++\n",
      "++++++++++++++++++++++ DEBUG INFO END ++++++++++++++++++++++\n",
      "++++++++++++++++++++++++++++++++++++++++++++++++++++++++++++\n",
      "Checking that the library is importable and CUDA is callable...\n",
      "SUCCESS!\n",
      "Installation was successful!\n"
     ]
    }
   ],
   "source": [
    "!python -m bitsandbytes"
   ]
  },
  {
   "cell_type": "code",
   "execution_count": 13,
   "metadata": {
    "execution": {
     "iopub.execute_input": "2024-09-15T13:14:56.920943Z",
     "iopub.status.busy": "2024-09-15T13:14:56.920454Z",
     "iopub.status.idle": "2024-09-15T13:14:57.189882Z",
     "shell.execute_reply": "2024-09-15T13:14:57.188392Z",
     "shell.execute_reply.started": "2024-09-15T13:14:56.920887Z"
    }
   },
   "outputs": [],
   "source": [
    "from transformers import AutoTokenizer, LlamaForSequenceClassification\n",
    "\n",
    "tokenizer = AutoTokenizer.from_pretrained(TARGET_MODEL, use_fast=False)\n",
    "tokenizer.pad_token = tokenizer.eos_token"
   ]
  },
  {
   "cell_type": "code",
   "execution_count": 14,
   "metadata": {
    "execution": {
     "iopub.execute_input": "2024-09-15T13:14:57.192018Z",
     "iopub.status.busy": "2024-09-15T13:14:57.191550Z",
     "iopub.status.idle": "2024-09-15T13:14:57.197053Z",
     "shell.execute_reply": "2024-09-15T13:14:57.195815Z",
     "shell.execute_reply.started": "2024-09-15T13:14:57.191963Z"
    }
   },
   "outputs": [],
   "source": [
    "#!pip install accelerate\n",
    "#!pip install bitsandbytes>=0.39.0"
   ]
  },
  {
   "cell_type": "code",
   "execution_count": 15,
   "metadata": {
    "execution": {
     "iopub.execute_input": "2024-09-15T13:14:57.198999Z",
     "iopub.status.busy": "2024-09-15T13:14:57.198610Z",
     "iopub.status.idle": "2024-09-15T13:17:20.228959Z",
     "shell.execute_reply": "2024-09-15T13:17:20.227823Z",
     "shell.execute_reply.started": "2024-09-15T13:14:57.198961Z"
    }
   },
   "outputs": [
    {
     "data": {
      "application/vnd.jupyter.widget-view+json": {
       "model_id": "f776300b415a4bc483509b65d9310331",
       "version_major": 2,
       "version_minor": 0
      },
      "text/plain": [
       "Loading checkpoint shards:   0%|          | 0/2 [00:00<?, ?it/s]"
      ]
     },
     "metadata": {},
     "output_type": "display_data"
    },
    {
     "name": "stderr",
     "output_type": "stream",
     "text": [
      "/opt/conda/lib/python3.10/site-packages/transformers/modeling_utils.py:484: FutureWarning: You are using `torch.load` with `weights_only=False` (the current default value), which uses the default pickle module implicitly. It is possible to construct malicious pickle data which will execute arbitrary code during unpickling (See https://github.com/pytorch/pytorch/blob/main/SECURITY.md#untrusted-models for more details). In a future release, the default value for `weights_only` will be flipped to `True`. This limits the functions that could be executed during unpickling. Arbitrary objects will no longer be allowed to be loaded via this mode unless they are explicitly allowlisted by the user via `torch.serialization.add_safe_globals`. We recommend you start setting `weights_only=True` for any use case where you don't have full control of the loaded file. Please open an issue on GitHub for any issues related to this experimental feature.\n",
      "  return torch.load(checkpoint_file, map_location=map_location)\n",
      "Some weights of LlamaForSequenceClassification were not initialized from the model checkpoint at /kaggle/input/llama2-7b-hf/Llama2-7b-hf and are newly initialized: ['score.weight']\n",
      "You should probably TRAIN this model on a down-stream task to be able to use it for predictions and inference.\n"
     ]
    }
   ],
   "source": [
    "base_model = LlamaForSequenceClassification.from_pretrained(\n",
    "    TARGET_MODEL,\n",
    "    num_labels=5,\n",
    "    quantization_config=bnb_config,\n",
    "    device_map={\"\":0}\n",
    ")\n",
    "base_model.config.pretraining_tp = 1 # 1 is 7b\n",
    "base_model.config.pad_token_id = tokenizer.pad_token_id"
   ]
  },
  {
   "cell_type": "code",
   "execution_count": 16,
   "metadata": {
    "execution": {
     "iopub.execute_input": "2024-09-15T13:17:20.230880Z",
     "iopub.status.busy": "2024-09-15T13:17:20.230514Z",
     "iopub.status.idle": "2024-09-15T13:17:20.360723Z",
     "shell.execute_reply": "2024-09-15T13:17:20.359589Z",
     "shell.execute_reply.started": "2024-09-15T13:17:20.230843Z"
    }
   },
   "outputs": [],
   "source": [
    "model = get_peft_model(base_model, peft_config)\n"
   ]
  },
  {
   "cell_type": "code",
   "execution_count": 17,
   "metadata": {
    "execution": {
     "iopub.execute_input": "2024-09-15T13:17:20.362914Z",
     "iopub.status.busy": "2024-09-15T13:17:20.362454Z",
     "iopub.status.idle": "2024-09-15T13:17:20.374361Z",
     "shell.execute_reply": "2024-09-15T13:17:20.373254Z",
     "shell.execute_reply.started": "2024-09-15T13:17:20.362862Z"
    }
   },
   "outputs": [
    {
     "name": "stdout",
     "output_type": "stream",
     "text": [
      "trainable params: 2,117,632 || all params: 6,609,481,728 || trainable%: 0.03203930485243638\n"
     ]
    }
   ],
   "source": [
    "model.print_trainable_parameters()\n"
   ]
  },
  {
   "cell_type": "code",
   "execution_count": 18,
   "metadata": {
    "execution": {
     "iopub.execute_input": "2024-09-15T13:17:20.376139Z",
     "iopub.status.busy": "2024-09-15T13:17:20.375668Z",
     "iopub.status.idle": "2024-09-15T13:17:20.388288Z",
     "shell.execute_reply": "2024-09-15T13:17:20.387229Z",
     "shell.execute_reply.started": "2024-09-15T13:17:20.376088Z"
    }
   },
   "outputs": [],
   "source": [
    "#remove this for actual calculation  here we take a smaller sample of the dataframe to speed up \n",
    "train_df = train_df.sample(2000, random_state=42)  #2400\n"
   ]
  },
  {
   "cell_type": "code",
   "execution_count": 19,
   "metadata": {
    "execution": {
     "iopub.execute_input": "2024-09-15T13:17:20.390045Z",
     "iopub.status.busy": "2024-09-15T13:17:20.389557Z",
     "iopub.status.idle": "2024-09-15T13:17:20.400383Z",
     "shell.execute_reply": "2024-09-15T13:17:20.399344Z",
     "shell.execute_reply.started": "2024-09-15T13:17:20.389970Z"
    }
   },
   "outputs": [
    {
     "name": "stdout",
     "output_type": "stream",
     "text": [
      "(2000, 5)\n",
      "(438, 5)\n",
      "(292, 5)\n"
     ]
    }
   ],
   "source": [
    "valid_df1 = valid_df.sample(frac = 0.4, random_state=42)\n",
    "valid_df = valid_df.loc[~valid_df.index.isin(valid_df1.index)]\n",
    "print(train_df.shape)\n",
    "print(valid_df.shape)\n",
    "print(valid_df1.shape)"
   ]
  },
  {
   "cell_type": "code",
   "execution_count": 20,
   "metadata": {
    "execution": {
     "iopub.execute_input": "2024-09-15T13:17:20.402223Z",
     "iopub.status.busy": "2024-09-15T13:17:20.401737Z",
     "iopub.status.idle": "2024-09-15T13:17:21.012667Z",
     "shell.execute_reply": "2024-09-15T13:17:21.011764Z",
     "shell.execute_reply.started": "2024-09-15T13:17:20.402184Z"
    }
   },
   "outputs": [],
   "source": [
    "# datasets\n",
    "from datasets import Dataset\n",
    "\n",
    "# from pandas\n",
    "train_ds = Dataset.from_pandas(train_df)\n",
    "valid_ds = Dataset.from_pandas(valid_df)\n",
    "test_ds = Dataset.from_pandas(test_df)\n",
    "valid_ds1 = Dataset.from_pandas(valid_df1)"
   ]
  },
  {
   "cell_type": "code",
   "execution_count": 21,
   "metadata": {
    "execution": {
     "iopub.execute_input": "2024-09-15T13:17:21.014583Z",
     "iopub.status.busy": "2024-09-15T13:17:21.013969Z",
     "iopub.status.idle": "2024-09-15T13:17:21.021270Z",
     "shell.execute_reply": "2024-09-15T13:17:21.020296Z",
     "shell.execute_reply.started": "2024-09-15T13:17:21.014545Z"
    }
   },
   "outputs": [],
   "source": [
    "def preprocess_function(examples, max_length=512):\n",
    "    return tokenizer(examples[\"input\"], truncation=True, max_length=max_length, padding=True)"
   ]
  },
  {
   "cell_type": "code",
   "execution_count": 22,
   "metadata": {
    "execution": {
     "iopub.execute_input": "2024-09-15T13:17:21.022847Z",
     "iopub.status.busy": "2024-09-15T13:17:21.022516Z",
     "iopub.status.idle": "2024-09-15T13:17:21.797211Z",
     "shell.execute_reply": "2024-09-15T13:17:21.796088Z",
     "shell.execute_reply.started": "2024-09-15T13:17:21.022811Z"
    }
   },
   "outputs": [
    {
     "data": {
      "application/vnd.jupyter.widget-view+json": {
       "model_id": "5786f5bcfb5e44bdb59838ea1b1aaf81",
       "version_major": 2,
       "version_minor": 0
      },
      "text/plain": [
       "Map:   0%|          | 0/2000 [00:00<?, ? examples/s]"
      ]
     },
     "metadata": {},
     "output_type": "display_data"
    },
    {
     "data": {
      "application/vnd.jupyter.widget-view+json": {
       "model_id": "58d85d0bfd004814b655895a7fd4f62f",
       "version_major": 2,
       "version_minor": 0
      },
      "text/plain": [
       "Map:   0%|          | 0/438 [00:00<?, ? examples/s]"
      ]
     },
     "metadata": {},
     "output_type": "display_data"
    },
    {
     "data": {
      "application/vnd.jupyter.widget-view+json": {
       "model_id": "d3c6e3d0b52f4de786d0e821f776ed7a",
       "version_major": 2,
       "version_minor": 0
      },
      "text/plain": [
       "Map:   0%|          | 0/36 [00:00<?, ? examples/s]"
      ]
     },
     "metadata": {},
     "output_type": "display_data"
    },
    {
     "data": {
      "application/vnd.jupyter.widget-view+json": {
       "model_id": "7f304cabee8144089ae4cdb9c5174203",
       "version_major": 2,
       "version_minor": 0
      },
      "text/plain": [
       "Map:   0%|          | 0/292 [00:00<?, ? examples/s]"
      ]
     },
     "metadata": {},
     "output_type": "display_data"
    }
   ],
   "source": [
    "train_tokenized_ds = train_ds.map(preprocess_function, batched=True)\n",
    "valid_tokenized_ds = valid_ds.map(preprocess_function, batched=True)\n",
    "test_tokenized_ds = test_ds.map(preprocess_function, batched=True)\n",
    "valid_tokenized_ds1 = valid_ds1.map(preprocess_function, batched=True)"
   ]
  },
  {
   "cell_type": "code",
   "execution_count": 23,
   "metadata": {
    "execution": {
     "iopub.execute_input": "2024-09-15T13:17:21.799232Z",
     "iopub.status.busy": "2024-09-15T13:17:21.798776Z",
     "iopub.status.idle": "2024-09-15T13:17:33.158530Z",
     "shell.execute_reply": "2024-09-15T13:17:33.157404Z",
     "shell.execute_reply.started": "2024-09-15T13:17:21.799183Z"
    }
   },
   "outputs": [],
   "source": [
    "from transformers import DataCollatorWithPadding\n",
    "\n",
    "data_collator = DataCollatorWithPadding(tokenizer=tokenizer, padding=\"longest\")"
   ]
  },
  {
   "cell_type": "code",
   "execution_count": 24,
   "metadata": {
    "execution": {
     "iopub.execute_input": "2024-09-15T13:17:33.161745Z",
     "iopub.status.busy": "2024-09-15T13:17:33.160349Z",
     "iopub.status.idle": "2024-09-15T13:17:33.168669Z",
     "shell.execute_reply": "2024-09-15T13:17:33.167473Z",
     "shell.execute_reply.started": "2024-09-15T13:17:33.161685Z"
    }
   },
   "outputs": [],
   "source": [
    "import numpy as np\n",
    "from sklearn.metrics import accuracy_score, roc_auc_score\n",
    "import numpy as np\n",
    "\n",
    "def compute_metrics(eval_pred):\n",
    "    predictions, labels = eval_pred\n",
    "    predictions = np.argmax(predictions, axis=1)\n",
    "    \n",
    "    accuracy_val = accuracy_score(labels, predictions)\n",
    "    #roc_auc_val = roc_auc_score(labels, predictions)\n",
    "    \n",
    "    return {\n",
    "        \"accuracy\": accuracy_val,\n",
    "        #\"roc_auc\": roc_auc_val,\n",
    "    }"
   ]
  },
  {
   "cell_type": "code",
   "execution_count": 25,
   "metadata": {
    "execution": {
     "iopub.execute_input": "2024-09-15T13:17:33.170439Z",
     "iopub.status.busy": "2024-09-15T13:17:33.169977Z",
     "iopub.status.idle": "2024-09-15T14:13:41.983019Z",
     "shell.execute_reply": "2024-09-15T14:13:41.982086Z",
     "shell.execute_reply.started": "2024-09-15T13:17:33.170385Z"
    }
   },
   "outputs": [
    {
     "name": "stderr",
     "output_type": "stream",
     "text": [
      "/opt/conda/lib/python3.10/site-packages/accelerate/accelerator.py:436: FutureWarning: Passing the following arguments to `Accelerator` is deprecated and will be removed in version 1.0 of Accelerate: dict_keys(['dispatch_batches', 'split_batches']). Please pass an `accelerate.DataLoaderConfiguration` instead: \n",
      "dataloader_config = DataLoaderConfiguration(dispatch_batches=None, split_batches=False)\n",
      "  warnings.warn(\n"
     ]
    },
    {
     "data": {
      "text/html": [
       "\n",
       "    <div>\n",
       "      \n",
       "      <progress value='125' max='125' style='width:300px; height:20px; vertical-align: middle;'></progress>\n",
       "      [125/125 55:51, Epoch 1/1]\n",
       "    </div>\n",
       "    <table border=\"1\" class=\"dataframe\">\n",
       "  <thead>\n",
       " <tr style=\"text-align: left;\">\n",
       "      <th>Step</th>\n",
       "      <th>Training Loss</th>\n",
       "      <th>Validation Loss</th>\n",
       "      <th>Accuracy</th>\n",
       "    </tr>\n",
       "  </thead>\n",
       "  <tbody>\n",
       "    <tr>\n",
       "      <td>20</td>\n",
       "      <td>1.969000</td>\n",
       "      <td>1.680664</td>\n",
       "      <td>0.248858</td>\n",
       "    </tr>\n",
       "    <tr>\n",
       "      <td>40</td>\n",
       "      <td>1.539800</td>\n",
       "      <td>1.366211</td>\n",
       "      <td>0.406393</td>\n",
       "    </tr>\n",
       "    <tr>\n",
       "      <td>60</td>\n",
       "      <td>1.401000</td>\n",
       "      <td>1.286133</td>\n",
       "      <td>0.440639</td>\n",
       "    </tr>\n",
       "    <tr>\n",
       "      <td>80</td>\n",
       "      <td>1.245900</td>\n",
       "      <td>1.219727</td>\n",
       "      <td>0.500000</td>\n",
       "    </tr>\n",
       "    <tr>\n",
       "      <td>100</td>\n",
       "      <td>1.217300</td>\n",
       "      <td>1.083008</td>\n",
       "      <td>0.561644</td>\n",
       "    </tr>\n",
       "    <tr>\n",
       "      <td>120</td>\n",
       "      <td>1.154900</td>\n",
       "      <td>1.071289</td>\n",
       "      <td>0.559361</td>\n",
       "    </tr>\n",
       "  </tbody>\n",
       "</table><p>"
      ],
      "text/plain": [
       "<IPython.core.display.HTML object>"
      ]
     },
     "metadata": {},
     "output_type": "display_data"
    },
    {
     "data": {
      "text/plain": [
       "TrainOutput(global_step=125, training_loss=1.4056146240234375, metrics={'train_runtime': 3368.2789, 'train_samples_per_second': 0.594, 'train_steps_per_second': 0.037, 'total_flos': 2720932085760000.0, 'train_loss': 1.4056146240234375, 'epoch': 1.0})"
      ]
     },
     "execution_count": 25,
     "metadata": {},
     "output_type": "execute_result"
    }
   ],
   "source": [
    "from transformers import TrainingArguments, Trainer\n",
    "\n",
    "steps = 5 if DEBUG else 20\n",
    "\n",
    "training_args = TrainingArguments(\n",
    "    output_dir=OUTPUT_DIR,\n",
    "    learning_rate=5e-4,\n",
    "    per_device_train_batch_size=1,\n",
    "    per_device_eval_batch_size=1,\n",
    "    gradient_accumulation_steps=16,\n",
    "    max_grad_norm=0.3,\n",
    "    optim='paged_adamw_32bit',\n",
    "    lr_scheduler_type=\"cosine\",\n",
    "    num_train_epochs=1,\n",
    "    weight_decay=0.01,\n",
    "    evaluation_strategy=\"steps\",\n",
    "    save_strategy=\"steps\",\n",
    "    load_best_model_at_end=True,\n",
    "    push_to_hub=False,\n",
    "    warmup_steps=steps,\n",
    "    eval_steps=steps,\n",
    "    logging_steps=steps,\n",
    "    report_to='none' # if DEBUG else 'wandb',\n",
    ")\n",
    "trainer = Trainer(\n",
    "    model=model,\n",
    "    args=training_args,\n",
    "    train_dataset=train_tokenized_ds,\n",
    "    eval_dataset=valid_tokenized_ds,\n",
    "    tokenizer=tokenizer,\n",
    "    data_collator=data_collator,\n",
    "    compute_metrics=compute_metrics,\n",
    ")\n",
    "\n",
    "trainer.train()"
   ]
  },
  {
   "cell_type": "code",
   "execution_count": 26,
   "metadata": {
    "execution": {
     "iopub.execute_input": "2024-09-15T14:13:41.985088Z",
     "iopub.status.busy": "2024-09-15T14:13:41.984604Z",
     "iopub.status.idle": "2024-09-15T14:16:11.982515Z",
     "shell.execute_reply": "2024-09-15T14:16:11.981282Z",
     "shell.execute_reply.started": "2024-09-15T14:13:41.985021Z"
    }
   },
   "outputs": [
    {
     "data": {
      "text/html": [],
      "text/plain": [
       "<IPython.core.display.HTML object>"
      ]
     },
     "metadata": {},
     "output_type": "display_data"
    }
   ],
   "source": [
    "#this is to check if the predictions work on a known dataframe not previously seen by the model\n",
    "preds = trainer.predict(valid_tokenized_ds1)\n",
    "logits = preds.predictions"
   ]
  },
  {
   "cell_type": "code",
   "execution_count": 27,
   "metadata": {
    "execution": {
     "iopub.execute_input": "2024-09-15T14:16:11.984787Z",
     "iopub.status.busy": "2024-09-15T14:16:11.984253Z",
     "iopub.status.idle": "2024-09-15T14:16:11.999011Z",
     "shell.execute_reply": "2024-09-15T14:16:11.997472Z",
     "shell.execute_reply.started": "2024-09-15T14:16:11.984735Z"
    }
   },
   "outputs": [
    {
     "data": {
      "text/plain": [
       "((292,), array([0.502 , 0.8984, 0.506 , 0.9707, 0.959 ], dtype=float16))"
      ]
     },
     "execution_count": 27,
     "metadata": {},
     "output_type": "execute_result"
    }
   ],
   "source": [
    "# from scipy.special import expit as sigmoid\n",
    "import numpy as np\n",
    "def sigmoid(x):\n",
    "    return 1 / (1 + np.exp(-x))  \n",
    "probs = sigmoid(logits[:, 1])\n",
    "probs.shape, probs[0:5]\n"
   ]
  },
  {
   "cell_type": "code",
   "execution_count": 28,
   "metadata": {
    "execution": {
     "iopub.execute_input": "2024-09-15T14:16:12.009288Z",
     "iopub.status.busy": "2024-09-15T14:16:12.008329Z",
     "iopub.status.idle": "2024-09-15T14:16:12.033749Z",
     "shell.execute_reply": "2024-09-15T14:16:12.032248Z",
     "shell.execute_reply.started": "2024-09-15T14:16:12.009225Z"
    }
   },
   "outputs": [
    {
     "data": {
      "text/html": [
       "<div>\n",
       "<style scoped>\n",
       "    .dataframe tbody tr th:only-of-type {\n",
       "        vertical-align: middle;\n",
       "    }\n",
       "\n",
       "    .dataframe tbody tr th {\n",
       "        vertical-align: top;\n",
       "    }\n",
       "\n",
       "    .dataframe thead th {\n",
       "        text-align: right;\n",
       "    }\n",
       "</style>\n",
       "<table border=\"1\" class=\"dataframe\">\n",
       "  <thead>\n",
       "    <tr style=\"text-align: right;\">\n",
       "      <th></th>\n",
       "      <th>index</th>\n",
       "      <th>input</th>\n",
       "      <th>context</th>\n",
       "      <th>label</th>\n",
       "      <th>fold</th>\n",
       "      <th>preds</th>\n",
       "    </tr>\n",
       "  </thead>\n",
       "  <tbody>\n",
       "    <tr>\n",
       "      <th>2342</th>\n",
       "      <td>2284</td>\n",
       "      <td>ANCHOR: arrange in fashion; TARGET:order in fa...</td>\n",
       "      <td>G03</td>\n",
       "      <td>3</td>\n",
       "      <td>0.0</td>\n",
       "      <td>0.501953</td>\n",
       "    </tr>\n",
       "    <tr>\n",
       "      <th>766</th>\n",
       "      <td>426</td>\n",
       "      <td>ANCHOR: acoustooptic modulator; TARGET:optical...</td>\n",
       "      <td>H01</td>\n",
       "      <td>2</td>\n",
       "      <td>0.0</td>\n",
       "      <td>0.898438</td>\n",
       "    </tr>\n",
       "    <tr>\n",
       "      <th>1519</th>\n",
       "      <td>20801</td>\n",
       "      <td>ANCHOR: multiplexed data; TARGET:multiplex date;</td>\n",
       "      <td>H01</td>\n",
       "      <td>3</td>\n",
       "      <td>0.0</td>\n",
       "      <td>0.505859</td>\n",
       "    </tr>\n",
       "    <tr>\n",
       "      <th>1797</th>\n",
       "      <td>29994</td>\n",
       "      <td>ANCHOR: sequence conservation; TARGET:sulfuric...</td>\n",
       "      <td>C12</td>\n",
       "      <td>0</td>\n",
       "      <td>0.0</td>\n",
       "      <td>0.970703</td>\n",
       "    </tr>\n",
       "    <tr>\n",
       "      <th>2556</th>\n",
       "      <td>29631</td>\n",
       "      <td>ANCHOR: selected operation; TARGET:current state;</td>\n",
       "      <td>B64</td>\n",
       "      <td>1</td>\n",
       "      <td>0.0</td>\n",
       "      <td>0.958984</td>\n",
       "    </tr>\n",
       "    <tr>\n",
       "      <th>...</th>\n",
       "      <td>...</td>\n",
       "      <td>...</td>\n",
       "      <td>...</td>\n",
       "      <td>...</td>\n",
       "      <td>...</td>\n",
       "      <td>...</td>\n",
       "    </tr>\n",
       "    <tr>\n",
       "      <th>2557</th>\n",
       "      <td>433</td>\n",
       "      <td>ANCHOR: acoustooptic modulator; TARGET:sound s...</td>\n",
       "      <td>H01</td>\n",
       "      <td>1</td>\n",
       "      <td>0.0</td>\n",
       "      <td>0.911621</td>\n",
       "    </tr>\n",
       "    <tr>\n",
       "      <th>2423</th>\n",
       "      <td>26478</td>\n",
       "      <td>ANCHOR: psd functions; TARGET:psd;</td>\n",
       "      <td>G07</td>\n",
       "      <td>3</td>\n",
       "      <td>0.0</td>\n",
       "      <td>0.934082</td>\n",
       "    </tr>\n",
       "    <tr>\n",
       "      <th>1460</th>\n",
       "      <td>27885</td>\n",
       "      <td>ANCHOR: retaining insert; TARGET:retaining slot;</td>\n",
       "      <td>F01</td>\n",
       "      <td>2</td>\n",
       "      <td>0.0</td>\n",
       "      <td>0.685547</td>\n",
       "    </tr>\n",
       "    <tr>\n",
       "      <th>945</th>\n",
       "      <td>22568</td>\n",
       "      <td>ANCHOR: outer cylindrical electrode; TARGET:ou...</td>\n",
       "      <td>F03</td>\n",
       "      <td>3</td>\n",
       "      <td>0.0</td>\n",
       "      <td>0.572754</td>\n",
       "    </tr>\n",
       "    <tr>\n",
       "      <th>2906</th>\n",
       "      <td>1627</td>\n",
       "      <td>ANCHOR: antiatherosclerotic; TARGET:cholestero...</td>\n",
       "      <td>C07</td>\n",
       "      <td>3</td>\n",
       "      <td>0.0</td>\n",
       "      <td>0.918457</td>\n",
       "    </tr>\n",
       "  </tbody>\n",
       "</table>\n",
       "<p>292 rows × 6 columns</p>\n",
       "</div>"
      ],
      "text/plain": [
       "      index                                              input context  label  \\\n",
       "2342   2284  ANCHOR: arrange in fashion; TARGET:order in fa...     G03      3   \n",
       "766     426  ANCHOR: acoustooptic modulator; TARGET:optical...     H01      2   \n",
       "1519  20801   ANCHOR: multiplexed data; TARGET:multiplex date;     H01      3   \n",
       "1797  29994  ANCHOR: sequence conservation; TARGET:sulfuric...     C12      0   \n",
       "2556  29631  ANCHOR: selected operation; TARGET:current state;     B64      1   \n",
       "...     ...                                                ...     ...    ...   \n",
       "2557    433  ANCHOR: acoustooptic modulator; TARGET:sound s...     H01      1   \n",
       "2423  26478                 ANCHOR: psd functions; TARGET:psd;     G07      3   \n",
       "1460  27885   ANCHOR: retaining insert; TARGET:retaining slot;     F01      2   \n",
       "945   22568  ANCHOR: outer cylindrical electrode; TARGET:ou...     F03      3   \n",
       "2906   1627  ANCHOR: antiatherosclerotic; TARGET:cholestero...     C07      3   \n",
       "\n",
       "      fold     preds  \n",
       "2342   0.0  0.501953  \n",
       "766    0.0  0.898438  \n",
       "1519   0.0  0.505859  \n",
       "1797   0.0  0.970703  \n",
       "2556   0.0  0.958984  \n",
       "...    ...       ...  \n",
       "2557   0.0  0.911621  \n",
       "2423   0.0  0.934082  \n",
       "1460   0.0  0.685547  \n",
       "945    0.0  0.572754  \n",
       "2906   0.0  0.918457  \n",
       "\n",
       "[292 rows x 6 columns]"
      ]
     },
     "execution_count": 28,
     "metadata": {},
     "output_type": "execute_result"
    }
   ],
   "source": [
    "#this is to check if the predictions work on a known dataframe not previosly seen by the model\n",
    "valid_df1['preds'] = probs\n",
    "valid_df1"
   ]
  },
  {
   "cell_type": "code",
   "execution_count": 29,
   "metadata": {
    "execution": {
     "iopub.execute_input": "2024-09-15T14:16:12.036820Z",
     "iopub.status.busy": "2024-09-15T14:16:12.035573Z",
     "iopub.status.idle": "2024-09-15T14:16:12.050794Z",
     "shell.execute_reply": "2024-09-15T14:16:12.049093Z",
     "shell.execute_reply.started": "2024-09-15T14:16:12.036765Z"
    }
   },
   "outputs": [
    {
     "ename": "SyntaxError",
     "evalue": "invalid syntax (3138891026.py, line 1)",
     "output_type": "error",
     "traceback": [
      "\u001b[0;36m  Cell \u001b[0;32mIn[29], line 1\u001b[0;36m\u001b[0m\n\u001b[0;31m    count = valid_df1[(valid_df1['preds'] > 0.8 ) & (valid_df1['label'] == 4)].shape[0] + valid_df1[0.6 <(valid_df1['preds'] <= 0.8  ) & (valid_df1['label'] == 3)].shape[0]+ valid_df1[0.4 <(valid_df1['preds'] <= 0.6 ) & (valid_df1['label'] == 2)].shape[0]+ valid_df1[0.2 <(valid_df1['preds'] <= 0.4  ) & (valid_df1['label'] == 1)].shape[0]+ valid_df1[0 =<(valid_df1['preds'] <= 0.2  ) & (valid_df1['label'] == 0)].shape[0]\u001b[0m\n\u001b[0m                                                                                                                                                                                                                                                                                                                                                                 ^\u001b[0m\n\u001b[0;31mSyntaxError\u001b[0m\u001b[0;31m:\u001b[0m invalid syntax\n"
     ]
    }
   ],
   "source": [
    "#count = valid_df1[(valid_df1['preds'] > 0.8 ) & (valid_df1['label'] == 4)].shape[0] + valid_df1[0.6 <(valid_df1['preds'] <= 0.8  ) & (valid_df1['label'] == 3)].shape[0]+ valid_df1[0.4 <(valid_df1['preds'] <= 0.6 ) & (valid_df1['label'] == 2)].shape[0]+ valid_df1[0.2 <(valid_df1['preds'] <= 0.4  ) & (valid_df1['label'] == 1)].shape[0]+ valid_df1[0 =<(valid_df1['preds'] <= 0.2  ) & (valid_df1['label'] == 0)].shape[0]\n",
    "#print(count, count/valid_df1.shape[0])"
   ]
  },
  {
   "cell_type": "code",
   "execution_count": 30,
   "metadata": {
    "execution": {
     "iopub.execute_input": "2024-09-15T14:21:27.450266Z",
     "iopub.status.busy": "2024-09-15T14:21:27.449754Z",
     "iopub.status.idle": "2024-09-15T14:21:45.931092Z",
     "shell.execute_reply": "2024-09-15T14:21:45.930168Z",
     "shell.execute_reply.started": "2024-09-15T14:21:27.450219Z"
    }
   },
   "outputs": [
    {
     "data": {
      "text/html": [],
      "text/plain": [
       "<IPython.core.display.HTML object>"
      ]
     },
     "metadata": {},
     "output_type": "display_data"
    }
   ],
   "source": [
    "preds = trainer.predict(test_tokenized_ds)#.predictions.astype(float)\n",
    "logits = preds.predictions\n"
   ]
  },
  {
   "cell_type": "code",
   "execution_count": 31,
   "metadata": {
    "execution": {
     "iopub.execute_input": "2024-09-15T14:21:52.401978Z",
     "iopub.status.busy": "2024-09-15T14:21:52.401195Z",
     "iopub.status.idle": "2024-09-15T14:21:52.411027Z",
     "shell.execute_reply": "2024-09-15T14:21:52.409759Z",
     "shell.execute_reply.started": "2024-09-15T14:21:52.401923Z"
    }
   },
   "outputs": [
    {
     "data": {
      "text/plain": [
       "((36,), array([0.7617, 0.4453, 0.8745, 0.955 , 0.8784], dtype=float16))"
      ]
     },
     "execution_count": 31,
     "metadata": {},
     "output_type": "execute_result"
    }
   ],
   "source": [
    "# from scipy.special import expit as sigmoid\n",
    "import numpy as np\n",
    "def sigmoid(x):\n",
    "    #if x > -100:\n",
    "        return 1 / (1 + np.exp(-x))  \n",
    "   # else:\n",
    "       # return 0\n",
    "probs = sigmoid(logits[:, 1])\n",
    "probs.shape, probs[0:5]\n"
   ]
  },
  {
   "cell_type": "code",
   "execution_count": 34,
   "metadata": {
    "execution": {
     "iopub.execute_input": "2024-09-15T14:25:18.608762Z",
     "iopub.status.busy": "2024-09-15T14:25:18.608314Z",
     "iopub.status.idle": "2024-09-15T14:25:18.636233Z",
     "shell.execute_reply": "2024-09-15T14:25:18.635199Z",
     "shell.execute_reply.started": "2024-09-15T14:25:18.608714Z"
    }
   },
   "outputs": [
    {
     "data": {
      "text/html": [
       "<div>\n",
       "<style scoped>\n",
       "    .dataframe tbody tr th:only-of-type {\n",
       "        vertical-align: middle;\n",
       "    }\n",
       "\n",
       "    .dataframe tbody tr th {\n",
       "        vertical-align: top;\n",
       "    }\n",
       "\n",
       "    .dataframe thead th {\n",
       "        text-align: right;\n",
       "    }\n",
       "</style>\n",
       "<table border=\"1\" class=\"dataframe\">\n",
       "  <thead>\n",
       "    <tr style=\"text-align: right;\">\n",
       "      <th></th>\n",
       "      <th>id</th>\n",
       "      <th>score</th>\n",
       "    </tr>\n",
       "  </thead>\n",
       "  <tbody>\n",
       "    <tr>\n",
       "      <th>0</th>\n",
       "      <td>4112d61851461f60</td>\n",
       "      <td>0.75</td>\n",
       "    </tr>\n",
       "    <tr>\n",
       "      <th>1</th>\n",
       "      <td>09e418c93a776564</td>\n",
       "      <td>0.50</td>\n",
       "    </tr>\n",
       "    <tr>\n",
       "      <th>2</th>\n",
       "      <td>36baf228038e314b</td>\n",
       "      <td>1.00</td>\n",
       "    </tr>\n",
       "    <tr>\n",
       "      <th>3</th>\n",
       "      <td>1f37ead645e7f0c8</td>\n",
       "      <td>1.00</td>\n",
       "    </tr>\n",
       "    <tr>\n",
       "      <th>4</th>\n",
       "      <td>71a5b6ad068d531f</td>\n",
       "      <td>1.00</td>\n",
       "    </tr>\n",
       "  </tbody>\n",
       "</table>\n",
       "</div>"
      ],
      "text/plain": [
       "                 id  score\n",
       "0  4112d61851461f60   0.75\n",
       "1  09e418c93a776564   0.50\n",
       "2  36baf228038e314b   1.00\n",
       "3  1f37ead645e7f0c8   1.00\n",
       "4  71a5b6ad068d531f   1.00"
      ]
     },
     "execution_count": 34,
     "metadata": {},
     "output_type": "execute_result"
    }
   ],
   "source": [
    "#this is to provide the sample submission\n",
    "sub = pd.DataFrame()\n",
    "test_df = pd.read_csv('/kaggle/input/us-patent-phrase-to-phrase-matching/test.csv')\n",
    "#sub['id'] = valid_df['id']\n",
    "sub['id'] = test_df['id']\n",
    "import math\n",
    "sub['score'] = probs\n",
    "#sub['score'] = sub['score'].round(2)\n",
    "sub['score'] = sub['score'].apply(lambda x: 0.00 if 0.00 <= x < 0.2 else x)\n",
    "sub['score'] = sub['score'].apply(lambda x: 0.25 if 0.2 <= x < 0.4 else x)\n",
    "sub['score'] = sub['score'].apply(lambda x: 0.50 if 0.4 <= x < 0.6 else x)\n",
    "sub['score'] = sub['score'].apply(lambda x: 0.75 if 0.6 <= x < 0.8 else x)\n",
    "sub['score'] = sub['score'].apply(lambda x: 1.00 if 0.8 <= x <= 1 else x)\n",
    "\n",
    "sub.to_csv('/kaggle/working/submission.csv', index=False)\n",
    "sub.head()"
   ]
  },
  {
   "cell_type": "code",
   "execution_count": 35,
   "metadata": {
    "execution": {
     "iopub.execute_input": "2024-09-15T14:25:27.313681Z",
     "iopub.status.busy": "2024-09-15T14:25:27.313241Z",
     "iopub.status.idle": "2024-09-15T14:25:27.332172Z",
     "shell.execute_reply": "2024-09-15T14:25:27.331095Z",
     "shell.execute_reply.started": "2024-09-15T14:25:27.313637Z"
    }
   },
   "outputs": [
    {
     "data": {
      "text/html": [
       "<div>\n",
       "<style scoped>\n",
       "    .dataframe tbody tr th:only-of-type {\n",
       "        vertical-align: middle;\n",
       "    }\n",
       "\n",
       "    .dataframe tbody tr th {\n",
       "        vertical-align: top;\n",
       "    }\n",
       "\n",
       "    .dataframe thead th {\n",
       "        text-align: right;\n",
       "    }\n",
       "</style>\n",
       "<table border=\"1\" class=\"dataframe\">\n",
       "  <thead>\n",
       "    <tr style=\"text-align: right;\">\n",
       "      <th></th>\n",
       "      <th>id</th>\n",
       "      <th>score</th>\n",
       "    </tr>\n",
       "  </thead>\n",
       "  <tbody>\n",
       "    <tr>\n",
       "      <th>0</th>\n",
       "      <td>4112d61851461f60</td>\n",
       "      <td>0.75</td>\n",
       "    </tr>\n",
       "    <tr>\n",
       "      <th>1</th>\n",
       "      <td>09e418c93a776564</td>\n",
       "      <td>0.50</td>\n",
       "    </tr>\n",
       "    <tr>\n",
       "      <th>2</th>\n",
       "      <td>36baf228038e314b</td>\n",
       "      <td>1.00</td>\n",
       "    </tr>\n",
       "    <tr>\n",
       "      <th>3</th>\n",
       "      <td>1f37ead645e7f0c8</td>\n",
       "      <td>1.00</td>\n",
       "    </tr>\n",
       "    <tr>\n",
       "      <th>4</th>\n",
       "      <td>71a5b6ad068d531f</td>\n",
       "      <td>1.00</td>\n",
       "    </tr>\n",
       "    <tr>\n",
       "      <th>5</th>\n",
       "      <td>474c874d0c07bd21</td>\n",
       "      <td>0.50</td>\n",
       "    </tr>\n",
       "    <tr>\n",
       "      <th>6</th>\n",
       "      <td>442c114ed5c4e3c9</td>\n",
       "      <td>1.00</td>\n",
       "    </tr>\n",
       "    <tr>\n",
       "      <th>7</th>\n",
       "      <td>b8ae62ea5e1d8bdb</td>\n",
       "      <td>1.00</td>\n",
       "    </tr>\n",
       "    <tr>\n",
       "      <th>8</th>\n",
       "      <td>faaddaf8fcba8a3f</td>\n",
       "      <td>1.00</td>\n",
       "    </tr>\n",
       "    <tr>\n",
       "      <th>9</th>\n",
       "      <td>ae0262c02566d2ce</td>\n",
       "      <td>0.25</td>\n",
       "    </tr>\n",
       "    <tr>\n",
       "      <th>10</th>\n",
       "      <td>a8808e31641e856d</td>\n",
       "      <td>1.00</td>\n",
       "    </tr>\n",
       "    <tr>\n",
       "      <th>11</th>\n",
       "      <td>16ae4b99d3601e60</td>\n",
       "      <td>1.00</td>\n",
       "    </tr>\n",
       "    <tr>\n",
       "      <th>12</th>\n",
       "      <td>25c555ca3d5a2092</td>\n",
       "      <td>0.50</td>\n",
       "    </tr>\n",
       "    <tr>\n",
       "      <th>13</th>\n",
       "      <td>5203a36c501f1b7c</td>\n",
       "      <td>0.50</td>\n",
       "    </tr>\n",
       "    <tr>\n",
       "      <th>14</th>\n",
       "      <td>b9fdc772bb8fd61c</td>\n",
       "      <td>0.50</td>\n",
       "    </tr>\n",
       "    <tr>\n",
       "      <th>15</th>\n",
       "      <td>7aa5908a77a7ec24</td>\n",
       "      <td>1.00</td>\n",
       "    </tr>\n",
       "    <tr>\n",
       "      <th>16</th>\n",
       "      <td>d19ef3979396d47e</td>\n",
       "      <td>1.00</td>\n",
       "    </tr>\n",
       "    <tr>\n",
       "      <th>17</th>\n",
       "      <td>fd83613b7843f5e1</td>\n",
       "      <td>1.00</td>\n",
       "    </tr>\n",
       "    <tr>\n",
       "      <th>18</th>\n",
       "      <td>2a619016908bfa45</td>\n",
       "      <td>1.00</td>\n",
       "    </tr>\n",
       "    <tr>\n",
       "      <th>19</th>\n",
       "      <td>733979d75f59770d</td>\n",
       "      <td>1.00</td>\n",
       "    </tr>\n",
       "    <tr>\n",
       "      <th>20</th>\n",
       "      <td>6546846df17f9800</td>\n",
       "      <td>1.00</td>\n",
       "    </tr>\n",
       "    <tr>\n",
       "      <th>21</th>\n",
       "      <td>3ff0e7a35015be69</td>\n",
       "      <td>1.00</td>\n",
       "    </tr>\n",
       "    <tr>\n",
       "      <th>22</th>\n",
       "      <td>12ca31f018a2e2b9</td>\n",
       "      <td>1.00</td>\n",
       "    </tr>\n",
       "    <tr>\n",
       "      <th>23</th>\n",
       "      <td>03ba802ed4029e4d</td>\n",
       "      <td>1.00</td>\n",
       "    </tr>\n",
       "    <tr>\n",
       "      <th>24</th>\n",
       "      <td>c404f8b378cbb008</td>\n",
       "      <td>0.75</td>\n",
       "    </tr>\n",
       "    <tr>\n",
       "      <th>25</th>\n",
       "      <td>78243984c02a72e4</td>\n",
       "      <td>0.75</td>\n",
       "    </tr>\n",
       "    <tr>\n",
       "      <th>26</th>\n",
       "      <td>de51114bc0faec3e</td>\n",
       "      <td>0.75</td>\n",
       "    </tr>\n",
       "    <tr>\n",
       "      <th>27</th>\n",
       "      <td>7e3aff857f056bf9</td>\n",
       "      <td>1.00</td>\n",
       "    </tr>\n",
       "    <tr>\n",
       "      <th>28</th>\n",
       "      <td>26c3c6dc6174b589</td>\n",
       "      <td>1.00</td>\n",
       "    </tr>\n",
       "    <tr>\n",
       "      <th>29</th>\n",
       "      <td>b892011ab2e2cabc</td>\n",
       "      <td>0.50</td>\n",
       "    </tr>\n",
       "    <tr>\n",
       "      <th>30</th>\n",
       "      <td>8247ff562ca185cc</td>\n",
       "      <td>1.00</td>\n",
       "    </tr>\n",
       "    <tr>\n",
       "      <th>31</th>\n",
       "      <td>c057aecbba832387</td>\n",
       "      <td>1.00</td>\n",
       "    </tr>\n",
       "    <tr>\n",
       "      <th>32</th>\n",
       "      <td>9f2279ce667b21dc</td>\n",
       "      <td>0.50</td>\n",
       "    </tr>\n",
       "    <tr>\n",
       "      <th>33</th>\n",
       "      <td>b9ea2b06a878df6f</td>\n",
       "      <td>1.00</td>\n",
       "    </tr>\n",
       "    <tr>\n",
       "      <th>34</th>\n",
       "      <td>79795133c30ef097</td>\n",
       "      <td>1.00</td>\n",
       "    </tr>\n",
       "    <tr>\n",
       "      <th>35</th>\n",
       "      <td>25522ee5411e63e9</td>\n",
       "      <td>1.00</td>\n",
       "    </tr>\n",
       "  </tbody>\n",
       "</table>\n",
       "</div>"
      ],
      "text/plain": [
       "                  id  score\n",
       "0   4112d61851461f60   0.75\n",
       "1   09e418c93a776564   0.50\n",
       "2   36baf228038e314b   1.00\n",
       "3   1f37ead645e7f0c8   1.00\n",
       "4   71a5b6ad068d531f   1.00\n",
       "5   474c874d0c07bd21   0.50\n",
       "6   442c114ed5c4e3c9   1.00\n",
       "7   b8ae62ea5e1d8bdb   1.00\n",
       "8   faaddaf8fcba8a3f   1.00\n",
       "9   ae0262c02566d2ce   0.25\n",
       "10  a8808e31641e856d   1.00\n",
       "11  16ae4b99d3601e60   1.00\n",
       "12  25c555ca3d5a2092   0.50\n",
       "13  5203a36c501f1b7c   0.50\n",
       "14  b9fdc772bb8fd61c   0.50\n",
       "15  7aa5908a77a7ec24   1.00\n",
       "16  d19ef3979396d47e   1.00\n",
       "17  fd83613b7843f5e1   1.00\n",
       "18  2a619016908bfa45   1.00\n",
       "19  733979d75f59770d   1.00\n",
       "20  6546846df17f9800   1.00\n",
       "21  3ff0e7a35015be69   1.00\n",
       "22  12ca31f018a2e2b9   1.00\n",
       "23  03ba802ed4029e4d   1.00\n",
       "24  c404f8b378cbb008   0.75\n",
       "25  78243984c02a72e4   0.75\n",
       "26  de51114bc0faec3e   0.75\n",
       "27  7e3aff857f056bf9   1.00\n",
       "28  26c3c6dc6174b589   1.00\n",
       "29  b892011ab2e2cabc   0.50\n",
       "30  8247ff562ca185cc   1.00\n",
       "31  c057aecbba832387   1.00\n",
       "32  9f2279ce667b21dc   0.50\n",
       "33  b9ea2b06a878df6f   1.00\n",
       "34  79795133c30ef097   1.00\n",
       "35  25522ee5411e63e9   1.00"
      ]
     },
     "execution_count": 35,
     "metadata": {},
     "output_type": "execute_result"
    }
   ],
   "source": [
    "dfs = pd.read_csv('/kaggle/working/submission.csv')\n",
    "dfs"
   ]
  }
 ],
 "metadata": {
  "kaggle": {
   "accelerator": "gpu",
   "dataSources": [
    {
     "databundleVersionId": 3279164,
     "sourceId": 33657,
     "sourceType": "competition"
    },
    {
     "datasetId": 3601853,
     "sourceId": 6266221,
     "sourceType": "datasetVersion"
    },
    {
     "datasetId": 3774343,
     "sourceId": 6528795,
     "sourceType": "datasetVersion"
    },
    {
     "datasetId": 3972872,
     "sourceId": 6921012,
     "sourceType": "datasetVersion"
    },
    {
     "datasetId": 4225280,
     "sourceId": 7286316,
     "sourceType": "datasetVersion"
    },
    {
     "datasetId": 4822801,
     "sourceId": 8153733,
     "sourceType": "datasetVersion"
    },
    {
     "datasetId": 4913635,
     "sourceId": 8274980,
     "sourceType": "datasetVersion"
    },
    {
     "datasetId": 5700155,
     "sourceId": 9392708,
     "sourceType": "datasetVersion"
    },
    {
     "sourceId": 148861315,
     "sourceType": "kernelVersion"
    }
   ],
   "dockerImageVersionId": 30762,
   "isGpuEnabled": true,
   "isInternetEnabled": false,
   "language": "python",
   "sourceType": "notebook"
  },
  "kernelspec": {
   "display_name": "Python 3 (ipykernel)",
   "language": "python",
   "name": "python3"
  },
  "language_info": {
   "codemirror_mode": {
    "name": "ipython",
    "version": 3
   },
   "file_extension": ".py",
   "mimetype": "text/x-python",
   "name": "python",
   "nbconvert_exporter": "python",
   "pygments_lexer": "ipython3",
   "version": "3.9.7"
  }
 },
 "nbformat": 4,
 "nbformat_minor": 4
}
