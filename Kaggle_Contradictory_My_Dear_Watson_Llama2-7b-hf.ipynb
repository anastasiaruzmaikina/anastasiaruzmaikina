{
 "cells": [
  {
   "cell_type": "code",
   "execution_count": null,
   "metadata": {},
   "outputs": [],
   "source": [
    "#This notebook is by Anastasia Ruzmaikina for the Kaggle Competition Contradictory, My Dear Watson"
   ]
  },
  {
   "cell_type": "markdown",
   "metadata": {},
   "source": [
    "If you have two sentences, there are three ways they could be related: one could entail the other, one could contradict the other, or they could be unrelated. Natural Language Inferencing (NLI) is a popular NLP problem that involves determining how pairs of sentences (consisting of a premise and a hypothesis) are related.\n",
    "\n",
    "Your task is to create an NLI model that assigns labels of 0, 1, or 2 (corresponding to entailment, neutral, and contradiction\n",
    ") to pairs of premises and hypotheses. To make things more interesting, the train and test set include text in fifteen different languages!\n",
    "\n",
    "In this notebook, I use Llama-2-7b-hf to analyze how pairs of sentences are related. This notebook has 69.2% accuracy on the validation dataset which the model has not seen before. I read that Llama does not like some foreign languages, and this may be the reason that DebertaV3 outperforms Llama2 on this task."
   ]
  },
  {
   "cell_type": "code",
   "execution_count": null,
   "metadata": {
    "_cell_guid": "b1076dfc-b9ad-4769-8c92-a6c4dae69d19",
    "_uuid": "8f2839f25d086af736a60e9eeb907d3b93b6e0e5"
   },
   "outputs": [],
   "source": [
    "# This Python 3 environment comes with many helpful analytics libraries installed\n",
    "# It is defined by the kaggle/python Docker image: https://github.com/kaggle/docker-python\n",
    "# For example, here's several helpful packages to load\n",
    "\n",
    "import numpy as np # linear algebra\n",
    "import pandas as pd # data processing, CSV file I/O (e.g. pd.read_csv)\n",
    "\n",
    "# Input data files are available in the read-only \"../input/\" directory\n",
    "# For example, running this (by clicking run or pressing Shift+Enter) will list all files under the input directory\n",
    "\n",
    "import os\n",
    "for dirname, _, filenames in os.walk('/kaggle/input'):\n",
    "    for filename in filenames:\n",
    "        #print(os.path.join(dirname, filename))\n",
    "        pass\n",
    "\n",
    "# You can write up to 20GB to the current directory (/kaggle/working/) that gets preserved as output when you create a version using \"Save & Run All\" \n",
    "# You can also write temporary files to /kaggle/temp/, but they won't be saved outside of the current session"
   ]
  },
  {
   "cell_type": "code",
   "execution_count": 2,
   "metadata": {
    "execution": {
     "iopub.execute_input": "2024-10-21T10:55:36.451802Z",
     "iopub.status.busy": "2024-10-21T10:55:36.451392Z",
     "iopub.status.idle": "2024-10-21T10:58:05.372715Z",
     "shell.execute_reply": "2024-10-21T10:58:05.371570Z",
     "shell.execute_reply.started": "2024-10-21T10:55:36.451768Z"
    }
   },
   "outputs": [
    {
     "name": "stdout",
     "output_type": "stream",
     "text": [
      "\n",
      "Usage:   \n",
      "  pip install [options] <requirement specifier> [package-index-options] ...\n",
      "  pip install [options] -r <requirements file> [package-index-options] ...\n",
      "  pip install [options] [-e] <vcs project url> ...\n",
      "  pip install [options] [-e] <local project path> ...\n",
      "  pip install [options] <archive url/path> ...\n",
      "\n",
      "ambiguous option: --no-dep (--no-dependencies, --no-deps?)\n",
      "\n",
      "Usage:   \n",
      "  pip install [options] <requirement specifier> [package-index-options] ...\n",
      "  pip install [options] -r <requirements file> [package-index-options] ...\n",
      "  pip install [options] [-e] <vcs project url> ...\n",
      "  pip install [options] [-e] <local project path> ...\n",
      "  pip install [options] <archive url/path> ...\n",
      "\n",
      "ambiguous option: --no-dep (--no-dependencies, --no-deps?)\n"
     ]
    }
   ],
   "source": [
    "# Install package for inferences\n",
    "!pip install -qq --no-deps /kaggle/input/daigt-pip/peft-0.6.0-py3-none-any.whl --use-deprecated=legacy-resolver\n",
    "!pip install -qq --no-deps /kaggle/input/daigt-pip/transformers-4.35.0-py3-none-any.whl --use-deprecated=legacy-resolver\n",
    "!pip install -qq --no-deps /kaggle/input/daigt-pip/tokenizers-0.14.1-cp310-cp310-manylinux_2_17_x86_64.manylinux2014_x86_64.whl --use-deprecated=legacy-resolver\n",
    "!pip install -qq --no-deps /kaggle/input/accelerate-and-bitsandbytes/accelerate-0.29.3-py3-none-any.whl --use-deprecated=legacy-resolver\n",
    "!pip install -qq --no-deps /kaggle/input/accelerate-and-bitsandbytes/bitsandbytes-0.43.1-py3-none-manylinux_2_24_x86_64.whl --use-deprecated=legacy-resolver\n",
    "!pip install -qq --no-deps /kaggle/input/daigt-pip/optimum-1.14.0-py3-none-any.whl --use-deprecated=legacy-resolver\n",
    "#!pip install -qq --no-deps /kaggle/input/llm-detect-pip/accelerate-0.24.1-py3-none-any.whl\n",
    "#!pip install -qq --no-deps /kaggle/input/llm-detect-pip/bitsandbytes-0.41.1-py3-none-any.whl\n",
    "#!os.register_at_fork()\n",
    "!pip install -qq --no-dep /kaggle/input/bitsandbytes-accelerate/packages/accelerate-1.0.1-py3-none-any.whl --use-deprecated=legacy-resolver\n",
    "!pip install -qq --no-dep /kaggle/input/bitsandbytes-accelerate/packages/bitsandbytes-0.42.0-py3-none-any.whl --use-deprecated=legacy-resolver"
   ]
  },
  {
   "cell_type": "code",
   "execution_count": 3,
   "metadata": {
    "execution": {
     "iopub.execute_input": "2024-10-21T10:58:05.374629Z",
     "iopub.status.busy": "2024-10-21T10:58:05.374298Z",
     "iopub.status.idle": "2024-10-21T11:00:27.065475Z",
     "shell.execute_reply": "2024-10-21T11:00:27.064283Z",
     "shell.execute_reply.started": "2024-10-21T10:58:05.374595Z"
    }
   },
   "outputs": [],
   "source": [
    "#!pip install -q -U peft --no-index --find-links ../input/llm-detect-pip/ --use-deprecated=legacy-resolver\n",
    "#!pip install -q -U accelerate --no-index --find-links ../input/llm-detect-pip/ --use-deprecated=legacy-resolver\n",
    "#!pip install -q -U bitsandbytes --no-index --find-links ../input/llm-detect-pip/ --use-deprecated=legacy-resolver\n",
    "#!pip install -q -U transformers --no-index --find-links ../input/llm-detect-pip/ --use-deprecated=legacy-resolver\n",
    "# Install package for inferences\n",
    "#!pip install -qq --no-deps /kaggle/input/hf-libraries/bitsandbytes --use-deprecated=legacy-resolver\n",
    "!pip install -qq --no-deps /kaggle/input/daigt-pip/peft-0.6.0-py3-none-any.whl --use-deprecated=legacy-resolver\n",
    "#!pip install -qq --no-deps /kaggle/input/daigt-pip/transformers-4.35.0-py3-none-any.whl \n",
    "#!pip install -qq --no-deps /kaggle/input/daigt-pip/tokenizers-0.14.1-cp310-cp310-manylinux_2_17_x86_64.manylinux2014_x86_64.whl\n",
    "!pip install -qq --no-deps /kaggle/input/daigt-pip/optimum-1.14.0-py3-none-any.whl --use-deprecated=legacy-resolver\n",
    "!pip install -qq --no-deps /kaggle/input/llm-detect-pip/accelerate-0.24.1-py3-none-any.whl  --use-deprecated=legacy-resolver\n",
    "!pip install -qq --no-deps /kaggle/input/llm-detect-pip/bitsandbytes-0.41.1-py3-none-any.whl --use-deprecated=legacy-resolver\n",
    "#!pip install -qq --no-deps /kaggle/input/bitsandbytes-0-42-0 --use-deprecated=legacy-resolver\n",
    "!pip install -qq --no-deps /kaggle/input/llama3-1-dependencies/dependencies/bitsandbytes-0.43.2-py3-none-manylinux_2_24_x86_64.whl  --use-deprecated=legacy-resolver\n",
    "!pip install -qq --no-deps /kaggle/input/llama3-1-dependencies/dependencies/accelerate-0.33.0-py3-none-any.whl  --use-deprecated=legacy-resolver"
   ]
  },
  {
   "cell_type": "code",
   "execution_count": 4,
   "metadata": {
    "execution": {
     "iopub.execute_input": "2024-10-21T11:00:27.068976Z",
     "iopub.status.busy": "2024-10-21T11:00:27.068550Z",
     "iopub.status.idle": "2024-10-21T11:00:27.073766Z",
     "shell.execute_reply": "2024-10-21T11:00:27.072840Z",
     "shell.execute_reply.started": "2024-10-21T11:00:27.068930Z"
    }
   },
   "outputs": [],
   "source": [
    "from __future__ import annotations\n",
    "\n",
    "TARGET_MODEL = '/kaggle/input/llama2-7b-hf' #'/kaggle/input/llama2-7b-hf/Llama2-7b-hf'#\"mistralai/Mistral-7B-v0.1\"\n",
    "\n",
    "DEBUG = False"
   ]
  },
  {
   "cell_type": "code",
   "execution_count": 5,
   "metadata": {
    "execution": {
     "iopub.execute_input": "2024-10-21T11:00:27.075454Z",
     "iopub.status.busy": "2024-10-21T11:00:27.075077Z",
     "iopub.status.idle": "2024-10-21T11:00:27.087068Z",
     "shell.execute_reply": "2024-10-21T11:00:27.086400Z",
     "shell.execute_reply.started": "2024-10-21T11:00:27.075410Z"
    }
   },
   "outputs": [],
   "source": [
    "# ====================================================\n",
    "# Directory settings\n",
    "# ====================================================\n",
    "from pathlib import Path\n",
    "\n",
    "OUTPUT_DIR = Path(\"./\")\n",
    "OUTPUT_DIR.mkdir(exist_ok=True, parents=True)\n",
    "\n",
    "INPUT_DIR = Path(\"../input/\")"
   ]
  },
  {
   "cell_type": "code",
   "execution_count": 6,
   "metadata": {
    "execution": {
     "iopub.execute_input": "2024-10-21T11:00:27.088626Z",
     "iopub.status.busy": "2024-10-21T11:00:27.088252Z",
     "iopub.status.idle": "2024-10-21T11:00:27.324519Z",
     "shell.execute_reply": "2024-10-21T11:00:27.323747Z",
     "shell.execute_reply.started": "2024-10-21T11:00:27.088586Z"
    }
   },
   "outputs": [],
   "source": [
    "import pandas as pd\n",
    "train_df = pd.read_csv(INPUT_DIR / \"/kaggle/input/contradictory-my-dear-watson/train.csv\", sep=',')\n",
    "test_df = pd.read_csv(INPUT_DIR / \"/kaggle/input/contradictory-my-dear-watson/test.csv\", sep=',')\n",
    "external_df = pd.read_csv(INPUT_DIR / \"/kaggle/input/contradictory-my-dear-watson/train.csv\", sep=',')\n",
    "train_df['input'] = 'PREMISE: ' + train_df.premise + '; HYPOTHESSIS:' + train_df.hypothesis + ';'\n",
    "train_df.insert(1, 'input', train_df.pop('input'))\n",
    "test_df['input'] = 'PREMISE: ' + test_df.premise + '; HYPOTHESSIS:' + test_df.hypothesis + ';'\n",
    "test_df.insert(1, 'input', test_df.pop('input'))\n"
   ]
  },
  {
   "cell_type": "code",
   "execution_count": 7,
   "metadata": {
    "execution": {
     "iopub.execute_input": "2024-10-21T11:00:27.326157Z",
     "iopub.status.busy": "2024-10-21T11:00:27.325753Z",
     "iopub.status.idle": "2024-10-21T11:00:27.345417Z",
     "shell.execute_reply": "2024-10-21T11:00:27.344536Z",
     "shell.execute_reply.started": "2024-10-21T11:00:27.326111Z"
    }
   },
   "outputs": [
    {
     "data": {
      "text/html": [
       "<div>\n",
       "<style scoped>\n",
       "    .dataframe tbody tr th:only-of-type {\n",
       "        vertical-align: middle;\n",
       "    }\n",
       "\n",
       "    .dataframe tbody tr th {\n",
       "        vertical-align: top;\n",
       "    }\n",
       "\n",
       "    .dataframe thead th {\n",
       "        text-align: right;\n",
       "    }\n",
       "</style>\n",
       "<table border=\"1\" class=\"dataframe\">\n",
       "  <thead>\n",
       "    <tr style=\"text-align: right;\">\n",
       "      <th></th>\n",
       "      <th>input</th>\n",
       "    </tr>\n",
       "  </thead>\n",
       "  <tbody>\n",
       "    <tr>\n",
       "      <th>0</th>\n",
       "      <td>PREMISE: بکس، کیسی، راہیل، یسعیاہ، کیلی، کیلی،...</td>\n",
       "    </tr>\n",
       "    <tr>\n",
       "      <th>1</th>\n",
       "      <td>PREMISE: هذا هو ما تم نصحنا به.; HYPOTHESSIS:ع...</td>\n",
       "    </tr>\n",
       "    <tr>\n",
       "      <th>2</th>\n",
       "      <td>PREMISE: et cela est en grande partie dû au fa...</td>\n",
       "    </tr>\n",
       "    <tr>\n",
       "      <th>3</th>\n",
       "      <td>PREMISE: 与城市及其他公民及社区组织代表就IMA的艺术发展进行对话&amp;amp; HYP...</td>\n",
       "    </tr>\n",
       "    <tr>\n",
       "      <th>4</th>\n",
       "      <td>PREMISE: Она все еще была там.; HYPOTHESSIS:Мы...</td>\n",
       "    </tr>\n",
       "    <tr>\n",
       "      <th>...</th>\n",
       "      <td>...</td>\n",
       "    </tr>\n",
       "    <tr>\n",
       "      <th>5190</th>\n",
       "      <td>PREMISE: نیند نے وعدہ کیا کہ موٹل نے سوال میں ...</td>\n",
       "    </tr>\n",
       "    <tr>\n",
       "      <th>5191</th>\n",
       "      <td>PREMISE: The  rock  has a soft texture and can...</td>\n",
       "    </tr>\n",
       "    <tr>\n",
       "      <th>5192</th>\n",
       "      <td>PREMISE: 她目前的存在，并考虑到他与沃佛斯顿争执的本质，那是尴尬的。; HYPOTH...</td>\n",
       "    </tr>\n",
       "    <tr>\n",
       "      <th>5193</th>\n",
       "      <td>PREMISE: isn't it i can remember i've only bee...</td>\n",
       "    </tr>\n",
       "    <tr>\n",
       "      <th>5194</th>\n",
       "      <td>PREMISE: In Hong Kong you can have a plate, or...</td>\n",
       "    </tr>\n",
       "  </tbody>\n",
       "</table>\n",
       "<p>5195 rows × 1 columns</p>\n",
       "</div>"
      ],
      "text/plain": [
       "                                                  input\n",
       "0     PREMISE: بکس، کیسی، راہیل، یسعیاہ، کیلی، کیلی،...\n",
       "1     PREMISE: هذا هو ما تم نصحنا به.; HYPOTHESSIS:ع...\n",
       "2     PREMISE: et cela est en grande partie dû au fa...\n",
       "3     PREMISE: 与城市及其他公民及社区组织代表就IMA的艺术发展进行对话&amp; HYP...\n",
       "4     PREMISE: Она все еще была там.; HYPOTHESSIS:Мы...\n",
       "...                                                 ...\n",
       "5190  PREMISE: نیند نے وعدہ کیا کہ موٹل نے سوال میں ...\n",
       "5191  PREMISE: The  rock  has a soft texture and can...\n",
       "5192  PREMISE: 她目前的存在，并考虑到他与沃佛斯顿争执的本质，那是尴尬的。; HYPOTH...\n",
       "5193  PREMISE: isn't it i can remember i've only bee...\n",
       "5194  PREMISE: In Hong Kong you can have a plate, or...\n",
       "\n",
       "[5195 rows x 1 columns]"
      ]
     },
     "execution_count": 7,
     "metadata": {},
     "output_type": "execute_result"
    }
   ],
   "source": [
    "# rename column generated to label\n",
    "\n",
    "#train_df = train_df.rename(columns={'label': 'label'})\n",
    "#test_df = test_df.rename(columns={'label': 'label'})\n",
    "#external_df = external_df.rename(columns={'label': 'label'})\n",
    "test_df = test_df.drop(['id','lang_abv', 'language', 'premise', 'hypothesis'], axis=1)\n",
    "test_df.reset_index(inplace=True, drop=True)\n",
    "test_df"
   ]
  },
  {
   "cell_type": "code",
   "execution_count": 8,
   "metadata": {
    "execution": {
     "iopub.execute_input": "2024-10-21T11:00:27.347164Z",
     "iopub.status.busy": "2024-10-21T11:00:27.346859Z",
     "iopub.status.idle": "2024-10-21T11:00:27.360267Z",
     "shell.execute_reply": "2024-10-21T11:00:27.359395Z",
     "shell.execute_reply.started": "2024-10-21T11:00:27.347132Z"
    }
   },
   "outputs": [
    {
     "name": "stdout",
     "output_type": "stream",
     "text": [
      "Train dataframe has shape: (12120, 2)\n"
     ]
    },
    {
     "data": {
      "text/html": [
       "<div>\n",
       "<style scoped>\n",
       "    .dataframe tbody tr th:only-of-type {\n",
       "        vertical-align: middle;\n",
       "    }\n",
       "\n",
       "    .dataframe tbody tr th {\n",
       "        vertical-align: top;\n",
       "    }\n",
       "\n",
       "    .dataframe thead th {\n",
       "        text-align: right;\n",
       "    }\n",
       "</style>\n",
       "<table border=\"1\" class=\"dataframe\">\n",
       "  <thead>\n",
       "    <tr style=\"text-align: right;\">\n",
       "      <th></th>\n",
       "      <th>input</th>\n",
       "      <th>label</th>\n",
       "    </tr>\n",
       "  </thead>\n",
       "  <tbody>\n",
       "    <tr>\n",
       "      <th>0</th>\n",
       "      <td>PREMISE: and these comments were considered in...</td>\n",
       "      <td>0</td>\n",
       "    </tr>\n",
       "    <tr>\n",
       "      <th>1</th>\n",
       "      <td>PREMISE: These are issues that we wrestle with...</td>\n",
       "      <td>2</td>\n",
       "    </tr>\n",
       "    <tr>\n",
       "      <th>2</th>\n",
       "      <td>PREMISE: Des petites choses comme celles-là fo...</td>\n",
       "      <td>0</td>\n",
       "    </tr>\n",
       "    <tr>\n",
       "      <th>3</th>\n",
       "      <td>PREMISE: you know they can't really defend the...</td>\n",
       "      <td>0</td>\n",
       "    </tr>\n",
       "    <tr>\n",
       "      <th>4</th>\n",
       "      <td>PREMISE: ในการเล่นบทบาทสมมุติก็เช่นกัน โอกาสที...</td>\n",
       "      <td>1</td>\n",
       "    </tr>\n",
       "  </tbody>\n",
       "</table>\n",
       "</div>"
      ],
      "text/plain": [
       "                                               input  label\n",
       "0  PREMISE: and these comments were considered in...      0\n",
       "1  PREMISE: These are issues that we wrestle with...      2\n",
       "2  PREMISE: Des petites choses comme celles-là fo...      0\n",
       "3  PREMISE: you know they can't really defend the...      0\n",
       "4  PREMISE: ในการเล่นบทบาทสมมุติก็เช่นกัน โอกาสที...      1"
      ]
     },
     "execution_count": 8,
     "metadata": {},
     "output_type": "execute_result"
    }
   ],
   "source": [
    "#train_df = pd.concat([train_df, external_df])\n",
    "train_df = train_df.drop(['id','lang_abv', 'language', 'premise', 'hypothesis'], axis=1)\n",
    "train_df.reset_index(inplace=True, drop=True)\n",
    "print(f\"Train dataframe has shape: {train_df.shape}\")\n",
    "train_df.head()"
   ]
  },
  {
   "cell_type": "code",
   "execution_count": 9,
   "metadata": {
    "execution": {
     "iopub.execute_input": "2024-10-21T11:00:27.361684Z",
     "iopub.status.busy": "2024-10-21T11:00:27.361401Z",
     "iopub.status.idle": "2024-10-21T11:00:27.990114Z",
     "shell.execute_reply": "2024-10-21T11:00:27.989279Z",
     "shell.execute_reply.started": "2024-10-21T11:00:27.361653Z"
    }
   },
   "outputs": [
    {
     "name": "stdout",
     "output_type": "stream",
     "text": [
      "fold  label\n",
      "0.0   0        836\n",
      "      2        812\n",
      "      1        776\n",
      "1.0   0        835\n",
      "      2        813\n",
      "      1        776\n",
      "2.0   0        835\n",
      "      2        813\n",
      "      1        776\n",
      "3.0   0        835\n",
      "      2        813\n",
      "      1        776\n",
      "4.0   0        835\n",
      "      2        813\n",
      "      1        776\n",
      "Name: count, dtype: int64\n"
     ]
    },
    {
     "data": {
      "text/html": [
       "<div>\n",
       "<style scoped>\n",
       "    .dataframe tbody tr th:only-of-type {\n",
       "        vertical-align: middle;\n",
       "    }\n",
       "\n",
       "    .dataframe tbody tr th {\n",
       "        vertical-align: top;\n",
       "    }\n",
       "\n",
       "    .dataframe thead th {\n",
       "        text-align: right;\n",
       "    }\n",
       "</style>\n",
       "<table border=\"1\" class=\"dataframe\">\n",
       "  <thead>\n",
       "    <tr style=\"text-align: right;\">\n",
       "      <th></th>\n",
       "      <th>input</th>\n",
       "      <th>label</th>\n",
       "      <th>fold</th>\n",
       "    </tr>\n",
       "  </thead>\n",
       "  <tbody>\n",
       "    <tr>\n",
       "      <th>0</th>\n",
       "      <td>PREMISE: and these comments were considered in...</td>\n",
       "      <td>0</td>\n",
       "      <td>1.0</td>\n",
       "    </tr>\n",
       "    <tr>\n",
       "      <th>1</th>\n",
       "      <td>PREMISE: These are issues that we wrestle with...</td>\n",
       "      <td>2</td>\n",
       "      <td>1.0</td>\n",
       "    </tr>\n",
       "    <tr>\n",
       "      <th>2</th>\n",
       "      <td>PREMISE: Des petites choses comme celles-là fo...</td>\n",
       "      <td>0</td>\n",
       "      <td>1.0</td>\n",
       "    </tr>\n",
       "    <tr>\n",
       "      <th>3</th>\n",
       "      <td>PREMISE: you know they can't really defend the...</td>\n",
       "      <td>0</td>\n",
       "      <td>0.0</td>\n",
       "    </tr>\n",
       "    <tr>\n",
       "      <th>4</th>\n",
       "      <td>PREMISE: ในการเล่นบทบาทสมมุติก็เช่นกัน โอกาสที...</td>\n",
       "      <td>1</td>\n",
       "      <td>2.0</td>\n",
       "    </tr>\n",
       "  </tbody>\n",
       "</table>\n",
       "</div>"
      ],
      "text/plain": [
       "                                               input  label  fold\n",
       "0  PREMISE: and these comments were considered in...      0   1.0\n",
       "1  PREMISE: These are issues that we wrestle with...      2   1.0\n",
       "2  PREMISE: Des petites choses comme celles-là fo...      0   1.0\n",
       "3  PREMISE: you know they can't really defend the...      0   0.0\n",
       "4  PREMISE: ในการเล่นบทบาทสมมุติก็เช่นกัน โอกาสที...      1   2.0"
      ]
     },
     "execution_count": 9,
     "metadata": {},
     "output_type": "execute_result"
    }
   ],
   "source": [
    "from sklearn.model_selection import StratifiedKFold\n",
    "\n",
    "skf = StratifiedKFold(n_splits=5, shuffle=True, random_state=42)\n",
    "X = train_df.loc[:, train_df.columns != \"label\"]\n",
    "y = train_df.loc[:, train_df.columns == \"label\"]\n",
    "\n",
    "for i, (train_index, valid_index) in enumerate(skf.split(X, y)):\n",
    "    train_df.loc[valid_index, \"fold\"] = i\n",
    "    \n",
    "print(train_df.groupby(\"fold\")[\"label\"].value_counts())\n",
    "train_df.head()"
   ]
  },
  {
   "cell_type": "code",
   "execution_count": 10,
   "metadata": {
    "execution": {
     "iopub.execute_input": "2024-10-21T11:00:27.993849Z",
     "iopub.status.busy": "2024-10-21T11:00:27.993463Z",
     "iopub.status.idle": "2024-10-21T11:00:28.001282Z",
     "shell.execute_reply": "2024-10-21T11:00:28.000433Z",
     "shell.execute_reply.started": "2024-10-21T11:00:27.993817Z"
    }
   },
   "outputs": [
    {
     "name": "stdout",
     "output_type": "stream",
     "text": [
      "(9696, 3)\n",
      "(2424, 3)\n"
     ]
    }
   ],
   "source": [
    "# fold0 as valid\n",
    "valid_df = train_df[train_df[\"fold\"] == 0]\n",
    "train_df = train_df[train_df[\"fold\"] != 0]\n",
    "print(train_df.shape)\n",
    "print(valid_df.shape)"
   ]
  },
  {
   "cell_type": "code",
   "execution_count": 11,
   "metadata": {
    "execution": {
     "iopub.execute_input": "2024-10-21T11:00:28.002679Z",
     "iopub.status.busy": "2024-10-21T11:00:28.002330Z",
     "iopub.status.idle": "2024-10-21T11:00:34.006118Z",
     "shell.execute_reply": "2024-10-21T11:00:34.005135Z",
     "shell.execute_reply.started": "2024-10-21T11:00:28.002647Z"
    }
   },
   "outputs": [
    {
     "name": "stderr",
     "output_type": "stream",
     "text": [
      "/opt/conda/lib/python3.10/site-packages/transformers/utils/generic.py:441: FutureWarning: `torch.utils._pytree._register_pytree_node` is deprecated. Please use `torch.utils._pytree.register_pytree_node` instead.\n",
      "  _torch_pytree._register_pytree_node(\n",
      "/opt/conda/lib/python3.10/site-packages/transformers/utils/generic.py:309: FutureWarning: `torch.utils._pytree._register_pytree_node` is deprecated. Please use `torch.utils._pytree.register_pytree_node` instead.\n",
      "  _torch_pytree._register_pytree_node(\n"
     ]
    }
   ],
   "source": [
    "from peft import get_peft_config, PeftModel, PeftConfig, get_peft_model, LoraConfig, TaskType # type: ignore\n",
    "from transformers import BitsAndBytesConfig\n",
    "import torch\n",
    "\n",
    "peft_config = LoraConfig(\n",
    "    r=4, #\n",
    "    lora_alpha=16,\n",
    "    lora_dropout=0.1,\n",
    "    bias=\"none\",\n",
    "    task_type=TaskType.SEQ_CLS,\n",
    "    inference_mode=False,\n",
    "    target_modules=[\n",
    "        \"q_proj\",\n",
    "        \"v_proj\"\n",
    "    ],\n",
    ")\n",
    "\n",
    "bnb_config = BitsAndBytesConfig(\n",
    "    load_in_4bit=True,\n",
    "    bnb_4bit_quant_type=\"nf4\",\n",
    "    bnb_4bit_use_double_quant=True,\n",
    "    bnb_4bit_compute_dtype=torch.bfloat16\n",
    ")"
   ]
  },
  {
   "cell_type": "code",
   "execution_count": 12,
   "metadata": {
    "execution": {
     "iopub.execute_input": "2024-10-21T11:00:34.009364Z",
     "iopub.status.busy": "2024-10-21T11:00:34.008848Z",
     "iopub.status.idle": "2024-10-21T11:00:34.274491Z",
     "shell.execute_reply": "2024-10-21T11:00:34.273717Z",
     "shell.execute_reply.started": "2024-10-21T11:00:34.009327Z"
    }
   },
   "outputs": [],
   "source": [
    "from transformers import AutoTokenizer, LlamaForSequenceClassification\n",
    "\n",
    "tokenizer = AutoTokenizer.from_pretrained(TARGET_MODEL, use_fast=False)\n",
    "tokenizer.pad_token = tokenizer.eos_token"
   ]
  },
  {
   "cell_type": "code",
   "execution_count": 13,
   "metadata": {
    "execution": {
     "iopub.execute_input": "2024-10-21T11:00:34.276334Z",
     "iopub.status.busy": "2024-10-21T11:00:34.275733Z",
     "iopub.status.idle": "2024-10-21T11:02:13.541352Z",
     "shell.execute_reply": "2024-10-21T11:02:13.540590Z",
     "shell.execute_reply.started": "2024-10-21T11:00:34.276289Z"
    }
   },
   "outputs": [
    {
     "data": {
      "application/vnd.jupyter.widget-view+json": {
       "model_id": "7d9928e6e398466089ade12d5d46547d",
       "version_major": 2,
       "version_minor": 0
      },
      "text/plain": [
       "Loading checkpoint shards:   0%|          | 0/2 [00:00<?, ?it/s]"
      ]
     },
     "metadata": {},
     "output_type": "display_data"
    },
    {
     "name": "stderr",
     "output_type": "stream",
     "text": [
      "/opt/conda/lib/python3.10/site-packages/transformers/modeling_utils.py:484: FutureWarning: You are using `torch.load` with `weights_only=False` (the current default value), which uses the default pickle module implicitly. It is possible to construct malicious pickle data which will execute arbitrary code during unpickling (See https://github.com/pytorch/pytorch/blob/main/SECURITY.md#untrusted-models for more details). In a future release, the default value for `weights_only` will be flipped to `True`. This limits the functions that could be executed during unpickling. Arbitrary objects will no longer be allowed to be loaded via this mode unless they are explicitly allowlisted by the user via `torch.serialization.add_safe_globals`. We recommend you start setting `weights_only=True` for any use case where you don't have full control of the loaded file. Please open an issue on GitHub for any issues related to this experimental feature.\n",
      "  return torch.load(checkpoint_file, map_location=map_location)\n",
      "Some weights of LlamaForSequenceClassification were not initialized from the model checkpoint at /kaggle/input/llama2-7b-hf and are newly initialized: ['score.weight']\n",
      "You should probably TRAIN this model on a down-stream task to be able to use it for predictions and inference.\n"
     ]
    }
   ],
   "source": [
    "base_model = LlamaForSequenceClassification.from_pretrained(\n",
    "    TARGET_MODEL,\n",
    "    num_labels=3,\n",
    "    quantization_config=bnb_config,\n",
    "    device_map={\"\":0}\n",
    ")\n",
    "base_model.config.pretraining_tp = 1 # 1 is 7b\n",
    "base_model.config.pad_token_id = tokenizer.pad_token_id\n"
   ]
  },
  {
   "cell_type": "code",
   "execution_count": 14,
   "metadata": {
    "execution": {
     "iopub.execute_input": "2024-10-21T11:02:13.542851Z",
     "iopub.status.busy": "2024-10-21T11:02:13.542525Z",
     "iopub.status.idle": "2024-10-21T11:02:13.652566Z",
     "shell.execute_reply": "2024-10-21T11:02:13.651853Z",
     "shell.execute_reply.started": "2024-10-21T11:02:13.542817Z"
    }
   },
   "outputs": [],
   "source": [
    "model = get_peft_model(base_model, peft_config)"
   ]
  },
  {
   "cell_type": "code",
   "execution_count": 15,
   "metadata": {
    "execution": {
     "iopub.execute_input": "2024-10-21T11:02:13.653947Z",
     "iopub.status.busy": "2024-10-21T11:02:13.653658Z",
     "iopub.status.idle": "2024-10-21T11:02:13.662026Z",
     "shell.execute_reply": "2024-10-21T11:02:13.660973Z",
     "shell.execute_reply.started": "2024-10-21T11:02:13.653915Z"
    }
   },
   "outputs": [
    {
     "name": "stdout",
     "output_type": "stream",
     "text": [
      "trainable params: 2,109,440 || all params: 6,609,465,344 || trainable%: 0.03191544081420938\n"
     ]
    }
   ],
   "source": [
    "model.print_trainable_parameters()"
   ]
  },
  {
   "cell_type": "code",
   "execution_count": 16,
   "metadata": {
    "execution": {
     "iopub.execute_input": "2024-10-21T11:02:13.664032Z",
     "iopub.status.busy": "2024-10-21T11:02:13.663387Z",
     "iopub.status.idle": "2024-10-21T11:02:13.683487Z",
     "shell.execute_reply": "2024-10-21T11:02:13.682592Z",
     "shell.execute_reply.started": "2024-10-21T11:02:13.663964Z"
    }
   },
   "outputs": [
    {
     "name": "stdout",
     "output_type": "stream",
     "text": [
      "                                                   input  label  fold\n",
      "4146   PREMISE: uh-huh uh-huh uh-huh yeah well that's...      1   4.0\n",
      "11117  PREMISE: He's chosen Meg Ryan.; HYPOTHESSIS:A ...      2   3.0\n",
      "4287   PREMISE: راودته أفكار دموية حول ذلك وحول أشياء...      1   4.0\n",
      "11695  PREMISE: แต่แม้ว่าตอนฉันจะเป็นเด็กชาย ฉันอาศัย...      0   3.0\n",
      "10258  PREMISE: วิทยาลัยพยาบาลต้องการของขวัญเพื่อแสดง...      0   2.0\n",
      "label\n",
      "0    715\n",
      "2    652\n",
      "1    633\n",
      "Name: count, dtype: int64 label\n",
      "0    836\n",
      "2    812\n",
      "1    776\n",
      "Name: count, dtype: int64\n"
     ]
    }
   ],
   "source": [
    "#remove this for actual calculation  here we take a smaller sample of the dataframe to speed up \n",
    "train_df = train_df.sample(2000, random_state=42)  #2400\n",
    "print(train_df.tail())\n",
    "print(train_df.label.value_counts(), valid_df.label.value_counts())"
   ]
  },
  {
   "cell_type": "code",
   "execution_count": 17,
   "metadata": {
    "execution": {
     "iopub.execute_input": "2024-10-21T11:02:13.684785Z",
     "iopub.status.busy": "2024-10-21T11:02:13.684480Z",
     "iopub.status.idle": "2024-10-21T11:02:13.692819Z",
     "shell.execute_reply": "2024-10-21T11:02:13.691899Z",
     "shell.execute_reply.started": "2024-10-21T11:02:13.684742Z"
    }
   },
   "outputs": [
    {
     "name": "stdout",
     "output_type": "stream",
     "text": [
      "(2000, 3)\n",
      "(1454, 3)\n",
      "(970, 3)\n"
     ]
    }
   ],
   "source": [
    "valid_df1 = valid_df.sample(frac = 0.4, random_state=42)\n",
    "valid_df = valid_df.loc[~valid_df.index.isin(valid_df1.index)]\n",
    "print(train_df.shape)\n",
    "print(valid_df.shape)\n",
    "print(valid_df1.shape)"
   ]
  },
  {
   "cell_type": "code",
   "execution_count": 18,
   "metadata": {
    "execution": {
     "iopub.execute_input": "2024-10-21T11:02:13.694269Z",
     "iopub.status.busy": "2024-10-21T11:02:13.693933Z",
     "iopub.status.idle": "2024-10-21T11:02:14.177947Z",
     "shell.execute_reply": "2024-10-21T11:02:14.177035Z",
     "shell.execute_reply.started": "2024-10-21T11:02:13.694237Z"
    }
   },
   "outputs": [],
   "source": [
    "# datasets\n",
    "from datasets import Dataset\n",
    "\n",
    "# from pandas\n",
    "train_ds = Dataset.from_pandas(train_df)\n",
    "valid_ds = Dataset.from_pandas(valid_df)\n",
    "test_ds = Dataset.from_pandas(test_df)\n",
    "valid_ds1 = Dataset.from_pandas(valid_df1)\n"
   ]
  },
  {
   "cell_type": "code",
   "execution_count": 19,
   "metadata": {
    "execution": {
     "iopub.execute_input": "2024-10-21T11:02:14.179492Z",
     "iopub.status.busy": "2024-10-21T11:02:14.179044Z",
     "iopub.status.idle": "2024-10-21T11:02:14.184144Z",
     "shell.execute_reply": "2024-10-21T11:02:14.183202Z",
     "shell.execute_reply.started": "2024-10-21T11:02:14.179458Z"
    }
   },
   "outputs": [],
   "source": [
    "def preprocess_function(examples, max_length=512):\n",
    "    return tokenizer(examples[\"input\"], truncation=True, max_length=max_length, padding=True)"
   ]
  },
  {
   "cell_type": "code",
   "execution_count": 20,
   "metadata": {
    "execution": {
     "iopub.execute_input": "2024-10-21T11:02:14.185376Z",
     "iopub.status.busy": "2024-10-21T11:02:14.185117Z",
     "iopub.status.idle": "2024-10-21T11:02:20.952914Z",
     "shell.execute_reply": "2024-10-21T11:02:20.952073Z",
     "shell.execute_reply.started": "2024-10-21T11:02:14.185340Z"
    }
   },
   "outputs": [
    {
     "data": {
      "application/vnd.jupyter.widget-view+json": {
       "model_id": "7a10a493dd434aaaa061b4daad82d396",
       "version_major": 2,
       "version_minor": 0
      },
      "text/plain": [
       "Map:   0%|          | 0/2000 [00:00<?, ? examples/s]"
      ]
     },
     "metadata": {},
     "output_type": "display_data"
    },
    {
     "data": {
      "application/vnd.jupyter.widget-view+json": {
       "model_id": "1b5bcbd16d7a46a3864893cfb167ef10",
       "version_major": 2,
       "version_minor": 0
      },
      "text/plain": [
       "Map:   0%|          | 0/1454 [00:00<?, ? examples/s]"
      ]
     },
     "metadata": {},
     "output_type": "display_data"
    },
    {
     "data": {
      "application/vnd.jupyter.widget-view+json": {
       "model_id": "511199bc5559497b93181a937d96b9f0",
       "version_major": 2,
       "version_minor": 0
      },
      "text/plain": [
       "Map:   0%|          | 0/5195 [00:00<?, ? examples/s]"
      ]
     },
     "metadata": {},
     "output_type": "display_data"
    },
    {
     "data": {
      "application/vnd.jupyter.widget-view+json": {
       "model_id": "d67c87fd68d048b2a570a7ba1c1cc58b",
       "version_major": 2,
       "version_minor": 0
      },
      "text/plain": [
       "Map:   0%|          | 0/970 [00:00<?, ? examples/s]"
      ]
     },
     "metadata": {},
     "output_type": "display_data"
    }
   ],
   "source": [
    "train_tokenized_ds = train_ds.map(preprocess_function, batched=True)\n",
    "valid_tokenized_ds = valid_ds.map(preprocess_function, batched=True)\n",
    "test_tokenized_ds = test_ds.map(preprocess_function, batched=True)\n",
    "valid_tokenized_ds1 = valid_ds1.map(preprocess_function, batched=True)\n"
   ]
  },
  {
   "cell_type": "code",
   "execution_count": 21,
   "metadata": {
    "execution": {
     "iopub.execute_input": "2024-10-21T11:02:20.954275Z",
     "iopub.status.busy": "2024-10-21T11:02:20.953956Z",
     "iopub.status.idle": "2024-10-21T11:02:30.952143Z",
     "shell.execute_reply": "2024-10-21T11:02:30.951351Z",
     "shell.execute_reply.started": "2024-10-21T11:02:20.954243Z"
    }
   },
   "outputs": [],
   "source": [
    "from transformers import DataCollatorWithPadding\n",
    "\n",
    "data_collator = DataCollatorWithPadding(tokenizer=tokenizer, padding=\"longest\")"
   ]
  },
  {
   "cell_type": "code",
   "execution_count": 22,
   "metadata": {
    "execution": {
     "iopub.execute_input": "2024-10-21T11:02:30.954577Z",
     "iopub.status.busy": "2024-10-21T11:02:30.953403Z",
     "iopub.status.idle": "2024-10-21T11:02:30.960181Z",
     "shell.execute_reply": "2024-10-21T11:02:30.959159Z",
     "shell.execute_reply.started": "2024-10-21T11:02:30.954529Z"
    }
   },
   "outputs": [],
   "source": [
    "import numpy as np\n",
    "from sklearn.metrics import accuracy_score, roc_auc_score\n",
    "import numpy as np\n",
    "\n",
    "def compute_metrics(eval_pred):\n",
    "    predictions, labels = eval_pred\n",
    "    predictions = np.argmax(predictions, axis=1)\n",
    "    \n",
    "    accuracy_val = accuracy_score(labels, predictions)\n",
    "    #roc_auc_val = roc_auc_score(labels, predictions)\n",
    "    \n",
    "    return {\n",
    "        \"accuracy\": accuracy_val,\n",
    "        #\"roc_auc\": roc_auc_val,\n",
    "    }\n"
   ]
  },
  {
   "cell_type": "code",
   "execution_count": 23,
   "metadata": {
    "execution": {
     "iopub.execute_input": "2024-10-21T11:02:30.961699Z",
     "iopub.status.busy": "2024-10-21T11:02:30.961334Z",
     "iopub.status.idle": "2024-10-21T15:15:44.158490Z",
     "shell.execute_reply": "2024-10-21T15:15:44.157555Z",
     "shell.execute_reply.started": "2024-10-21T11:02:30.961657Z"
    }
   },
   "outputs": [
    {
     "name": "stderr",
     "output_type": "stream",
     "text": [
      "/opt/conda/lib/python3.10/site-packages/accelerate/accelerator.py:451: FutureWarning: Passing the following arguments to `Accelerator` is deprecated and will be removed in version 1.0 of Accelerate: dict_keys(['dispatch_batches', 'split_batches']). Please pass an `accelerate.DataLoaderConfiguration` instead: \n",
      "dataloader_config = DataLoaderConfiguration(dispatch_batches=None, split_batches=False)\n",
      "  warnings.warn(\n"
     ]
    },
    {
     "data": {
      "text/html": [
       "\n",
       "    <div>\n",
       "      \n",
       "      <progress value='125' max='125' style='width:300px; height:20px; vertical-align: middle;'></progress>\n",
       "      [125/125 4:12:33, Epoch 1/1]\n",
       "    </div>\n",
       "    <table border=\"1\" class=\"dataframe\">\n",
       "  <thead>\n",
       " <tr style=\"text-align: left;\">\n",
       "      <th>Step</th>\n",
       "      <th>Training Loss</th>\n",
       "      <th>Validation Loss</th>\n",
       "      <th>Accuracy</th>\n",
       "    </tr>\n",
       "  </thead>\n",
       "  <tbody>\n",
       "    <tr>\n",
       "      <td>20</td>\n",
       "      <td>1.492000</td>\n",
       "      <td>1.258789</td>\n",
       "      <td>0.358322</td>\n",
       "    </tr>\n",
       "    <tr>\n",
       "      <td>40</td>\n",
       "      <td>1.310300</td>\n",
       "      <td>1.365234</td>\n",
       "      <td>0.350069</td>\n",
       "    </tr>\n",
       "    <tr>\n",
       "      <td>60</td>\n",
       "      <td>1.182000</td>\n",
       "      <td>1.186523</td>\n",
       "      <td>0.439477</td>\n",
       "    </tr>\n",
       "    <tr>\n",
       "      <td>80</td>\n",
       "      <td>1.039000</td>\n",
       "      <td>0.844238</td>\n",
       "      <td>0.592847</td>\n",
       "    </tr>\n",
       "    <tr>\n",
       "      <td>100</td>\n",
       "      <td>0.814700</td>\n",
       "      <td>0.786621</td>\n",
       "      <td>0.651994</td>\n",
       "    </tr>\n",
       "    <tr>\n",
       "      <td>120</td>\n",
       "      <td>0.822700</td>\n",
       "      <td>0.739746</td>\n",
       "      <td>0.691884</td>\n",
       "    </tr>\n",
       "  </tbody>\n",
       "</table><p>"
      ],
      "text/plain": [
       "<IPython.core.display.HTML object>"
      ]
     },
     "metadata": {},
     "output_type": "display_data"
    },
    {
     "data": {
      "text/plain": [
       "TrainOutput(global_step=125, training_loss=1.0936916275024413, metrics={'train_runtime': 15192.3624, 'train_samples_per_second': 0.132, 'train_steps_per_second': 0.008, 'total_flos': 2.6354104123392e+16, 'train_loss': 1.0936916275024413, 'epoch': 1.0})"
      ]
     },
     "execution_count": 23,
     "metadata": {},
     "output_type": "execute_result"
    }
   ],
   "source": [
    "from transformers import TrainingArguments, Trainer\n",
    "\n",
    "steps = 5 if DEBUG else 20\n",
    "\n",
    "training_args = TrainingArguments(\n",
    "    output_dir=OUTPUT_DIR,\n",
    "    learning_rate=5e-4,\n",
    "    per_device_train_batch_size=1,\n",
    "    per_device_eval_batch_size=1,\n",
    "    gradient_accumulation_steps=16,\n",
    "    max_grad_norm=0.3,\n",
    "    optim='paged_adamw_32bit',\n",
    "    lr_scheduler_type=\"cosine\",\n",
    "    num_train_epochs=1,\n",
    "    weight_decay=0.01,\n",
    "    evaluation_strategy=\"steps\",\n",
    "    save_strategy=\"steps\",\n",
    "    load_best_model_at_end=True,\n",
    "    push_to_hub=False,\n",
    "    warmup_steps=steps,\n",
    "    eval_steps=steps,\n",
    "    logging_steps=steps,\n",
    "    report_to='none' # if DEBUG else 'wandb',\n",
    ")\n",
    "\n",
    "trainer = Trainer(\n",
    "    model=model,\n",
    "    args=training_args,\n",
    "    train_dataset=train_tokenized_ds,\n",
    "    eval_dataset=valid_tokenized_ds,\n",
    "    tokenizer=tokenizer,\n",
    "    data_collator=data_collator,\n",
    "    compute_metrics=compute_metrics,\n",
    ")\n",
    "\n",
    "trainer.train()"
   ]
  },
  {
   "cell_type": "code",
   "execution_count": 40,
   "metadata": {
    "execution": {
     "iopub.execute_input": "2024-10-21T19:44:02.582231Z",
     "iopub.status.busy": "2024-10-21T19:44:02.581488Z",
     "iopub.status.idle": "2024-10-21T20:03:24.851675Z",
     "shell.execute_reply": "2024-10-21T20:03:24.850825Z",
     "shell.execute_reply.started": "2024-10-21T19:44:02.582192Z"
    }
   },
   "outputs": [
    {
     "data": {
      "text/html": [],
      "text/plain": [
       "<IPython.core.display.HTML object>"
      ]
     },
     "metadata": {},
     "output_type": "display_data"
    }
   ],
   "source": [
    "#this is to check if the predictions work on a known dataframe not previously seen by the model\n",
    "preds = trainer.predict(valid_tokenized_ds1)\n",
    "logits = preds.predictions\n"
   ]
  },
  {
   "cell_type": "code",
   "execution_count": 41,
   "metadata": {
    "execution": {
     "iopub.execute_input": "2024-10-21T20:03:30.137357Z",
     "iopub.status.busy": "2024-10-21T20:03:30.136604Z",
     "iopub.status.idle": "2024-10-21T20:03:30.149226Z",
     "shell.execute_reply": "2024-10-21T20:03:30.148145Z",
     "shell.execute_reply.started": "2024-10-21T20:03:30.137312Z"
    }
   },
   "outputs": [
    {
     "name": "stdout",
     "output_type": "stream",
     "text": [
      "[1 1 2 0 0 0 2 1 0 0 2 2 0 0 1 2 2 1 0 1 1 2 0 1 0 0 1 2 1 1 2 0 1 1 1 0 1\n",
      " 1 2 0 0 1 1 2 0 0 1 0 0 1 0 2 0 0 2 2 0 0 2 0 0 1 1 0 0 1 2 0 0 0 0 2 0 0\n",
      " 1 0 0 0 0 2 0 1 1 2 1 1 2 0 0 1 1 1 2 1 1 1 1 0 2 0 2 0 0 1 1 2 1 2 0 1 0\n",
      " 1 0 2 2 1 0 0 2 0 0 1 1 2 0 0 1 1 1 0 0 0 1 1 0 0 0 2 0 0 0 0 0 0 2 2 0 1\n",
      " 1 1 0 1 1 0 2 0 2 2 2 0 1 2 0 0 0 1 0 0 1 0 1 0 0 2 0 2 0 0 0 0 0 1 2 2 0\n",
      " 0 2 1 1 0 0 2 0 0 2 0 0 1 0 2 0 2 2 0 1 1 2 0 1 1 0 0 1 0 0 0 1 0 2 1 0 1\n",
      " 2 1 2 1 2 0 1 1 0 1 0 2 2 0 1 2 1 2 0 1 1 0 2 0 1 0 0 0 2 0 2 2 1 1 2 1 0\n",
      " 2 1 0 1 1 0 0 1 2 2 2 1 1 2 1 0 1 2 1 0 0 2 1 1 0 0 0 1 0 1 1 0 0 2 2 0 2\n",
      " 2 0 0 0 1 1 0 0 2 1 0 0 0 0 0 0 2 0 1 1 1 0 0 1 2 2 1 0 0 1 1 1 2 0 1 0 2\n",
      " 1 2 1 0 0 1 1 2 0 0 2 2 0 0 2 1 1 2 1 0 0 1 0 2 0 0 1 1 0 0 2 1 0 1 0 0 0\n",
      " 0 0 0 0 1 0 1 0 0 0 2 0 2 2 1 0 2 2 0 1 1 0 1 2 0 0 0 0 0 0 1 1 0 0 0 2 0\n",
      " 1 1 1 2 1 0 2 2 0 2 0 2 0 2 1 0 2 0 0 1 1 1 0 1 1 1 0 0 0 0 2 2 1 0 0 1 1\n",
      " 2 1 1 0 0 0 0 0 1 1 0 1 1 0 0 0 0 0 0 0 2 1 2 2 1 1 1 0 0 2 1 0 2 0 0 0 0\n",
      " 0 2 2 0 2 2 0 1 2 0 2 2 0 0 1 0 0 0 0 2 0 2 1 0 0 0 0 1 0 1 0 2 2 0 0 1 0\n",
      " 0 1 2 2 0 2 1 2 2 0 1 0 2 2 1 0 0 1 2 1 2 0 0 0 0 0 0 1 2 0 0 1 0 1 2 1 0\n",
      " 2 1 0 0 0 0 1 0 2 2 0 2 2 0 2 0 1 2 1 0 1 1 0 0 1 0 1 2 1 2 0 0 1 0 2 2 0\n",
      " 1 2 0 2 2 0 2 1 0 0 0 1 0 0 0 2 0 0 2 2 0 0 0 0 2 0 2 0 0 0 0 1 1 2 2 0 2\n",
      " 0 0 1 1 1 0 0 0 0 0 0 0 0 1 0 0 1 1 1 0 1 2 1 2 0 2 1 1 0 1 1 0 0 0 1 1 2\n",
      " 1 0 1 2 1 2 0 2 1 1 2 0 0 1 0 2 2 0 2 0 2 0 2 0 0 0 1 0 0 0 2 2 0 1 0 0 0\n",
      " 0 1 0 1 1 0 1 0 0 2 1 2 1 2 1 0 1 0 2 1 2 0 1 1 0 0 0 0 0 0 0 1 1 0 0 0 0\n",
      " 0 2 2 0 0 1 0 0 1 2 0 2 0 1 1 0 1 0 2 0 1 2 2 1 0 1 0 1 1 0 1 1 2 1 2 0 0\n",
      " 0 2 1 2 1 2 2 1 2 2 2 2 1 0 2 1 0 0 0 2 2 0 2 2 1 2 0 1 1 1 1 0 1 1 2 0 2\n",
      " 1 1 1 0 0 1 0 1 2 2 0 0 1 0 1 2 1 2 0 1 0 1 0 0 0 0 2 0 0 1 0 0 0 0 1 1 0\n",
      " 0 0 1 0 1 1 0 1 1 2 2 0 2 0 0 0 0 1 0 0 2 0 0 0 2 0 0 0 0 0 2 1 1 2 2 1 1\n",
      " 1 1 0 0 0 2 2 2 2 0 0 0 0 2 2 1 0 0 0 1 1 1 1 2 2 0 2 0 0 2 1 0 0 2 0 0 0\n",
      " 2 1 2 0 0 2 1 1 1 2 0 0 2 0 2 0 0 2 0 0 1 1 0 1 0 1 0 1 0 1 0 2 2 1 0 0 2\n",
      " 1 0 2 0 1 0 0 0]\n"
     ]
    },
    {
     "data": {
      "text/plain": [
       "((970,), array([1, 1, 2, 0, 0]))"
      ]
     },
     "execution_count": 41,
     "metadata": {},
     "output_type": "execute_result"
    }
   ],
   "source": [
    "# from scipy.special import expit as sigmoid\n",
    "import numpy as np\n",
    "def sigmoid(x):\n",
    "    return 1 / (1 + np.exp(-x))  \n",
    "logits = sigmoid(logits)\n",
    "logits = np.argmax(logits, axis=1)\n",
    "print(logits)\n",
    "logits.shape, logits[0:5]"
   ]
  },
  {
   "cell_type": "code",
   "execution_count": 42,
   "metadata": {
    "execution": {
     "iopub.execute_input": "2024-10-21T20:03:38.502532Z",
     "iopub.status.busy": "2024-10-21T20:03:38.501841Z",
     "iopub.status.idle": "2024-10-21T20:03:38.515575Z",
     "shell.execute_reply": "2024-10-21T20:03:38.514669Z",
     "shell.execute_reply.started": "2024-10-21T20:03:38.502492Z"
    }
   },
   "outputs": [
    {
     "data": {
      "text/html": [
       "<div>\n",
       "<style scoped>\n",
       "    .dataframe tbody tr th:only-of-type {\n",
       "        vertical-align: middle;\n",
       "    }\n",
       "\n",
       "    .dataframe tbody tr th {\n",
       "        vertical-align: top;\n",
       "    }\n",
       "\n",
       "    .dataframe thead th {\n",
       "        text-align: right;\n",
       "    }\n",
       "</style>\n",
       "<table border=\"1\" class=\"dataframe\">\n",
       "  <thead>\n",
       "    <tr style=\"text-align: right;\">\n",
       "      <th></th>\n",
       "      <th>input</th>\n",
       "      <th>label</th>\n",
       "      <th>fold</th>\n",
       "      <th>preds</th>\n",
       "    </tr>\n",
       "  </thead>\n",
       "  <tbody>\n",
       "    <tr>\n",
       "      <th>7459</th>\n",
       "      <td>PREMISE: all right thanks bye bye; HYPOTHESSIS...</td>\n",
       "      <td>2</td>\n",
       "      <td>0.0</td>\n",
       "      <td>1</td>\n",
       "    </tr>\n",
       "    <tr>\n",
       "      <th>1862</th>\n",
       "      <td>PREMISE: Từ năm trang xác nhận cá nhân (trái n...</td>\n",
       "      <td>1</td>\n",
       "      <td>0.0</td>\n",
       "      <td>1</td>\n",
       "    </tr>\n",
       "    <tr>\n",
       "      <th>7134</th>\n",
       "      <td>PREMISE: I had rejected it as absurd, neverthe...</td>\n",
       "      <td>2</td>\n",
       "      <td>0.0</td>\n",
       "      <td>2</td>\n",
       "    </tr>\n",
       "    <tr>\n",
       "      <th>1946</th>\n",
       "      <td>PREMISE: Apparently, Greuze wasn't worried abo...</td>\n",
       "      <td>0</td>\n",
       "      <td>0.0</td>\n",
       "      <td>0</td>\n",
       "    </tr>\n",
       "    <tr>\n",
       "      <th>2250</th>\n",
       "      <td>PREMISE: right and uh there's usually nobody r...</td>\n",
       "      <td>2</td>\n",
       "      <td>0.0</td>\n",
       "      <td>0</td>\n",
       "    </tr>\n",
       "    <tr>\n",
       "      <th>...</th>\n",
       "      <td>...</td>\n",
       "      <td>...</td>\n",
       "      <td>...</td>\n",
       "      <td>...</td>\n",
       "    </tr>\n",
       "    <tr>\n",
       "      <th>11379</th>\n",
       "      <td>PREMISE: Arsenic would put poor Emily out of t...</td>\n",
       "      <td>0</td>\n",
       "      <td>0.0</td>\n",
       "      <td>0</td>\n",
       "    </tr>\n",
       "    <tr>\n",
       "      <th>653</th>\n",
       "      <td>PREMISE: Cuối cùng anh ta nói: Kẻ giết người--...</td>\n",
       "      <td>2</td>\n",
       "      <td>0.0</td>\n",
       "      <td>1</td>\n",
       "    </tr>\n",
       "    <tr>\n",
       "      <th>6147</th>\n",
       "      <td>PREMISE: To their good fortune, he's proving t...</td>\n",
       "      <td>2</td>\n",
       "      <td>0.0</td>\n",
       "      <td>0</td>\n",
       "    </tr>\n",
       "    <tr>\n",
       "      <th>21</th>\n",
       "      <td>PREMISE: Increased saving by current generatio...</td>\n",
       "      <td>0</td>\n",
       "      <td>0.0</td>\n",
       "      <td>0</td>\n",
       "    </tr>\n",
       "    <tr>\n",
       "      <th>6234</th>\n",
       "      <td>PREMISE: you know Arnold Schwarzenegger is get...</td>\n",
       "      <td>1</td>\n",
       "      <td>0.0</td>\n",
       "      <td>0</td>\n",
       "    </tr>\n",
       "  </tbody>\n",
       "</table>\n",
       "<p>970 rows × 4 columns</p>\n",
       "</div>"
      ],
      "text/plain": [
       "                                                   input  label  fold  preds\n",
       "7459   PREMISE: all right thanks bye bye; HYPOTHESSIS...      2   0.0      1\n",
       "1862   PREMISE: Từ năm trang xác nhận cá nhân (trái n...      1   0.0      1\n",
       "7134   PREMISE: I had rejected it as absurd, neverthe...      2   0.0      2\n",
       "1946   PREMISE: Apparently, Greuze wasn't worried abo...      0   0.0      0\n",
       "2250   PREMISE: right and uh there's usually nobody r...      2   0.0      0\n",
       "...                                                  ...    ...   ...    ...\n",
       "11379  PREMISE: Arsenic would put poor Emily out of t...      0   0.0      0\n",
       "653    PREMISE: Cuối cùng anh ta nói: Kẻ giết người--...      2   0.0      1\n",
       "6147   PREMISE: To their good fortune, he's proving t...      2   0.0      0\n",
       "21     PREMISE: Increased saving by current generatio...      0   0.0      0\n",
       "6234   PREMISE: you know Arnold Schwarzenegger is get...      1   0.0      0\n",
       "\n",
       "[970 rows x 4 columns]"
      ]
     },
     "execution_count": 42,
     "metadata": {},
     "output_type": "execute_result"
    }
   ],
   "source": [
    "#this is to check if the predictions work on a known dataframe not previosly seen by the model\n",
    "valid_df1['preds'] = logits #np.argmax(probs, axis=1)\n",
    "valid_df1"
   ]
  },
  {
   "cell_type": "code",
   "execution_count": 35,
   "metadata": {
    "execution": {
     "iopub.execute_input": "2024-10-21T17:39:14.931341Z",
     "iopub.status.busy": "2024-10-21T17:39:14.930929Z",
     "iopub.status.idle": "2024-10-21T19:22:49.361165Z",
     "shell.execute_reply": "2024-10-21T19:22:49.360136Z",
     "shell.execute_reply.started": "2024-10-21T17:39:14.931302Z"
    }
   },
   "outputs": [
    {
     "data": {
      "text/html": [],
      "text/plain": [
       "<IPython.core.display.HTML object>"
      ]
     },
     "metadata": {},
     "output_type": "display_data"
    }
   ],
   "source": [
    "#this is for the predictions on the test set\n",
    "preds = trainer.predict(test_tokenized_ds)#.predictions.astype(float)\n",
    "logits = preds.predictions\n"
   ]
  },
  {
   "cell_type": "code",
   "execution_count": 36,
   "metadata": {
    "execution": {
     "iopub.execute_input": "2024-10-21T19:22:49.363020Z",
     "iopub.status.busy": "2024-10-21T19:22:49.362591Z",
     "iopub.status.idle": "2024-10-21T19:22:49.370268Z",
     "shell.execute_reply": "2024-10-21T19:22:49.369321Z",
     "shell.execute_reply.started": "2024-10-21T19:22:49.362956Z"
    }
   },
   "outputs": [
    {
     "data": {
      "text/plain": [
       "array([[-0.05728, -1.333  , -1.682  ],\n",
       "       [-1.1875 , -0.537  , -0.02242],\n",
       "       [ 2.637  , -0.635  , -3.305  ],\n",
       "       ...,\n",
       "       [ 0.2399 ,  0.02396, -1.754  ],\n",
       "       [ 2.98   , -0.297  , -2.715  ],\n",
       "       [-1.957  , -1.474  ,  1.313  ]], dtype=float16)"
      ]
     },
     "execution_count": 36,
     "metadata": {},
     "output_type": "execute_result"
    }
   ],
   "source": [
    "logits = preds.predictions\n",
    "logits"
   ]
  },
  {
   "cell_type": "code",
   "execution_count": 37,
   "metadata": {
    "execution": {
     "iopub.execute_input": "2024-10-21T19:22:49.371875Z",
     "iopub.status.busy": "2024-10-21T19:22:49.371518Z",
     "iopub.status.idle": "2024-10-21T19:22:49.383076Z",
     "shell.execute_reply": "2024-10-21T19:22:49.382235Z",
     "shell.execute_reply.started": "2024-10-21T19:22:49.371841Z"
    }
   },
   "outputs": [
    {
     "data": {
      "text/plain": [
       "array([0, 2, 0, 1, 2, 2, 1, 0, 1, 1, 0, 1, 0, 2, 0, 1, 0, 0, 0, 2, 2, 2,\n",
       "       1, 0, 2, 2, 0, 2, 0, 1, 2, 1, 0, 2, 1, 2, 1, 0, 0, 0, 1, 0, 0, 1,\n",
       "       0, 1, 1, 1, 2, 2, 0, 0, 1, 2, 0, 0, 2, 0, 1, 1, 1, 1, 0, 0, 0, 0,\n",
       "       2, 2, 0, 0, 1, 1, 0, 1, 0, 2, 0, 2, 0, 1, 2, 2, 1, 0, 0, 1, 1, 2,\n",
       "       2, 0, 2, 0, 0, 0, 0, 2, 1, 2, 1, 2])"
      ]
     },
     "execution_count": 37,
     "metadata": {},
     "output_type": "execute_result"
    }
   ],
   "source": [
    "# from scipy.special import expit as sigmoid\n",
    "import numpy as np\n",
    "def sigmoid(x):\n",
    "    #if x > -100:\n",
    "        return 1 / (1 + np.exp(-x))  \n",
    "   # else:\n",
    "       # return 0\n",
    "logits = sigmoid(logits)\n",
    "logits = np.argmax(logits, axis=1)\n",
    "logits[:100]"
   ]
  },
  {
   "cell_type": "code",
   "execution_count": 38,
   "metadata": {
    "execution": {
     "iopub.execute_input": "2024-10-21T19:22:49.384377Z",
     "iopub.status.busy": "2024-10-21T19:22:49.384098Z",
     "iopub.status.idle": "2024-10-21T19:22:49.392395Z",
     "shell.execute_reply": "2024-10-21T19:22:49.391579Z",
     "shell.execute_reply.started": "2024-10-21T19:22:49.384346Z"
    }
   },
   "outputs": [
    {
     "data": {
      "text/plain": [
       "((5195,), array([0, 2, 0, 1, 2]))"
      ]
     },
     "execution_count": 38,
     "metadata": {},
     "output_type": "execute_result"
    }
   ],
   "source": [
    "\n",
    "logits.shape, logits[0:5]\n"
   ]
  },
  {
   "cell_type": "code",
   "execution_count": 39,
   "metadata": {
    "execution": {
     "iopub.execute_input": "2024-10-21T19:22:49.393809Z",
     "iopub.status.busy": "2024-10-21T19:22:49.393469Z",
     "iopub.status.idle": "2024-10-21T19:22:49.455989Z",
     "shell.execute_reply": "2024-10-21T19:22:49.455078Z",
     "shell.execute_reply.started": "2024-10-21T19:22:49.393771Z"
    }
   },
   "outputs": [
    {
     "data": {
      "text/html": [
       "<div>\n",
       "<style scoped>\n",
       "    .dataframe tbody tr th:only-of-type {\n",
       "        vertical-align: middle;\n",
       "    }\n",
       "\n",
       "    .dataframe tbody tr th {\n",
       "        vertical-align: top;\n",
       "    }\n",
       "\n",
       "    .dataframe thead th {\n",
       "        text-align: right;\n",
       "    }\n",
       "</style>\n",
       "<table border=\"1\" class=\"dataframe\">\n",
       "  <thead>\n",
       "    <tr style=\"text-align: right;\">\n",
       "      <th></th>\n",
       "      <th>id</th>\n",
       "      <th>prediction</th>\n",
       "    </tr>\n",
       "  </thead>\n",
       "  <tbody>\n",
       "    <tr>\n",
       "      <th>0</th>\n",
       "      <td>c6d58c3f69</td>\n",
       "      <td>0</td>\n",
       "    </tr>\n",
       "    <tr>\n",
       "      <th>1</th>\n",
       "      <td>cefcc82292</td>\n",
       "      <td>2</td>\n",
       "    </tr>\n",
       "    <tr>\n",
       "      <th>2</th>\n",
       "      <td>e98005252c</td>\n",
       "      <td>0</td>\n",
       "    </tr>\n",
       "    <tr>\n",
       "      <th>3</th>\n",
       "      <td>58518c10ba</td>\n",
       "      <td>1</td>\n",
       "    </tr>\n",
       "    <tr>\n",
       "      <th>4</th>\n",
       "      <td>c32b0d16df</td>\n",
       "      <td>2</td>\n",
       "    </tr>\n",
       "    <tr>\n",
       "      <th>...</th>\n",
       "      <td>...</td>\n",
       "      <td>...</td>\n",
       "    </tr>\n",
       "    <tr>\n",
       "      <th>95</th>\n",
       "      <td>0540817ced</td>\n",
       "      <td>2</td>\n",
       "    </tr>\n",
       "    <tr>\n",
       "      <th>96</th>\n",
       "      <td>740c34dec2</td>\n",
       "      <td>1</td>\n",
       "    </tr>\n",
       "    <tr>\n",
       "      <th>97</th>\n",
       "      <td>f25d51d911</td>\n",
       "      <td>2</td>\n",
       "    </tr>\n",
       "    <tr>\n",
       "      <th>98</th>\n",
       "      <td>d64a31ab7d</td>\n",
       "      <td>1</td>\n",
       "    </tr>\n",
       "    <tr>\n",
       "      <th>99</th>\n",
       "      <td>0407d5179a</td>\n",
       "      <td>2</td>\n",
       "    </tr>\n",
       "  </tbody>\n",
       "</table>\n",
       "<p>100 rows × 2 columns</p>\n",
       "</div>"
      ],
      "text/plain": [
       "            id  prediction\n",
       "0   c6d58c3f69           0\n",
       "1   cefcc82292           2\n",
       "2   e98005252c           0\n",
       "3   58518c10ba           1\n",
       "4   c32b0d16df           2\n",
       "..         ...         ...\n",
       "95  0540817ced           2\n",
       "96  740c34dec2           1\n",
       "97  f25d51d911           2\n",
       "98  d64a31ab7d           1\n",
       "99  0407d5179a           2\n",
       "\n",
       "[100 rows x 2 columns]"
      ]
     },
     "execution_count": 39,
     "metadata": {},
     "output_type": "execute_result"
    }
   ],
   "source": [
    "#this is to provide the sample submission\n",
    "sub = pd.DataFrame()\n",
    "test_df = pd.read_csv('/kaggle/input/contradictory-my-dear-watson/test.csv')\n",
    "\n",
    "sub['id'] = test_df['id']\n",
    "import math\n",
    "\n",
    "sub[\"prediction\"] = logits\n",
    "\n",
    "sub['prediction'] = sub['prediction'].astype('int')\n",
    "sub.to_csv('/kaggle/working/submission.csv', index=False)\n",
    "sub[:100]"
   ]
  }
 ],
 "metadata": {
  "kaggle": {
   "accelerator": "gpu",
   "dataSources": [
    {
     "databundleVersionId": 1408234,
     "sourceId": 21733,
     "sourceType": "competition"
    },
    {
     "datasetId": 3601853,
     "sourceId": 6266221,
     "sourceType": "datasetVersion"
    },
    {
     "datasetId": 3774343,
     "sourceId": 6528795,
     "sourceType": "datasetVersion"
    },
    {
     "datasetId": 3972872,
     "sourceId": 6921012,
     "sourceType": "datasetVersion"
    },
    {
     "datasetId": 4310865,
     "sourceId": 7411444,
     "sourceType": "datasetVersion"
    },
    {
     "datasetId": 4822801,
     "sourceId": 8153733,
     "sourceType": "datasetVersion"
    },
    {
     "datasetId": 5457551,
     "sourceId": 9051512,
     "sourceType": "datasetVersion"
    },
    {
     "datasetId": 5864493,
     "sourceId": 9610991,
     "sourceType": "datasetVersion"
    }
   ],
   "dockerImageVersionId": 30787,
   "isGpuEnabled": true,
   "isInternetEnabled": false,
   "language": "python",
   "sourceType": "notebook"
  },
  "kernelspec": {
   "display_name": "Python 3 (ipykernel)",
   "language": "python",
   "name": "python3"
  },
  "language_info": {
   "codemirror_mode": {
    "name": "ipython",
    "version": 3
   },
   "file_extension": ".py",
   "mimetype": "text/x-python",
   "name": "python",
   "nbconvert_exporter": "python",
   "pygments_lexer": "ipython3",
   "version": "3.9.7"
  }
 },
 "nbformat": 4,
 "nbformat_minor": 4
}
