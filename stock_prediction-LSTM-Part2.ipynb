{
 "cells": [
  {
   "cell_type": "markdown",
   "metadata": {},
   "source": [
    "This notebook is by Anastasia Ruzmaikina.\n",
    "\n",
    "In this notebook we train a LSTM neural network to predict the log returns of the price of the stock given the history of its log returns.\n",
    "\n",
    "The log return of the stock is defined as\n",
    "$$u_t = 𝑙𝑛(\\frac{𝑆_{𝑡+1}}{𝑆_𝑡})$$\n",
    " \n",
    "and is approximately equal to\n",
    "$$\\frac{𝑆_{𝑡+1}−𝑆_𝑡}{𝑆_𝑡}.$$\n",
    " \n",
    "If  $𝑆_𝑡$\n",
    "  was a Geometric Brownian motion, then\n",
    "$$\\frac{𝑑𝑆_𝑡}{𝑆_𝑡}=\\mu 𝑑𝑡+ \\sigma 𝑑𝑊_𝑡$$\n",
    " \n",
    "and therefore the log return would be a Gaussian stochastic process.\n",
    "\n",
    "In real life, we expect\n",
    "$$u_t = 𝑙𝑛(\\frac{𝑆_{𝑡+1}}{𝑆_𝑡})$$\n",
    " \n",
    "to behave as a random process and to be difficult to predict. In the notebook stock_prediction-LSTM-Part1, we showed that the trained LSTM neural network tries to predict the mean value of the process rather than individual fluctuations. This is not surprising: if you trained someone to predict the next roll of a fair dice, the most accurate prediction they could make is to predict the mean. \n",
    "\n",
    "In this notebook we define a new process $$x_t = \\frac{u_t + u_{t+1} + u_{t+2}}{3}.$$  This is a moving average with the width of the window equal to 3. From the probability standpoint, the process $x_t$ is not very different from $u_t$, because if the standard deviation of $u_t$ is $\\sigma$ and assuming that $u_t$ are uncorrelated, we derive the standard deviation of $x_t$ is $\\sigma/\\sqrt{3}$. So it is reasonable to assume that a trained LSTM neural network would once again try to predict just the mean of the process $x_t$ as it did for the process $u_t$. \n",
    "\n",
    "Very surprisingly, it is not the case. When the LSTM neural network is predicting the text data for $x_t$ the predictions are almost perfect! It is possible to achive an even higher accuracy by taking a bigger LSTM and training it for more iterations. \n",
    "\n",
    "We think that the reason for very accurate predictions is that if the case of $x_t$ there exist short-range correlations, i.e. $x_t$, $x_{t+1}$ and $x_{t+2}$ are all correlated. The LSTM neural network detects those correlations and therefore \"tries\" to predict the next step. In the case of $u_t$ it does not detect correlations so it \"doesn't try\" to predict the next step, settiling instead for predicting the mean.\n",
    "\n",
    "This result implies that it is possible to make very accurate predictions for any financial product which depends on a three-day average rather than on the price at a particular day.\n",
    "\n"
   ]
  },
  {
   "cell_type": "markdown",
   "metadata": {},
   "source": [
    "Firt we import the necessary Python libraries:"
   ]
  },
  {
   "cell_type": "code",
   "execution_count": 1,
   "metadata": {
    "id": "pzuDKhdt8du-"
   },
   "outputs": [],
   "source": [
    "#import the libraries\n",
    "import numpy as np\n",
    "import matplotlib.pyplot as plt\n",
    "import pandas as pd\n",
    "import warnings\n",
    "\n",
    "warnings.filterwarnings('ignore', 'DeprecationWarning: The use of \\'dynamic_batch_size\\' is deprecated. Use the \\'batch_size\\' argument instead.')\n"
   ]
  },
  {
   "cell_type": "markdown",
   "metadata": {},
   "source": [
    "The dataset is the set of log returns of stock prices for an NYSE stock for the period of 5 years ending on 8/30/23.\n",
    "\n",
    "The dataset is saved as a 'Stock1.csv' file and we download it into a Pandas Dataframe 'data'."
   ]
  },
  {
   "cell_type": "code",
   "execution_count": 2,
   "metadata": {},
   "outputs": [
    {
     "data": {
      "text/html": [
       "<div>\n",
       "<style scoped>\n",
       "    .dataframe tbody tr th:only-of-type {\n",
       "        vertical-align: middle;\n",
       "    }\n",
       "\n",
       "    .dataframe tbody tr th {\n",
       "        vertical-align: top;\n",
       "    }\n",
       "\n",
       "    .dataframe thead th {\n",
       "        text-align: right;\n",
       "    }\n",
       "</style>\n",
       "<table border=\"1\" class=\"dataframe\">\n",
       "  <thead>\n",
       "    <tr style=\"text-align: right;\">\n",
       "      <th></th>\n",
       "      <th>log_returns</th>\n",
       "    </tr>\n",
       "  </thead>\n",
       "  <tbody>\n",
       "    <tr>\n",
       "      <th>0</th>\n",
       "      <td>-0.009987</td>\n",
       "    </tr>\n",
       "    <tr>\n",
       "      <th>1</th>\n",
       "      <td>0.005408</td>\n",
       "    </tr>\n",
       "    <tr>\n",
       "      <th>2</th>\n",
       "      <td>-0.032775</td>\n",
       "    </tr>\n",
       "    <tr>\n",
       "      <th>3</th>\n",
       "      <td>-0.013849</td>\n",
       "    </tr>\n",
       "    <tr>\n",
       "      <th>4</th>\n",
       "      <td>-0.032129</td>\n",
       "    </tr>\n",
       "    <tr>\n",
       "      <th>...</th>\n",
       "      <td>...</td>\n",
       "    </tr>\n",
       "    <tr>\n",
       "      <th>1158</th>\n",
       "      <td>-0.039066</td>\n",
       "    </tr>\n",
       "    <tr>\n",
       "      <th>1159</th>\n",
       "      <td>0.012543</td>\n",
       "    </tr>\n",
       "    <tr>\n",
       "      <th>1160</th>\n",
       "      <td>-0.039570</td>\n",
       "    </tr>\n",
       "    <tr>\n",
       "      <th>1161</th>\n",
       "      <td>0.009037</td>\n",
       "    </tr>\n",
       "    <tr>\n",
       "      <th>1162</th>\n",
       "      <td>-0.023569</td>\n",
       "    </tr>\n",
       "  </tbody>\n",
       "</table>\n",
       "<p>1163 rows × 1 columns</p>\n",
       "</div>"
      ],
      "text/plain": [
       "      log_returns\n",
       "0       -0.009987\n",
       "1        0.005408\n",
       "2       -0.032775\n",
       "3       -0.013849\n",
       "4       -0.032129\n",
       "...           ...\n",
       "1158    -0.039066\n",
       "1159     0.012543\n",
       "1160    -0.039570\n",
       "1161     0.009037\n",
       "1162    -0.023569\n",
       "\n",
       "[1163 rows x 1 columns]"
      ]
     },
     "execution_count": 2,
     "metadata": {},
     "output_type": "execute_result"
    }
   ],
   "source": [
    "data = pd.read_csv('Stock1.csv')\n",
    "data"
   ]
  },
  {
   "cell_type": "markdown",
   "metadata": {},
   "source": [
    "We see that the dataset has 1163 datapoints and we can plot the data."
   ]
  },
  {
   "cell_type": "code",
   "execution_count": 3,
   "metadata": {},
   "outputs": [
    {
     "data": {
      "text/plain": [
       "[<matplotlib.lines.Line2D at 0x7f8ba89b0070>]"
      ]
     },
     "execution_count": 3,
     "metadata": {},
     "output_type": "execute_result"
    },
    {
     "data": {
      "image/png": "[encoded data removed]",
      "text/plain": [
       "<Figure size 432x288 with 1 Axes>"
      ]
     },
     "metadata": {
      "needs_background": "light"
     },
     "output_type": "display_data"
    }
   ],
   "source": [
    "plt.plot(data)\n"
   ]
  },
  {
   "cell_type": "markdown",
   "metadata": {
    "id": "Dsf62Jsh9Prt"
   },
   "source": [
    "We now construct a new dataset $x_t$ of moving averages with the window size 3. $$x_i = \\frac{data(i)+ data({i+1}) + data({i+2})}{3}.$$ We find the langth of the dataset $x_t$ to be 1161 data points and we graph the dataset.\n",
    "\n",
    "We graph the dataset 'x'."
   ]
  },
  {
   "cell_type": "code",
   "execution_count": 4,
   "metadata": {
    "id": "zDlrYaF09wzu"
   },
   "outputs": [
    {
     "data": {
      "text/plain": [
       "1161"
      ]
     },
     "execution_count": 4,
     "metadata": {},
     "output_type": "execute_result"
    },
    {
     "data": {
      "image/png": "[encoded data removed]",
      "text/plain": [
       "<Figure size 432x288 with 1 Axes>"
      ]
     },
     "metadata": {
      "needs_background": "light"
     },
     "output_type": "display_data"
    }
   ],
   "source": [
    "x = []\n",
    "for i in range(len(data)-2):\n",
    "    x.append((data.iloc[i]+data.iloc[i+1]+data.iloc[i+2])/3)\n",
    "plt.plot(x) \n",
    "\n",
    "len(x)"
   ]
  },
  {
   "cell_type": "markdown",
   "metadata": {},
   "source": [
    "We can see that if we plot both the dataset of log returns 'data' and the dataset of moving averages $x$ the graphs are very similar, the only difference seems to be that $x$ (graphed in red) has somewhat smaller volatility than 'data' (graphed in blue)."
   ]
  },
  {
   "cell_type": "code",
   "execution_count": 5,
   "metadata": {},
   "outputs": [
    {
     "data": {
      "text/plain": [
       "[<matplotlib.lines.Line2D at 0x7f8ba903e880>]"
      ]
     },
     "execution_count": 5,
     "metadata": {},
     "output_type": "execute_result"
    },
    {
     "data": {
      "image/png": "[encoded data removed]",
      "text/plain": [
       "<Figure size 432x288 with 1 Axes>"
      ]
     },
     "metadata": {
      "needs_background": "light"
     },
     "output_type": "display_data"
    }
   ],
   "source": [
    "plt.plot(data)\n",
    "plt.plot(x)\n"
   ]
  },
  {
   "cell_type": "markdown",
   "metadata": {},
   "source": [
    "We use the first 1100 datapoints in the dataset 'x' as a training set. We are going to train LSTM neural network on this 'training_set' and use it to predict the 'test_set' of the last 60 datapoints."
   ]
  },
  {
   "cell_type": "code",
   "execution_count": 7,
   "metadata": {
    "id": "fWFnd5_M92OY"
   },
   "outputs": [
    {
     "data": {
      "text/plain": [
       "array([[-0.01245127],\n",
       "       [-0.01373875],\n",
       "       [-0.02625089],\n",
       "       ...,\n",
       "       [-0.01214088],\n",
       "       [-0.01161171],\n",
       "       [-0.01141063]])"
      ]
     },
     "execution_count": 7,
     "metadata": {},
     "output_type": "execute_result"
    }
   ],
   "source": [
    "#training set\n",
    "training_set = np.array(x[:1101])\n",
    "training_set"
   ]
  },
  {
   "cell_type": "markdown",
   "metadata": {},
   "source": [
    "We rescale the 'training_set' using the min-max scaler."
   ]
  },
  {
   "cell_type": "code",
   "execution_count": 8,
   "metadata": {
    "id": "h9b-l5dw-H-T"
   },
   "outputs": [],
   "source": [
    "#feature scaling\n",
    "from sklearn.preprocessing import MinMaxScaler\n",
    "sc = MinMaxScaler(feature_range = (0,1))\n",
    "training_set_scaled = sc.fit_transform(training_set.reshape(-1,1))"
   ]
  },
  {
   "cell_type": "markdown",
   "metadata": {},
   "source": [
    "We create the training data structure where the data of the previous 20 timesteps (X_train) are used to predict the next timestep (y_train). (In NLP this is called an n-gram). To see what the new training data looks like, we print out X_train. It is easy to see that X_train consists of 1081 sequences of length 20, where each new sequence is shifted by 1 compared to the previous sequence."
   ]
  },
  {
   "cell_type": "code",
   "execution_count": 9,
   "metadata": {
    "id": "pX6tFtUM_rtQ"
   },
   "outputs": [
    {
     "name": "stdout",
     "output_type": "stream",
     "text": [
      "[[[0.58958068]\n",
      "  [0.5818633 ]\n",
      "  [0.50686328]\n",
      "  ...\n",
      "  [0.61701154]\n",
      "  [0.54299703]\n",
      "  [0.68377208]]\n",
      "\n",
      " [[0.5818633 ]\n",
      "  [0.50686328]\n",
      "  [0.55940822]\n",
      "  ...\n",
      "  [0.54299703]\n",
      "  [0.68377208]\n",
      "  [0.75776988]]\n",
      "\n",
      " [[0.50686328]\n",
      "  [0.55940822]\n",
      "  [0.46933155]\n",
      "  ...\n",
      "  [0.68377208]\n",
      "  [0.75776988]\n",
      "  [0.72765936]]\n",
      "\n",
      " ...\n",
      "\n",
      " [[0.60137778]\n",
      "  [0.59437958]\n",
      "  [0.63686706]\n",
      "  ...\n",
      "  [0.60501153]\n",
      "  [0.65743721]\n",
      "  [0.63443946]]\n",
      "\n",
      " [[0.59437958]\n",
      "  [0.63686706]\n",
      "  [0.72002906]\n",
      "  ...\n",
      "  [0.65743721]\n",
      "  [0.63443946]\n",
      "  [0.59144119]]\n",
      "\n",
      " [[0.63686706]\n",
      "  [0.72002906]\n",
      "  [0.73656443]\n",
      "  ...\n",
      "  [0.63443946]\n",
      "  [0.59144119]\n",
      "  [0.59461316]]]\n"
     ]
    }
   ],
   "source": [
    "#creating a data structure with 20 timesteps and 1 output\n",
    "X_train = []\n",
    "y_train = []\n",
    "for i in range(20, 1101):\n",
    "    X_train.append(training_set_scaled[i-20:i, 0])  #column 0\n",
    "    y_train.append(training_set_scaled[i,0]) #train ith value using i-20:i\n",
    "X_train, y_train = np.array(X_train), np.array(y_train)  #convert to numpy array\n",
    "#reshaping\n",
    "X_train = np.reshape(X_train, (X_train.shape[0], X_train.shape[1], 1))\n",
    "print(X_train)"
   ]
  },
  {
   "cell_type": "markdown",
   "metadata": {},
   "source": [
    "This verifies that X_train is a single numpy array consisting of 1081 arrays of length 20."
   ]
  },
  {
   "cell_type": "code",
   "execution_count": 11,
   "metadata": {},
   "outputs": [
    {
     "data": {
      "text/plain": [
       "(1081, 20, 1)"
      ]
     },
     "execution_count": 11,
     "metadata": {},
     "output_type": "execute_result"
    }
   ],
   "source": [
    "X_train.shape"
   ]
  },
  {
   "cell_type": "markdown",
   "metadata": {},
   "source": [
    "Now we are ready to import all of the necessary Keras libraries and packages."
   ]
  },
  {
   "cell_type": "code",
   "execution_count": 168,
   "metadata": {
    "id": "VUWzQ5my_zy7"
   },
   "outputs": [],
   "source": [
    "#import keras libraries and packages\n",
    "from keras.models import Sequential\n",
    "from keras.layers import Dense\n",
    "from keras.layers import LSTM\n",
    "from keras.layers import Dropout"
   ]
  },
  {
   "cell_type": "markdown",
   "metadata": {},
   "source": [
    "We initialize the recurrent neural network:"
   ]
  },
  {
   "cell_type": "code",
   "execution_count": 169,
   "metadata": {
    "id": "D_riGG_VAZzS"
   },
   "outputs": [],
   "source": [
    "#initialize rnn\n",
    "regressor = Sequential()"
   ]
  },
  {
   "cell_type": "markdown",
   "metadata": {},
   "source": [
    "We start adding LSTM layers. The size of the layers should be as large as possible, but it makes the neural network significantly slower, so here we use the output size of 500 units. The input size is given by the X_train, the training dataset. The 20% dropout means that approximately 20% of neurons would be randomly dropped out during training. This is done to avoid overfitting the training set, because this results in worse predictions on the test set."
   ]
  },
  {
   "cell_type": "code",
   "execution_count": 170,
   "metadata": {
    "id": "Rjt0WH4kAhEJ"
   },
   "outputs": [
    {
     "name": "stderr",
     "output_type": "stream",
     "text": [
      "2023-10-01 14:41:30.077920: I tensorflow/core/common_runtime/executor.cc:1197] [/device:CPU:0] (DEBUG INFO) Executor start aborting (this does not indicate an error and you can ignore this message): INVALID_ARGUMENT: You must feed a value for placeholder tensor 'gradients/split_2_grad/concat/split_2/split_dim' with dtype int32\n",
      "\t [[{{node gradients/split_2_grad/concat/split_2/split_dim}}]]\n",
      "2023-10-01 14:41:30.085923: I tensorflow/core/common_runtime/executor.cc:1197] [/device:CPU:0] (DEBUG INFO) Executor start aborting (this does not indicate an error and you can ignore this message): INVALID_ARGUMENT: You must feed a value for placeholder tensor 'gradients/split_grad/concat/split/split_dim' with dtype int32\n",
      "\t [[{{node gradients/split_grad/concat/split/split_dim}}]]\n",
      "2023-10-01 14:41:30.092536: I tensorflow/core/common_runtime/executor.cc:1197] [/device:CPU:0] (DEBUG INFO) Executor start aborting (this does not indicate an error and you can ignore this message): INVALID_ARGUMENT: You must feed a value for placeholder tensor 'gradients/split_1_grad/concat/split_1/split_dim' with dtype int32\n",
      "\t [[{{node gradients/split_1_grad/concat/split_1/split_dim}}]]\n"
     ]
    }
   ],
   "source": [
    "#adding the LSTM layer and some Dropout reguralization (drops unnecessary data)\n",
    "regressor.add(LSTM(units=500, return_sequences = True, input_shape = (X_train.shape[1], 1)))\n",
    "regressor.add(Dropout(0.2)) #can overtrain, to avoid this turn off 20% neurons randomly picked"
   ]
  },
  {
   "cell_type": "markdown",
   "metadata": {},
   "source": [
    "We add another LSTM layer with 500 cells."
   ]
  },
  {
   "cell_type": "code",
   "execution_count": 171,
   "metadata": {
    "id": "fd3vpPSiBTta"
   },
   "outputs": [
    {
     "name": "stderr",
     "output_type": "stream",
     "text": [
      "2023-10-01 14:41:31.343914: I tensorflow/core/common_runtime/executor.cc:1197] [/device:CPU:0] (DEBUG INFO) Executor start aborting (this does not indicate an error and you can ignore this message): INVALID_ARGUMENT: You must feed a value for placeholder tensor 'gradients/split_2_grad/concat/split_2/split_dim' with dtype int32\n",
      "\t [[{{node gradients/split_2_grad/concat/split_2/split_dim}}]]\n",
      "2023-10-01 14:41:31.377372: I tensorflow/core/common_runtime/executor.cc:1197] [/device:CPU:0] (DEBUG INFO) Executor start aborting (this does not indicate an error and you can ignore this message): INVALID_ARGUMENT: You must feed a value for placeholder tensor 'gradients/split_grad/concat/split/split_dim' with dtype int32\n",
      "\t [[{{node gradients/split_grad/concat/split/split_dim}}]]\n",
      "2023-10-01 14:41:31.381044: I tensorflow/core/common_runtime/executor.cc:1197] [/device:CPU:0] (DEBUG INFO) Executor start aborting (this does not indicate an error and you can ignore this message): INVALID_ARGUMENT: You must feed a value for placeholder tensor 'gradients/split_1_grad/concat/split_1/split_dim' with dtype int32\n",
      "\t [[{{node gradients/split_1_grad/concat/split_1/split_dim}}]]\n"
     ]
    }
   ],
   "source": [
    "#adding a second LSTM layer and some Dropout regularization\n",
    "regressor.add(LSTM(units=500, return_sequences = True))\n",
    "regressor.add(Dropout(0.2))"
   ]
  },
  {
   "cell_type": "markdown",
   "metadata": {},
   "source": [
    "We add another LSTM layer with 500 cells."
   ]
  },
  {
   "cell_type": "code",
   "execution_count": 172,
   "metadata": {
    "id": "lQ6bzJc2Ba6W"
   },
   "outputs": [
    {
     "name": "stderr",
     "output_type": "stream",
     "text": [
      "2023-10-01 14:41:32.631751: I tensorflow/core/common_runtime/executor.cc:1197] [/device:CPU:0] (DEBUG INFO) Executor start aborting (this does not indicate an error and you can ignore this message): INVALID_ARGUMENT: You must feed a value for placeholder tensor 'gradients/split_2_grad/concat/split_2/split_dim' with dtype int32\n",
      "\t [[{{node gradients/split_2_grad/concat/split_2/split_dim}}]]\n",
      "2023-10-01 14:41:32.635171: I tensorflow/core/common_runtime/executor.cc:1197] [/device:CPU:0] (DEBUG INFO) Executor start aborting (this does not indicate an error and you can ignore this message): INVALID_ARGUMENT: You must feed a value for placeholder tensor 'gradients/split_grad/concat/split/split_dim' with dtype int32\n",
      "\t [[{{node gradients/split_grad/concat/split/split_dim}}]]\n",
      "2023-10-01 14:41:32.638733: I tensorflow/core/common_runtime/executor.cc:1197] [/device:CPU:0] (DEBUG INFO) Executor start aborting (this does not indicate an error and you can ignore this message): INVALID_ARGUMENT: You must feed a value for placeholder tensor 'gradients/split_1_grad/concat/split_1/split_dim' with dtype int32\n",
      "\t [[{{node gradients/split_1_grad/concat/split_1/split_dim}}]]\n"
     ]
    }
   ],
   "source": [
    "#adding a third LSTM layer and some Dropout regularization\n",
    "regressor.add(LSTM(units=500, return_sequences = True))\n",
    "regressor.add(Dropout(0.2))"
   ]
  },
  {
   "cell_type": "markdown",
   "metadata": {},
   "source": [
    "We add another LSTM layer with 500 cells."
   ]
  },
  {
   "cell_type": "code",
   "execution_count": 173,
   "metadata": {
    "id": "U5-Lw5QsBgTl"
   },
   "outputs": [
    {
     "name": "stderr",
     "output_type": "stream",
     "text": [
      "2023-10-01 14:41:33.931055: I tensorflow/core/common_runtime/executor.cc:1197] [/device:CPU:0] (DEBUG INFO) Executor start aborting (this does not indicate an error and you can ignore this message): INVALID_ARGUMENT: You must feed a value for placeholder tensor 'gradients/split_2_grad/concat/split_2/split_dim' with dtype int32\n",
      "\t [[{{node gradients/split_2_grad/concat/split_2/split_dim}}]]\n",
      "2023-10-01 14:41:33.948478: I tensorflow/core/common_runtime/executor.cc:1197] [/device:CPU:0] (DEBUG INFO) Executor start aborting (this does not indicate an error and you can ignore this message): INVALID_ARGUMENT: You must feed a value for placeholder tensor 'gradients/split_grad/concat/split/split_dim' with dtype int32\n",
      "\t [[{{node gradients/split_grad/concat/split/split_dim}}]]\n",
      "2023-10-01 14:41:33.953323: I tensorflow/core/common_runtime/executor.cc:1197] [/device:CPU:0] (DEBUG INFO) Executor start aborting (this does not indicate an error and you can ignore this message): INVALID_ARGUMENT: You must feed a value for placeholder tensor 'gradients/split_1_grad/concat/split_1/split_dim' with dtype int32\n",
      "\t [[{{node gradients/split_1_grad/concat/split_1/split_dim}}]]\n"
     ]
    }
   ],
   "source": [
    "#adding a fourth LSTM layer and some Dropout regularization\n",
    "regressor.add(LSTM(units=500))\n",
    "regressor.add(Dropout(0.2))"
   ]
  },
  {
   "cell_type": "markdown",
   "metadata": {},
   "source": [
    "Finally we add a dense layer, which is a layer where 1 output is connected to all of the 500 inputs. This is the output layer that gives the predicted value $y$."
   ]
  },
  {
   "cell_type": "code",
   "execution_count": 174,
   "metadata": {
    "id": "loooEwndBtZM"
   },
   "outputs": [],
   "source": [
    "#adding the output layer\n",
    "regressor.add(Dense(units = 1))  #dense means 1 output"
   ]
  },
  {
   "cell_type": "markdown",
   "metadata": {},
   "source": [
    "Now that RNN is contructed, we compile it and require it to minimize the 'mean squred error' loss function for the output $y$ as compared with the training set y_train. The optimizer 'adam' is an extension of stochastic gradient descent algorithm which decides how to update the weights of the neural network during the training process and dynamically computes individual learning rates to create an adaptive learing rate required to navigate the optimization landscape during training."
   ]
  },
  {
   "cell_type": "code",
   "execution_count": 175,
   "metadata": {
    "id": "OkVNBru0ByHf"
   },
   "outputs": [],
   "source": [
    "#compile the rnn\n",
    "regressor.compile(optimizer = 'adam', loss = 'mean_squared_error')  #adam optimized for big data"
   ]
  },
  {
   "cell_type": "markdown",
   "metadata": {},
   "source": [
    "We finally train the RNN for 500 epochs, meaning the learning algorithm would work through the entire dataset 500 times. One epoch means that the weights of the neurons in the RNN have an opportunity to be updated once.\n",
    "\n",
    "The number of epochs should be as large as possible, but it slows down the training significantly."
   ]
  },
  {
   "cell_type": "code",
   "execution_count": 176,
   "metadata": {
    "colab": {
     "base_uri": "https://localhost:8080/"
    },
    "id": "ImIRswEWB5Uw",
    "outputId": "d5d7180e-2446-4a44-f5b8-2485a68f047a"
   },
   "outputs": [
    {
     "name": "stdout",
     "output_type": "stream",
     "text": [
      "Epoch 1/500\n"
     ]
    },
    {
     "name": "stderr",
     "output_type": "stream",
     "text": [
      "2023-10-01 14:41:35.358242: I tensorflow/core/common_runtime/executor.cc:1197] [/device:CPU:0] (DEBUG INFO) Executor start aborting (this does not indicate an error and you can ignore this message): INVALID_ARGUMENT: You must feed a value for placeholder tensor 'gradients/split_2_grad/concat/split_2/split_dim' with dtype int32\n",
      "\t [[{{node gradients/split_2_grad/concat/split_2/split_dim}}]]\n",
      "2023-10-01 14:41:35.370388: I tensorflow/core/common_runtime/executor.cc:1197] [/device:CPU:0] (DEBUG INFO) Executor start aborting (this does not indicate an error and you can ignore this message): INVALID_ARGUMENT: You must feed a value for placeholder tensor 'gradients/split_grad/concat/split/split_dim' with dtype int32\n",
      "\t [[{{node gradients/split_grad/concat/split/split_dim}}]]\n",
      "2023-10-01 14:41:35.375016: I tensorflow/core/common_runtime/executor.cc:1197] [/device:CPU:0] (DEBUG INFO) Executor start aborting (this does not indicate an error and you can ignore this message): INVALID_ARGUMENT: You must feed a value for placeholder tensor 'gradients/split_1_grad/concat/split_1/split_dim' with dtype int32\n",
      "\t [[{{node gradients/split_1_grad/concat/split_1/split_dim}}]]\n",
      "2023-10-01 14:41:36.482114: I tensorflow/core/common_runtime/executor.cc:1197] [/device:CPU:0] (DEBUG INFO) Executor start aborting (this does not indicate an error and you can ignore this message): INVALID_ARGUMENT: You must feed a value for placeholder tensor 'gradients/split_2_grad/concat/split_2/split_dim' with dtype int32\n",
      "\t [[{{node gradients/split_2_grad/concat/split_2/split_dim}}]]\n",
      "2023-10-01 14:41:36.486110: I tensorflow/core/common_runtime/executor.cc:1197] [/device:CPU:0] (DEBUG INFO) Executor start aborting (this does not indicate an error and you can ignore this message): INVALID_ARGUMENT: You must feed a value for placeholder tensor 'gradients/split_grad/concat/split/split_dim' with dtype int32\n",
      "\t [[{{node gradients/split_grad/concat/split/split_dim}}]]\n",
      "2023-10-01 14:41:36.491463: I tensorflow/core/common_runtime/executor.cc:1197] [/device:CPU:0] (DEBUG INFO) Executor start aborting (this does not indicate an error and you can ignore this message): INVALID_ARGUMENT: You must feed a value for placeholder tensor 'gradients/split_1_grad/concat/split_1/split_dim' with dtype int32\n",
      "\t [[{{node gradients/split_1_grad/concat/split_1/split_dim}}]]\n",
      "2023-10-01 14:41:38.364684: I tensorflow/core/common_runtime/executor.cc:1197] [/device:CPU:0] (DEBUG INFO) Executor start aborting (this does not indicate an error and you can ignore this message): INVALID_ARGUMENT: You must feed a value for placeholder tensor 'gradients/split_2_grad/concat/split_2/split_dim' with dtype int32\n",
      "\t [[{{node gradients/split_2_grad/concat/split_2/split_dim}}]]\n",
      "2023-10-01 14:41:38.369690: I tensorflow/core/common_runtime/executor.cc:1197] [/device:CPU:0] (DEBUG INFO) Executor start aborting (this does not indicate an error and you can ignore this message): INVALID_ARGUMENT: You must feed a value for placeholder tensor 'gradients/split_grad/concat/split/split_dim' with dtype int32\n",
      "\t [[{{node gradients/split_grad/concat/split/split_dim}}]]\n",
      "2023-10-01 14:41:38.374680: I tensorflow/core/common_runtime/executor.cc:1197] [/device:CPU:0] (DEBUG INFO) Executor start aborting (this does not indicate an error and you can ignore this message): INVALID_ARGUMENT: You must feed a value for placeholder tensor 'gradients/split_1_grad/concat/split_1/split_dim' with dtype int32\n",
      "\t [[{{node gradients/split_1_grad/concat/split_1/split_dim}}]]\n",
      "2023-10-01 14:41:39.347537: I tensorflow/core/common_runtime/executor.cc:1197] [/device:CPU:0] (DEBUG INFO) Executor start aborting (this does not indicate an error and you can ignore this message): INVALID_ARGUMENT: You must feed a value for placeholder tensor 'gradients/split_2_grad/concat/split_2/split_dim' with dtype int32\n",
      "\t [[{{node gradients/split_2_grad/concat/split_2/split_dim}}]]\n",
      "2023-10-01 14:41:39.352361: I tensorflow/core/common_runtime/executor.cc:1197] [/device:CPU:0] (DEBUG INFO) Executor start aborting (this does not indicate an error and you can ignore this message): INVALID_ARGUMENT: You must feed a value for placeholder tensor 'gradients/split_grad/concat/split/split_dim' with dtype int32\n",
      "\t [[{{node gradients/split_grad/concat/split/split_dim}}]]\n",
      "2023-10-01 14:41:39.357767: I tensorflow/core/common_runtime/executor.cc:1197] [/device:CPU:0] (DEBUG INFO) Executor start aborting (this does not indicate an error and you can ignore this message): INVALID_ARGUMENT: You must feed a value for placeholder tensor 'gradients/split_1_grad/concat/split_1/split_dim' with dtype int32\n",
      "\t [[{{node gradients/split_1_grad/concat/split_1/split_dim}}]]\n",
      "2023-10-01 14:41:44.415102: I tensorflow/core/common_runtime/executor.cc:1197] [/device:CPU:0] (DEBUG INFO) Executor start aborting (this does not indicate an error and you can ignore this message): INVALID_ARGUMENT: You must feed a value for placeholder tensor 'gradients/split_2_grad/concat/split_2/split_dim' with dtype int32\n",
      "\t [[{{node gradients/split_2_grad/concat/split_2/split_dim}}]]\n",
      "2023-10-01 14:41:44.421156: I tensorflow/core/common_runtime/executor.cc:1197] [/device:CPU:0] (DEBUG INFO) Executor start aborting (this does not indicate an error and you can ignore this message): INVALID_ARGUMENT: You must feed a value for placeholder tensor 'gradients/split_grad/concat/split/split_dim' with dtype int32\n",
      "\t [[{{node gradients/split_grad/concat/split/split_dim}}]]\n",
      "2023-10-01 14:41:44.426515: I tensorflow/core/common_runtime/executor.cc:1197] [/device:CPU:0] (DEBUG INFO) Executor start aborting (this does not indicate an error and you can ignore this message): INVALID_ARGUMENT: You must feed a value for placeholder tensor 'gradients/split_1_grad/concat/split_1/split_dim' with dtype int32\n",
      "\t [[{{node gradients/split_1_grad/concat/split_1/split_dim}}]]\n",
      "2023-10-01 14:41:45.165459: I tensorflow/core/common_runtime/executor.cc:1197] [/device:CPU:0] (DEBUG INFO) Executor start aborting (this does not indicate an error and you can ignore this message): INVALID_ARGUMENT: You must feed a value for placeholder tensor 'gradients/split_2_grad/concat/split_2/split_dim' with dtype int32\n",
      "\t [[{{node gradients/split_2_grad/concat/split_2/split_dim}}]]\n",
      "2023-10-01 14:41:45.168868: I tensorflow/core/common_runtime/executor.cc:1197] [/device:CPU:0] (DEBUG INFO) Executor start aborting (this does not indicate an error and you can ignore this message): INVALID_ARGUMENT: You must feed a value for placeholder tensor 'gradients/split_grad/concat/split/split_dim' with dtype int32\n",
      "\t [[{{node gradients/split_grad/concat/split/split_dim}}]]\n",
      "2023-10-01 14:41:45.177970: I tensorflow/core/common_runtime/executor.cc:1197] [/device:CPU:0] (DEBUG INFO) Executor start aborting (this does not indicate an error and you can ignore this message): INVALID_ARGUMENT: You must feed a value for placeholder tensor 'gradients/split_1_grad/concat/split_1/split_dim' with dtype int32\n",
      "\t [[{{node gradients/split_1_grad/concat/split_1/split_dim}}]]\n",
      "2023-10-01 14:41:45.815385: I tensorflow/core/common_runtime/executor.cc:1197] [/device:CPU:0] (DEBUG INFO) Executor start aborting (this does not indicate an error and you can ignore this message): INVALID_ARGUMENT: You must feed a value for placeholder tensor 'gradients/split_2_grad/concat/split_2/split_dim' with dtype int32\n",
      "\t [[{{node gradients/split_2_grad/concat/split_2/split_dim}}]]\n",
      "2023-10-01 14:41:45.818144: I tensorflow/core/common_runtime/executor.cc:1197] [/device:CPU:0] (DEBUG INFO) Executor start aborting (this does not indicate an error and you can ignore this message): INVALID_ARGUMENT: You must feed a value for placeholder tensor 'gradients/split_grad/concat/split/split_dim' with dtype int32\n",
      "\t [[{{node gradients/split_grad/concat/split/split_dim}}]]\n",
      "2023-10-01 14:41:45.820991: I tensorflow/core/common_runtime/executor.cc:1197] [/device:CPU:0] (DEBUG INFO) Executor start aborting (this does not indicate an error and you can ignore this message): INVALID_ARGUMENT: You must feed a value for placeholder tensor 'gradients/split_1_grad/concat/split_1/split_dim' with dtype int32\n",
      "\t [[{{node gradients/split_1_grad/concat/split_1/split_dim}}]]\n",
      "2023-10-01 14:41:46.659049: I tensorflow/core/common_runtime/executor.cc:1197] [/device:CPU:0] (DEBUG INFO) Executor start aborting (this does not indicate an error and you can ignore this message): INVALID_ARGUMENT: You must feed a value for placeholder tensor 'gradients/split_2_grad/concat/split_2/split_dim' with dtype int32\n",
      "\t [[{{node gradients/split_2_grad/concat/split_2/split_dim}}]]\n",
      "2023-10-01 14:41:46.662689: I tensorflow/core/common_runtime/executor.cc:1197] [/device:CPU:0] (DEBUG INFO) Executor start aborting (this does not indicate an error and you can ignore this message): INVALID_ARGUMENT: You must feed a value for placeholder tensor 'gradients/split_grad/concat/split/split_dim' with dtype int32\n",
      "\t [[{{node gradients/split_grad/concat/split/split_dim}}]]\n",
      "2023-10-01 14:41:46.666679: I tensorflow/core/common_runtime/executor.cc:1197] [/device:CPU:0] (DEBUG INFO) Executor start aborting (this does not indicate an error and you can ignore this message): INVALID_ARGUMENT: You must feed a value for placeholder tensor 'gradients/split_1_grad/concat/split_1/split_dim' with dtype int32\n",
      "\t [[{{node gradients/split_1_grad/concat/split_1/split_dim}}]]\n"
     ]
    },
    {
     "name": "stdout",
     "output_type": "stream",
     "text": [
      "34/34 [==============================] - 79s 2s/step - loss: 0.5285\n",
      "Epoch 2/500\n",
      "34/34 [==============================] - 55s 2s/step - loss: 0.0119\n",
      "Epoch 3/500\n",
      "34/34 [==============================] - 53s 2s/step - loss: 0.0111\n",
      "Epoch 4/500\n",
      "34/34 [==============================] - 58s 2s/step - loss: 0.0103\n",
      "Epoch 5/500\n",
      "34/34 [==============================] - 59s 2s/step - loss: 0.0105\n",
      "Epoch 6/500\n",
      "34/34 [==============================] - 53s 2s/step - loss: 0.0101\n",
      "Epoch 7/500\n",
      "34/34 [==============================] - 52s 2s/step - loss: 0.0101\n",
      "Epoch 8/500\n",
      "34/34 [==============================] - 52s 2s/step - loss: 0.0098\n",
      "Epoch 9/500\n",
      "34/34 [==============================] - 52s 2s/step - loss: 0.0100\n",
      "Epoch 10/500\n",
      "34/34 [==============================] - 52s 2s/step - loss: 0.0101\n",
      "Epoch 11/500\n",
      "34/34 [==============================] - 57s 2s/step - loss: 0.0105\n",
      "Epoch 12/500\n",
      "34/34 [==============================] - 57s 2s/step - loss: 0.0101\n",
      "Epoch 13/500\n",
      "34/34 [==============================] - 60s 2s/step - loss: 0.0101\n",
      "Epoch 14/500\n",
      "34/34 [==============================] - 65s 2s/step - loss: 0.0102\n",
      "Epoch 15/500\n",
      "34/34 [==============================] - 62s 2s/step - loss: 0.0105\n",
      "Epoch 16/500\n",
      "34/34 [==============================] - 59s 2s/step - loss: 0.0102\n",
      "Epoch 17/500\n",
      "34/34 [==============================] - 56s 2s/step - loss: 0.0096\n",
      "Epoch 18/500\n",
      "34/34 [==============================] - 53s 2s/step - loss: 0.0110\n",
      "Epoch 19/500\n",
      "34/34 [==============================] - 53s 2s/step - loss: 0.0102\n",
      "Epoch 20/500\n",
      "34/34 [==============================] - 54s 2s/step - loss: 0.0105\n",
      "Epoch 21/500\n",
      "34/34 [==============================] - 53s 2s/step - loss: 0.0103\n",
      "Epoch 22/500\n",
      "34/34 [==============================] - 54s 2s/step - loss: 0.0102\n",
      "Epoch 23/500\n",
      "34/34 [==============================] - 53s 2s/step - loss: 0.0098\n",
      "Epoch 24/500\n",
      "34/34 [==============================] - 53s 2s/step - loss: 0.0101\n",
      "Epoch 25/500\n",
      "34/34 [==============================] - 53s 2s/step - loss: 0.0104\n",
      "Epoch 26/500\n",
      "34/34 [==============================] - 53s 2s/step - loss: 0.0101\n",
      "Epoch 27/500\n",
      "34/34 [==============================] - 53s 2s/step - loss: 0.0098\n",
      "Epoch 28/500\n",
      "34/34 [==============================] - 77s 2s/step - loss: 0.0099\n",
      "Epoch 29/500\n",
      "34/34 [==============================] - 93s 3s/step - loss: 0.0096\n",
      "Epoch 30/500\n",
      "34/34 [==============================] - 92s 3s/step - loss: 0.0102\n",
      "Epoch 31/500\n",
      "34/34 [==============================] - 90s 3s/step - loss: 0.0104\n",
      "Epoch 32/500\n",
      "34/34 [==============================] - 90s 3s/step - loss: 0.0100\n",
      "Epoch 33/500\n",
      "34/34 [==============================] - 94s 3s/step - loss: 0.0097\n",
      "Epoch 34/500\n",
      "34/34 [==============================] - 114s 3s/step - loss: 0.0100\n",
      "Epoch 35/500\n",
      "34/34 [==============================] - 114s 3s/step - loss: 0.0096\n",
      "Epoch 36/500\n",
      "34/34 [==============================] - 106s 3s/step - loss: 0.0106\n",
      "Epoch 37/500\n",
      "34/34 [==============================] - 112s 3s/step - loss: 0.0098\n",
      "Epoch 38/500\n",
      "34/34 [==============================] - 122s 4s/step - loss: 0.0098\n",
      "Epoch 39/500\n",
      "34/34 [==============================] - 110s 3s/step - loss: 0.0095\n",
      "Epoch 40/500\n",
      "34/34 [==============================] - 120s 4s/step - loss: 0.0098\n",
      "Epoch 41/500\n",
      "34/34 [==============================] - 109s 3s/step - loss: 0.0095\n",
      "Epoch 42/500\n",
      "34/34 [==============================] - 106s 3s/step - loss: 0.0098\n",
      "Epoch 43/500\n",
      "34/34 [==============================] - 110s 3s/step - loss: 0.0097\n",
      "Epoch 44/500\n",
      "34/34 [==============================] - 111s 3s/step - loss: 0.0095\n",
      "Epoch 45/500\n",
      "34/34 [==============================] - 107s 3s/step - loss: 0.0094\n",
      "Epoch 46/500\n",
      "34/34 [==============================] - 107s 3s/step - loss: 0.0101\n",
      "Epoch 47/500\n",
      "34/34 [==============================] - 108s 3s/step - loss: 0.0092\n",
      "Epoch 48/500\n",
      "34/34 [==============================] - 104s 3s/step - loss: 0.0091\n",
      "Epoch 49/500\n",
      "34/34 [==============================] - 105s 3s/step - loss: 0.0090\n",
      "Epoch 50/500\n",
      "34/34 [==============================] - 105s 3s/step - loss: 0.0087\n",
      "Epoch 51/500\n",
      "34/34 [==============================] - 104s 3s/step - loss: 0.0085\n",
      "Epoch 52/500\n",
      "34/34 [==============================] - 96s 3s/step - loss: 0.0083\n",
      "Epoch 53/500\n",
      "34/34 [==============================] - 51s 1s/step - loss: 0.0085\n",
      "Epoch 54/500\n",
      "34/34 [==============================] - 52s 2s/step - loss: 0.0084\n",
      "Epoch 55/500\n",
      "34/34 [==============================] - 52s 2s/step - loss: 0.0079\n",
      "Epoch 56/500\n",
      "34/34 [==============================] - 52s 2s/step - loss: 0.0078\n",
      "Epoch 57/500\n",
      "34/34 [==============================] - 52s 2s/step - loss: 0.0077\n",
      "Epoch 58/500\n",
      "34/34 [==============================] - 52s 2s/step - loss: 0.0071\n",
      "Epoch 59/500\n",
      "34/34 [==============================] - 51s 2s/step - loss: 0.0073\n",
      "Epoch 60/500\n",
      "34/34 [==============================] - 53s 2s/step - loss: 0.0070\n",
      "Epoch 61/500\n",
      "34/34 [==============================] - 51s 1s/step - loss: 0.0067\n",
      "Epoch 62/500\n",
      "34/34 [==============================] - 53s 2s/step - loss: 0.0068\n",
      "Epoch 63/500\n",
      "34/34 [==============================] - 53s 2s/step - loss: 0.0065\n",
      "Epoch 64/500\n",
      "34/34 [==============================] - 54s 2s/step - loss: 0.0065\n",
      "Epoch 65/500\n",
      "34/34 [==============================] - 52s 2s/step - loss: 0.0067\n",
      "Epoch 66/500\n",
      "34/34 [==============================] - 52s 2s/step - loss: 0.0062\n",
      "Epoch 67/500\n",
      "34/34 [==============================] - 52s 2s/step - loss: 0.0062\n",
      "Epoch 68/500\n",
      "34/34 [==============================] - 52s 2s/step - loss: 0.0065\n",
      "Epoch 69/500\n",
      "34/34 [==============================] - 52s 2s/step - loss: 0.0062\n",
      "Epoch 70/500\n",
      "34/34 [==============================] - 51s 1s/step - loss: 0.0065\n",
      "Epoch 71/500\n",
      "34/34 [==============================] - 52s 2s/step - loss: 0.0063\n",
      "Epoch 72/500\n",
      "34/34 [==============================] - 51s 2s/step - loss: 0.0062\n",
      "Epoch 73/500\n",
      "34/34 [==============================] - 50s 1s/step - loss: 0.0065\n",
      "Epoch 74/500\n",
      "34/34 [==============================] - 51s 2s/step - loss: 0.0066\n",
      "Epoch 75/500\n",
      "34/34 [==============================] - 50s 1s/step - loss: 0.0063\n",
      "Epoch 76/500\n",
      "34/34 [==============================] - 51s 2s/step - loss: 0.0063\n",
      "Epoch 77/500\n",
      "34/34 [==============================] - 51s 2s/step - loss: 0.0062\n",
      "Epoch 78/500\n",
      "34/34 [==============================] - 52s 2s/step - loss: 0.0064\n",
      "Epoch 79/500\n",
      "34/34 [==============================] - 51s 2s/step - loss: 0.0060\n",
      "Epoch 80/500\n",
      "34/34 [==============================] - 51s 2s/step - loss: 0.0059\n",
      "Epoch 81/500\n",
      "34/34 [==============================] - 51s 2s/step - loss: 0.0055\n",
      "Epoch 82/500\n",
      "34/34 [==============================] - 51s 1s/step - loss: 0.0064\n",
      "Epoch 83/500\n",
      "34/34 [==============================] - 52s 2s/step - loss: 0.0058\n",
      "Epoch 84/500\n",
      "34/34 [==============================] - 52s 2s/step - loss: 0.0056\n",
      "Epoch 85/500\n",
      "34/34 [==============================] - 51s 2s/step - loss: 0.0061\n",
      "Epoch 86/500\n",
      "34/34 [==============================] - 52s 2s/step - loss: 0.0060\n",
      "Epoch 87/500\n",
      "34/34 [==============================] - 51s 1s/step - loss: 0.0055\n",
      "Epoch 88/500\n",
      "34/34 [==============================] - 51s 2s/step - loss: 0.0062\n",
      "Epoch 89/500\n",
      "34/34 [==============================] - 51s 1s/step - loss: 0.0058\n",
      "Epoch 90/500\n",
      "34/34 [==============================] - 52s 2s/step - loss: 0.0057\n",
      "Epoch 91/500\n",
      "34/34 [==============================] - 55s 2s/step - loss: 0.0055\n",
      "Epoch 92/500\n",
      "34/34 [==============================] - 51s 1s/step - loss: 0.0054\n",
      "Epoch 93/500\n",
      "34/34 [==============================] - 51s 2s/step - loss: 0.0057\n",
      "Epoch 94/500\n",
      "34/34 [==============================] - 51s 2s/step - loss: 0.0053\n",
      "Epoch 95/500\n",
      "34/34 [==============================] - 51s 2s/step - loss: 0.0056\n",
      "Epoch 96/500\n",
      "34/34 [==============================] - 51s 2s/step - loss: 0.0053\n",
      "Epoch 97/500\n",
      "34/34 [==============================] - 52s 2s/step - loss: 0.0055\n",
      "Epoch 98/500\n",
      "34/34 [==============================] - 52s 2s/step - loss: 0.0050\n",
      "Epoch 99/500\n",
      "34/34 [==============================] - 53s 2s/step - loss: 0.0051\n",
      "Epoch 100/500\n",
      "34/34 [==============================] - 59s 2s/step - loss: 0.0050\n",
      "Epoch 101/500\n",
      "34/34 [==============================] - 68s 2s/step - loss: 0.0053\n",
      "Epoch 102/500\n"
     ]
    },
    {
     "name": "stdout",
     "output_type": "stream",
     "text": [
      "34/34 [==============================] - 70s 2s/step - loss: 0.0052\n",
      "Epoch 103/500\n",
      "34/34 [==============================] - 65s 2s/step - loss: 0.0049\n",
      "Epoch 104/500\n",
      "34/34 [==============================] - 83s 2s/step - loss: 0.0050\n",
      "Epoch 105/500\n",
      "34/34 [==============================] - 88s 3s/step - loss: 0.0049\n",
      "Epoch 106/500\n",
      "34/34 [==============================] - 78s 2s/step - loss: 0.0050\n",
      "Epoch 107/500\n",
      "34/34 [==============================] - 56s 2s/step - loss: 0.0050\n",
      "Epoch 108/500\n",
      "34/34 [==============================] - 52s 2s/step - loss: 0.0055\n",
      "Epoch 109/500\n",
      "34/34 [==============================] - 52s 2s/step - loss: 0.0049\n",
      "Epoch 110/500\n",
      "34/34 [==============================] - 51s 2s/step - loss: 0.0048\n",
      "Epoch 111/500\n",
      "34/34 [==============================] - 53s 2s/step - loss: 0.0056\n",
      "Epoch 112/500\n",
      "34/34 [==============================] - 53s 2s/step - loss: 0.0045\n",
      "Epoch 113/500\n",
      "34/34 [==============================] - 53s 2s/step - loss: 0.0049\n",
      "Epoch 114/500\n",
      "34/34 [==============================] - 52s 2s/step - loss: 0.0049\n",
      "Epoch 115/500\n",
      "34/34 [==============================] - 53s 2s/step - loss: 0.0049\n",
      "Epoch 116/500\n",
      "34/34 [==============================] - 53s 2s/step - loss: 0.0051\n",
      "Epoch 117/500\n",
      "34/34 [==============================] - 54s 2s/step - loss: 0.0051\n",
      "Epoch 118/500\n",
      "34/34 [==============================] - 53s 2s/step - loss: 0.0049\n",
      "Epoch 119/500\n",
      "34/34 [==============================] - 54s 2s/step - loss: 0.0047\n",
      "Epoch 120/500\n",
      "34/34 [==============================] - 53s 2s/step - loss: 0.0051\n",
      "Epoch 121/500\n",
      "34/34 [==============================] - 53s 2s/step - loss: 0.0045\n",
      "Epoch 122/500\n",
      "34/34 [==============================] - 52s 2s/step - loss: 0.0046\n",
      "Epoch 123/500\n",
      "34/34 [==============================] - 53s 2s/step - loss: 0.0045\n",
      "Epoch 124/500\n",
      "34/34 [==============================] - 55s 2s/step - loss: 0.0052\n",
      "Epoch 125/500\n",
      "34/34 [==============================] - 53s 2s/step - loss: 0.0048\n",
      "Epoch 126/500\n",
      "34/34 [==============================] - 53s 2s/step - loss: 0.0047\n",
      "Epoch 127/500\n",
      "34/34 [==============================] - 53s 2s/step - loss: 0.0048\n",
      "Epoch 128/500\n",
      "34/34 [==============================] - 53s 2s/step - loss: 0.0045\n",
      "Epoch 129/500\n",
      "34/34 [==============================] - 51s 2s/step - loss: 0.0043\n",
      "Epoch 130/500\n",
      "34/34 [==============================] - 53s 2s/step - loss: 0.0046\n",
      "Epoch 131/500\n",
      "34/34 [==============================] - 51s 2s/step - loss: 0.0044\n",
      "Epoch 132/500\n",
      "34/34 [==============================] - 52s 2s/step - loss: 0.0046\n",
      "Epoch 133/500\n",
      "34/34 [==============================] - 52s 2s/step - loss: 0.0049\n",
      "Epoch 134/500\n",
      "34/34 [==============================] - 53s 2s/step - loss: 0.0045\n",
      "Epoch 135/500\n",
      "34/34 [==============================] - 53s 2s/step - loss: 0.0047\n",
      "Epoch 136/500\n",
      "34/34 [==============================] - 51s 2s/step - loss: 0.0047\n",
      "Epoch 137/500\n",
      "34/34 [==============================] - 53s 2s/step - loss: 0.0047\n",
      "Epoch 138/500\n",
      "34/34 [==============================] - 53s 2s/step - loss: 0.0049\n",
      "Epoch 139/500\n",
      "34/34 [==============================] - 53s 2s/step - loss: 0.0046\n",
      "Epoch 140/500\n",
      "34/34 [==============================] - 55s 2s/step - loss: 0.0049\n",
      "Epoch 141/500\n",
      "34/34 [==============================] - 54s 2s/step - loss: 0.0047\n",
      "Epoch 142/500\n",
      "34/34 [==============================] - 53s 2s/step - loss: 0.0047\n",
      "Epoch 143/500\n",
      "34/34 [==============================] - 54s 2s/step - loss: 0.0044\n",
      "Epoch 144/500\n",
      "34/34 [==============================] - 54s 2s/step - loss: 0.0045\n",
      "Epoch 145/500\n",
      "34/34 [==============================] - 54s 2s/step - loss: 0.0043\n",
      "Epoch 146/500\n",
      "34/34 [==============================] - 52s 2s/step - loss: 0.0044\n",
      "Epoch 147/500\n",
      "34/34 [==============================] - 53s 2s/step - loss: 0.0041\n",
      "Epoch 148/500\n",
      "34/34 [==============================] - 54s 2s/step - loss: 0.0047\n",
      "Epoch 149/500\n",
      "34/34 [==============================] - 53s 2s/step - loss: 0.0045\n",
      "Epoch 150/500\n",
      "34/34 [==============================] - 55s 2s/step - loss: 0.0043\n",
      "Epoch 151/500\n",
      "34/34 [==============================] - 55s 2s/step - loss: 0.0048\n",
      "Epoch 152/500\n",
      "34/34 [==============================] - 54s 2s/step - loss: 0.0043\n",
      "Epoch 153/500\n",
      "34/34 [==============================] - 55s 2s/step - loss: 0.0042\n",
      "Epoch 154/500\n",
      "34/34 [==============================] - 54s 2s/step - loss: 0.0043\n",
      "Epoch 155/500\n",
      "34/34 [==============================] - 55s 2s/step - loss: 0.0048\n",
      "Epoch 156/500\n",
      "34/34 [==============================] - 56s 2s/step - loss: 0.0048\n",
      "Epoch 157/500\n",
      "34/34 [==============================] - 57s 2s/step - loss: 0.0046\n",
      "Epoch 158/500\n",
      "34/34 [==============================] - 54s 2s/step - loss: 0.0040\n",
      "Epoch 159/500\n",
      "34/34 [==============================] - 55s 2s/step - loss: 0.0043\n",
      "Epoch 160/500\n",
      "34/34 [==============================] - 55s 2s/step - loss: 0.0044\n",
      "Epoch 161/500\n",
      "34/34 [==============================] - 55s 2s/step - loss: 0.0042\n",
      "Epoch 162/500\n",
      "34/34 [==============================] - 54s 2s/step - loss: 0.0044\n",
      "Epoch 163/500\n",
      "34/34 [==============================] - 55s 2s/step - loss: 0.0040\n",
      "Epoch 164/500\n",
      "34/34 [==============================] - 57s 2s/step - loss: 0.0044\n",
      "Epoch 165/500\n",
      "34/34 [==============================] - 52s 2s/step - loss: 0.0041\n",
      "Epoch 166/500\n",
      "34/34 [==============================] - 54s 2s/step - loss: 0.0044\n",
      "Epoch 167/500\n",
      "34/34 [==============================] - 54s 2s/step - loss: 0.0043\n",
      "Epoch 168/500\n",
      "34/34 [==============================] - 54s 2s/step - loss: 0.0040\n",
      "Epoch 169/500\n",
      "34/34 [==============================] - 54s 2s/step - loss: 0.0044\n",
      "Epoch 170/500\n",
      "34/34 [==============================] - 55s 2s/step - loss: 0.0042\n",
      "Epoch 171/500\n",
      "34/34 [==============================] - 55s 2s/step - loss: 0.0042\n",
      "Epoch 172/500\n",
      "34/34 [==============================] - 54s 2s/step - loss: 0.0043\n",
      "Epoch 173/500\n",
      "34/34 [==============================] - 55s 2s/step - loss: 0.0042\n",
      "Epoch 174/500\n",
      "34/34 [==============================] - 56s 2s/step - loss: 0.0040\n",
      "Epoch 175/500\n",
      "34/34 [==============================] - 55s 2s/step - loss: 1.2803\n",
      "Epoch 176/500\n",
      "34/34 [==============================] - 56s 2s/step - loss: 0.0237\n",
      "Epoch 177/500\n",
      "34/34 [==============================] - 57s 2s/step - loss: 0.0152\n",
      "Epoch 178/500\n",
      "34/34 [==============================] - 55s 2s/step - loss: 0.0113\n",
      "Epoch 179/500\n",
      "34/34 [==============================] - 53s 2s/step - loss: 0.0105\n",
      "Epoch 180/500\n",
      "34/34 [==============================] - 52s 2s/step - loss: 0.0085\n",
      "Epoch 181/500\n",
      "34/34 [==============================] - 52s 2s/step - loss: 0.0077\n",
      "Epoch 182/500\n",
      "34/34 [==============================] - 52s 2s/step - loss: 0.0076\n",
      "Epoch 183/500\n",
      "34/34 [==============================] - 52s 2s/step - loss: 0.0065\n",
      "Epoch 184/500\n",
      "34/34 [==============================] - 53s 2s/step - loss: 0.0060\n",
      "Epoch 185/500\n",
      "34/34 [==============================] - 52s 2s/step - loss: 0.0058\n",
      "Epoch 186/500\n",
      "34/34 [==============================] - 52s 2s/step - loss: 0.0060\n",
      "Epoch 187/500\n",
      "34/34 [==============================] - 52s 2s/step - loss: 0.0062\n",
      "Epoch 188/500\n",
      "34/34 [==============================] - 52s 2s/step - loss: 0.0057\n",
      "Epoch 189/500\n",
      "34/34 [==============================] - 52s 2s/step - loss: 0.0060\n",
      "Epoch 190/500\n",
      "34/34 [==============================] - 53s 2s/step - loss: 0.0052\n",
      "Epoch 191/500\n",
      "34/34 [==============================] - 53s 2s/step - loss: 0.0054\n",
      "Epoch 192/500\n",
      "34/34 [==============================] - 53s 2s/step - loss: 0.0051\n",
      "Epoch 193/500\n",
      "34/34 [==============================] - 53s 2s/step - loss: 0.0053\n",
      "Epoch 194/500\n",
      "34/34 [==============================] - 52s 2s/step - loss: 0.0051\n",
      "Epoch 195/500\n",
      "34/34 [==============================] - 53s 2s/step - loss: 0.0052\n",
      "Epoch 196/500\n",
      "34/34 [==============================] - 53s 2s/step - loss: 0.0048\n",
      "Epoch 197/500\n",
      "34/34 [==============================] - 55s 2s/step - loss: 0.0049\n",
      "Epoch 198/500\n",
      "34/34 [==============================] - 54s 2s/step - loss: 0.0051\n",
      "Epoch 199/500\n",
      "34/34 [==============================] - 53s 2s/step - loss: 0.0048\n",
      "Epoch 200/500\n",
      "34/34 [==============================] - 53s 2s/step - loss: 0.0054\n",
      "Epoch 201/500\n",
      "34/34 [==============================] - 54s 2s/step - loss: 0.0048\n",
      "Epoch 202/500\n"
     ]
    },
    {
     "name": "stdout",
     "output_type": "stream",
     "text": [
      "34/34 [==============================] - 54s 2s/step - loss: 0.0048\n",
      "Epoch 203/500\n",
      "34/34 [==============================] - 53s 2s/step - loss: 0.0050\n",
      "Epoch 204/500\n",
      "34/34 [==============================] - 53s 2s/step - loss: 0.0049\n",
      "Epoch 205/500\n",
      "34/34 [==============================] - 53s 2s/step - loss: 0.0049\n",
      "Epoch 206/500\n",
      "34/34 [==============================] - 53s 2s/step - loss: 0.0049\n",
      "Epoch 207/500\n",
      "34/34 [==============================] - 53s 2s/step - loss: 0.0048\n",
      "Epoch 208/500\n",
      "34/34 [==============================] - 53s 2s/step - loss: 0.0047\n",
      "Epoch 209/500\n",
      "34/34 [==============================] - 53s 2s/step - loss: 0.0045\n",
      "Epoch 210/500\n",
      "34/34 [==============================] - 53s 2s/step - loss: 0.0042\n",
      "Epoch 211/500\n",
      "34/34 [==============================] - 53s 2s/step - loss: 0.0045\n",
      "Epoch 212/500\n",
      "34/34 [==============================] - 53s 2s/step - loss: 0.0048\n",
      "Epoch 213/500\n",
      "34/34 [==============================] - 52s 2s/step - loss: 0.0045\n",
      "Epoch 214/500\n",
      "34/34 [==============================] - 53s 2s/step - loss: 0.0044\n",
      "Epoch 215/500\n",
      "34/34 [==============================] - 53s 2s/step - loss: 0.0042\n",
      "Epoch 216/500\n",
      "34/34 [==============================] - 53s 2s/step - loss: 0.0047\n",
      "Epoch 217/500\n",
      "34/34 [==============================] - 54s 2s/step - loss: 0.0049\n",
      "Epoch 218/500\n",
      "34/34 [==============================] - 52s 2s/step - loss: 0.0045\n",
      "Epoch 219/500\n",
      "34/34 [==============================] - 51s 1s/step - loss: 0.0042\n",
      "Epoch 220/500\n",
      "34/34 [==============================] - 51s 1s/step - loss: 0.0045\n",
      "Epoch 221/500\n",
      "34/34 [==============================] - 54s 2s/step - loss: 0.0043\n",
      "Epoch 222/500\n",
      "34/34 [==============================] - 58s 2s/step - loss: 0.0043\n",
      "Epoch 223/500\n",
      "34/34 [==============================] - 60s 2s/step - loss: 0.0045\n",
      "Epoch 224/500\n",
      "34/34 [==============================] - 58s 2s/step - loss: 0.0044\n",
      "Epoch 225/500\n",
      "34/34 [==============================] - 55s 2s/step - loss: 0.0045\n",
      "Epoch 226/500\n",
      "34/34 [==============================] - 56s 2s/step - loss: 0.0044\n",
      "Epoch 227/500\n",
      "34/34 [==============================] - 56s 2s/step - loss: 0.0046\n",
      "Epoch 228/500\n",
      "34/34 [==============================] - 55s 2s/step - loss: 0.0044\n",
      "Epoch 229/500\n",
      "34/34 [==============================] - 55s 2s/step - loss: 0.0043\n",
      "Epoch 230/500\n",
      "34/34 [==============================] - 56s 2s/step - loss: 0.0044\n",
      "Epoch 231/500\n",
      "34/34 [==============================] - 53s 2s/step - loss: 0.0042\n",
      "Epoch 232/500\n",
      "34/34 [==============================] - 54s 2s/step - loss: 0.0042\n",
      "Epoch 233/500\n",
      "34/34 [==============================] - 54s 2s/step - loss: 0.0042\n",
      "Epoch 234/500\n",
      "34/34 [==============================] - 54s 2s/step - loss: 0.0042\n",
      "Epoch 235/500\n",
      "34/34 [==============================] - 54s 2s/step - loss: 0.0043\n",
      "Epoch 236/500\n",
      "34/34 [==============================] - 54s 2s/step - loss: 0.0041\n",
      "Epoch 237/500\n",
      "34/34 [==============================] - 54s 2s/step - loss: 0.0041\n",
      "Epoch 238/500\n",
      "34/34 [==============================] - 56s 2s/step - loss: 0.0044\n",
      "Epoch 239/500\n",
      "34/34 [==============================] - 54s 2s/step - loss: 0.0042\n",
      "Epoch 240/500\n",
      "34/34 [==============================] - 55s 2s/step - loss: 0.0043\n",
      "Epoch 241/500\n",
      "34/34 [==============================] - 54s 2s/step - loss: 0.0043\n",
      "Epoch 242/500\n",
      "34/34 [==============================] - 55s 2s/step - loss: 0.0046\n",
      "Epoch 243/500\n",
      "34/34 [==============================] - 55s 2s/step - loss: 0.0040\n",
      "Epoch 244/500\n",
      "34/34 [==============================] - 54s 2s/step - loss: 0.0041\n",
      "Epoch 245/500\n",
      "34/34 [==============================] - 57s 2s/step - loss: 0.0041\n",
      "Epoch 246/500\n",
      "34/34 [==============================] - 57s 2s/step - loss: 0.0039\n",
      "Epoch 247/500\n",
      "34/34 [==============================] - 56s 2s/step - loss: 0.0045\n",
      "Epoch 248/500\n",
      "34/34 [==============================] - 55s 2s/step - loss: 0.0039\n",
      "Epoch 249/500\n",
      "34/34 [==============================] - 55s 2s/step - loss: 0.0041\n",
      "Epoch 250/500\n",
      "34/34 [==============================] - 61s 2s/step - loss: 0.0045\n",
      "Epoch 251/500\n",
      "34/34 [==============================] - 59s 2s/step - loss: 0.0042\n",
      "Epoch 252/500\n",
      "34/34 [==============================] - 62s 2s/step - loss: 0.0040\n",
      "Epoch 253/500\n",
      "34/34 [==============================] - 59s 2s/step - loss: 0.0042\n",
      "Epoch 254/500\n",
      "34/34 [==============================] - 56s 2s/step - loss: 0.0041\n",
      "Epoch 255/500\n",
      "34/34 [==============================] - 56s 2s/step - loss: 0.0041\n",
      "Epoch 256/500\n",
      "34/34 [==============================] - 56s 2s/step - loss: 0.0042\n",
      "Epoch 257/500\n",
      "34/34 [==============================] - 63s 2s/step - loss: 0.0038\n",
      "Epoch 258/500\n",
      "34/34 [==============================] - 58s 2s/step - loss: 0.0040\n",
      "Epoch 259/500\n",
      "34/34 [==============================] - 56s 2s/step - loss: 0.0040\n",
      "Epoch 260/500\n",
      "34/34 [==============================] - 71s 2s/step - loss: 0.0038\n",
      "Epoch 261/500\n",
      "34/34 [==============================] - 63s 2s/step - loss: 0.0043\n",
      "Epoch 262/500\n",
      "34/34 [==============================] - 54s 2s/step - loss: 0.0040\n",
      "Epoch 263/500\n",
      "34/34 [==============================] - 53s 2s/step - loss: 0.0040\n",
      "Epoch 264/500\n",
      "34/34 [==============================] - 52s 2s/step - loss: 0.0039\n",
      "Epoch 265/500\n",
      "34/34 [==============================] - 57s 2s/step - loss: 0.0037\n",
      "Epoch 266/500\n",
      "34/34 [==============================] - 3614s 109s/step - loss: 0.0041\n",
      "Epoch 267/500\n",
      "34/34 [==============================] - 56s 2s/step - loss: 0.0041\n",
      "Epoch 268/500\n",
      "34/34 [==============================] - 56s 2s/step - loss: 0.0039\n",
      "Epoch 269/500\n",
      "34/34 [==============================] - 60s 2s/step - loss: 0.0040\n",
      "Epoch 270/500\n",
      "34/34 [==============================] - 63s 2s/step - loss: 0.0037\n",
      "Epoch 271/500\n",
      "34/34 [==============================] - 64s 2s/step - loss: 0.0042\n",
      "Epoch 272/500\n",
      "34/34 [==============================] - 65s 2s/step - loss: 0.0041\n",
      "Epoch 273/500\n",
      "34/34 [==============================] - 66s 2s/step - loss: 0.0041\n",
      "Epoch 274/500\n",
      "34/34 [==============================] - 67s 2s/step - loss: 0.0039\n",
      "Epoch 275/500\n",
      "34/34 [==============================] - 80s 2s/step - loss: 0.0037\n",
      "Epoch 276/500\n",
      "34/34 [==============================] - 97s 3s/step - loss: 0.0040\n",
      "Epoch 277/500\n",
      "34/34 [==============================] - 117s 3s/step - loss: 0.0038\n",
      "Epoch 278/500\n",
      "34/34 [==============================] - 132s 4s/step - loss: 0.0040\n",
      "Epoch 279/500\n",
      "34/34 [==============================] - 132s 4s/step - loss: 0.0038\n",
      "Epoch 280/500\n",
      "34/34 [==============================] - 129s 4s/step - loss: 0.0040\n",
      "Epoch 281/500\n",
      "34/34 [==============================] - 128s 4s/step - loss: 0.0042\n",
      "Epoch 282/500\n",
      "34/34 [==============================] - 162s 5s/step - loss: 0.0040\n",
      "Epoch 283/500\n",
      "34/34 [==============================] - 200s 6s/step - loss: 0.0039\n",
      "Epoch 284/500\n",
      "34/34 [==============================] - 204s 6s/step - loss: 0.0038\n",
      "Epoch 285/500\n",
      "34/34 [==============================] - 213s 6s/step - loss: 0.0038\n",
      "Epoch 286/500\n",
      "34/34 [==============================] - 690s 21s/step - loss: 0.0037\n",
      "Epoch 287/500\n",
      "34/34 [==============================] - 64s 2s/step - loss: 0.0039\n",
      "Epoch 288/500\n",
      "34/34 [==============================] - 61s 2s/step - loss: 0.0041\n",
      "Epoch 289/500\n",
      "34/34 [==============================] - 60s 2s/step - loss: 0.0038\n",
      "Epoch 290/500\n",
      "34/34 [==============================] - 58s 2s/step - loss: 0.0037\n",
      "Epoch 291/500\n",
      "34/34 [==============================] - 55s 2s/step - loss: 0.0038\n",
      "Epoch 292/500\n",
      "34/34 [==============================] - 54s 2s/step - loss: 0.0039\n",
      "Epoch 293/500\n",
      "34/34 [==============================] - 52s 2s/step - loss: 0.0038\n",
      "Epoch 294/500\n",
      "34/34 [==============================] - 52s 2s/step - loss: 0.0040\n",
      "Epoch 295/500\n",
      "34/34 [==============================] - 62s 2s/step - loss: 0.0039\n",
      "Epoch 296/500\n",
      "34/34 [==============================] - 75s 2s/step - loss: 0.0040\n",
      "Epoch 297/500\n",
      "34/34 [==============================] - 75s 2s/step - loss: 0.0040\n",
      "Epoch 298/500\n",
      "34/34 [==============================] - 60s 2s/step - loss: 0.0038\n",
      "Epoch 299/500\n",
      "34/34 [==============================] - 64s 2s/step - loss: 0.0043\n",
      "Epoch 300/500\n",
      "34/34 [==============================] - 70s 2s/step - loss: 0.0038\n",
      "Epoch 301/500\n",
      "34/34 [==============================] - 70s 2s/step - loss: 0.0036\n",
      "Epoch 302/500\n",
      "34/34 [==============================] - 63s 2s/step - loss: 0.0036\n",
      "Epoch 303/500\n",
      "34/34 [==============================] - 65s 2s/step - loss: 0.0038\n",
      "Epoch 304/500\n",
      "34/34 [==============================] - 63s 2s/step - loss: 0.0041\n",
      "Epoch 305/500\n",
      "34/34 [==============================] - 61s 2s/step - loss: 0.0036\n",
      "Epoch 306/500\n",
      "34/34 [==============================] - 65s 2s/step - loss: 0.0036\n",
      "Epoch 307/500\n",
      "34/34 [==============================] - 53s 2s/step - loss: 0.0037\n",
      "Epoch 308/500\n",
      "34/34 [==============================] - 56s 2s/step - loss: 0.0035\n",
      "Epoch 309/500\n",
      "34/34 [==============================] - 52s 2s/step - loss: 0.0038\n",
      "Epoch 310/500\n",
      "34/34 [==============================] - 53s 2s/step - loss: 0.0035\n",
      "Epoch 311/500\n",
      "34/34 [==============================] - 53s 2s/step - loss: 0.0037\n",
      "Epoch 312/500\n",
      "34/34 [==============================] - 53s 2s/step - loss: 0.0040\n",
      "Epoch 313/500\n",
      "34/34 [==============================] - 53s 2s/step - loss: 0.0037\n",
      "Epoch 314/500\n",
      "34/34 [==============================] - 53s 2s/step - loss: 0.0037\n",
      "Epoch 315/500\n",
      "34/34 [==============================] - 52s 2s/step - loss: 0.0035\n",
      "Epoch 316/500\n",
      "34/34 [==============================] - 53s 2s/step - loss: 0.0035\n",
      "Epoch 317/500\n",
      "34/34 [==============================] - 52s 2s/step - loss: 0.0038\n",
      "Epoch 318/500\n",
      "34/34 [==============================] - 54s 2s/step - loss: 0.0036\n",
      "Epoch 319/500\n",
      "34/34 [==============================] - 53s 2s/step - loss: 0.0036\n",
      "Epoch 320/500\n",
      "34/34 [==============================] - 53s 2s/step - loss: 0.0038\n",
      "Epoch 321/500\n",
      "34/34 [==============================] - 53s 2s/step - loss: 0.0037\n",
      "Epoch 322/500\n",
      "34/34 [==============================] - 53s 2s/step - loss: 0.0037\n",
      "Epoch 323/500\n",
      "34/34 [==============================] - 53s 2s/step - loss: 0.0038\n",
      "Epoch 324/500\n",
      "34/34 [==============================] - 53s 2s/step - loss: 0.0036\n",
      "Epoch 325/500\n",
      "34/34 [==============================] - 54s 2s/step - loss: 0.0036\n",
      "Epoch 326/500\n",
      "34/34 [==============================] - 56s 2s/step - loss: 0.0038\n",
      "Epoch 327/500\n",
      "34/34 [==============================] - 54s 2s/step - loss: 0.0034\n",
      "Epoch 328/500\n",
      "34/34 [==============================] - 54s 2s/step - loss: 0.0038\n",
      "Epoch 329/500\n",
      "34/34 [==============================] - 55s 2s/step - loss: 0.0033\n",
      "Epoch 330/500\n",
      "34/34 [==============================] - 54s 2s/step - loss: 0.0035\n",
      "Epoch 331/500\n",
      "34/34 [==============================] - 54s 2s/step - loss: 0.0034\n",
      "Epoch 332/500\n",
      "34/34 [==============================] - 54s 2s/step - loss: 0.0034\n",
      "Epoch 333/500\n",
      "34/34 [==============================] - 54s 2s/step - loss: 0.0039\n",
      "Epoch 334/500\n",
      "34/34 [==============================] - 54s 2s/step - loss: 0.0032\n",
      "Epoch 335/500\n",
      "34/34 [==============================] - 53s 2s/step - loss: 0.0033\n",
      "Epoch 336/500\n",
      "34/34 [==============================] - 53s 2s/step - loss: 0.0035\n",
      "Epoch 337/500\n",
      "34/34 [==============================] - 54s 2s/step - loss: 0.0036\n",
      "Epoch 338/500\n",
      "34/34 [==============================] - 54s 2s/step - loss: 0.0033\n",
      "Epoch 339/500\n",
      "34/34 [==============================] - 54s 2s/step - loss: 0.0038\n",
      "Epoch 340/500\n",
      "34/34 [==============================] - 54s 2s/step - loss: 0.0034\n",
      "Epoch 341/500\n",
      "34/34 [==============================] - 54s 2s/step - loss: 0.0036\n",
      "Epoch 342/500\n",
      "34/34 [==============================] - 54s 2s/step - loss: 0.0035\n",
      "Epoch 343/500\n",
      "34/34 [==============================] - 54s 2s/step - loss: 0.0035\n",
      "Epoch 344/500\n",
      "34/34 [==============================] - 54s 2s/step - loss: 0.0036\n",
      "Epoch 345/500\n",
      "34/34 [==============================] - 55s 2s/step - loss: 0.0034\n",
      "Epoch 346/500\n",
      "34/34 [==============================] - 54s 2s/step - loss: 0.0031\n",
      "Epoch 347/500\n",
      "34/34 [==============================] - 53s 2s/step - loss: 0.0034\n",
      "Epoch 348/500\n",
      "34/34 [==============================] - 54s 2s/step - loss: 0.0035\n",
      "Epoch 349/500\n",
      "34/34 [==============================] - 54s 2s/step - loss: 0.0033\n",
      "Epoch 350/500\n",
      "34/34 [==============================] - 54s 2s/step - loss: 0.0035\n",
      "Epoch 351/500\n",
      "34/34 [==============================] - 54s 2s/step - loss: 0.0032\n",
      "Epoch 352/500\n",
      "34/34 [==============================] - 56s 2s/step - loss: 0.0034\n",
      "Epoch 353/500\n",
      "34/34 [==============================] - 53s 2s/step - loss: 0.0039\n",
      "Epoch 354/500\n",
      "34/34 [==============================] - 54s 2s/step - loss: 0.0033\n",
      "Epoch 355/500\n",
      "34/34 [==============================] - 54s 2s/step - loss: 0.0034\n",
      "Epoch 356/500\n",
      "34/34 [==============================] - 54s 2s/step - loss: 0.0034\n",
      "Epoch 357/500\n",
      "34/34 [==============================] - 55s 2s/step - loss: 0.0036\n",
      "Epoch 358/500\n",
      "34/34 [==============================] - 55s 2s/step - loss: 0.0052\n",
      "Epoch 359/500\n",
      "34/34 [==============================] - 55s 2s/step - loss: 0.0042\n",
      "Epoch 360/500\n",
      "34/34 [==============================] - 55s 2s/step - loss: 0.0037\n",
      "Epoch 361/500\n",
      "34/34 [==============================] - 55s 2s/step - loss: 0.0037\n",
      "Epoch 362/500\n",
      "34/34 [==============================] - 56s 2s/step - loss: 0.0035\n",
      "Epoch 363/500\n",
      "34/34 [==============================] - 53s 2s/step - loss: 0.0037\n",
      "Epoch 364/500\n",
      "34/34 [==============================] - 54s 2s/step - loss: 0.0036\n",
      "Epoch 365/500\n",
      "34/34 [==============================] - 55s 2s/step - loss: 0.0034\n",
      "Epoch 366/500\n",
      "34/34 [==============================] - 54s 2s/step - loss: 0.0033\n",
      "Epoch 367/500\n",
      "34/34 [==============================] - 53s 2s/step - loss: 0.0035\n",
      "Epoch 368/500\n",
      "34/34 [==============================] - 55s 2s/step - loss: 0.0040\n",
      "Epoch 369/500\n",
      "34/34 [==============================] - 54s 2s/step - loss: 0.0035\n",
      "Epoch 370/500\n",
      "34/34 [==============================] - 54s 2s/step - loss: 0.0033\n",
      "Epoch 371/500\n",
      "34/34 [==============================] - 54s 2s/step - loss: 0.0033\n",
      "Epoch 372/500\n",
      "34/34 [==============================] - 54s 2s/step - loss: 0.0035\n",
      "Epoch 373/500\n",
      "34/34 [==============================] - 53s 2s/step - loss: 0.0037\n",
      "Epoch 374/500\n",
      "34/34 [==============================] - 54s 2s/step - loss: 0.0037\n",
      "Epoch 375/500\n",
      "34/34 [==============================] - 54s 2s/step - loss: 0.0032\n",
      "Epoch 376/500\n",
      "34/34 [==============================] - 54s 2s/step - loss: 0.0032\n",
      "Epoch 377/500\n",
      "34/34 [==============================] - 54s 2s/step - loss: 0.0033\n",
      "Epoch 378/500\n",
      "34/34 [==============================] - 54s 2s/step - loss: 0.0031\n",
      "Epoch 379/500\n",
      "34/34 [==============================] - 54s 2s/step - loss: 0.0033\n",
      "Epoch 380/500\n",
      "34/34 [==============================] - 55s 2s/step - loss: 0.0032\n",
      "Epoch 381/500\n",
      "34/34 [==============================] - 54s 2s/step - loss: 0.0029\n",
      "Epoch 382/500\n",
      "34/34 [==============================] - 53s 2s/step - loss: 0.0032\n",
      "Epoch 383/500\n",
      "34/34 [==============================] - 54s 2s/step - loss: 0.0030\n",
      "Epoch 384/500\n",
      "34/34 [==============================] - 54s 2s/step - loss: 0.0028\n",
      "Epoch 385/500\n",
      "34/34 [==============================] - 54s 2s/step - loss: 0.0030\n",
      "Epoch 386/500\n",
      "34/34 [==============================] - 53s 2s/step - loss: 0.0031\n",
      "Epoch 387/500\n",
      "34/34 [==============================] - 53s 2s/step - loss: 0.0033\n",
      "Epoch 388/500\n",
      "34/34 [==============================] - 54s 2s/step - loss: 0.0029\n",
      "Epoch 389/500\n",
      "34/34 [==============================] - 43s 1s/step - loss: 0.0028\n",
      "Epoch 390/500\n",
      "34/34 [==============================] - 30s 887ms/step - loss: 0.0031\n",
      "Epoch 391/500\n",
      "34/34 [==============================] - 33s 977ms/step - loss: 0.0030\n",
      "Epoch 392/500\n",
      "34/34 [==============================] - 31s 910ms/step - loss: 0.0028\n",
      "Epoch 393/500\n",
      "34/34 [==============================] - 32s 933ms/step - loss: 0.0032\n",
      "Epoch 394/500\n",
      "34/34 [==============================] - 30s 894ms/step - loss: 0.0027\n",
      "Epoch 395/500\n",
      "34/34 [==============================] - 32s 926ms/step - loss: 0.0029\n",
      "Epoch 396/500\n",
      "34/34 [==============================] - 30s 868ms/step - loss: 0.0029\n",
      "Epoch 397/500\n",
      "34/34 [==============================] - 30s 879ms/step - loss: 0.0028\n",
      "Epoch 398/500\n",
      "34/34 [==============================] - 30s 866ms/step - loss: 0.0032\n",
      "Epoch 399/500\n",
      "34/34 [==============================] - 30s 884ms/step - loss: 0.0028\n",
      "Epoch 400/500\n"
     ]
    },
    {
     "name": "stdout",
     "output_type": "stream",
     "text": [
      "34/34 [==============================] - 30s 887ms/step - loss: 0.0029\n",
      "Epoch 401/500\n",
      "34/34 [==============================] - 29s 851ms/step - loss: 0.0026\n",
      "Epoch 402/500\n",
      "34/34 [==============================] - 30s 894ms/step - loss: 0.0027\n",
      "Epoch 403/500\n",
      "34/34 [==============================] - 29s 842ms/step - loss: 0.0027\n",
      "Epoch 404/500\n",
      "34/34 [==============================] - 29s 843ms/step - loss: 0.0028\n",
      "Epoch 405/500\n",
      "34/34 [==============================] - 29s 852ms/step - loss: 0.0030\n",
      "Epoch 406/500\n",
      "34/34 [==============================] - 29s 848ms/step - loss: 0.0029\n",
      "Epoch 407/500\n",
      "34/34 [==============================] - 28s 832ms/step - loss: 0.0029\n",
      "Epoch 408/500\n",
      "34/34 [==============================] - 29s 836ms/step - loss: 0.0028\n",
      "Epoch 409/500\n",
      "34/34 [==============================] - 28s 839ms/step - loss: 0.0025\n",
      "Epoch 410/500\n",
      "34/34 [==============================] - 28s 837ms/step - loss: 0.0025\n",
      "Epoch 411/500\n",
      "34/34 [==============================] - 28s 823ms/step - loss: 0.0026\n",
      "Epoch 412/500\n",
      "34/34 [==============================] - 29s 837ms/step - loss: 0.0027\n",
      "Epoch 413/500\n",
      "34/34 [==============================] - 28s 832ms/step - loss: 0.0027\n",
      "Epoch 414/500\n",
      "34/34 [==============================] - 28s 829ms/step - loss: 0.0032\n",
      "Epoch 415/500\n",
      "34/34 [==============================] - 28s 816ms/step - loss: 0.0029\n",
      "Epoch 416/500\n",
      "34/34 [==============================] - 28s 837ms/step - loss: 0.0026\n",
      "Epoch 417/500\n",
      "34/34 [==============================] - 28s 834ms/step - loss: 0.0027\n",
      "Epoch 418/500\n",
      "34/34 [==============================] - 28s 831ms/step - loss: 0.0025\n",
      "Epoch 419/500\n",
      "34/34 [==============================] - 28s 818ms/step - loss: 0.0025\n",
      "Epoch 420/500\n",
      "34/34 [==============================] - 28s 838ms/step - loss: 0.0024\n",
      "Epoch 421/500\n",
      "34/34 [==============================] - 29s 847ms/step - loss: 0.0026\n",
      "Epoch 422/500\n",
      "34/34 [==============================] - 28s 836ms/step - loss: 0.0027\n",
      "Epoch 423/500\n",
      "34/34 [==============================] - 29s 839ms/step - loss: 0.0025\n",
      "Epoch 424/500\n",
      "34/34 [==============================] - 28s 833ms/step - loss: 0.0025\n",
      "Epoch 425/500\n",
      "34/34 [==============================] - 29s 834ms/step - loss: 0.0025\n",
      "Epoch 426/500\n",
      "34/34 [==============================] - 28s 836ms/step - loss: 0.0030\n",
      "Epoch 427/500\n",
      "34/34 [==============================] - 29s 842ms/step - loss: 0.0026\n",
      "Epoch 428/500\n",
      "34/34 [==============================] - 28s 831ms/step - loss: 0.0025\n",
      "Epoch 429/500\n",
      "34/34 [==============================] - 28s 829ms/step - loss: 0.0024\n",
      "Epoch 430/500\n",
      "34/34 [==============================] - 28s 835ms/step - loss: 0.0025\n",
      "Epoch 431/500\n",
      "34/34 [==============================] - 29s 840ms/step - loss: 0.0023\n",
      "Epoch 432/500\n",
      "34/34 [==============================] - 28s 837ms/step - loss: 0.0024\n",
      "Epoch 433/500\n",
      "34/34 [==============================] - 29s 836ms/step - loss: 0.0024\n",
      "Epoch 434/500\n",
      "34/34 [==============================] - 29s 841ms/step - loss: 0.0024\n",
      "Epoch 435/500\n",
      "34/34 [==============================] - 29s 846ms/step - loss: 0.0022\n",
      "Epoch 436/500\n",
      "34/34 [==============================] - 29s 849ms/step - loss: 0.0021\n",
      "Epoch 437/500\n",
      "34/34 [==============================] - 29s 850ms/step - loss: 0.0022\n",
      "Epoch 438/500\n",
      "34/34 [==============================] - 29s 850ms/step - loss: 0.0023\n",
      "Epoch 439/500\n",
      "34/34 [==============================] - 29s 857ms/step - loss: 0.0022\n",
      "Epoch 440/500\n",
      "34/34 [==============================] - 29s 856ms/step - loss: 0.0025\n",
      "Epoch 441/500\n",
      "34/34 [==============================] - 29s 840ms/step - loss: 0.0030\n",
      "Epoch 442/500\n",
      "34/34 [==============================] - 30s 871ms/step - loss: 0.0024\n",
      "Epoch 443/500\n",
      "34/34 [==============================] - 29s 856ms/step - loss: 0.0024\n",
      "Epoch 444/500\n",
      "34/34 [==============================] - 29s 857ms/step - loss: 0.0022\n",
      "Epoch 445/500\n",
      "34/34 [==============================] - 29s 854ms/step - loss: 0.0021\n",
      "Epoch 446/500\n",
      "34/34 [==============================] - 29s 841ms/step - loss: 0.0021\n",
      "Epoch 447/500\n",
      "34/34 [==============================] - 29s 853ms/step - loss: 0.0021\n",
      "Epoch 448/500\n",
      "34/34 [==============================] - 29s 849ms/step - loss: 0.0023\n",
      "Epoch 449/500\n",
      "34/34 [==============================] - 29s 855ms/step - loss: 0.0027\n",
      "Epoch 450/500\n",
      "34/34 [==============================] - 29s 849ms/step - loss: 0.0032\n",
      "Epoch 451/500\n",
      "34/34 [==============================] - 29s 837ms/step - loss: 0.0027\n",
      "Epoch 452/500\n",
      "34/34 [==============================] - 29s 851ms/step - loss: 0.0023\n",
      "Epoch 453/500\n",
      "34/34 [==============================] - 29s 867ms/step - loss: 0.0022\n",
      "Epoch 454/500\n",
      "34/34 [==============================] - 29s 850ms/step - loss: 0.0020\n",
      "Epoch 455/500\n",
      "34/34 [==============================] - 29s 850ms/step - loss: 0.0020\n",
      "Epoch 456/500\n",
      "34/34 [==============================] - 29s 840ms/step - loss: 0.0022\n",
      "Epoch 457/500\n",
      "34/34 [==============================] - 29s 853ms/step - loss: 0.0021\n",
      "Epoch 458/500\n",
      "34/34 [==============================] - 29s 853ms/step - loss: 0.0021\n",
      "Epoch 459/500\n",
      "34/34 [==============================] - 29s 851ms/step - loss: 0.0019\n",
      "Epoch 460/500\n",
      "34/34 [==============================] - 29s 840ms/step - loss: 0.0019\n",
      "Epoch 461/500\n",
      "34/34 [==============================] - 29s 853ms/step - loss: 0.0025\n",
      "Epoch 462/500\n",
      "34/34 [==============================] - 29s 863ms/step - loss: 0.0020\n",
      "Epoch 463/500\n",
      "34/34 [==============================] - 29s 853ms/step - loss: 0.0022\n",
      "Epoch 464/500\n",
      "34/34 [==============================] - 29s 858ms/step - loss: 0.0025\n",
      "Epoch 465/500\n",
      "34/34 [==============================] - 29s 840ms/step - loss: 0.0021\n",
      "Epoch 466/500\n",
      "34/34 [==============================] - 29s 857ms/step - loss: 0.0018\n",
      "Epoch 467/500\n",
      "34/34 [==============================] - 29s 857ms/step - loss: 0.0021\n",
      "Epoch 468/500\n",
      "34/34 [==============================] - 29s 856ms/step - loss: 0.0019\n",
      "Epoch 469/500\n",
      "34/34 [==============================] - 29s 865ms/step - loss: 0.0019\n",
      "Epoch 470/500\n",
      "34/34 [==============================] - 29s 857ms/step - loss: 0.0019\n",
      "Epoch 471/500\n",
      "34/34 [==============================] - 29s 860ms/step - loss: 0.0017\n",
      "Epoch 472/500\n",
      "34/34 [==============================] - 29s 863ms/step - loss: 0.0016\n",
      "Epoch 473/500\n",
      "34/34 [==============================] - 29s 855ms/step - loss: 0.0017\n",
      "Epoch 474/500\n",
      "34/34 [==============================] - 29s 861ms/step - loss: 0.0019\n",
      "Epoch 475/500\n",
      "34/34 [==============================] - 29s 862ms/step - loss: 0.0017\n",
      "Epoch 476/500\n",
      "34/34 [==============================] - 29s 859ms/step - loss: 0.0016\n",
      "Epoch 477/500\n",
      "34/34 [==============================] - 29s 843ms/step - loss: 0.0016\n",
      "Epoch 478/500\n",
      "34/34 [==============================] - 29s 857ms/step - loss: 0.0019\n",
      "Epoch 479/500\n",
      "34/34 [==============================] - 29s 856ms/step - loss: 0.0017\n",
      "Epoch 480/500\n",
      "34/34 [==============================] - 29s 850ms/step - loss: 0.0015\n",
      "Epoch 481/500\n",
      "34/34 [==============================] - 29s 837ms/step - loss: 0.0016\n",
      "Epoch 482/500\n",
      "34/34 [==============================] - 30s 871ms/step - loss: 0.0017\n",
      "Epoch 483/500\n",
      "34/34 [==============================] - 29s 849ms/step - loss: 0.0018\n",
      "Epoch 484/500\n",
      "34/34 [==============================] - 29s 854ms/step - loss: 0.0019\n",
      "Epoch 485/500\n",
      "34/34 [==============================] - 29s 854ms/step - loss: 0.0016\n",
      "Epoch 486/500\n",
      "34/34 [==============================] - 29s 858ms/step - loss: 0.0015\n",
      "Epoch 487/500\n",
      "34/34 [==============================] - 29s 852ms/step - loss: 0.0022\n",
      "Epoch 488/500\n",
      "34/34 [==============================] - 29s 843ms/step - loss: 0.0016\n",
      "Epoch 489/500\n",
      "34/34 [==============================] - 29s 865ms/step - loss: 0.0015\n",
      "Epoch 490/500\n",
      "34/34 [==============================] - 29s 859ms/step - loss: 0.0014\n",
      "Epoch 491/500\n",
      "34/34 [==============================] - 29s 856ms/step - loss: 0.0017\n",
      "Epoch 492/500\n",
      "34/34 [==============================] - 29s 856ms/step - loss: 0.0014\n",
      "Epoch 493/500\n",
      "34/34 [==============================] - 29s 848ms/step - loss: 0.0014\n",
      "Epoch 494/500\n",
      "34/34 [==============================] - 29s 855ms/step - loss: 0.0014\n",
      "Epoch 495/500\n",
      "34/34 [==============================] - 29s 863ms/step - loss: 0.0013\n",
      "Epoch 496/500\n",
      "34/34 [==============================] - 29s 855ms/step - loss: 0.0015\n",
      "Epoch 497/500\n",
      "34/34 [==============================] - 29s 855ms/step - loss: 0.0014\n",
      "Epoch 498/500\n",
      "34/34 [==============================] - 29s 846ms/step - loss: 0.0014\n",
      "Epoch 499/500\n",
      "34/34 [==============================] - 29s 857ms/step - loss: 0.0014\n",
      "Epoch 500/500\n",
      "34/34 [==============================] - 30s 881ms/step - loss: 0.0014\n"
     ]
    },
    {
     "data": {
      "text/plain": [
       "<keras.callbacks.History at 0x7f9a95f3c8e0>"
      ]
     },
     "execution_count": 176,
     "metadata": {},
     "output_type": "execute_result"
    }
   ],
   "source": [
    "#fit rnn to the training set\n",
    "regressor.fit(X_train, y_train, epochs = 500, batch_size = 32) \n",
    "#number of epochs is how many times we go over our data set, batch size so that data is loaded in batches of 32 lines"
   ]
  },
  {
   "cell_type": "markdown",
   "metadata": {},
   "source": [
    "We now have a fully trained RNN and move to the testing part.  The testing dataset consists of the last 60 datapoint of dataset 'x'."
   ]
  },
  {
   "cell_type": "code",
   "execution_count": 12,
   "metadata": {
    "colab": {
     "base_uri": "https://localhost:8080/"
    },
    "id": "QKUM7A0MCubY",
    "outputId": "b9d43437-3e91-439a-97bc-3ca83389d26c"
   },
   "outputs": [],
   "source": [
    "x = pd.DataFrame(x)\n",
    "dataset_test = x[1101:]\n",
    "dataset_train = x[:1101]\n",
    "dataset_total = pd.concat((dataset_train, dataset_test), axis = 0)  \n",
    "inputs = dataset_total[len(dataset_total)-len(dataset_test)-20:].values\n",
    "inputs = sc.transform(inputs)\n"
   ]
  },
  {
   "cell_type": "markdown",
   "metadata": {},
   "source": [
    "Here we show again what the training dataset X_train looks like:"
   ]
  },
  {
   "cell_type": "code",
   "execution_count": 181,
   "metadata": {},
   "outputs": [
    {
     "name": "stdout",
     "output_type": "stream",
     "text": [
      "[[[0.58958068]\n",
      "  [0.5818633 ]\n",
      "  [0.50686328]\n",
      "  ...\n",
      "  [0.61701154]\n",
      "  [0.54299703]\n",
      "  [0.68377208]]\n",
      "\n",
      " [[0.5818633 ]\n",
      "  [0.50686328]\n",
      "  [0.55940822]\n",
      "  ...\n",
      "  [0.54299703]\n",
      "  [0.68377208]\n",
      "  [0.75776988]]\n",
      "\n",
      " [[0.50686328]\n",
      "  [0.55940822]\n",
      "  [0.46933155]\n",
      "  ...\n",
      "  [0.68377208]\n",
      "  [0.75776988]\n",
      "  [0.72765936]]\n",
      "\n",
      " ...\n",
      "\n",
      " [[0.60137778]\n",
      "  [0.59437958]\n",
      "  [0.63686706]\n",
      "  ...\n",
      "  [0.60501153]\n",
      "  [0.65743721]\n",
      "  [0.63443946]]\n",
      "\n",
      " [[0.59437958]\n",
      "  [0.63686706]\n",
      "  [0.72002906]\n",
      "  ...\n",
      "  [0.65743721]\n",
      "  [0.63443946]\n",
      "  [0.59144119]]\n",
      "\n",
      " [[0.63686706]\n",
      "  [0.72002906]\n",
      "  [0.73656443]\n",
      "  ...\n",
      "  [0.63443946]\n",
      "  [0.59144119]\n",
      "  [0.59461316]]]\n"
     ]
    }
   ],
   "source": [
    "#creating a data structure with 20 timesteps and 1 output\n",
    "X_train = []\n",
    "y_train = []\n",
    "for i in range(20, 1101):\n",
    "    X_train.append(training_set_scaled[i-20:i, 0])  #column 0\n",
    "    y_train.append(training_set_scaled[i,0]) #train ith value using i-20:i\n",
    "X_train, y_train = np.array(X_train), np.array(y_train)  #convert to numpy array\n",
    "#reshaping\n",
    "X_train = np.reshape(X_train, (X_train.shape[0], X_train.shape[1], 1))\n",
    "print(X_train)"
   ]
  },
  {
   "cell_type": "markdown",
   "metadata": {},
   "source": [
    "We see that the testing dataset X_test has the same structure: sequences of length 20 shifted by 1."
   ]
  },
  {
   "cell_type": "code",
   "execution_count": 13,
   "metadata": {},
   "outputs": [
    {
     "name": "stdout",
     "output_type": "stream",
     "text": [
      "[[[0.72002906]\n",
      "  [0.73656443]\n",
      "  [0.66446845]\n",
      "  ...\n",
      "  [0.59144119]\n",
      "  [0.59461316]\n",
      "  [0.59581847]]\n",
      "\n",
      " [[0.73656443]\n",
      "  [0.66446845]\n",
      "  [0.69687153]\n",
      "  ...\n",
      "  [0.59461316]\n",
      "  [0.59581847]\n",
      "  [0.59454086]]\n",
      "\n",
      " [[0.66446845]\n",
      "  [0.69687153]\n",
      "  [0.71992399]\n",
      "  ...\n",
      "  [0.59581847]\n",
      "  [0.59454086]\n",
      "  [0.63139761]]\n",
      "\n",
      " ...\n",
      "\n",
      " [[0.76571044]\n",
      "  [0.68788669]\n",
      "  [0.63237252]\n",
      "  ...\n",
      "  [0.32866226]\n",
      "  [0.3391197 ]\n",
      "  [0.53215911]]\n",
      "\n",
      " [[0.68788669]\n",
      "  [0.63237252]\n",
      "  [0.56489481]\n",
      "  ...\n",
      "  [0.3391197 ]\n",
      "  [0.53215911]\n",
      "  [0.62827109]]\n",
      "\n",
      " [[0.63237252]\n",
      "  [0.56489481]\n",
      "  [0.60477381]\n",
      "  ...\n",
      "  [0.53215911]\n",
      "  [0.62827109]\n",
      "  [0.55611709]]]\n"
     ]
    }
   ],
   "source": [
    "dataset_total = pd.concat((dataset_train, dataset_test), axis = 0)  \n",
    "inputs = dataset_total[len(dataset_total)-len(dataset_test)-20:].values\n",
    "inputs = sc.transform(inputs)\n",
    "inputs = inputs.reshape(-1,1)\n",
    "X_test = []\n",
    "for i in range(20, 81):\n",
    "    X_test.append(inputs[i-20:i, 0])\n",
    "X_test = np.array(X_test)\n",
    "X_test = np.reshape(X_test,(X_test.shape[0], X_test.shape[1], 1))\n",
    "print(X_test)"
   ]
  },
  {
   "cell_type": "markdown",
   "metadata": {},
   "source": [
    "Now we use the trained RNN to make predictions on our testing dataset X_test.  Once we have have the predicted values $y$ for the test set, we apply the inverse min-max scaling so that they can be compared to the actual data."
   ]
  },
  {
   "cell_type": "code",
   "execution_count": 188,
   "metadata": {
    "colab": {
     "base_uri": "https://localhost:8080/"
    },
    "id": "YPIielXUC8iN",
    "outputId": "5821280a-5220-4d7d-ef90-2e22c4ec57da"
   },
   "outputs": [
    {
     "name": "stdout",
     "output_type": "stream",
     "text": [
      "2/2 [==============================] - 1s 238ms/step\n"
     ]
    }
   ],
   "source": [
    "dataset_total = pd.concat((dataset_train, dataset_test), axis = 0)  \n",
    "inputs = dataset_total[len(dataset_total)-len(dataset_test)-20:].values\n",
    "inputs = sc.transform(inputs)\n",
    "inputs = inputs.reshape(-1,1)\n",
    "\n",
    "X_test = []\n",
    "for i in range(20, 81):\n",
    "    X_test.append(inputs[i-20:i, 0])\n",
    "X_test = np.array(X_test)\n",
    "\n",
    "X_test = np.reshape(X_test,(X_test.shape[0], X_test.shape[1], 1))\n",
    "predicted = regressor.predict(X_test)\n",
    "predicted = predicted.reshape(-1,1)\n",
    "predicted = sc.inverse_transform(predicted) #go back from scaled data to actual values"
   ]
  },
  {
   "cell_type": "markdown",
   "metadata": {},
   "source": [
    "We need the actual values of the test dataset to compare with predicted values. We call the last 60 actual values of dataset 'x', the 'real' dataset."
   ]
  },
  {
   "cell_type": "code",
   "execution_count": 189,
   "metadata": {
    "colab": {
     "base_uri": "https://localhost:8080/"
    },
    "id": "5YnTs7HpJNKL",
    "outputId": "77b82fae-f230-476b-85a2-fdeb7b216ac3"
   },
   "outputs": [
    {
     "data": {
      "text/plain": [
       "array([[-1.16237700e-02],\n",
       "       [-5.47501523e-03],\n",
       "       [ 2.35792330e-03],\n",
       "       [-7.57251913e-03],\n",
       "       [-7.63852520e-03],\n",
       "       [-7.12440589e-03],\n",
       "       [ 1.22141685e-03],\n",
       "       [ 1.48779580e-03],\n",
       "       [ 1.19656141e-02],\n",
       "       [ 1.31048307e-02],\n",
       "       [ 3.62395355e-03],\n",
       "       [-1.97200339e-03],\n",
       "       [-3.71077545e-03],\n",
       "       [-6.65160717e-03],\n",
       "       [-1.45077349e-02],\n",
       "       [-1.20233811e-02],\n",
       "       [ 2.17185511e-03],\n",
       "       [ 7.89367317e-03],\n",
       "       [-1.13975811e-03],\n",
       "       [-3.17203771e-03],\n",
       "       [ 1.04595859e-02],\n",
       "       [ 6.10890647e-03],\n",
       "       [-2.97273928e-03],\n",
       "       [-1.25734251e-02],\n",
       "       [-4.69618533e-03],\n",
       "       [ 6.42526244e-04],\n",
       "       [ 1.35080558e-03],\n",
       "       [ 4.92030510e-03],\n",
       "       [ 1.45340568e-02],\n",
       "       [ 4.95091727e-03],\n",
       "       [ 3.87575365e-03],\n",
       "       [-1.03875562e-02],\n",
       "       [-1.46422864e-03],\n",
       "       [-3.29374648e-03],\n",
       "       [-1.35878798e-04],\n",
       "       [-6.55641057e-03],\n",
       "       [ 4.44332537e-03],\n",
       "       [ 1.31031904e-02],\n",
       "       [ 1.69321908e-02],\n",
       "       [ 3.94897339e-03],\n",
       "       [-5.31237234e-03],\n",
       "       [-1.65695763e-02],\n",
       "       [-9.91662332e-03],\n",
       "       [-4.58978354e-03],\n",
       "       [-8.25578799e-03],\n",
       "       [-9.66515558e-03],\n",
       "       [-8.97504942e-05],\n",
       "       [ 1.90424849e-02],\n",
       "       [ 1.38182001e-02],\n",
       "       [-9.05321199e-03],\n",
       "       [-2.06717970e-02],\n",
       "       [-1.49766545e-02],\n",
       "       [ 1.21801893e-02],\n",
       "       [ 1.85598576e-02],\n",
       "       [-2.86031437e-02],\n",
       "       [-5.59798931e-02],\n",
       "       [-5.42352954e-02],\n",
       "       [-2.20308226e-02],\n",
       "       [-5.99660631e-03],\n",
       "       [-1.80339489e-02]])"
      ]
     },
     "execution_count": 189,
     "metadata": {},
     "output_type": "execute_result"
    }
   ],
   "source": [
    "real = dataset_test.values\n",
    "real[:]\n"
   ]
  },
  {
   "cell_type": "markdown",
   "metadata": {},
   "source": [
    "We graph the actual $x_t$ data in the test set in red and the predicted $y$ data in the test set in blue. We can see that the agreement is excellent. It is clear that the trained RNN is accurately predicting the $x_t$ values in the test set."
   ]
  },
  {
   "cell_type": "code",
   "execution_count": 190,
   "metadata": {
    "colab": {
     "base_uri": "https://localhost:8080/",
     "height": 295
    },
    "id": "acz8Jb8qJrsV",
    "outputId": "243de857-b8ab-465a-e483-e78fdd19794f"
   },
   "outputs": [
    {
     "data": {
      "image/png": "[encoded data removed]",
      "text/plain": [
       "<Figure size 1440x720 with 1 Axes>"
      ]
     },
     "metadata": {
      "needs_background": "light"
     },
     "output_type": "display_data"
    }
   ],
   "source": [
    "#visualize results\n",
    "plt.figure(figsize=(20,10))\n",
    "plt.plot(real[:], color='red', label='real log returns')\n",
    "plt.plot(predicted[:], color='blue', label='predicted log returns')\n",
    "plt.title('averaged over 3 days log returns')\n",
    "plt.xlabel('time')\n",
    "plt.ylabel('averaged over 3 days log returns')\n",
    "plt.legend()\n",
    "plt.show()"
   ]
  },
  {
   "cell_type": "markdown",
   "metadata": {},
   "source": [
    "The question arises: would the predictions get even better if the test data were smoother? The graph shows that if you construct a 'smoothed' dataset $$r_t = \\frac{x_t + x_{t+1}}{2}$$ the prediction is actually worse. We conclude that the trained RNN picks up the specific structure of a dataset it was trained on, and makes predictions based on that structure."
   ]
  },
  {
   "cell_type": "code",
   "execution_count": 192,
   "metadata": {},
   "outputs": [
    {
     "data": {
      "image/png": "[encoded data removed]",
      "text/plain": [
       "<Figure size 1440x720 with 1 Axes>"
      ]
     },
     "metadata": {
      "needs_background": "light"
     },
     "output_type": "display_data"
    }
   ],
   "source": [
    "#visualize results\n",
    "r = []\n",
    "for i in range(2,len(real)+2):\n",
    "    r.append(np.array(real[i-2:i]).mean())\n",
    "#print(r)\n",
    "plt.figure(figsize=(20,10))\n",
    "plt.plot(r[:], color='red', label='real log returns')\n",
    "plt.plot(predicted[:], color='blue', label='predicted log returns')\n",
    "plt.title('daily log returns averaged over 3 days, then over 2 days')\n",
    "plt.xlabel('time')\n",
    "plt.ylabel('averaged over 3 days then over 2 days log returns')\n",
    "plt.legend()\n",
    "plt.show()"
   ]
  },
  {
   "cell_type": "markdown",
   "metadata": {},
   "source": [
    "Conclusions:  if a sufficiently large and complex LSTM neural network is trained to predict the moving average of log returns of stock prices with the window width 3, the predictions are very accurate, showing that the RNN can actually learn the pattern rather than regard it as random. This requires very long training times and the results improve significantly with the larger number of epochs."
   ]
  },
  {
   "cell_type": "code",
   "execution_count": null,
   "metadata": {},
   "outputs": [],
   "source": []
  }
 ],
 "metadata": {
  "colab": {
   "provenance": []
  },
  "kernelspec": {
   "display_name": "Python 3 (ipykernel)",
   "language": "python",
   "name": "python3"
  },
  "language_info": {
   "codemirror_mode": {
    "name": "ipython",
    "version": 3
   },
   "file_extension": ".py",
   "mimetype": "text/x-python",
   "name": "python",
   "nbconvert_exporter": "python",
   "pygments_lexer": "ipython3",
   "version": "3.9.7"
  }
 },
 "nbformat": 4,
 "nbformat_minor": 1
}
