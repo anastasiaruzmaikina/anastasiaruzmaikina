{
 "cells": [
  {
   "cell_type": "markdown",
   "id": "a21f3a60",
   "metadata": {},
   "source": [
    "This notebook is by Anastasia Ruzmaikina.\n",
    "\n",
    "Here we analyse a dataset of nearly 5000 movies. The goal is to be able to predict the revenue of the movie given all the information available about the movie. The available data columns are the title, names of actors and actresses, movie genres, vote count, movie budget etc.\n",
    "\n",
    "The difficulty here is that using the straightforward linear regession gives a very low R2 value of about 0.34. The question is how to improve the model to increase R2 score. \n",
    "\n",
    "We do a complete data analysis, remove outliers, find the independent variables that are most correlated with the revenue, check for multicollinearity, and derive a linear regression model with the highest R2 score possible. We are able to increase the R2 score to 0.689."
   ]
  },
  {
   "cell_type": "markdown",
   "id": "7fcee419",
   "metadata": {},
   "source": [
    "First we download all the Python libraries we need to use."
   ]
  },
  {
   "cell_type": "code",
   "execution_count": 52,
   "id": "543c426b",
   "metadata": {},
   "outputs": [],
   "source": [
    "# Data manipulation\n",
    "import numpy as np \n",
    "import pandas as pd\n",
    "\n",
    "# Data Visualazation\n",
    "import seaborn as sns\n",
    "import matplotlib.pyplot as plt\n",
    "\n",
    "# Machine learning\n",
    "from sklearn.linear_model import LinearRegression\n",
    "from sklearn.preprocessing import LabelEncoder\n",
    "from sklearn.model_selection import train_test_split\n",
    "import statsmodels.api as sm\n",
    "from sklearn.feature_selection import RFE\n",
    "from sklearn.linear_model import LinearRegression\n",
    "from statsmodels.stats.outliers_influence import variance_inflation_factor\n",
    "from sklearn.metrics import mean_absolute_error, mean_squared_error,r2_score\n",
    "\n",
    "import random\n",
    "import scipy.optimize"
   ]
  },
  {
   "cell_type": "code",
   "execution_count": 53,
   "id": "e79c7b4e",
   "metadata": {},
   "outputs": [],
   "source": [
    "import warnings\n",
    "warnings.filterwarnings(\"ignore\")\n",
    "%matplotlib inline"
   ]
  },
  {
   "cell_type": "markdown",
   "id": "6483a717",
   "metadata": {},
   "source": [
    "We download the movie data set from Harvard Edx website."
   ]
  },
  {
   "cell_type": "code",
   "execution_count": 54,
   "id": "66ab99d4",
   "metadata": {},
   "outputs": [
    {
     "data": {
      "text/html": [
       "<div>\n",
       "<style scoped>\n",
       "    .dataframe tbody tr th:only-of-type {\n",
       "        vertical-align: middle;\n",
       "    }\n",
       "\n",
       "    .dataframe tbody tr th {\n",
       "        vertical-align: top;\n",
       "    }\n",
       "\n",
       "    .dataframe thead th {\n",
       "        text-align: right;\n",
       "    }\n",
       "</style>\n",
       "<table border=\"1\" class=\"dataframe\">\n",
       "  <thead>\n",
       "    <tr style=\"text-align: right;\">\n",
       "      <th></th>\n",
       "      <th>budget</th>\n",
       "      <th>genres</th>\n",
       "      <th>homepage</th>\n",
       "      <th>id</th>\n",
       "      <th>keywords</th>\n",
       "      <th>original_language</th>\n",
       "      <th>original_title</th>\n",
       "      <th>overview</th>\n",
       "      <th>popularity</th>\n",
       "      <th>production_companies</th>\n",
       "      <th>...</th>\n",
       "      <th>revenue</th>\n",
       "      <th>runtime</th>\n",
       "      <th>spoken_languages</th>\n",
       "      <th>status</th>\n",
       "      <th>tagline</th>\n",
       "      <th>title</th>\n",
       "      <th>vote_average</th>\n",
       "      <th>vote_count</th>\n",
       "      <th>movie_id</th>\n",
       "      <th>cast</th>\n",
       "    </tr>\n",
       "  </thead>\n",
       "  <tbody>\n",
       "    <tr>\n",
       "      <th>0</th>\n",
       "      <td>237000000</td>\n",
       "      <td>Action, Adventure, Fantasy, Science Fiction</td>\n",
       "      <td>http://www.avatarmovie.com/</td>\n",
       "      <td>19995</td>\n",
       "      <td>culture clash, future, space war, space colony...</td>\n",
       "      <td>en</td>\n",
       "      <td>Avatar</td>\n",
       "      <td>In the 22nd century, a paraplegic Marine is di...</td>\n",
       "      <td>150.437577</td>\n",
       "      <td>Ingenious Film Partners, Twentieth Century Fox...</td>\n",
       "      <td>...</td>\n",
       "      <td>2787965087</td>\n",
       "      <td>162.0</td>\n",
       "      <td>English, Español</td>\n",
       "      <td>Released</td>\n",
       "      <td>Enter the World of Pandora.</td>\n",
       "      <td>Avatar</td>\n",
       "      <td>7.2</td>\n",
       "      <td>11800</td>\n",
       "      <td>19995</td>\n",
       "      <td>Sam Worthington, Zoe Saldana, Sigourney Weaver...</td>\n",
       "    </tr>\n",
       "    <tr>\n",
       "      <th>1</th>\n",
       "      <td>300000000</td>\n",
       "      <td>Adventure, Fantasy, Action</td>\n",
       "      <td>http://disney.go.com/disneypictures/pirates/</td>\n",
       "      <td>285</td>\n",
       "      <td>ocean, drug abuse, exotic island, east india t...</td>\n",
       "      <td>en</td>\n",
       "      <td>Pirates of the Caribbean: At World's End</td>\n",
       "      <td>Captain Barbossa, long believed to be dead, ha...</td>\n",
       "      <td>139.082615</td>\n",
       "      <td>Walt Disney Pictures, Jerry Bruckheimer Films,...</td>\n",
       "      <td>...</td>\n",
       "      <td>961000000</td>\n",
       "      <td>169.0</td>\n",
       "      <td>English</td>\n",
       "      <td>Released</td>\n",
       "      <td>At the end of the world, the adventure begins.</td>\n",
       "      <td>Pirates of the Caribbean: At World's End</td>\n",
       "      <td>6.9</td>\n",
       "      <td>4500</td>\n",
       "      <td>285</td>\n",
       "      <td>Johnny Depp, Orlando Bloom, Keira Knightley, S...</td>\n",
       "    </tr>\n",
       "    <tr>\n",
       "      <th>2</th>\n",
       "      <td>245000000</td>\n",
       "      <td>Action, Adventure, Crime</td>\n",
       "      <td>http://www.sonypictures.com/movies/spectre/</td>\n",
       "      <td>206647</td>\n",
       "      <td>spy, based on novel, secret agent, sequel, mi6...</td>\n",
       "      <td>en</td>\n",
       "      <td>Spectre</td>\n",
       "      <td>A cryptic message from Bond’s past sends him o...</td>\n",
       "      <td>107.376788</td>\n",
       "      <td>Columbia Pictures, Danjaq, B24</td>\n",
       "      <td>...</td>\n",
       "      <td>880674609</td>\n",
       "      <td>148.0</td>\n",
       "      <td>Français, English, Español, Italiano, Deutsch</td>\n",
       "      <td>Released</td>\n",
       "      <td>A Plan No One Escapes</td>\n",
       "      <td>Spectre</td>\n",
       "      <td>6.3</td>\n",
       "      <td>4466</td>\n",
       "      <td>206647</td>\n",
       "      <td>Daniel Craig, Christoph Waltz, Léa Seydoux, Ra...</td>\n",
       "    </tr>\n",
       "    <tr>\n",
       "      <th>3</th>\n",
       "      <td>250000000</td>\n",
       "      <td>Action, Crime, Drama, Thriller</td>\n",
       "      <td>http://www.thedarkknightrises.com/</td>\n",
       "      <td>49026</td>\n",
       "      <td>dc comics, crime fighter, terrorist, secret id...</td>\n",
       "      <td>en</td>\n",
       "      <td>The Dark Knight Rises</td>\n",
       "      <td>Following the death of District Attorney Harve...</td>\n",
       "      <td>112.312950</td>\n",
       "      <td>Legendary Pictures, Warner Bros., DC Entertain...</td>\n",
       "      <td>...</td>\n",
       "      <td>1084939099</td>\n",
       "      <td>165.0</td>\n",
       "      <td>English</td>\n",
       "      <td>Released</td>\n",
       "      <td>The Legend Ends</td>\n",
       "      <td>The Dark Knight Rises</td>\n",
       "      <td>7.6</td>\n",
       "      <td>9106</td>\n",
       "      <td>49026</td>\n",
       "      <td>Christian Bale, Michael Caine, Gary Oldman, An...</td>\n",
       "    </tr>\n",
       "    <tr>\n",
       "      <th>4</th>\n",
       "      <td>260000000</td>\n",
       "      <td>Action, Adventure, Science Fiction</td>\n",
       "      <td>http://movies.disney.com/john-carter</td>\n",
       "      <td>49529</td>\n",
       "      <td>based on novel, mars, medallion, space travel,...</td>\n",
       "      <td>en</td>\n",
       "      <td>John Carter</td>\n",
       "      <td>John Carter is a war-weary, former military ca...</td>\n",
       "      <td>43.926995</td>\n",
       "      <td>Walt Disney Pictures</td>\n",
       "      <td>...</td>\n",
       "      <td>284139100</td>\n",
       "      <td>132.0</td>\n",
       "      <td>English</td>\n",
       "      <td>Released</td>\n",
       "      <td>Lost in our world, found in another.</td>\n",
       "      <td>John Carter</td>\n",
       "      <td>6.1</td>\n",
       "      <td>2124</td>\n",
       "      <td>49529</td>\n",
       "      <td>Taylor Kitsch, Lynn Collins, Samantha Morton, ...</td>\n",
       "    </tr>\n",
       "    <tr>\n",
       "      <th>...</th>\n",
       "      <td>...</td>\n",
       "      <td>...</td>\n",
       "      <td>...</td>\n",
       "      <td>...</td>\n",
       "      <td>...</td>\n",
       "      <td>...</td>\n",
       "      <td>...</td>\n",
       "      <td>...</td>\n",
       "      <td>...</td>\n",
       "      <td>...</td>\n",
       "      <td>...</td>\n",
       "      <td>...</td>\n",
       "      <td>...</td>\n",
       "      <td>...</td>\n",
       "      <td>...</td>\n",
       "      <td>...</td>\n",
       "      <td>...</td>\n",
       "      <td>...</td>\n",
       "      <td>...</td>\n",
       "      <td>...</td>\n",
       "      <td>...</td>\n",
       "    </tr>\n",
       "    <tr>\n",
       "      <th>4798</th>\n",
       "      <td>220000</td>\n",
       "      <td>Action, Crime, Thriller</td>\n",
       "      <td>NaN</td>\n",
       "      <td>9367</td>\n",
       "      <td>united states–mexico barrier, legs, arms, pape...</td>\n",
       "      <td>es</td>\n",
       "      <td>El Mariachi</td>\n",
       "      <td>El Mariachi just wants to play his guitar and ...</td>\n",
       "      <td>14.269792</td>\n",
       "      <td>Columbia Pictures</td>\n",
       "      <td>...</td>\n",
       "      <td>2040920</td>\n",
       "      <td>81.0</td>\n",
       "      <td>Español</td>\n",
       "      <td>Released</td>\n",
       "      <td>He didn't come looking for trouble, but troubl...</td>\n",
       "      <td>El Mariachi</td>\n",
       "      <td>6.6</td>\n",
       "      <td>238</td>\n",
       "      <td>9367</td>\n",
       "      <td>Carlos Gallardo, Jaime de Hoyos, Peter Marquar...</td>\n",
       "    </tr>\n",
       "    <tr>\n",
       "      <th>4799</th>\n",
       "      <td>9000</td>\n",
       "      <td>Comedy, Romance</td>\n",
       "      <td>NaN</td>\n",
       "      <td>72766</td>\n",
       "      <td>NaN</td>\n",
       "      <td>en</td>\n",
       "      <td>Newlyweds</td>\n",
       "      <td>A newlywed couple's honeymoon is upended by th...</td>\n",
       "      <td>0.642552</td>\n",
       "      <td>NaN</td>\n",
       "      <td>...</td>\n",
       "      <td>0</td>\n",
       "      <td>85.0</td>\n",
       "      <td>NaN</td>\n",
       "      <td>Released</td>\n",
       "      <td>A newlywed couple's honeymoon is upended by th...</td>\n",
       "      <td>Newlyweds</td>\n",
       "      <td>5.9</td>\n",
       "      <td>5</td>\n",
       "      <td>72766</td>\n",
       "      <td>Edward Burns, Kerry Bishé, Marsha Dietlein, Ca...</td>\n",
       "    </tr>\n",
       "    <tr>\n",
       "      <th>4800</th>\n",
       "      <td>0</td>\n",
       "      <td>Comedy, Drama, Romance, TV Movie</td>\n",
       "      <td>http://www.hallmarkchannel.com/signedsealeddel...</td>\n",
       "      <td>231617</td>\n",
       "      <td>date, love at first sight, narration, investig...</td>\n",
       "      <td>en</td>\n",
       "      <td>Signed, Sealed, Delivered</td>\n",
       "      <td>\"Signed, Sealed, Delivered\" introduces a dedic...</td>\n",
       "      <td>1.444476</td>\n",
       "      <td>Front Street Pictures, Muse Entertainment Ente...</td>\n",
       "      <td>...</td>\n",
       "      <td>0</td>\n",
       "      <td>120.0</td>\n",
       "      <td>English</td>\n",
       "      <td>Released</td>\n",
       "      <td>NaN</td>\n",
       "      <td>Signed, Sealed, Delivered</td>\n",
       "      <td>7.0</td>\n",
       "      <td>6</td>\n",
       "      <td>231617</td>\n",
       "      <td>Eric Mabius, Kristin Booth, Crystal Lowe, Geof...</td>\n",
       "    </tr>\n",
       "    <tr>\n",
       "      <th>4801</th>\n",
       "      <td>0</td>\n",
       "      <td>NaN</td>\n",
       "      <td>http://shanghaicalling.com/</td>\n",
       "      <td>126186</td>\n",
       "      <td>NaN</td>\n",
       "      <td>en</td>\n",
       "      <td>Shanghai Calling</td>\n",
       "      <td>When ambitious New York attorney Sam is sent t...</td>\n",
       "      <td>0.857008</td>\n",
       "      <td>NaN</td>\n",
       "      <td>...</td>\n",
       "      <td>0</td>\n",
       "      <td>98.0</td>\n",
       "      <td>English</td>\n",
       "      <td>Released</td>\n",
       "      <td>A New Yorker in Shanghai</td>\n",
       "      <td>Shanghai Calling</td>\n",
       "      <td>5.7</td>\n",
       "      <td>7</td>\n",
       "      <td>126186</td>\n",
       "      <td>Daniel Henney, Eliza Coupe, Bill Paxton, Alan ...</td>\n",
       "    </tr>\n",
       "    <tr>\n",
       "      <th>4802</th>\n",
       "      <td>0</td>\n",
       "      <td>Documentary</td>\n",
       "      <td>NaN</td>\n",
       "      <td>25975</td>\n",
       "      <td>obsession, camcorder, crush, dream girl</td>\n",
       "      <td>en</td>\n",
       "      <td>My Date with Drew</td>\n",
       "      <td>Ever since the second grade when he first saw ...</td>\n",
       "      <td>1.929883</td>\n",
       "      <td>rusty bear entertainment, lucky crow films</td>\n",
       "      <td>...</td>\n",
       "      <td>0</td>\n",
       "      <td>90.0</td>\n",
       "      <td>English</td>\n",
       "      <td>Released</td>\n",
       "      <td>NaN</td>\n",
       "      <td>My Date with Drew</td>\n",
       "      <td>6.3</td>\n",
       "      <td>16</td>\n",
       "      <td>25975</td>\n",
       "      <td>Drew Barrymore, Brian Herzlinger, Corey Feldma...</td>\n",
       "    </tr>\n",
       "  </tbody>\n",
       "</table>\n",
       "<p>4803 rows × 22 columns</p>\n",
       "</div>"
      ],
      "text/plain": [
       "         budget                                       genres  \\\n",
       "0     237000000  Action, Adventure, Fantasy, Science Fiction   \n",
       "1     300000000                   Adventure, Fantasy, Action   \n",
       "2     245000000                     Action, Adventure, Crime   \n",
       "3     250000000               Action, Crime, Drama, Thriller   \n",
       "4     260000000           Action, Adventure, Science Fiction   \n",
       "...         ...                                          ...   \n",
       "4798     220000                      Action, Crime, Thriller   \n",
       "4799       9000                              Comedy, Romance   \n",
       "4800          0             Comedy, Drama, Romance, TV Movie   \n",
       "4801          0                                          NaN   \n",
       "4802          0                                  Documentary   \n",
       "\n",
       "                                               homepage      id  \\\n",
       "0                           http://www.avatarmovie.com/   19995   \n",
       "1          http://disney.go.com/disneypictures/pirates/     285   \n",
       "2           http://www.sonypictures.com/movies/spectre/  206647   \n",
       "3                    http://www.thedarkknightrises.com/   49026   \n",
       "4                  http://movies.disney.com/john-carter   49529   \n",
       "...                                                 ...     ...   \n",
       "4798                                                NaN    9367   \n",
       "4799                                                NaN   72766   \n",
       "4800  http://www.hallmarkchannel.com/signedsealeddel...  231617   \n",
       "4801                        http://shanghaicalling.com/  126186   \n",
       "4802                                                NaN   25975   \n",
       "\n",
       "                                               keywords original_language  \\\n",
       "0     culture clash, future, space war, space colony...                en   \n",
       "1     ocean, drug abuse, exotic island, east india t...                en   \n",
       "2     spy, based on novel, secret agent, sequel, mi6...                en   \n",
       "3     dc comics, crime fighter, terrorist, secret id...                en   \n",
       "4     based on novel, mars, medallion, space travel,...                en   \n",
       "...                                                 ...               ...   \n",
       "4798  united states–mexico barrier, legs, arms, pape...                es   \n",
       "4799                                                NaN                en   \n",
       "4800  date, love at first sight, narration, investig...                en   \n",
       "4801                                                NaN                en   \n",
       "4802            obsession, camcorder, crush, dream girl                en   \n",
       "\n",
       "                                original_title  \\\n",
       "0                                       Avatar   \n",
       "1     Pirates of the Caribbean: At World's End   \n",
       "2                                      Spectre   \n",
       "3                        The Dark Knight Rises   \n",
       "4                                  John Carter   \n",
       "...                                        ...   \n",
       "4798                               El Mariachi   \n",
       "4799                                 Newlyweds   \n",
       "4800                 Signed, Sealed, Delivered   \n",
       "4801                          Shanghai Calling   \n",
       "4802                         My Date with Drew   \n",
       "\n",
       "                                               overview  popularity  \\\n",
       "0     In the 22nd century, a paraplegic Marine is di...  150.437577   \n",
       "1     Captain Barbossa, long believed to be dead, ha...  139.082615   \n",
       "2     A cryptic message from Bond’s past sends him o...  107.376788   \n",
       "3     Following the death of District Attorney Harve...  112.312950   \n",
       "4     John Carter is a war-weary, former military ca...   43.926995   \n",
       "...                                                 ...         ...   \n",
       "4798  El Mariachi just wants to play his guitar and ...   14.269792   \n",
       "4799  A newlywed couple's honeymoon is upended by th...    0.642552   \n",
       "4800  \"Signed, Sealed, Delivered\" introduces a dedic...    1.444476   \n",
       "4801  When ambitious New York attorney Sam is sent t...    0.857008   \n",
       "4802  Ever since the second grade when he first saw ...    1.929883   \n",
       "\n",
       "                                   production_companies  ...     revenue  \\\n",
       "0     Ingenious Film Partners, Twentieth Century Fox...  ...  2787965087   \n",
       "1     Walt Disney Pictures, Jerry Bruckheimer Films,...  ...   961000000   \n",
       "2                        Columbia Pictures, Danjaq, B24  ...   880674609   \n",
       "3     Legendary Pictures, Warner Bros., DC Entertain...  ...  1084939099   \n",
       "4                                  Walt Disney Pictures  ...   284139100   \n",
       "...                                                 ...  ...         ...   \n",
       "4798                                  Columbia Pictures  ...     2040920   \n",
       "4799                                                NaN  ...           0   \n",
       "4800  Front Street Pictures, Muse Entertainment Ente...  ...           0   \n",
       "4801                                                NaN  ...           0   \n",
       "4802         rusty bear entertainment, lucky crow films  ...           0   \n",
       "\n",
       "     runtime                               spoken_languages    status  \\\n",
       "0      162.0                               English, Español  Released   \n",
       "1      169.0                                        English  Released   \n",
       "2      148.0  Français, English, Español, Italiano, Deutsch  Released   \n",
       "3      165.0                                        English  Released   \n",
       "4      132.0                                        English  Released   \n",
       "...      ...                                            ...       ...   \n",
       "4798    81.0                                        Español  Released   \n",
       "4799    85.0                                            NaN  Released   \n",
       "4800   120.0                                        English  Released   \n",
       "4801    98.0                                        English  Released   \n",
       "4802    90.0                                        English  Released   \n",
       "\n",
       "                                                tagline  \\\n",
       "0                           Enter the World of Pandora.   \n",
       "1        At the end of the world, the adventure begins.   \n",
       "2                                 A Plan No One Escapes   \n",
       "3                                       The Legend Ends   \n",
       "4                  Lost in our world, found in another.   \n",
       "...                                                 ...   \n",
       "4798  He didn't come looking for trouble, but troubl...   \n",
       "4799  A newlywed couple's honeymoon is upended by th...   \n",
       "4800                                                NaN   \n",
       "4801                           A New Yorker in Shanghai   \n",
       "4802                                                NaN   \n",
       "\n",
       "                                         title vote_average vote_count  \\\n",
       "0                                       Avatar          7.2      11800   \n",
       "1     Pirates of the Caribbean: At World's End          6.9       4500   \n",
       "2                                      Spectre          6.3       4466   \n",
       "3                        The Dark Knight Rises          7.6       9106   \n",
       "4                                  John Carter          6.1       2124   \n",
       "...                                        ...          ...        ...   \n",
       "4798                               El Mariachi          6.6        238   \n",
       "4799                                 Newlyweds          5.9          5   \n",
       "4800                 Signed, Sealed, Delivered          7.0          6   \n",
       "4801                          Shanghai Calling          5.7          7   \n",
       "4802                         My Date with Drew          6.3         16   \n",
       "\n",
       "      movie_id                                               cast  \n",
       "0        19995  Sam Worthington, Zoe Saldana, Sigourney Weaver...  \n",
       "1          285  Johnny Depp, Orlando Bloom, Keira Knightley, S...  \n",
       "2       206647  Daniel Craig, Christoph Waltz, Léa Seydoux, Ra...  \n",
       "3        49026  Christian Bale, Michael Caine, Gary Oldman, An...  \n",
       "4        49529  Taylor Kitsch, Lynn Collins, Samantha Morton, ...  \n",
       "...        ...                                                ...  \n",
       "4798      9367  Carlos Gallardo, Jaime de Hoyos, Peter Marquar...  \n",
       "4799     72766  Edward Burns, Kerry Bishé, Marsha Dietlein, Ca...  \n",
       "4800    231617  Eric Mabius, Kristin Booth, Crystal Lowe, Geof...  \n",
       "4801    126186  Daniel Henney, Eliza Coupe, Bill Paxton, Alan ...  \n",
       "4802     25975  Drew Barrymore, Brian Herzlinger, Corey Feldma...  \n",
       "\n",
       "[4803 rows x 22 columns]"
      ]
     },
     "execution_count": 54,
     "metadata": {},
     "output_type": "execute_result"
    }
   ],
   "source": [
    "df = pd.read_csv(\"https://courses.edx.org/asset-v1:HarvardX+PH526x+2T2019+type@asset+block@movie_data.csv\", index_col=0)\n",
    "\n",
    "df"
   ]
  },
  {
   "cell_type": "markdown",
   "id": "8a4eaa5e",
   "metadata": {},
   "source": [
    "We create a new column indicating if a movie is profitable. \n",
    "\n",
    "The 'profitable' column is the difference between 'revenue' and 'budget' column."
   ]
  },
  {
   "cell_type": "code",
   "execution_count": 55,
   "id": "8c9dedfa",
   "metadata": {},
   "outputs": [],
   "source": [
    "df['profitable'] = df['revenue']\n",
    "for i in range(len(df['revenue'])):\n",
    "    if df['revenue'].iloc[i] >= df['budget'].iloc[i]:\n",
    "        df['profitable'].iloc[i] = 1\n",
    "    else:\n",
    "        df['profitable'].iloc[i] = 0"
   ]
  },
  {
   "cell_type": "markdown",
   "id": "dd247cf0",
   "metadata": {},
   "source": [
    "We replace infinite values with NaN values in the data frame. NaN values are handled later."
   ]
  },
  {
   "cell_type": "code",
   "execution_count": 56,
   "id": "8da6de43",
   "metadata": {},
   "outputs": [],
   "source": [
    "df = df.replace(to_replace = np.inf, value = np.nan)\n",
    "df = df.replace(to_replace = -np.inf, value = np.nan)"
   ]
  },
  {
   "cell_type": "markdown",
   "id": "85a2be9a",
   "metadata": {},
   "source": [
    "Next we do a one hot encoding of the 'genres' column. \n",
    "\n",
    "First we identify how many different genres are present in the 'genres' column.\n",
    "\n",
    "We split the genres into different columns. Each column contains 1's or 0's, one if that particlar genre is present in that row."
   ]
  },
  {
   "cell_type": "code",
   "execution_count": 57,
   "id": "f36aa416",
   "metadata": {},
   "outputs": [],
   "source": [
    "genr = []\n",
    "for i in range(len(df['genres'])):\n",
    "    temp = df['genres'].iloc[i]\n",
    "    if not (isinstance(temp, float)):\n",
    "       temp = temp.split(',')\n",
    "       genr += temp\n",
    "       \n",
    "genre = list(set(genr))\n",
    "for i in range(len(genre)):\n",
    "    genre[i] = genre[i].strip()\n",
    "genre = list(set(genre))\n",
    "for item in genre:\n",
    "    df[item] = df['budget']\n",
    "for item in genre:\n",
    "    for i in range(len(df['genres'])):\n",
    "        if not (isinstance(df['genres'].iloc[i], float)):\n",
    "             if item in df['genres'].iloc[i]:\n",
    "                   df[item].iloc[i] = 1\n",
    "             else:\n",
    "                   df[item].iloc[i] = 0"
   ]
  },
  {
   "cell_type": "markdown",
   "id": "af93578c",
   "metadata": {},
   "source": [
    "Before solving the problem, it's very important to have a good understanding of data.\n",
    "\n",
    "First we get the descriptive statistics of the data\n",
    "Then we get the information about missing values in the data"
   ]
  },
  {
   "cell_type": "code",
   "execution_count": 58,
   "id": "55bd53ec",
   "metadata": {},
   "outputs": [
    {
     "name": "stdout",
     "output_type": "stream",
     "text": [
      "<class 'pandas.core.frame.DataFrame'>\n",
      "Int64Index: 4803 entries, 0 to 4802\n",
      "Data columns (total 43 columns):\n",
      " #   Column                Non-Null Count  Dtype  \n",
      "---  ------                --------------  -----  \n",
      " 0   budget                4803 non-null   int64  \n",
      " 1   genres                4775 non-null   object \n",
      " 2   homepage              1712 non-null   object \n",
      " 3   id                    4803 non-null   int64  \n",
      " 4   keywords              4391 non-null   object \n",
      " 5   original_language     4803 non-null   object \n",
      " 6   original_title        4803 non-null   object \n",
      " 7   overview              4800 non-null   object \n",
      " 8   popularity            4803 non-null   float64\n",
      " 9   production_companies  4452 non-null   object \n",
      " 10  production_countries  4629 non-null   object \n",
      " 11  release_date          4802 non-null   object \n",
      " 12  revenue               4803 non-null   int64  \n",
      " 13  runtime               4801 non-null   float64\n",
      " 14  spoken_languages      4716 non-null   object \n",
      " 15  status                4803 non-null   object \n",
      " 16  tagline               3959 non-null   object \n",
      " 17  title                 4803 non-null   object \n",
      " 18  vote_average          4803 non-null   float64\n",
      " 19  vote_count            4803 non-null   int64  \n",
      " 20  movie_id              4803 non-null   int64  \n",
      " 21  cast                  4760 non-null   object \n",
      " 22  profitable            4803 non-null   int64  \n",
      " 23  Thriller              4803 non-null   int64  \n",
      " 24  Action                4803 non-null   int64  \n",
      " 25  Western               4803 non-null   int64  \n",
      " 26  Documentary           4803 non-null   int64  \n",
      " 27  Foreign               4803 non-null   int64  \n",
      " 28  Mystery               4803 non-null   int64  \n",
      " 29  War                   4803 non-null   int64  \n",
      " 30  Adventure             4803 non-null   int64  \n",
      " 31  TV Movie              4803 non-null   int64  \n",
      " 32  Comedy                4803 non-null   int64  \n",
      " 33  Romance               4803 non-null   int64  \n",
      " 34  Fantasy               4803 non-null   int64  \n",
      " 35  Animation             4803 non-null   int64  \n",
      " 36  Music                 4803 non-null   int64  \n",
      " 37  Crime                 4803 non-null   int64  \n",
      " 38  Family                4803 non-null   int64  \n",
      " 39  Science Fiction       4803 non-null   int64  \n",
      " 40  Horror                4803 non-null   int64  \n",
      " 41  History               4803 non-null   int64  \n",
      " 42  Drama                 4803 non-null   int64  \n",
      "dtypes: float64(3), int64(26), object(14)\n",
      "memory usage: 1.6+ MB\n"
     ]
    }
   ],
   "source": [
    "# Info of the data\n",
    "df.info()"
   ]
  },
  {
   "cell_type": "code",
   "execution_count": 59,
   "id": "4b2e09cb",
   "metadata": {},
   "outputs": [
    {
     "data": {
      "text/html": [
       "<div>\n",
       "<style scoped>\n",
       "    .dataframe tbody tr th:only-of-type {\n",
       "        vertical-align: middle;\n",
       "    }\n",
       "\n",
       "    .dataframe tbody tr th {\n",
       "        vertical-align: top;\n",
       "    }\n",
       "\n",
       "    .dataframe thead th {\n",
       "        text-align: right;\n",
       "    }\n",
       "</style>\n",
       "<table border=\"1\" class=\"dataframe\">\n",
       "  <thead>\n",
       "    <tr style=\"text-align: right;\">\n",
       "      <th></th>\n",
       "      <th>budget</th>\n",
       "      <th>id</th>\n",
       "      <th>popularity</th>\n",
       "      <th>revenue</th>\n",
       "      <th>runtime</th>\n",
       "      <th>vote_average</th>\n",
       "      <th>vote_count</th>\n",
       "      <th>movie_id</th>\n",
       "      <th>profitable</th>\n",
       "      <th>Thriller</th>\n",
       "      <th>...</th>\n",
       "      <th>Romance</th>\n",
       "      <th>Fantasy</th>\n",
       "      <th>Animation</th>\n",
       "      <th>Music</th>\n",
       "      <th>Crime</th>\n",
       "      <th>Family</th>\n",
       "      <th>Science Fiction</th>\n",
       "      <th>Horror</th>\n",
       "      <th>History</th>\n",
       "      <th>Drama</th>\n",
       "    </tr>\n",
       "  </thead>\n",
       "  <tbody>\n",
       "    <tr>\n",
       "      <th>count</th>\n",
       "      <td>4.803000e+03</td>\n",
       "      <td>4803.000000</td>\n",
       "      <td>4803.000000</td>\n",
       "      <td>4.803000e+03</td>\n",
       "      <td>4801.000000</td>\n",
       "      <td>4803.000000</td>\n",
       "      <td>4803.000000</td>\n",
       "      <td>4803.000000</td>\n",
       "      <td>4803.000000</td>\n",
       "      <td>4.803000e+03</td>\n",
       "      <td>...</td>\n",
       "      <td>4.803000e+03</td>\n",
       "      <td>4.803000e+03</td>\n",
       "      <td>4.803000e+03</td>\n",
       "      <td>4.803000e+03</td>\n",
       "      <td>4.803000e+03</td>\n",
       "      <td>4.803000e+03</td>\n",
       "      <td>4.803000e+03</td>\n",
       "      <td>4.803000e+03</td>\n",
       "      <td>4.803000e+03</td>\n",
       "      <td>4.803000e+03</td>\n",
       "    </tr>\n",
       "    <tr>\n",
       "      <th>mean</th>\n",
       "      <td>2.904504e+07</td>\n",
       "      <td>57165.484281</td>\n",
       "      <td>21.492301</td>\n",
       "      <td>8.226064e+07</td>\n",
       "      <td>106.875859</td>\n",
       "      <td>6.092172</td>\n",
       "      <td>690.217989</td>\n",
       "      <td>57165.484281</td>\n",
       "      <td>0.723923</td>\n",
       "      <td>7.706173e+02</td>\n",
       "      <td>...</td>\n",
       "      <td>7.705382e+02</td>\n",
       "      <td>7.704403e+02</td>\n",
       "      <td>7.704008e+02</td>\n",
       "      <td>7.703906e+02</td>\n",
       "      <td>7.704970e+02</td>\n",
       "      <td>7.704589e+02</td>\n",
       "      <td>7.704635e+02</td>\n",
       "      <td>7.704601e+02</td>\n",
       "      <td>7.703931e+02</td>\n",
       "      <td>7.708303e+02</td>\n",
       "    </tr>\n",
       "    <tr>\n",
       "      <th>std</th>\n",
       "      <td>4.072239e+07</td>\n",
       "      <td>88694.614033</td>\n",
       "      <td>31.816650</td>\n",
       "      <td>1.628571e+08</td>\n",
       "      <td>22.611935</td>\n",
       "      <td>1.194612</td>\n",
       "      <td>1234.585891</td>\n",
       "      <td>88694.614033</td>\n",
       "      <td>0.447102</td>\n",
       "      <td>3.441408e+04</td>\n",
       "      <td>...</td>\n",
       "      <td>3.441408e+04</td>\n",
       "      <td>3.441409e+04</td>\n",
       "      <td>3.441409e+04</td>\n",
       "      <td>3.441409e+04</td>\n",
       "      <td>3.441408e+04</td>\n",
       "      <td>3.441408e+04</td>\n",
       "      <td>3.441408e+04</td>\n",
       "      <td>3.441408e+04</td>\n",
       "      <td>3.441409e+04</td>\n",
       "      <td>3.441408e+04</td>\n",
       "    </tr>\n",
       "    <tr>\n",
       "      <th>min</th>\n",
       "      <td>0.000000e+00</td>\n",
       "      <td>5.000000</td>\n",
       "      <td>0.000000</td>\n",
       "      <td>0.000000e+00</td>\n",
       "      <td>0.000000</td>\n",
       "      <td>0.000000</td>\n",
       "      <td>0.000000</td>\n",
       "      <td>5.000000</td>\n",
       "      <td>0.000000</td>\n",
       "      <td>0.000000e+00</td>\n",
       "      <td>...</td>\n",
       "      <td>0.000000e+00</td>\n",
       "      <td>0.000000e+00</td>\n",
       "      <td>0.000000e+00</td>\n",
       "      <td>0.000000e+00</td>\n",
       "      <td>0.000000e+00</td>\n",
       "      <td>0.000000e+00</td>\n",
       "      <td>0.000000e+00</td>\n",
       "      <td>0.000000e+00</td>\n",
       "      <td>0.000000e+00</td>\n",
       "      <td>0.000000e+00</td>\n",
       "    </tr>\n",
       "    <tr>\n",
       "      <th>25%</th>\n",
       "      <td>7.900000e+05</td>\n",
       "      <td>9014.500000</td>\n",
       "      <td>4.668070</td>\n",
       "      <td>0.000000e+00</td>\n",
       "      <td>94.000000</td>\n",
       "      <td>5.600000</td>\n",
       "      <td>54.000000</td>\n",
       "      <td>9014.500000</td>\n",
       "      <td>0.000000</td>\n",
       "      <td>0.000000e+00</td>\n",
       "      <td>...</td>\n",
       "      <td>0.000000e+00</td>\n",
       "      <td>0.000000e+00</td>\n",
       "      <td>0.000000e+00</td>\n",
       "      <td>0.000000e+00</td>\n",
       "      <td>0.000000e+00</td>\n",
       "      <td>0.000000e+00</td>\n",
       "      <td>0.000000e+00</td>\n",
       "      <td>0.000000e+00</td>\n",
       "      <td>0.000000e+00</td>\n",
       "      <td>0.000000e+00</td>\n",
       "    </tr>\n",
       "    <tr>\n",
       "      <th>50%</th>\n",
       "      <td>1.500000e+07</td>\n",
       "      <td>14629.000000</td>\n",
       "      <td>12.921594</td>\n",
       "      <td>1.917000e+07</td>\n",
       "      <td>103.000000</td>\n",
       "      <td>6.200000</td>\n",
       "      <td>235.000000</td>\n",
       "      <td>14629.000000</td>\n",
       "      <td>1.000000</td>\n",
       "      <td>0.000000e+00</td>\n",
       "      <td>...</td>\n",
       "      <td>0.000000e+00</td>\n",
       "      <td>0.000000e+00</td>\n",
       "      <td>0.000000e+00</td>\n",
       "      <td>0.000000e+00</td>\n",
       "      <td>0.000000e+00</td>\n",
       "      <td>0.000000e+00</td>\n",
       "      <td>0.000000e+00</td>\n",
       "      <td>0.000000e+00</td>\n",
       "      <td>0.000000e+00</td>\n",
       "      <td>0.000000e+00</td>\n",
       "    </tr>\n",
       "    <tr>\n",
       "      <th>75%</th>\n",
       "      <td>4.000000e+07</td>\n",
       "      <td>58610.500000</td>\n",
       "      <td>28.313505</td>\n",
       "      <td>9.291719e+07</td>\n",
       "      <td>118.000000</td>\n",
       "      <td>6.800000</td>\n",
       "      <td>737.000000</td>\n",
       "      <td>58610.500000</td>\n",
       "      <td>1.000000</td>\n",
       "      <td>1.000000e+00</td>\n",
       "      <td>...</td>\n",
       "      <td>0.000000e+00</td>\n",
       "      <td>0.000000e+00</td>\n",
       "      <td>0.000000e+00</td>\n",
       "      <td>0.000000e+00</td>\n",
       "      <td>0.000000e+00</td>\n",
       "      <td>0.000000e+00</td>\n",
       "      <td>0.000000e+00</td>\n",
       "      <td>0.000000e+00</td>\n",
       "      <td>0.000000e+00</td>\n",
       "      <td>1.000000e+00</td>\n",
       "    </tr>\n",
       "    <tr>\n",
       "      <th>max</th>\n",
       "      <td>3.800000e+08</td>\n",
       "      <td>459488.000000</td>\n",
       "      <td>875.581305</td>\n",
       "      <td>2.787965e+09</td>\n",
       "      <td>338.000000</td>\n",
       "      <td>10.000000</td>\n",
       "      <td>13752.000000</td>\n",
       "      <td>459488.000000</td>\n",
       "      <td>1.000000</td>\n",
       "      <td>2.000000e+06</td>\n",
       "      <td>...</td>\n",
       "      <td>2.000000e+06</td>\n",
       "      <td>2.000000e+06</td>\n",
       "      <td>2.000000e+06</td>\n",
       "      <td>2.000000e+06</td>\n",
       "      <td>2.000000e+06</td>\n",
       "      <td>2.000000e+06</td>\n",
       "      <td>2.000000e+06</td>\n",
       "      <td>2.000000e+06</td>\n",
       "      <td>2.000000e+06</td>\n",
       "      <td>2.000000e+06</td>\n",
       "    </tr>\n",
       "  </tbody>\n",
       "</table>\n",
       "<p>8 rows × 29 columns</p>\n",
       "</div>"
      ],
      "text/plain": [
       "             budget             id   popularity       revenue      runtime  \\\n",
       "count  4.803000e+03    4803.000000  4803.000000  4.803000e+03  4801.000000   \n",
       "mean   2.904504e+07   57165.484281    21.492301  8.226064e+07   106.875859   \n",
       "std    4.072239e+07   88694.614033    31.816650  1.628571e+08    22.611935   \n",
       "min    0.000000e+00       5.000000     0.000000  0.000000e+00     0.000000   \n",
       "25%    7.900000e+05    9014.500000     4.668070  0.000000e+00    94.000000   \n",
       "50%    1.500000e+07   14629.000000    12.921594  1.917000e+07   103.000000   \n",
       "75%    4.000000e+07   58610.500000    28.313505  9.291719e+07   118.000000   \n",
       "max    3.800000e+08  459488.000000   875.581305  2.787965e+09   338.000000   \n",
       "\n",
       "       vote_average    vote_count       movie_id   profitable      Thriller  \\\n",
       "count   4803.000000   4803.000000    4803.000000  4803.000000  4.803000e+03   \n",
       "mean       6.092172    690.217989   57165.484281     0.723923  7.706173e+02   \n",
       "std        1.194612   1234.585891   88694.614033     0.447102  3.441408e+04   \n",
       "min        0.000000      0.000000       5.000000     0.000000  0.000000e+00   \n",
       "25%        5.600000     54.000000    9014.500000     0.000000  0.000000e+00   \n",
       "50%        6.200000    235.000000   14629.000000     1.000000  0.000000e+00   \n",
       "75%        6.800000    737.000000   58610.500000     1.000000  1.000000e+00   \n",
       "max       10.000000  13752.000000  459488.000000     1.000000  2.000000e+06   \n",
       "\n",
       "       ...       Romance       Fantasy     Animation         Music  \\\n",
       "count  ...  4.803000e+03  4.803000e+03  4.803000e+03  4.803000e+03   \n",
       "mean   ...  7.705382e+02  7.704403e+02  7.704008e+02  7.703906e+02   \n",
       "std    ...  3.441408e+04  3.441409e+04  3.441409e+04  3.441409e+04   \n",
       "min    ...  0.000000e+00  0.000000e+00  0.000000e+00  0.000000e+00   \n",
       "25%    ...  0.000000e+00  0.000000e+00  0.000000e+00  0.000000e+00   \n",
       "50%    ...  0.000000e+00  0.000000e+00  0.000000e+00  0.000000e+00   \n",
       "75%    ...  0.000000e+00  0.000000e+00  0.000000e+00  0.000000e+00   \n",
       "max    ...  2.000000e+06  2.000000e+06  2.000000e+06  2.000000e+06   \n",
       "\n",
       "              Crime        Family  Science Fiction        Horror  \\\n",
       "count  4.803000e+03  4.803000e+03     4.803000e+03  4.803000e+03   \n",
       "mean   7.704970e+02  7.704589e+02     7.704635e+02  7.704601e+02   \n",
       "std    3.441408e+04  3.441408e+04     3.441408e+04  3.441408e+04   \n",
       "min    0.000000e+00  0.000000e+00     0.000000e+00  0.000000e+00   \n",
       "25%    0.000000e+00  0.000000e+00     0.000000e+00  0.000000e+00   \n",
       "50%    0.000000e+00  0.000000e+00     0.000000e+00  0.000000e+00   \n",
       "75%    0.000000e+00  0.000000e+00     0.000000e+00  0.000000e+00   \n",
       "max    2.000000e+06  2.000000e+06     2.000000e+06  2.000000e+06   \n",
       "\n",
       "            History         Drama  \n",
       "count  4.803000e+03  4.803000e+03  \n",
       "mean   7.703931e+02  7.708303e+02  \n",
       "std    3.441409e+04  3.441408e+04  \n",
       "min    0.000000e+00  0.000000e+00  \n",
       "25%    0.000000e+00  0.000000e+00  \n",
       "50%    0.000000e+00  0.000000e+00  \n",
       "75%    0.000000e+00  1.000000e+00  \n",
       "max    2.000000e+06  2.000000e+06  \n",
       "\n",
       "[8 rows x 29 columns]"
      ]
     },
     "execution_count": 59,
     "metadata": {},
     "output_type": "execute_result"
    }
   ],
   "source": [
    "# Summary statistic of the data\n",
    "df.describe()  "
   ]
  },
  {
   "cell_type": "code",
   "execution_count": 60,
   "id": "bbbdd681",
   "metadata": {},
   "outputs": [
    {
     "name": "stdout",
     "output_type": "stream",
     "text": [
      "budget                     0\n",
      "genres                    28\n",
      "homepage                3091\n",
      "id                         0\n",
      "keywords                 412\n",
      "original_language          0\n",
      "original_title             0\n",
      "overview                   3\n",
      "popularity                 0\n",
      "production_companies     351\n",
      "production_countries     174\n",
      "release_date               1\n",
      "revenue                    0\n",
      "runtime                    2\n",
      "spoken_languages          87\n",
      "status                     0\n",
      "tagline                  844\n",
      "title                      0\n",
      "vote_average               0\n",
      "vote_count                 0\n",
      "movie_id                   0\n",
      "cast                      43\n",
      "profitable                 0\n",
      "Thriller                   0\n",
      "Action                     0\n",
      "Western                    0\n",
      "Documentary                0\n",
      "Foreign                    0\n",
      "Mystery                    0\n",
      "War                        0\n",
      "Adventure                  0\n",
      "TV Movie                   0\n",
      "Comedy                     0\n",
      "Romance                    0\n",
      "Fantasy                    0\n",
      "Animation                  0\n",
      "Music                      0\n",
      "Crime                      0\n",
      "Family                     0\n",
      "Science Fiction            0\n",
      "Horror                     0\n",
      "History                    0\n",
      "Drama                      0\n",
      "dtype: int64\n"
     ]
    }
   ],
   "source": [
    "# Get count of missing values in every column\n",
    "print(df.isna().sum())"
   ]
  },
  {
   "cell_type": "markdown",
   "id": "cf911868",
   "metadata": {},
   "source": [
    "Conclusions: \n",
    "\n",
    "The data contains some categorical columns, these columns need to be handled before building the model\n",
    "\n",
    "Some columns have missing values, these need to be handled before building the model\n",
    "\n",
    "The y variable (revenue) doesn't have any missing values, which is good"
   ]
  },
  {
   "cell_type": "code",
   "execution_count": 61,
   "id": "bcef046c",
   "metadata": {},
   "outputs": [
    {
     "name": "stdout",
     "output_type": "stream",
     "text": [
      "Numerical columns: \n",
      " Index(['budget', 'id', 'popularity', 'revenue', 'runtime', 'vote_average',\n",
      "       'vote_count', 'movie_id', 'profitable', 'Thriller', 'Action', 'Western',\n",
      "       'Documentary', 'Foreign', 'Mystery', 'War', 'Adventure', 'TV Movie',\n",
      "       'Comedy', 'Romance', 'Fantasy', 'Animation', 'Music', 'Crime', 'Family',\n",
      "       'Science Fiction', 'Horror', 'History', 'Drama'],\n",
      "      dtype='object')\n",
      "Categorical columns: \n",
      " Index(['genres', 'homepage', 'keywords', 'original_language', 'original_title',\n",
      "       'overview', 'production_companies', 'production_countries',\n",
      "       'release_date', 'spoken_languages', 'status', 'tagline', 'title',\n",
      "       'cast'],\n",
      "      dtype='object')\n"
     ]
    }
   ],
   "source": [
    "# Create list of numeric and categorical columns and check if they have extra spaces in the column names\n",
    "num_col = df.select_dtypes(include=np.number).columns\n",
    "print(\"Numerical columns: \\n\",num_col)\n",
    "\n",
    "cat_col = df.select_dtypes(exclude=np.number).columns\n",
    "print(\"Categorical columns: \\n\",cat_col)"
   ]
  },
  {
   "cell_type": "markdown",
   "id": "f9996b21",
   "metadata": {},
   "source": [
    "We already did one hot encoding on the 'genres' column, so we can drop the 'genres' column.\n",
    "\n",
    "The only categorical column that can influence the 'revenue' column is the 'cast' column. But if we do a one hot encoding, we find that we need a hundred or more columns. Therefore it is impractical to use 'cast' data.\n",
    "\n",
    "All other categorical columns have very little influence on the revenue from the movie, so we can drop them."
   ]
  },
  {
   "cell_type": "code",
   "execution_count": 62,
   "id": "63721ed9",
   "metadata": {},
   "outputs": [],
   "source": [
    "df = df.drop(columns=['genres', 'homepage', 'keywords', 'original_language', 'original_title',\n",
    "       'overview', 'production_companies', 'production_countries',\n",
    "       'release_date', 'spoken_languages', 'status', 'tagline', 'title',\n",
    "       'cast'])"
   ]
  },
  {
   "cell_type": "code",
   "execution_count": 63,
   "id": "ff33a61f",
   "metadata": {},
   "outputs": [
    {
     "data": {
      "text/html": [
       "<div>\n",
       "<style scoped>\n",
       "    .dataframe tbody tr th:only-of-type {\n",
       "        vertical-align: middle;\n",
       "    }\n",
       "\n",
       "    .dataframe tbody tr th {\n",
       "        vertical-align: top;\n",
       "    }\n",
       "\n",
       "    .dataframe thead th {\n",
       "        text-align: right;\n",
       "    }\n",
       "</style>\n",
       "<table border=\"1\" class=\"dataframe\">\n",
       "  <thead>\n",
       "    <tr style=\"text-align: right;\">\n",
       "      <th></th>\n",
       "      <th>budget</th>\n",
       "      <th>id</th>\n",
       "      <th>popularity</th>\n",
       "      <th>revenue</th>\n",
       "      <th>runtime</th>\n",
       "      <th>vote_average</th>\n",
       "      <th>vote_count</th>\n",
       "      <th>movie_id</th>\n",
       "      <th>profitable</th>\n",
       "      <th>Thriller</th>\n",
       "      <th>...</th>\n",
       "      <th>Romance</th>\n",
       "      <th>Fantasy</th>\n",
       "      <th>Animation</th>\n",
       "      <th>Music</th>\n",
       "      <th>Crime</th>\n",
       "      <th>Family</th>\n",
       "      <th>Science Fiction</th>\n",
       "      <th>Horror</th>\n",
       "      <th>History</th>\n",
       "      <th>Drama</th>\n",
       "    </tr>\n",
       "  </thead>\n",
       "  <tbody>\n",
       "    <tr>\n",
       "      <th>0</th>\n",
       "      <td>237000000</td>\n",
       "      <td>19995</td>\n",
       "      <td>150.437577</td>\n",
       "      <td>2787965087</td>\n",
       "      <td>162.0</td>\n",
       "      <td>7.2</td>\n",
       "      <td>11800</td>\n",
       "      <td>19995</td>\n",
       "      <td>1</td>\n",
       "      <td>0</td>\n",
       "      <td>...</td>\n",
       "      <td>0</td>\n",
       "      <td>1</td>\n",
       "      <td>0</td>\n",
       "      <td>0</td>\n",
       "      <td>0</td>\n",
       "      <td>0</td>\n",
       "      <td>1</td>\n",
       "      <td>0</td>\n",
       "      <td>0</td>\n",
       "      <td>0</td>\n",
       "    </tr>\n",
       "    <tr>\n",
       "      <th>1</th>\n",
       "      <td>300000000</td>\n",
       "      <td>285</td>\n",
       "      <td>139.082615</td>\n",
       "      <td>961000000</td>\n",
       "      <td>169.0</td>\n",
       "      <td>6.9</td>\n",
       "      <td>4500</td>\n",
       "      <td>285</td>\n",
       "      <td>1</td>\n",
       "      <td>0</td>\n",
       "      <td>...</td>\n",
       "      <td>0</td>\n",
       "      <td>1</td>\n",
       "      <td>0</td>\n",
       "      <td>0</td>\n",
       "      <td>0</td>\n",
       "      <td>0</td>\n",
       "      <td>0</td>\n",
       "      <td>0</td>\n",
       "      <td>0</td>\n",
       "      <td>0</td>\n",
       "    </tr>\n",
       "    <tr>\n",
       "      <th>2</th>\n",
       "      <td>245000000</td>\n",
       "      <td>206647</td>\n",
       "      <td>107.376788</td>\n",
       "      <td>880674609</td>\n",
       "      <td>148.0</td>\n",
       "      <td>6.3</td>\n",
       "      <td>4466</td>\n",
       "      <td>206647</td>\n",
       "      <td>1</td>\n",
       "      <td>0</td>\n",
       "      <td>...</td>\n",
       "      <td>0</td>\n",
       "      <td>0</td>\n",
       "      <td>0</td>\n",
       "      <td>0</td>\n",
       "      <td>1</td>\n",
       "      <td>0</td>\n",
       "      <td>0</td>\n",
       "      <td>0</td>\n",
       "      <td>0</td>\n",
       "      <td>0</td>\n",
       "    </tr>\n",
       "    <tr>\n",
       "      <th>3</th>\n",
       "      <td>250000000</td>\n",
       "      <td>49026</td>\n",
       "      <td>112.312950</td>\n",
       "      <td>1084939099</td>\n",
       "      <td>165.0</td>\n",
       "      <td>7.6</td>\n",
       "      <td>9106</td>\n",
       "      <td>49026</td>\n",
       "      <td>1</td>\n",
       "      <td>1</td>\n",
       "      <td>...</td>\n",
       "      <td>0</td>\n",
       "      <td>0</td>\n",
       "      <td>0</td>\n",
       "      <td>0</td>\n",
       "      <td>1</td>\n",
       "      <td>0</td>\n",
       "      <td>0</td>\n",
       "      <td>0</td>\n",
       "      <td>0</td>\n",
       "      <td>1</td>\n",
       "    </tr>\n",
       "    <tr>\n",
       "      <th>4</th>\n",
       "      <td>260000000</td>\n",
       "      <td>49529</td>\n",
       "      <td>43.926995</td>\n",
       "      <td>284139100</td>\n",
       "      <td>132.0</td>\n",
       "      <td>6.1</td>\n",
       "      <td>2124</td>\n",
       "      <td>49529</td>\n",
       "      <td>1</td>\n",
       "      <td>0</td>\n",
       "      <td>...</td>\n",
       "      <td>0</td>\n",
       "      <td>0</td>\n",
       "      <td>0</td>\n",
       "      <td>0</td>\n",
       "      <td>0</td>\n",
       "      <td>0</td>\n",
       "      <td>1</td>\n",
       "      <td>0</td>\n",
       "      <td>0</td>\n",
       "      <td>0</td>\n",
       "    </tr>\n",
       "  </tbody>\n",
       "</table>\n",
       "<p>5 rows × 29 columns</p>\n",
       "</div>"
      ],
      "text/plain": [
       "      budget      id  popularity     revenue  runtime  vote_average  \\\n",
       "0  237000000   19995  150.437577  2787965087    162.0           7.2   \n",
       "1  300000000     285  139.082615   961000000    169.0           6.9   \n",
       "2  245000000  206647  107.376788   880674609    148.0           6.3   \n",
       "3  250000000   49026  112.312950  1084939099    165.0           7.6   \n",
       "4  260000000   49529   43.926995   284139100    132.0           6.1   \n",
       "\n",
       "   vote_count  movie_id  profitable  Thriller  ...  Romance  Fantasy  \\\n",
       "0       11800     19995           1         0  ...        0        1   \n",
       "1        4500       285           1         0  ...        0        1   \n",
       "2        4466    206647           1         0  ...        0        0   \n",
       "3        9106     49026           1         1  ...        0        0   \n",
       "4        2124     49529           1         0  ...        0        0   \n",
       "\n",
       "   Animation  Music  Crime  Family  Science Fiction  Horror  History  Drama  \n",
       "0          0      0      0       0                1       0        0      0  \n",
       "1          0      0      0       0                0       0        0      0  \n",
       "2          0      0      1       0                0       0        0      0  \n",
       "3          0      0      1       0                0       0        0      1  \n",
       "4          0      0      0       0                1       0        0      0  \n",
       "\n",
       "[5 rows x 29 columns]"
      ]
     },
     "execution_count": 63,
     "metadata": {},
     "output_type": "execute_result"
    }
   ],
   "source": [
    "df.head()"
   ]
  },
  {
   "cell_type": "markdown",
   "id": "129fddf4",
   "metadata": {},
   "source": [
    "Exploratory data analysis is an approach to analyze or investigate data sets to find out patterns and see if any of the variables can be useful in predicting the y variables. Visual methods are often used to summarise the data. Primarily EDA is for seeing what the data can tell us beyond the formal modeling or hypothesis testing tasks.\n",
    "\n",
    "We are going to:\n",
    "\n",
    "Create list of columns by data type\n",
    "\n",
    "Check the distribution of target variable\n",
    "\n",
    "Check the correlation between different features\n",
    "\n",
    "Check the relation between different features\n"
   ]
  },
  {
   "cell_type": "code",
   "execution_count": 64,
   "id": "004f0b2a",
   "metadata": {},
   "outputs": [
    {
     "data": {
      "image/png": "[encoded data removed]",
      "text/plain": [
       "<Figure size 640x640 with 1 Axes>"
      ]
     },
     "metadata": {
      "needs_background": "light"
     },
     "output_type": "display_data"
    }
   ],
   "source": [
    "# Check the distribution of y variable (Revenue) using box plot\n",
    "plt.figure(figsize=(8,8), dpi= 80)\n",
    "sns.boxplot(df['revenue'])\n",
    "plt.title('Revenue Box Plot')\n",
    "plt.show()"
   ]
  },
  {
   "cell_type": "code",
   "execution_count": 65,
   "id": "510daa55",
   "metadata": {},
   "outputs": [
    {
     "data": {
      "text/plain": [
       "<AxesSubplot:title={'center':'Revenue Distribution Plot'}, xlabel='revenue', ylabel='Density'>"
      ]
     },
     "execution_count": 65,
     "metadata": {},
     "output_type": "execute_result"
    },
    {
     "data": {
      "image/png": "[encoded data removed]",
      "text/plain": [
       "<Figure size 576x576 with 1 Axes>"
      ]
     },
     "metadata": {
      "needs_background": "light"
     },
     "output_type": "display_data"
    }
   ],
   "source": [
    "# Check the distribution of y variable (Revenue) using dist plot\n",
    "plt.figure(figsize=(8,8))\n",
    "plt.title('Revenue Distribution Plot')\n",
    "sns.distplot(df['revenue'])"
   ]
  },
  {
   "cell_type": "markdown",
   "id": "179062db",
   "metadata": {},
   "source": [
    "We see that the data set has some very high revenue movies, which contribute to the right skewness of the data. The high kurtosis of the data shows that the data is far from normally distributed."
   ]
  },
  {
   "cell_type": "code",
   "execution_count": 66,
   "id": "c6091dfd",
   "metadata": {},
   "outputs": [
    {
     "name": "stdout",
     "output_type": "stream",
     "text": [
      "Skewness: 4.444716\n",
      "Kurtosis: 33.123630\n"
     ]
    }
   ],
   "source": [
    "# Skew and kurt\n",
    "print(\"Skewness: %f\" % abs(df['revenue']).skew())\n",
    "print(\"Kurtosis: %f\" % abs(df['revenue']).kurt())"
   ]
  },
  {
   "cell_type": "markdown",
   "id": "01e4aa6c",
   "metadata": {},
   "source": [
    "Next we calculate all the correlations between 'revenue' and other columns. We plot the correlations as the heat map."
   ]
  },
  {
   "cell_type": "code",
   "execution_count": 67,
   "id": "2e63198b",
   "metadata": {},
   "outputs": [
    {
     "data": {
      "image/png": "[encoded data removed]",
      "text/plain": [
       "<Figure size 1800x1800 with 2 Axes>"
      ]
     },
     "metadata": {
      "needs_background": "light"
     },
     "output_type": "display_data"
    }
   ],
   "source": [
    "# Check the multicollinearity of features using the correlation matric\n",
    "plt.figure(figsize=(25,25))\n",
    "p = sns.heatmap(df.corr(), annot=True,cmap='RdYlGn',center=0) "
   ]
  },
  {
   "cell_type": "markdown",
   "id": "bac8be7e",
   "metadata": {},
   "source": [
    "Not all of the features have a significant influence on the 'revenue'. \n",
    "\n",
    "It is clear that different movie genres have very little influence on the 'revenue'.\n",
    "\n",
    "Let's look at the correlation matrix of top 7 features, which have the highest correlation with 'revenue'."
   ]
  },
  {
   "cell_type": "code",
   "execution_count": 68,
   "id": "3f427d6b",
   "metadata": {},
   "outputs": [
    {
     "data": {
      "image/png": "[encoded data removed]",
      "text/plain": [
       "<Figure size 864x504 with 2 Axes>"
      ]
     },
     "metadata": {
      "needs_background": "light"
     },
     "output_type": "display_data"
    }
   ],
   "source": [
    "main_columns = ['budget', 'revenue', 'popularity', 'runtime', 'vote_average', 'vote_count', 'profitable']\n",
    "k = 7 #number of variables for heatmap\n",
    "cols = df.corr().nlargest(k, 'revenue')['revenue'].index\n",
    "plt.figure(figsize=(12,7))\n",
    "p = sns.heatmap(df[cols].corr(), annot=True,cmap='RdYlGn',center=0) "
   ]
  },
  {
   "cell_type": "markdown",
   "id": "61c727f5",
   "metadata": {},
   "source": [
    "Now we make scatterplots of different covariates vs the 'revenue'."
   ]
  },
  {
   "cell_type": "code",
   "execution_count": 69,
   "id": "348ac4fe",
   "metadata": {},
   "outputs": [],
   "source": [
    "def scatterplot(x=\"vote_count\", y='revenue'):\n",
    "    plt.figure(figsize=(10,7))\n",
    "    plt.scatter(df[x], df[y], )\n",
    "    plt.title(x + ' vs ' + y)\n",
    "    plt.show()"
   ]
  },
  {
   "cell_type": "code",
   "execution_count": 70,
   "id": "1cc50a36",
   "metadata": {},
   "outputs": [
    {
     "data": {
      "image/png": "[encoded data removed]",
      "text/plain": [
       "<Figure size 720x504 with 1 Axes>"
      ]
     },
     "metadata": {
      "needs_background": "light"
     },
     "output_type": "display_data"
    },
    {
     "data": {
      "image/png": "[encoded data removed]",
      "text/plain": [
       "<Figure size 720x504 with 1 Axes>"
      ]
     },
     "metadata": {
      "needs_background": "light"
     },
     "output_type": "display_data"
    },
    {
     "data": {
      "image/png": "[encoded data removed]",
      "text/plain": [
       "<Figure size 720x504 with 1 Axes>"
      ]
     },
     "metadata": {
      "needs_background": "light"
     },
     "output_type": "display_data"
    },
    {
     "data": {
      "image/png": "[encoded data removed]",
      "text/plain": [
       "<Figure size 720x504 with 1 Axes>"
      ]
     },
     "metadata": {
      "needs_background": "light"
     },
     "output_type": "display_data"
    },
    {
     "data": {
      "image/png": "[encoded data removed]",
      "text/plain": [
       "<Figure size 720x504 with 1 Axes>"
      ]
     },
     "metadata": {
      "needs_background": "light"
     },
     "output_type": "display_data"
    },
    {
     "data": {
      "image/png": "[encoded data removed]",
      "text/plain": [
       "<Figure size 720x504 with 1 Axes>"
      ]
     },
     "metadata": {
      "needs_background": "light"
     },
     "output_type": "display_data"
    }
   ],
   "source": [
    "for col in cols[1:]:\n",
    "    scatterplot(x=col, y='revenue')"
   ]
  },
  {
   "cell_type": "markdown",
   "id": "a0d59238",
   "metadata": {},
   "source": [
    "We want the highest correlation values between the 'revenue' column and other columns."
   ]
  },
  {
   "cell_type": "code",
   "execution_count": 71,
   "id": "aca7952a",
   "metadata": {},
   "outputs": [
    {
     "name": "stdout",
     "output_type": "stream",
     "text": [
      "revenue         1.000000\n",
      "vote_count      0.781487\n",
      "budget          0.730823\n",
      "popularity      0.644724\n",
      "profitable      0.272273\n",
      "runtime         0.251093\n",
      "vote_average    0.197150\n",
      "Name: revenue, dtype: float64\n"
     ]
    }
   ],
   "source": [
    "corr = df[main_columns].corr()\n",
    "print (corr['revenue'].sort_values(ascending=False)[-10:])"
   ]
  },
  {
   "cell_type": "code",
   "execution_count": 72,
   "id": "6e1a9d91",
   "metadata": {},
   "outputs": [
    {
     "name": "stdout",
     "output_type": "stream",
     "text": [
      "vote_count      0.781487\n",
      "budget          0.730823\n",
      "popularity      0.644724\n",
      "profitable      0.272273\n",
      "runtime         0.251093\n",
      "vote_average    0.197150\n",
      "Name: revenue, dtype: float64\n"
     ]
    }
   ],
   "source": [
    "# Store 7 highest correlated variables for future reference\n",
    "corr = df.corr()\n",
    "print (corr['revenue'].sort_values(ascending=False)[1:7])\n",
    "highest_correlated_cols = corr['revenue'].sort_values(ascending=False)[1:7].index"
   ]
  },
  {
   "cell_type": "markdown",
   "id": "66ef6db1",
   "metadata": {},
   "source": [
    "The data is not yet ready for model building. We need to process the data and make it ready for model building. We are going to:\n",
    "\n",
    "Clean the data by treating missing values\n",
    "\n",
    "Detect the outliers and remove those\n",
    "\n",
    "Split the dataset in X and y dataset\n",
    "\n",
    "Split the data in train and test set\n"
   ]
  },
  {
   "cell_type": "markdown",
   "id": "13053a62",
   "metadata": {},
   "source": [
    "Missing Value Treatment\n",
    "\n",
    "Impute the rows with missing values with means of columns"
   ]
  },
  {
   "cell_type": "code",
   "execution_count": 73,
   "id": "aa25f690",
   "metadata": {},
   "outputs": [
    {
     "name": "stdout",
     "output_type": "stream",
     "text": [
      "budget          0\n",
      "revenue         0\n",
      "popularity      0\n",
      "runtime         2\n",
      "vote_average    0\n",
      "vote_count      0\n",
      "profitable      0\n",
      "dtype: int64\n"
     ]
    }
   ],
   "source": [
    "# Get count of missing values in main columns\n",
    "print(df[main_columns].isna().sum())"
   ]
  },
  {
   "cell_type": "markdown",
   "id": "8c8b81bf",
   "metadata": {},
   "source": [
    "Since the missing values are only in the 'runtime' column, and there are very few missing values, we are going to fill them with the mean of the column."
   ]
  },
  {
   "cell_type": "code",
   "execution_count": 74,
   "id": "d78d6d24",
   "metadata": {},
   "outputs": [
    {
     "name": "stdout",
     "output_type": "stream",
     "text": [
      "budget          0\n",
      "revenue         0\n",
      "popularity      0\n",
      "runtime         0\n",
      "vote_average    0\n",
      "vote_count      0\n",
      "profitable      0\n",
      "dtype: int64\n"
     ]
    }
   ],
   "source": [
    "df['runtime'] = df['runtime'].fillna(df['runtime'].mean())\n",
    "print(df[main_columns].isna().sum())"
   ]
  },
  {
   "cell_type": "markdown",
   "id": "18bf0d28",
   "metadata": {},
   "source": [
    "Outlier Treatment\n",
    "\n",
    "Check the Mahalanobis distance of points. If a point has a large Mahalanobis distance, it means that it has a very small Gaussian probability density, so it is unlikely to occur.\n",
    "\n",
    "Find out the outliers in y variable and remove those."
   ]
  },
  {
   "cell_type": "code",
   "execution_count": 75,
   "id": "19b0b355",
   "metadata": {},
   "outputs": [
    {
     "data": {
      "text/html": [
       "<div>\n",
       "<style scoped>\n",
       "    .dataframe tbody tr th:only-of-type {\n",
       "        vertical-align: middle;\n",
       "    }\n",
       "\n",
       "    .dataframe tbody tr th {\n",
       "        vertical-align: top;\n",
       "    }\n",
       "\n",
       "    .dataframe thead th {\n",
       "        text-align: right;\n",
       "    }\n",
       "</style>\n",
       "<table border=\"1\" class=\"dataframe\">\n",
       "  <thead>\n",
       "    <tr style=\"text-align: right;\">\n",
       "      <th></th>\n",
       "      <th>budget</th>\n",
       "      <th>revenue</th>\n",
       "      <th>mahala</th>\n",
       "    </tr>\n",
       "  </thead>\n",
       "  <tbody>\n",
       "    <tr>\n",
       "      <th>0</th>\n",
       "      <td>237000000</td>\n",
       "      <td>2787965087</td>\n",
       "      <td>382.258746</td>\n",
       "    </tr>\n",
       "    <tr>\n",
       "      <th>1</th>\n",
       "      <td>300000000</td>\n",
       "      <td>961000000</td>\n",
       "      <td>44.881814</td>\n",
       "    </tr>\n",
       "    <tr>\n",
       "      <th>2</th>\n",
       "      <td>245000000</td>\n",
       "      <td>880674609</td>\n",
       "      <td>30.386373</td>\n",
       "    </tr>\n",
       "    <tr>\n",
       "      <th>3</th>\n",
       "      <td>250000000</td>\n",
       "      <td>1084939099</td>\n",
       "      <td>39.748064</td>\n",
       "    </tr>\n",
       "    <tr>\n",
       "      <th>4</th>\n",
       "      <td>260000000</td>\n",
       "      <td>284139100</td>\n",
       "      <td>50.281533</td>\n",
       "    </tr>\n",
       "  </tbody>\n",
       "</table>\n",
       "</div>"
      ],
      "text/plain": [
       "      budget     revenue      mahala\n",
       "0  237000000  2787965087  382.258746\n",
       "1  300000000   961000000   44.881814\n",
       "2  245000000   880674609   30.386373\n",
       "3  250000000  1084939099   39.748064\n",
       "4  260000000   284139100   50.281533"
      ]
     },
     "execution_count": 75,
     "metadata": {},
     "output_type": "execute_result"
    }
   ],
   "source": [
    "def mahalanobis(x=None, data=None, cov=None):\n",
    "    \"\"\"Compute the Mahalanobis Distance between each row of x and the data  \n",
    "    x    : vector or matrix of data with, say, p columns.\n",
    "    data : ndarray of the distribution from which Mahalanobis distance of each observation of x is to be computed.\n",
    "    cov  : covariance matrix (p x p) of the distribution. If None, will be computed from data.\n",
    "    \"\"\"\n",
    "    x_minus_mu = x - np.mean(data)\n",
    "    if not cov:\n",
    "        cov = np.cov(data.values.T)\n",
    "    inv_covmat = scipy.linalg.inv(cov)\n",
    "    left_term = np.dot(x_minus_mu, inv_covmat)\n",
    "    mahal = np.dot(left_term, x_minus_mu.T)\n",
    "    return mahal.diagonal()\n",
    "\n",
    "df_x = df[['budget', 'revenue']].head(500)\n",
    "df_x['mahala'] = mahalanobis(x=df_x, data=df[['budget', 'revenue']])\n",
    "df_x.head()"
   ]
  },
  {
   "cell_type": "markdown",
   "id": "bb5fe116",
   "metadata": {},
   "source": [
    "We can find all the points with Mahalanobis distance larger than four times the mean Mahalanobis distance."
   ]
  },
  {
   "cell_type": "code",
   "execution_count": 76,
   "id": "b78410ff",
   "metadata": {},
   "outputs": [
    {
     "name": "stdout",
     "output_type": "stream",
     "text": [
      "(12, 3)\n"
     ]
    },
    {
     "data": {
      "text/html": [
       "<div>\n",
       "<style scoped>\n",
       "    .dataframe tbody tr th:only-of-type {\n",
       "        vertical-align: middle;\n",
       "    }\n",
       "\n",
       "    .dataframe tbody tr th {\n",
       "        vertical-align: top;\n",
       "    }\n",
       "\n",
       "    .dataframe thead th {\n",
       "        text-align: right;\n",
       "    }\n",
       "</style>\n",
       "<table border=\"1\" class=\"dataframe\">\n",
       "  <thead>\n",
       "    <tr style=\"text-align: right;\">\n",
       "      <th></th>\n",
       "      <th>budget</th>\n",
       "      <th>revenue</th>\n",
       "      <th>mahala</th>\n",
       "    </tr>\n",
       "  </thead>\n",
       "  <tbody>\n",
       "    <tr>\n",
       "      <th>0</th>\n",
       "      <td>237000000</td>\n",
       "      <td>2787965087</td>\n",
       "      <td>382.258746</td>\n",
       "    </tr>\n",
       "    <tr>\n",
       "      <th>25</th>\n",
       "      <td>200000000</td>\n",
       "      <td>1845034188</td>\n",
       "      <td>146.741571</td>\n",
       "    </tr>\n",
       "    <tr>\n",
       "      <th>28</th>\n",
       "      <td>150000000</td>\n",
       "      <td>1513528810</td>\n",
       "      <td>102.823504</td>\n",
       "    </tr>\n",
       "    <tr>\n",
       "      <th>44</th>\n",
       "      <td>190000000</td>\n",
       "      <td>1506249360</td>\n",
       "      <td>89.208287</td>\n",
       "    </tr>\n",
       "    <tr>\n",
       "      <th>16</th>\n",
       "      <td>220000000</td>\n",
       "      <td>1519557910</td>\n",
       "      <td>84.543596</td>\n",
       "    </tr>\n",
       "    <tr>\n",
       "      <th>17</th>\n",
       "      <td>380000000</td>\n",
       "      <td>1045713802</td>\n",
       "      <td>74.587861</td>\n",
       "    </tr>\n",
       "    <tr>\n",
       "      <th>7</th>\n",
       "      <td>280000000</td>\n",
       "      <td>1405403694</td>\n",
       "      <td>66.117176</td>\n",
       "    </tr>\n",
       "    <tr>\n",
       "      <th>124</th>\n",
       "      <td>150000000</td>\n",
       "      <td>1274219009</td>\n",
       "      <td>65.713088</td>\n",
       "    </tr>\n",
       "    <tr>\n",
       "      <th>13</th>\n",
       "      <td>255000000</td>\n",
       "      <td>89289910</td>\n",
       "      <td>65.335139</td>\n",
       "    </tr>\n",
       "    <tr>\n",
       "      <th>329</th>\n",
       "      <td>94000000</td>\n",
       "      <td>1118888979</td>\n",
       "      <td>60.572693</td>\n",
       "    </tr>\n",
       "  </tbody>\n",
       "</table>\n",
       "</div>"
      ],
      "text/plain": [
       "        budget     revenue      mahala\n",
       "0    237000000  2787965087  382.258746\n",
       "25   200000000  1845034188  146.741571\n",
       "28   150000000  1513528810  102.823504\n",
       "44   190000000  1506249360   89.208287\n",
       "16   220000000  1519557910   84.543596\n",
       "17   380000000  1045713802   74.587861\n",
       "7    280000000  1405403694   66.117176\n",
       "124  150000000  1274219009   65.713088\n",
       "13   255000000    89289910   65.335139\n",
       "329   94000000  1118888979   60.572693"
      ]
     },
     "execution_count": 76,
     "metadata": {},
     "output_type": "execute_result"
    }
   ],
   "source": [
    "df_xtreme = df_x.loc[df_x.mahala > (4*df_x.mahala.mean())]\n",
    "print(df_xtreme.shape)\n",
    "df_xtreme.sort_values('mahala', ascending=False).head(10)"
   ]
  },
  {
   "cell_type": "markdown",
   "id": "4e6677f3",
   "metadata": {},
   "source": [
    "We can show the points with large Mahalanobis distance in orange."
   ]
  },
  {
   "cell_type": "code",
   "execution_count": 77,
   "id": "db64923c",
   "metadata": {},
   "outputs": [
    {
     "data": {
      "image/png": "[encoded data removed]",
      "text/plain": [
       "<Figure size 864x576 with 1 Axes>"
      ]
     },
     "metadata": {
      "needs_background": "light"
     },
     "output_type": "display_data"
    }
   ],
   "source": [
    "plt.figure(figsize = (12,8))\n",
    "plt.scatter(df_x['budget'][90:1500], df_x['revenue'][90:1500])\n",
    "plt.scatter(df_x['budget'].take([0, 25, 28, 44, 16, 17, 7, 124, 13, 329]), df_x['revenue'].take([0, 25, 28, 44, 16, 17, 7, 124, 13, 329]))\n",
    "plt.show()"
   ]
  },
  {
   "cell_type": "code",
   "execution_count": 78,
   "id": "93430138",
   "metadata": {},
   "outputs": [
    {
     "data": {
      "text/plain": [
       "(4803, 29)"
      ]
     },
     "execution_count": 78,
     "metadata": {},
     "output_type": "execute_result"
    }
   ],
   "source": [
    "df.shape"
   ]
  },
  {
   "cell_type": "markdown",
   "id": "61347178",
   "metadata": {},
   "source": [
    "These points are very far from the distribution. \n",
    "\n",
    "We are going to drop outliers now, because the mahalanobis distance is calculated with 'budget', which is a significant feature.\n"
   ]
  },
  {
   "cell_type": "code",
   "execution_count": 79,
   "id": "e349aaf6",
   "metadata": {},
   "outputs": [
    {
     "data": {
      "text/plain": [
       "(4791, 29)"
      ]
     },
     "execution_count": 79,
     "metadata": {},
     "output_type": "execute_result"
    }
   ],
   "source": [
    "df.drop(df_xtreme.index, inplace = True)\n",
    "df.reset_index(drop=True, inplace=True)\n",
    "df.shape"
   ]
  },
  {
   "cell_type": "markdown",
   "id": "985f62d4",
   "metadata": {},
   "source": [
    "\n",
    "Outlier Detection using Z-score\n",
    "\n",
    "Compute Z-scores of the revenue to find outliers."
   ]
  },
  {
   "cell_type": "code",
   "execution_count": 80,
   "id": "cec27853",
   "metadata": {},
   "outputs": [
    {
     "data": {
      "text/html": [
       "<div>\n",
       "<style scoped>\n",
       "    .dataframe tbody tr th:only-of-type {\n",
       "        vertical-align: middle;\n",
       "    }\n",
       "\n",
       "    .dataframe tbody tr th {\n",
       "        vertical-align: top;\n",
       "    }\n",
       "\n",
       "    .dataframe thead th {\n",
       "        text-align: right;\n",
       "    }\n",
       "</style>\n",
       "<table border=\"1\" class=\"dataframe\">\n",
       "  <thead>\n",
       "    <tr style=\"text-align: right;\">\n",
       "      <th></th>\n",
       "      <th>budget</th>\n",
       "      <th>id</th>\n",
       "      <th>popularity</th>\n",
       "      <th>revenue</th>\n",
       "      <th>runtime</th>\n",
       "      <th>vote_average</th>\n",
       "      <th>vote_count</th>\n",
       "      <th>movie_id</th>\n",
       "      <th>profitable</th>\n",
       "      <th>Thriller</th>\n",
       "      <th>...</th>\n",
       "      <th>Fantasy</th>\n",
       "      <th>Animation</th>\n",
       "      <th>Music</th>\n",
       "      <th>Crime</th>\n",
       "      <th>Family</th>\n",
       "      <th>Science Fiction</th>\n",
       "      <th>Horror</th>\n",
       "      <th>History</th>\n",
       "      <th>Drama</th>\n",
       "      <th>zscore_revenue</th>\n",
       "    </tr>\n",
       "  </thead>\n",
       "  <tbody>\n",
       "    <tr>\n",
       "      <th>0</th>\n",
       "      <td>300000000</td>\n",
       "      <td>285</td>\n",
       "      <td>139.082615</td>\n",
       "      <td>961000000</td>\n",
       "      <td>169.0</td>\n",
       "      <td>6.9</td>\n",
       "      <td>4500</td>\n",
       "      <td>285</td>\n",
       "      <td>1</td>\n",
       "      <td>0</td>\n",
       "      <td>...</td>\n",
       "      <td>1</td>\n",
       "      <td>0</td>\n",
       "      <td>0</td>\n",
       "      <td>0</td>\n",
       "      <td>0</td>\n",
       "      <td>0</td>\n",
       "      <td>0</td>\n",
       "      <td>0</td>\n",
       "      <td>0</td>\n",
       "      <td>5.977261</td>\n",
       "    </tr>\n",
       "    <tr>\n",
       "      <th>1</th>\n",
       "      <td>245000000</td>\n",
       "      <td>206647</td>\n",
       "      <td>107.376788</td>\n",
       "      <td>880674609</td>\n",
       "      <td>148.0</td>\n",
       "      <td>6.3</td>\n",
       "      <td>4466</td>\n",
       "      <td>206647</td>\n",
       "      <td>1</td>\n",
       "      <td>0</td>\n",
       "      <td>...</td>\n",
       "      <td>0</td>\n",
       "      <td>0</td>\n",
       "      <td>0</td>\n",
       "      <td>1</td>\n",
       "      <td>0</td>\n",
       "      <td>0</td>\n",
       "      <td>0</td>\n",
       "      <td>0</td>\n",
       "      <td>0</td>\n",
       "      <td>5.432771</td>\n",
       "    </tr>\n",
       "    <tr>\n",
       "      <th>2</th>\n",
       "      <td>250000000</td>\n",
       "      <td>49026</td>\n",
       "      <td>112.312950</td>\n",
       "      <td>1084939099</td>\n",
       "      <td>165.0</td>\n",
       "      <td>7.6</td>\n",
       "      <td>9106</td>\n",
       "      <td>49026</td>\n",
       "      <td>1</td>\n",
       "      <td>1</td>\n",
       "      <td>...</td>\n",
       "      <td>0</td>\n",
       "      <td>0</td>\n",
       "      <td>0</td>\n",
       "      <td>1</td>\n",
       "      <td>0</td>\n",
       "      <td>0</td>\n",
       "      <td>0</td>\n",
       "      <td>0</td>\n",
       "      <td>1</td>\n",
       "      <td>6.817388</td>\n",
       "    </tr>\n",
       "    <tr>\n",
       "      <th>3</th>\n",
       "      <td>258000000</td>\n",
       "      <td>559</td>\n",
       "      <td>115.699814</td>\n",
       "      <td>890871626</td>\n",
       "      <td>139.0</td>\n",
       "      <td>5.9</td>\n",
       "      <td>3576</td>\n",
       "      <td>559</td>\n",
       "      <td>1</td>\n",
       "      <td>0</td>\n",
       "      <td>...</td>\n",
       "      <td>1</td>\n",
       "      <td>0</td>\n",
       "      <td>0</td>\n",
       "      <td>0</td>\n",
       "      <td>0</td>\n",
       "      <td>0</td>\n",
       "      <td>0</td>\n",
       "      <td>0</td>\n",
       "      <td>0</td>\n",
       "      <td>5.501892</td>\n",
       "    </tr>\n",
       "    <tr>\n",
       "      <th>4</th>\n",
       "      <td>260000000</td>\n",
       "      <td>38757</td>\n",
       "      <td>48.681969</td>\n",
       "      <td>591794936</td>\n",
       "      <td>100.0</td>\n",
       "      <td>7.4</td>\n",
       "      <td>3330</td>\n",
       "      <td>38757</td>\n",
       "      <td>1</td>\n",
       "      <td>0</td>\n",
       "      <td>...</td>\n",
       "      <td>0</td>\n",
       "      <td>1</td>\n",
       "      <td>0</td>\n",
       "      <td>0</td>\n",
       "      <td>1</td>\n",
       "      <td>0</td>\n",
       "      <td>0</td>\n",
       "      <td>0</td>\n",
       "      <td>0</td>\n",
       "      <td>3.474586</td>\n",
       "    </tr>\n",
       "  </tbody>\n",
       "</table>\n",
       "<p>5 rows × 30 columns</p>\n",
       "</div>"
      ],
      "text/plain": [
       "      budget      id  popularity     revenue  runtime  vote_average  \\\n",
       "0  300000000     285  139.082615   961000000    169.0           6.9   \n",
       "1  245000000  206647  107.376788   880674609    148.0           6.3   \n",
       "2  250000000   49026  112.312950  1084939099    165.0           7.6   \n",
       "3  258000000     559  115.699814   890871626    139.0           5.9   \n",
       "4  260000000   38757   48.681969   591794936    100.0           7.4   \n",
       "\n",
       "   vote_count  movie_id  profitable  Thriller  ...  Fantasy  Animation  Music  \\\n",
       "0        4500       285           1         0  ...        1          0      0   \n",
       "1        4466    206647           1         0  ...        0          0      0   \n",
       "2        9106     49026           1         1  ...        0          0      0   \n",
       "3        3576       559           1         0  ...        1          0      0   \n",
       "4        3330     38757           1         0  ...        0          1      0   \n",
       "\n",
       "   Crime  Family  Science Fiction  Horror  History  Drama  zscore_revenue  \n",
       "0      0       0                0       0        0      0        5.977261  \n",
       "1      1       0                0       0        0      0        5.432771  \n",
       "2      1       0                0       0        0      1        6.817388  \n",
       "3      0       0                0       0        0      0        5.501892  \n",
       "4      0       1                0       0        0      0        3.474586  \n",
       "\n",
       "[5 rows x 30 columns]"
      ]
     },
     "execution_count": 80,
     "metadata": {},
     "output_type": "execute_result"
    }
   ],
   "source": [
    "df['zscore_revenue'] = (df.revenue  - df.revenue.mean() ) / df.revenue.std()\n",
    "df.head()"
   ]
  },
  {
   "cell_type": "markdown",
   "id": "51178e64",
   "metadata": {},
   "source": [
    "Find revenue outliers by finding the points with z-score greater than 3 or less than -3."
   ]
  },
  {
   "cell_type": "code",
   "execution_count": 81,
   "id": "4039fe20",
   "metadata": {},
   "outputs": [
    {
     "data": {
      "text/html": [
       "<div>\n",
       "<style scoped>\n",
       "    .dataframe tbody tr th:only-of-type {\n",
       "        vertical-align: middle;\n",
       "    }\n",
       "\n",
       "    .dataframe tbody tr th {\n",
       "        vertical-align: top;\n",
       "    }\n",
       "\n",
       "    .dataframe thead th {\n",
       "        text-align: right;\n",
       "    }\n",
       "</style>\n",
       "<table border=\"1\" class=\"dataframe\">\n",
       "  <thead>\n",
       "    <tr style=\"text-align: right;\">\n",
       "      <th></th>\n",
       "      <th>budget</th>\n",
       "      <th>id</th>\n",
       "      <th>popularity</th>\n",
       "      <th>revenue</th>\n",
       "      <th>runtime</th>\n",
       "      <th>vote_average</th>\n",
       "      <th>vote_count</th>\n",
       "      <th>movie_id</th>\n",
       "      <th>profitable</th>\n",
       "      <th>Thriller</th>\n",
       "      <th>...</th>\n",
       "      <th>Fantasy</th>\n",
       "      <th>Animation</th>\n",
       "      <th>Music</th>\n",
       "      <th>Crime</th>\n",
       "      <th>Family</th>\n",
       "      <th>Science Fiction</th>\n",
       "      <th>Horror</th>\n",
       "      <th>History</th>\n",
       "      <th>Drama</th>\n",
       "      <th>zscore_revenue</th>\n",
       "    </tr>\n",
       "  </thead>\n",
       "  <tbody>\n",
       "    <tr>\n",
       "      <th>0</th>\n",
       "      <td>300000000</td>\n",
       "      <td>285</td>\n",
       "      <td>139.082615</td>\n",
       "      <td>961000000</td>\n",
       "      <td>169.0</td>\n",
       "      <td>6.9</td>\n",
       "      <td>4500</td>\n",
       "      <td>285</td>\n",
       "      <td>1</td>\n",
       "      <td>0</td>\n",
       "      <td>...</td>\n",
       "      <td>1</td>\n",
       "      <td>0</td>\n",
       "      <td>0</td>\n",
       "      <td>0</td>\n",
       "      <td>0</td>\n",
       "      <td>0</td>\n",
       "      <td>0</td>\n",
       "      <td>0</td>\n",
       "      <td>0</td>\n",
       "      <td>5.977261</td>\n",
       "    </tr>\n",
       "    <tr>\n",
       "      <th>1</th>\n",
       "      <td>245000000</td>\n",
       "      <td>206647</td>\n",
       "      <td>107.376788</td>\n",
       "      <td>880674609</td>\n",
       "      <td>148.0</td>\n",
       "      <td>6.3</td>\n",
       "      <td>4466</td>\n",
       "      <td>206647</td>\n",
       "      <td>1</td>\n",
       "      <td>0</td>\n",
       "      <td>...</td>\n",
       "      <td>0</td>\n",
       "      <td>0</td>\n",
       "      <td>0</td>\n",
       "      <td>1</td>\n",
       "      <td>0</td>\n",
       "      <td>0</td>\n",
       "      <td>0</td>\n",
       "      <td>0</td>\n",
       "      <td>0</td>\n",
       "      <td>5.432771</td>\n",
       "    </tr>\n",
       "    <tr>\n",
       "      <th>2</th>\n",
       "      <td>250000000</td>\n",
       "      <td>49026</td>\n",
       "      <td>112.312950</td>\n",
       "      <td>1084939099</td>\n",
       "      <td>165.0</td>\n",
       "      <td>7.6</td>\n",
       "      <td>9106</td>\n",
       "      <td>49026</td>\n",
       "      <td>1</td>\n",
       "      <td>1</td>\n",
       "      <td>...</td>\n",
       "      <td>0</td>\n",
       "      <td>0</td>\n",
       "      <td>0</td>\n",
       "      <td>1</td>\n",
       "      <td>0</td>\n",
       "      <td>0</td>\n",
       "      <td>0</td>\n",
       "      <td>0</td>\n",
       "      <td>1</td>\n",
       "      <td>6.817388</td>\n",
       "    </tr>\n",
       "    <tr>\n",
       "      <th>3</th>\n",
       "      <td>258000000</td>\n",
       "      <td>559</td>\n",
       "      <td>115.699814</td>\n",
       "      <td>890871626</td>\n",
       "      <td>139.0</td>\n",
       "      <td>5.9</td>\n",
       "      <td>3576</td>\n",
       "      <td>559</td>\n",
       "      <td>1</td>\n",
       "      <td>0</td>\n",
       "      <td>...</td>\n",
       "      <td>1</td>\n",
       "      <td>0</td>\n",
       "      <td>0</td>\n",
       "      <td>0</td>\n",
       "      <td>0</td>\n",
       "      <td>0</td>\n",
       "      <td>0</td>\n",
       "      <td>0</td>\n",
       "      <td>0</td>\n",
       "      <td>5.501892</td>\n",
       "    </tr>\n",
       "    <tr>\n",
       "      <th>4</th>\n",
       "      <td>260000000</td>\n",
       "      <td>38757</td>\n",
       "      <td>48.681969</td>\n",
       "      <td>591794936</td>\n",
       "      <td>100.0</td>\n",
       "      <td>7.4</td>\n",
       "      <td>3330</td>\n",
       "      <td>38757</td>\n",
       "      <td>1</td>\n",
       "      <td>0</td>\n",
       "      <td>...</td>\n",
       "      <td>0</td>\n",
       "      <td>1</td>\n",
       "      <td>0</td>\n",
       "      <td>0</td>\n",
       "      <td>1</td>\n",
       "      <td>0</td>\n",
       "      <td>0</td>\n",
       "      <td>0</td>\n",
       "      <td>0</td>\n",
       "      <td>3.474586</td>\n",
       "    </tr>\n",
       "    <tr>\n",
       "      <th>...</th>\n",
       "      <td>...</td>\n",
       "      <td>...</td>\n",
       "      <td>...</td>\n",
       "      <td>...</td>\n",
       "      <td>...</td>\n",
       "      <td>...</td>\n",
       "      <td>...</td>\n",
       "      <td>...</td>\n",
       "      <td>...</td>\n",
       "      <td>...</td>\n",
       "      <td>...</td>\n",
       "      <td>...</td>\n",
       "      <td>...</td>\n",
       "      <td>...</td>\n",
       "      <td>...</td>\n",
       "      <td>...</td>\n",
       "      <td>...</td>\n",
       "      <td>...</td>\n",
       "      <td>...</td>\n",
       "      <td>...</td>\n",
       "      <td>...</td>\n",
       "    </tr>\n",
       "    <tr>\n",
       "      <th>1478</th>\n",
       "      <td>32350000</td>\n",
       "      <td>1892</td>\n",
       "      <td>46.509071</td>\n",
       "      <td>572700000</td>\n",
       "      <td>135.0</td>\n",
       "      <td>7.9</td>\n",
       "      <td>4665</td>\n",
       "      <td>1892</td>\n",
       "      <td>1</td>\n",
       "      <td>0</td>\n",
       "      <td>...</td>\n",
       "      <td>0</td>\n",
       "      <td>0</td>\n",
       "      <td>0</td>\n",
       "      <td>0</td>\n",
       "      <td>0</td>\n",
       "      <td>1</td>\n",
       "      <td>0</td>\n",
       "      <td>0</td>\n",
       "      <td>0</td>\n",
       "      <td>3.345150</td>\n",
       "    </tr>\n",
       "    <tr>\n",
       "      <th>1798</th>\n",
       "      <td>30000000</td>\n",
       "      <td>615</td>\n",
       "      <td>38.171417</td>\n",
       "      <td>611899420</td>\n",
       "      <td>127.0</td>\n",
       "      <td>6.9</td>\n",
       "      <td>864</td>\n",
       "      <td>615</td>\n",
       "      <td>1</td>\n",
       "      <td>0</td>\n",
       "      <td>...</td>\n",
       "      <td>0</td>\n",
       "      <td>0</td>\n",
       "      <td>0</td>\n",
       "      <td>0</td>\n",
       "      <td>0</td>\n",
       "      <td>0</td>\n",
       "      <td>0</td>\n",
       "      <td>0</td>\n",
       "      <td>1</td>\n",
       "      <td>3.610865</td>\n",
       "    </tr>\n",
       "    <tr>\n",
       "      <th>1978</th>\n",
       "      <td>18000000</td>\n",
       "      <td>1891</td>\n",
       "      <td>78.517830</td>\n",
       "      <td>538400000</td>\n",
       "      <td>124.0</td>\n",
       "      <td>8.2</td>\n",
       "      <td>5879</td>\n",
       "      <td>1891</td>\n",
       "      <td>1</td>\n",
       "      <td>0</td>\n",
       "      <td>...</td>\n",
       "      <td>0</td>\n",
       "      <td>0</td>\n",
       "      <td>0</td>\n",
       "      <td>0</td>\n",
       "      <td>0</td>\n",
       "      <td>1</td>\n",
       "      <td>0</td>\n",
       "      <td>0</td>\n",
       "      <td>0</td>\n",
       "      <td>3.112646</td>\n",
       "    </tr>\n",
       "    <tr>\n",
       "      <th>2900</th>\n",
       "      <td>11000000</td>\n",
       "      <td>11</td>\n",
       "      <td>126.393695</td>\n",
       "      <td>775398007</td>\n",
       "      <td>121.0</td>\n",
       "      <td>8.1</td>\n",
       "      <td>6624</td>\n",
       "      <td>11</td>\n",
       "      <td>1</td>\n",
       "      <td>0</td>\n",
       "      <td>...</td>\n",
       "      <td>0</td>\n",
       "      <td>0</td>\n",
       "      <td>0</td>\n",
       "      <td>0</td>\n",
       "      <td>0</td>\n",
       "      <td>1</td>\n",
       "      <td>0</td>\n",
       "      <td>0</td>\n",
       "      <td>0</td>\n",
       "      <td>4.719149</td>\n",
       "    </tr>\n",
       "    <tr>\n",
       "      <th>2955</th>\n",
       "      <td>10500000</td>\n",
       "      <td>601</td>\n",
       "      <td>56.105798</td>\n",
       "      <td>792910554</td>\n",
       "      <td>115.0</td>\n",
       "      <td>7.3</td>\n",
       "      <td>3269</td>\n",
       "      <td>601</td>\n",
       "      <td>1</td>\n",
       "      <td>0</td>\n",
       "      <td>...</td>\n",
       "      <td>1</td>\n",
       "      <td>0</td>\n",
       "      <td>0</td>\n",
       "      <td>0</td>\n",
       "      <td>1</td>\n",
       "      <td>1</td>\n",
       "      <td>0</td>\n",
       "      <td>0</td>\n",
       "      <td>0</td>\n",
       "      <td>4.837858</td>\n",
       "    </tr>\n",
       "  </tbody>\n",
       "</table>\n",
       "<p>128 rows × 30 columns</p>\n",
       "</div>"
      ],
      "text/plain": [
       "         budget      id  popularity     revenue  runtime  vote_average  \\\n",
       "0     300000000     285  139.082615   961000000    169.0           6.9   \n",
       "1     245000000  206647  107.376788   880674609    148.0           6.3   \n",
       "2     250000000   49026  112.312950  1084939099    165.0           7.6   \n",
       "3     258000000     559  115.699814   890871626    139.0           5.9   \n",
       "4     260000000   38757   48.681969   591794936    100.0           7.4   \n",
       "...         ...     ...         ...         ...      ...           ...   \n",
       "1478   32350000    1892   46.509071   572700000    135.0           7.9   \n",
       "1798   30000000     615   38.171417   611899420    127.0           6.9   \n",
       "1978   18000000    1891   78.517830   538400000    124.0           8.2   \n",
       "2900   11000000      11  126.393695   775398007    121.0           8.1   \n",
       "2955   10500000     601   56.105798   792910554    115.0           7.3   \n",
       "\n",
       "      vote_count  movie_id  profitable  Thriller  ...  Fantasy  Animation  \\\n",
       "0           4500       285           1         0  ...        1          0   \n",
       "1           4466    206647           1         0  ...        0          0   \n",
       "2           9106     49026           1         1  ...        0          0   \n",
       "3           3576       559           1         0  ...        1          0   \n",
       "4           3330     38757           1         0  ...        0          1   \n",
       "...          ...       ...         ...       ...  ...      ...        ...   \n",
       "1478        4665      1892           1         0  ...        0          0   \n",
       "1798         864       615           1         0  ...        0          0   \n",
       "1978        5879      1891           1         0  ...        0          0   \n",
       "2900        6624        11           1         0  ...        0          0   \n",
       "2955        3269       601           1         0  ...        1          0   \n",
       "\n",
       "      Music  Crime  Family  Science Fiction  Horror  History  Drama  \\\n",
       "0         0      0       0                0       0        0      0   \n",
       "1         0      1       0                0       0        0      0   \n",
       "2         0      1       0                0       0        0      1   \n",
       "3         0      0       0                0       0        0      0   \n",
       "4         0      0       1                0       0        0      0   \n",
       "...     ...    ...     ...              ...     ...      ...    ...   \n",
       "1478      0      0       0                1       0        0      0   \n",
       "1798      0      0       0                0       0        0      1   \n",
       "1978      0      0       0                1       0        0      0   \n",
       "2900      0      0       0                1       0        0      0   \n",
       "2955      0      0       1                1       0        0      0   \n",
       "\n",
       "      zscore_revenue  \n",
       "0           5.977261  \n",
       "1           5.432771  \n",
       "2           6.817388  \n",
       "3           5.501892  \n",
       "4           3.474586  \n",
       "...              ...  \n",
       "1478        3.345150  \n",
       "1798        3.610865  \n",
       "1978        3.112646  \n",
       "2900        4.719149  \n",
       "2955        4.837858  \n",
       "\n",
       "[128 rows x 30 columns]"
      ]
     },
     "execution_count": 81,
     "metadata": {},
     "output_type": "execute_result"
    }
   ],
   "source": [
    "# Get data points that has z score higher than 3 or lower than -3. Another way of saying same thing is get data points that are more than 3 standard deviation away\n",
    "df[(df.zscore_revenue<-3) | (df.zscore_revenue>3)]"
   ]
  },
  {
   "cell_type": "markdown",
   "id": "794c92ec",
   "metadata": {},
   "source": [
    "The points with Z-score of the revenue less than -3 or greater than 3 are outliers and should be dropped."
   ]
  },
  {
   "cell_type": "code",
   "execution_count": 82,
   "id": "27642405",
   "metadata": {},
   "outputs": [],
   "source": [
    "# Drop Outliers\n",
    "df.drop(df[(df.zscore_revenue<-3) | (df.zscore_revenue>3)].index, inplace = True)\n",
    "df.reset_index(drop=True, inplace=True)"
   ]
  },
  {
   "cell_type": "code",
   "execution_count": 83,
   "id": "3c0f242b",
   "metadata": {},
   "outputs": [
    {
     "data": {
      "text/plain": [
       "(4663, 30)"
      ]
     },
     "execution_count": 83,
     "metadata": {},
     "output_type": "execute_result"
    }
   ],
   "source": [
    "df.shape"
   ]
  },
  {
   "cell_type": "markdown",
   "id": "e65d8164",
   "metadata": {},
   "source": [
    "Split the dataset in X and y dataset\n",
    "\n",
    "Split the data in train and test set"
   ]
  },
  {
   "cell_type": "code",
   "execution_count": 84,
   "id": "9eb3820a",
   "metadata": {},
   "outputs": [],
   "source": [
    "# Split the dataset in X and y\n",
    "X = df.drop(columns=['revenue'])\n",
    "y = df[['revenue']]"
   ]
  },
  {
   "cell_type": "code",
   "execution_count": 85,
   "id": "ca2e839f",
   "metadata": {},
   "outputs": [
    {
     "data": {
      "text/html": [
       "<div>\n",
       "<style scoped>\n",
       "    .dataframe tbody tr th:only-of-type {\n",
       "        vertical-align: middle;\n",
       "    }\n",
       "\n",
       "    .dataframe tbody tr th {\n",
       "        vertical-align: top;\n",
       "    }\n",
       "\n",
       "    .dataframe thead th {\n",
       "        text-align: right;\n",
       "    }\n",
       "</style>\n",
       "<table border=\"1\" class=\"dataframe\">\n",
       "  <thead>\n",
       "    <tr style=\"text-align: right;\">\n",
       "      <th></th>\n",
       "      <th>budget</th>\n",
       "      <th>id</th>\n",
       "      <th>popularity</th>\n",
       "      <th>runtime</th>\n",
       "      <th>vote_average</th>\n",
       "      <th>vote_count</th>\n",
       "      <th>movie_id</th>\n",
       "      <th>profitable</th>\n",
       "      <th>Thriller</th>\n",
       "      <th>Action</th>\n",
       "      <th>...</th>\n",
       "      <th>Fantasy</th>\n",
       "      <th>Animation</th>\n",
       "      <th>Music</th>\n",
       "      <th>Crime</th>\n",
       "      <th>Family</th>\n",
       "      <th>Science Fiction</th>\n",
       "      <th>Horror</th>\n",
       "      <th>History</th>\n",
       "      <th>Drama</th>\n",
       "      <th>zscore_revenue</th>\n",
       "    </tr>\n",
       "  </thead>\n",
       "  <tbody>\n",
       "    <tr>\n",
       "      <th>1813</th>\n",
       "      <td>0</td>\n",
       "      <td>25353</td>\n",
       "      <td>1.684948</td>\n",
       "      <td>82.0</td>\n",
       "      <td>3.8</td>\n",
       "      <td>7</td>\n",
       "      <td>25353</td>\n",
       "      <td>1</td>\n",
       "      <td>0</td>\n",
       "      <td>0</td>\n",
       "      <td>...</td>\n",
       "      <td>0</td>\n",
       "      <td>1</td>\n",
       "      <td>0</td>\n",
       "      <td>0</td>\n",
       "      <td>1</td>\n",
       "      <td>0</td>\n",
       "      <td>0</td>\n",
       "      <td>0</td>\n",
       "      <td>0</td>\n",
       "      <td>-0.536925</td>\n",
       "    </tr>\n",
       "    <tr>\n",
       "      <th>1410</th>\n",
       "      <td>30000000</td>\n",
       "      <td>1669</td>\n",
       "      <td>46.212155</td>\n",
       "      <td>134.0</td>\n",
       "      <td>7.2</td>\n",
       "      <td>957</td>\n",
       "      <td>1669</td>\n",
       "      <td>1</td>\n",
       "      <td>1</td>\n",
       "      <td>1</td>\n",
       "      <td>...</td>\n",
       "      <td>0</td>\n",
       "      <td>0</td>\n",
       "      <td>0</td>\n",
       "      <td>0</td>\n",
       "      <td>0</td>\n",
       "      <td>0</td>\n",
       "      <td>0</td>\n",
       "      <td>0</td>\n",
       "      <td>0</td>\n",
       "      <td>0.813362</td>\n",
       "    </tr>\n",
       "    <tr>\n",
       "      <th>1913</th>\n",
       "      <td>0</td>\n",
       "      <td>7548</td>\n",
       "      <td>7.588597</td>\n",
       "      <td>114.0</td>\n",
       "      <td>5.9</td>\n",
       "      <td>128</td>\n",
       "      <td>7548</td>\n",
       "      <td>1</td>\n",
       "      <td>0</td>\n",
       "      <td>0</td>\n",
       "      <td>...</td>\n",
       "      <td>0</td>\n",
       "      <td>0</td>\n",
       "      <td>0</td>\n",
       "      <td>0</td>\n",
       "      <td>0</td>\n",
       "      <td>0</td>\n",
       "      <td>0</td>\n",
       "      <td>0</td>\n",
       "      <td>1</td>\n",
       "      <td>-0.536925</td>\n",
       "    </tr>\n",
       "    <tr>\n",
       "      <th>3615</th>\n",
       "      <td>7000000</td>\n",
       "      <td>13408</td>\n",
       "      <td>2.453459</td>\n",
       "      <td>93.0</td>\n",
       "      <td>5.3</td>\n",
       "      <td>26</td>\n",
       "      <td>13408</td>\n",
       "      <td>1</td>\n",
       "      <td>0</td>\n",
       "      <td>1</td>\n",
       "      <td>...</td>\n",
       "      <td>0</td>\n",
       "      <td>0</td>\n",
       "      <td>0</td>\n",
       "      <td>0</td>\n",
       "      <td>0</td>\n",
       "      <td>0</td>\n",
       "      <td>0</td>\n",
       "      <td>0</td>\n",
       "      <td>0</td>\n",
       "      <td>-0.467585</td>\n",
       "    </tr>\n",
       "    <tr>\n",
       "      <th>1889</th>\n",
       "      <td>22000000</td>\n",
       "      <td>10950</td>\n",
       "      <td>26.071644</td>\n",
       "      <td>132.0</td>\n",
       "      <td>7.2</td>\n",
       "      <td>530</td>\n",
       "      <td>10950</td>\n",
       "      <td>1</td>\n",
       "      <td>0</td>\n",
       "      <td>0</td>\n",
       "      <td>...</td>\n",
       "      <td>0</td>\n",
       "      <td>0</td>\n",
       "      <td>0</td>\n",
       "      <td>0</td>\n",
       "      <td>0</td>\n",
       "      <td>0</td>\n",
       "      <td>0</td>\n",
       "      <td>0</td>\n",
       "      <td>1</td>\n",
       "      <td>0.090378</td>\n",
       "    </tr>\n",
       "  </tbody>\n",
       "</table>\n",
       "<p>5 rows × 29 columns</p>\n",
       "</div>"
      ],
      "text/plain": [
       "        budget     id  popularity  runtime  vote_average  vote_count  \\\n",
       "1813         0  25353    1.684948     82.0           3.8           7   \n",
       "1410  30000000   1669   46.212155    134.0           7.2         957   \n",
       "1913         0   7548    7.588597    114.0           5.9         128   \n",
       "3615   7000000  13408    2.453459     93.0           5.3          26   \n",
       "1889  22000000  10950   26.071644    132.0           7.2         530   \n",
       "\n",
       "      movie_id  profitable  Thriller  Action  ...  Fantasy  Animation  Music  \\\n",
       "1813     25353           1         0       0  ...        0          1      0   \n",
       "1410      1669           1         1       1  ...        0          0      0   \n",
       "1913      7548           1         0       0  ...        0          0      0   \n",
       "3615     13408           1         0       1  ...        0          0      0   \n",
       "1889     10950           1         0       0  ...        0          0      0   \n",
       "\n",
       "      Crime  Family  Science Fiction  Horror  History  Drama  zscore_revenue  \n",
       "1813      0       1                0       0        0      0       -0.536925  \n",
       "1410      0       0                0       0        0      0        0.813362  \n",
       "1913      0       0                0       0        0      1       -0.536925  \n",
       "3615      0       0                0       0        0      0       -0.467585  \n",
       "1889      0       0                0       0        0      1        0.090378  \n",
       "\n",
       "[5 rows x 29 columns]"
      ]
     },
     "execution_count": 85,
     "metadata": {},
     "output_type": "execute_result"
    }
   ],
   "source": [
    "# Train test split\n",
    "X_train, X_test, y_train, y_test = train_test_split(X, y, test_size=0.3, random_state=1234)\n",
    "\n",
    "X_train.head()"
   ]
  },
  {
   "cell_type": "markdown",
   "id": "81f61f4c",
   "metadata": {},
   "source": [
    "Building Linear Regression"
   ]
  },
  {
   "cell_type": "code",
   "execution_count": 86,
   "id": "76b2090c",
   "metadata": {},
   "outputs": [],
   "source": [
    "from sklearn.linear_model import LinearRegression\n",
    "import statsmodels.api as sm\n",
    "import statsmodels.formula.api as smf  # formula api"
   ]
  },
  {
   "cell_type": "code",
   "execution_count": 87,
   "id": "3bab0ff8",
   "metadata": {},
   "outputs": [
    {
     "name": "stdout",
     "output_type": "stream",
     "text": [
      "Coefs:  [1.93693911]\n",
      "Intercept:  11647173.13590566\n"
     ]
    }
   ],
   "source": [
    "Lmod = LinearRegression()\n",
    "Lmod.fit(X=df.loc[:, ['budget']], y=df['revenue'])\n",
    "print(\"Coefs: \", Lmod.coef_)\n",
    "print(\"Intercept: \", Lmod.intercept_)"
   ]
  },
  {
   "cell_type": "markdown",
   "id": "d769d9b7",
   "metadata": {},
   "source": [
    "The first Linear Regression model is using 'budget' as an independent variable to predict 'revenue'."
   ]
  },
  {
   "cell_type": "code",
   "execution_count": 88,
   "id": "0bf3051f",
   "metadata": {},
   "outputs": [
    {
     "name": "stdout",
     "output_type": "stream",
     "text": [
      "                            OLS Regression Results                            \n",
      "==============================================================================\n",
      "Dep. Variable:                revenue   R-squared:                       0.466\n",
      "Model:                            OLS   Adj. R-squared:                  0.466\n",
      "Method:                 Least Squares   F-statistic:                     4066.\n",
      "Date:                Tue, 27 Sep 2022   Prob (F-statistic):               0.00\n",
      "Time:                        12:46:42   Log-Likelihood:                -90837.\n",
      "No. Observations:                4663   AIC:                         1.817e+05\n",
      "Df Residuals:                    4661   BIC:                         1.817e+05\n",
      "Df Model:                           1                                         \n",
      "Covariance Type:            nonrobust                                         \n",
      "==============================================================================\n",
      "                 coef    std err          t      P>|t|      [0.025      0.975]\n",
      "------------------------------------------------------------------------------\n",
      "Intercept   1.165e+07   1.28e+06      9.086      0.000    9.13e+06    1.42e+07\n",
      "budget         1.9369      0.030     63.768      0.000       1.877       1.996\n",
      "==============================================================================\n",
      "Omnibus:                     1974.954   Durbin-Watson:                   1.296\n",
      "Prob(Omnibus):                  0.000   Jarque-Bera (JB):            13403.698\n",
      "Skew:                           1.886   Prob(JB):                         0.00\n",
      "Kurtosis:                      10.400   Cond. No.                     5.29e+07\n",
      "==============================================================================\n",
      "\n",
      "Notes:\n",
      "[1] Standard Errors assume that the covariance matrix of the errors is correctly specified.\n",
      "[2] The condition number is large, 5.29e+07. This might indicate that there are\n",
      "strong multicollinearity or other numerical problems.\n"
     ]
    }
   ],
   "source": [
    "mod = smf.ols(formula='revenue ~ budget', data=df)\n",
    "res = mod.fit()\n",
    "print(res.summary())"
   ]
  },
  {
   "cell_type": "markdown",
   "id": "1abbb37b",
   "metadata": {},
   "source": [
    "Now we are going to try a Linear Regression model with 'budget', 'vote_count' and 'vote_average' as covariates."
   ]
  },
  {
   "cell_type": "code",
   "execution_count": 89,
   "id": "198435c9",
   "metadata": {},
   "outputs": [
    {
     "data": {
      "text/html": [
       "<div>\n",
       "<style scoped>\n",
       "    .dataframe tbody tr th:only-of-type {\n",
       "        vertical-align: middle;\n",
       "    }\n",
       "\n",
       "    .dataframe tbody tr th {\n",
       "        vertical-align: top;\n",
       "    }\n",
       "\n",
       "    .dataframe thead th {\n",
       "        text-align: right;\n",
       "    }\n",
       "</style>\n",
       "<table border=\"1\" class=\"dataframe\">\n",
       "  <thead>\n",
       "    <tr style=\"text-align: right;\">\n",
       "      <th></th>\n",
       "      <th>const</th>\n",
       "      <th>budget</th>\n",
       "      <th>vote_count</th>\n",
       "      <th>vote_average</th>\n",
       "    </tr>\n",
       "  </thead>\n",
       "  <tbody>\n",
       "    <tr>\n",
       "      <th>0</th>\n",
       "      <td>1.0</td>\n",
       "      <td>270000000</td>\n",
       "      <td>1400</td>\n",
       "      <td>5.4</td>\n",
       "    </tr>\n",
       "    <tr>\n",
       "      <th>1</th>\n",
       "      <td>1.0</td>\n",
       "      <td>225000000</td>\n",
       "      <td>1630</td>\n",
       "      <td>6.3</td>\n",
       "    </tr>\n",
       "    <tr>\n",
       "      <th>2</th>\n",
       "      <td>1.0</td>\n",
       "      <td>200000000</td>\n",
       "      <td>1398</td>\n",
       "      <td>6.2</td>\n",
       "    </tr>\n",
       "    <tr>\n",
       "      <th>3</th>\n",
       "      <td>1.0</td>\n",
       "      <td>180000000</td>\n",
       "      <td>1303</td>\n",
       "      <td>5.8</td>\n",
       "    </tr>\n",
       "    <tr>\n",
       "      <th>4</th>\n",
       "      <td>1.0</td>\n",
       "      <td>209000000</td>\n",
       "      <td>2114</td>\n",
       "      <td>5.5</td>\n",
       "    </tr>\n",
       "  </tbody>\n",
       "</table>\n",
       "</div>"
      ],
      "text/plain": [
       "   const     budget  vote_count  vote_average\n",
       "0    1.0  270000000        1400           5.4\n",
       "1    1.0  225000000        1630           6.3\n",
       "2    1.0  200000000        1398           6.2\n",
       "3    1.0  180000000        1303           5.8\n",
       "4    1.0  209000000        2114           5.5"
      ]
     },
     "execution_count": 89,
     "metadata": {},
     "output_type": "execute_result"
    }
   ],
   "source": [
    "# Add a constant\n",
    "X_data = sm.add_constant(df[['budget', 'vote_count', 'vote_average']])\n",
    "Y_data = df['revenue']\n",
    "X_data.head()"
   ]
  },
  {
   "cell_type": "code",
   "execution_count": 90,
   "id": "a5392e5b",
   "metadata": {},
   "outputs": [
    {
     "name": "stdout",
     "output_type": "stream",
     "text": [
      "                            OLS Regression Results                            \n",
      "==============================================================================\n",
      "Dep. Variable:                revenue   R-squared:                       0.633\n",
      "Model:                            OLS   Adj. R-squared:                  0.633\n",
      "Method:                 Least Squares   F-statistic:                     2680.\n",
      "Date:                Tue, 27 Sep 2022   Prob (F-statistic):               0.00\n",
      "Time:                        12:46:57   Log-Likelihood:                -89961.\n",
      "No. Observations:                4663   AIC:                         1.799e+05\n",
      "Df Residuals:                    4659   BIC:                         1.800e+05\n",
      "Df Model:                           3                                         \n",
      "Covariance Type:            nonrobust                                         \n",
      "================================================================================\n",
      "                   coef    std err          t      P>|t|      [0.025      0.975]\n",
      "--------------------------------------------------------------------------------\n",
      "const        -8.777e+06   4.56e+06     -1.924      0.054   -1.77e+07    1.67e+05\n",
      "budget           1.3303      0.029     46.378      0.000       1.274       1.387\n",
      "vote_count    4.756e+04   1110.388     42.835      0.000    4.54e+04    4.97e+04\n",
      "vote_average  1.493e+06    7.5e+05      1.992      0.046    2.33e+04    2.96e+06\n",
      "==============================================================================\n",
      "Omnibus:                     1657.157   Durbin-Watson:                   1.484\n",
      "Prob(Omnibus):                  0.000   Jarque-Bera (JB):            15565.354\n",
      "Skew:                           1.424   Prob(JB):                         0.00\n",
      "Kurtosis:                      11.485   Cond. No.                     2.30e+08\n",
      "==============================================================================\n",
      "\n",
      "Notes:\n",
      "[1] Standard Errors assume that the covariance matrix of the errors is correctly specified.\n",
      "[2] The condition number is large, 2.3e+08. This might indicate that there are\n",
      "strong multicollinearity or other numerical problems.\n"
     ]
    }
   ],
   "source": [
    "# Create a first ols model\n",
    "mod_s = sm.OLS(Y_data, X_data).fit()\n",
    "print(mod_s.summary())"
   ]
  },
  {
   "cell_type": "markdown",
   "id": "bcf8e847",
   "metadata": {},
   "source": [
    "Extract Parameters"
   ]
  },
  {
   "cell_type": "code",
   "execution_count": 91,
   "id": "ea89d19c",
   "metadata": {},
   "outputs": [
    {
     "data": {
      "text/plain": [
       "const          -8.777125e+06\n",
       "budget          1.330301e+00\n",
       "vote_count      4.756329e+04\n",
       "vote_average    1.493160e+06\n",
       "dtype: float64"
      ]
     },
     "execution_count": 91,
     "metadata": {},
     "output_type": "execute_result"
    }
   ],
   "source": [
    "mod_s.params"
   ]
  },
  {
   "cell_type": "code",
   "execution_count": 92,
   "id": "1c23bf16",
   "metadata": {},
   "outputs": [
    {
     "data": {
      "text/plain": [
       "0       4.250558e+08\n",
       "1       3.774756e+08\n",
       "2       3.330341e+08\n",
       "3       3.013123e+08\n",
       "4       3.780169e+08\n",
       "            ...     \n",
       "4658    1.269046e+07\n",
       "4659    2.823099e+05\n",
       "4660    1.960377e+06\n",
       "4661    6.683169e+04\n",
       "4662    1.390797e+06\n",
       "Length: 4663, dtype: float64"
      ]
     },
     "execution_count": 92,
     "metadata": {},
     "output_type": "execute_result"
    }
   ],
   "source": [
    "mod_s.fittedvalues"
   ]
  },
  {
   "cell_type": "code",
   "execution_count": 93,
   "id": "d03c92a9",
   "metadata": {},
   "outputs": [
    {
     "data": {
      "text/plain": [
       "0.6331566709916323"
      ]
     },
     "execution_count": 93,
     "metadata": {},
     "output_type": "execute_result"
    }
   ],
   "source": [
    "mod_s.rsquared"
   ]
  },
  {
   "cell_type": "code",
   "execution_count": 94,
   "id": "1f2bc0e3",
   "metadata": {},
   "outputs": [
    {
     "data": {
      "text/plain": [
       "0.6329204550682528"
      ]
     },
     "execution_count": 94,
     "metadata": {},
     "output_type": "execute_result"
    }
   ],
   "source": [
    "mod_s.rsquared_adj"
   ]
  },
  {
   "cell_type": "markdown",
   "id": "61df3402",
   "metadata": {},
   "source": [
    "Cooks Distance for Influential Data Points\n",
    "\n",
    "Cook’s Distance does one thing: it measures how much all of the fitted values in the model change when the i-th data point is deleted.\n",
    "\n",
    "If i-th data point is influential, it is most likely an outlier and should be dropped from the data set."
   ]
  },
  {
   "cell_type": "code",
   "execution_count": 95,
   "id": "39132169",
   "metadata": {},
   "outputs": [
    {
     "name": "stdout",
     "output_type": "stream",
     "text": [
      "(array([0.00116921, 0.00114991, 0.00025148, ..., 0.00000016, 0.        ,\n",
      "       0.00000005]), array([0.99999727, 0.99999736, 0.99999987, ..., 1.        , 1.        ,\n",
      "       1.        ]))\n"
     ]
    }
   ],
   "source": [
    "# Cooks Distance\n",
    "np.set_printoptions(suppress=True)\n",
    "\n",
    "# create instance of influence\n",
    "influence = mod_s.get_influence()\n",
    "\n",
    "# obtain Cook's distance for each observation\n",
    "cooks = influence.cooks_distance\n",
    "\n",
    "# display Cook's distances\n",
    "print(cooks)"
   ]
  },
  {
   "cell_type": "code",
   "execution_count": 96,
   "id": "c034b4cc",
   "metadata": {},
   "outputs": [
    {
     "data": {
      "image/png": "[encoded data removed]",
      "text/plain": [
       "<Figure size 864x576 with 1 Axes>"
      ]
     },
     "metadata": {
      "needs_background": "light"
     },
     "output_type": "display_data"
    }
   ],
   "source": [
    "# Draw plot\n",
    "plt.figure(figsize = (12, 8))\n",
    "plt.scatter(X_data.index, cooks[0])\n",
    "plt.xlabel('Row Number', fontsize = 12)\n",
    "plt.ylabel('Cooks Distance', fontsize = 12)\n",
    "plt.title('Influential Points', fontsize = 22)\n",
    "plt.show()"
   ]
  },
  {
   "cell_type": "code",
   "execution_count": 97,
   "id": "b9a65cf1",
   "metadata": {},
   "outputs": [
    {
     "data": {
      "image/png": "[encoded data removed]",
      "text/plain": [
       "<Figure size 864x576 with 1 Axes>"
      ]
     },
     "metadata": {
      "needs_background": "light"
     },
     "output_type": "display_data"
    }
   ],
   "source": [
    "# Influentials are those that are at least 4 times the mean CD.\n",
    "mean_cooks = np.nanmean(cooks[0])\n",
    "mean_cooks_list =[4*mean_cooks for i in X_data.index]\n",
    "\n",
    "# Draw plot\n",
    "plt.figure(figsize = (12, 8))\n",
    "plt.scatter(X_data.index, cooks[0])\n",
    "plt.plot(X_data.index, mean_cooks_list, color=\"red\")\n",
    "plt.xlabel('Row Number', fontsize = 12)\n",
    "plt.ylabel('Cooks Distance', fontsize = 12)\n",
    "plt.title('Influential Points', fontsize = 22)\n",
    "plt.show()"
   ]
  },
  {
   "cell_type": "code",
   "execution_count": 98,
   "id": "92f6ddff",
   "metadata": {},
   "outputs": [
    {
     "data": {
      "text/html": [
       "<div>\n",
       "<style scoped>\n",
       "    .dataframe tbody tr th:only-of-type {\n",
       "        vertical-align: middle;\n",
       "    }\n",
       "\n",
       "    .dataframe tbody tr th {\n",
       "        vertical-align: top;\n",
       "    }\n",
       "\n",
       "    .dataframe thead th {\n",
       "        text-align: right;\n",
       "    }\n",
       "</style>\n",
       "<table border=\"1\" class=\"dataframe\">\n",
       "  <thead>\n",
       "    <tr style=\"text-align: right;\">\n",
       "      <th></th>\n",
       "      <th>budget</th>\n",
       "      <th>id</th>\n",
       "      <th>popularity</th>\n",
       "      <th>revenue</th>\n",
       "      <th>runtime</th>\n",
       "      <th>vote_average</th>\n",
       "      <th>vote_count</th>\n",
       "      <th>movie_id</th>\n",
       "      <th>profitable</th>\n",
       "      <th>Thriller</th>\n",
       "      <th>...</th>\n",
       "      <th>Fantasy</th>\n",
       "      <th>Animation</th>\n",
       "      <th>Music</th>\n",
       "      <th>Crime</th>\n",
       "      <th>Family</th>\n",
       "      <th>Science Fiction</th>\n",
       "      <th>Horror</th>\n",
       "      <th>History</th>\n",
       "      <th>Drama</th>\n",
       "      <th>zscore_revenue</th>\n",
       "    </tr>\n",
       "  </thead>\n",
       "  <tbody>\n",
       "    <tr>\n",
       "      <th>4</th>\n",
       "      <td>209000000</td>\n",
       "      <td>44833</td>\n",
       "      <td>64.928382</td>\n",
       "      <td>303025485</td>\n",
       "      <td>131.0</td>\n",
       "      <td>5.5</td>\n",
       "      <td>2114</td>\n",
       "      <td>44833</td>\n",
       "      <td>1</td>\n",
       "      <td>1</td>\n",
       "      <td>...</td>\n",
       "      <td>0</td>\n",
       "      <td>0</td>\n",
       "      <td>0</td>\n",
       "      <td>0</td>\n",
       "      <td>0</td>\n",
       "      <td>1</td>\n",
       "      <td>0</td>\n",
       "      <td>0</td>\n",
       "      <td>0</td>\n",
       "      <td>1.517148</td>\n",
       "    </tr>\n",
       "    <tr>\n",
       "      <th>8</th>\n",
       "      <td>200000000</td>\n",
       "      <td>44912</td>\n",
       "      <td>51.872839</td>\n",
       "      <td>219851172</td>\n",
       "      <td>114.0</td>\n",
       "      <td>5.1</td>\n",
       "      <td>2487</td>\n",
       "      <td>44912</td>\n",
       "      <td>1</td>\n",
       "      <td>1</td>\n",
       "      <td>...</td>\n",
       "      <td>0</td>\n",
       "      <td>0</td>\n",
       "      <td>0</td>\n",
       "      <td>0</td>\n",
       "      <td>0</td>\n",
       "      <td>1</td>\n",
       "      <td>0</td>\n",
       "      <td>0</td>\n",
       "      <td>0</td>\n",
       "      <td>0.953347</td>\n",
       "    </tr>\n",
       "    <tr>\n",
       "      <th>11</th>\n",
       "      <td>195000000</td>\n",
       "      <td>81005</td>\n",
       "      <td>43.349855</td>\n",
       "      <td>197687603</td>\n",
       "      <td>114.0</td>\n",
       "      <td>5.5</td>\n",
       "      <td>2598</td>\n",
       "      <td>81005</td>\n",
       "      <td>1</td>\n",
       "      <td>0</td>\n",
       "      <td>...</td>\n",
       "      <td>1</td>\n",
       "      <td>0</td>\n",
       "      <td>0</td>\n",
       "      <td>0</td>\n",
       "      <td>1</td>\n",
       "      <td>0</td>\n",
       "      <td>0</td>\n",
       "      <td>0</td>\n",
       "      <td>0</td>\n",
       "      <td>0.803110</td>\n",
       "    </tr>\n",
       "    <tr>\n",
       "      <th>20</th>\n",
       "      <td>176000003</td>\n",
       "      <td>76757</td>\n",
       "      <td>85.369080</td>\n",
       "      <td>183987723</td>\n",
       "      <td>124.0</td>\n",
       "      <td>5.2</td>\n",
       "      <td>2768</td>\n",
       "      <td>76757</td>\n",
       "      <td>1</td>\n",
       "      <td>0</td>\n",
       "      <td>...</td>\n",
       "      <td>1</td>\n",
       "      <td>0</td>\n",
       "      <td>0</td>\n",
       "      <td>0</td>\n",
       "      <td>0</td>\n",
       "      <td>1</td>\n",
       "      <td>0</td>\n",
       "      <td>0</td>\n",
       "      <td>0</td>\n",
       "      <td>0.710245</td>\n",
       "    </tr>\n",
       "    <tr>\n",
       "      <th>22</th>\n",
       "      <td>175000000</td>\n",
       "      <td>15512</td>\n",
       "      <td>36.167578</td>\n",
       "      <td>381509870</td>\n",
       "      <td>94.0</td>\n",
       "      <td>6.0</td>\n",
       "      <td>1423</td>\n",
       "      <td>15512</td>\n",
       "      <td>1</td>\n",
       "      <td>0</td>\n",
       "      <td>...</td>\n",
       "      <td>0</td>\n",
       "      <td>1</td>\n",
       "      <td>0</td>\n",
       "      <td>0</td>\n",
       "      <td>1</td>\n",
       "      <td>1</td>\n",
       "      <td>0</td>\n",
       "      <td>0</td>\n",
       "      <td>0</td>\n",
       "      <td>2.049158</td>\n",
       "    </tr>\n",
       "    <tr>\n",
       "      <th>...</th>\n",
       "      <td>...</td>\n",
       "      <td>...</td>\n",
       "      <td>...</td>\n",
       "      <td>...</td>\n",
       "      <td>...</td>\n",
       "      <td>...</td>\n",
       "      <td>...</td>\n",
       "      <td>...</td>\n",
       "      <td>...</td>\n",
       "      <td>...</td>\n",
       "      <td>...</td>\n",
       "      <td>...</td>\n",
       "      <td>...</td>\n",
       "      <td>...</td>\n",
       "      <td>...</td>\n",
       "      <td>...</td>\n",
       "      <td>...</td>\n",
       "      <td>...</td>\n",
       "      <td>...</td>\n",
       "      <td>...</td>\n",
       "      <td>...</td>\n",
       "    </tr>\n",
       "    <tr>\n",
       "      <th>3673</th>\n",
       "      <td>4000000</td>\n",
       "      <td>770</td>\n",
       "      <td>48.982550</td>\n",
       "      <td>400176459</td>\n",
       "      <td>238.0</td>\n",
       "      <td>7.7</td>\n",
       "      <td>970</td>\n",
       "      <td>770</td>\n",
       "      <td>1</td>\n",
       "      <td>0</td>\n",
       "      <td>...</td>\n",
       "      <td>0</td>\n",
       "      <td>0</td>\n",
       "      <td>0</td>\n",
       "      <td>0</td>\n",
       "      <td>0</td>\n",
       "      <td>0</td>\n",
       "      <td>0</td>\n",
       "      <td>0</td>\n",
       "      <td>1</td>\n",
       "      <td>2.175691</td>\n",
       "    </tr>\n",
       "    <tr>\n",
       "      <th>3725</th>\n",
       "      <td>3300000</td>\n",
       "      <td>244786</td>\n",
       "      <td>192.528841</td>\n",
       "      <td>13092000</td>\n",
       "      <td>105.0</td>\n",
       "      <td>8.3</td>\n",
       "      <td>4254</td>\n",
       "      <td>244786</td>\n",
       "      <td>1</td>\n",
       "      <td>0</td>\n",
       "      <td>...</td>\n",
       "      <td>0</td>\n",
       "      <td>0</td>\n",
       "      <td>0</td>\n",
       "      <td>0</td>\n",
       "      <td>0</td>\n",
       "      <td>0</td>\n",
       "      <td>0</td>\n",
       "      <td>0</td>\n",
       "      <td>1</td>\n",
       "      <td>-0.448180</td>\n",
       "    </tr>\n",
       "    <tr>\n",
       "      <th>3747</th>\n",
       "      <td>4000000</td>\n",
       "      <td>627</td>\n",
       "      <td>63.513324</td>\n",
       "      <td>16491080</td>\n",
       "      <td>93.0</td>\n",
       "      <td>7.8</td>\n",
       "      <td>2655</td>\n",
       "      <td>627</td>\n",
       "      <td>1</td>\n",
       "      <td>0</td>\n",
       "      <td>...</td>\n",
       "      <td>0</td>\n",
       "      <td>0</td>\n",
       "      <td>0</td>\n",
       "      <td>1</td>\n",
       "      <td>0</td>\n",
       "      <td>0</td>\n",
       "      <td>0</td>\n",
       "      <td>0</td>\n",
       "      <td>1</td>\n",
       "      <td>-0.425139</td>\n",
       "    </tr>\n",
       "    <tr>\n",
       "      <th>4160</th>\n",
       "      <td>1200000</td>\n",
       "      <td>500</td>\n",
       "      <td>66.925866</td>\n",
       "      <td>14661007</td>\n",
       "      <td>99.0</td>\n",
       "      <td>8.0</td>\n",
       "      <td>3697</td>\n",
       "      <td>500</td>\n",
       "      <td>1</td>\n",
       "      <td>1</td>\n",
       "      <td>...</td>\n",
       "      <td>0</td>\n",
       "      <td>0</td>\n",
       "      <td>0</td>\n",
       "      <td>1</td>\n",
       "      <td>0</td>\n",
       "      <td>0</td>\n",
       "      <td>0</td>\n",
       "      <td>0</td>\n",
       "      <td>0</td>\n",
       "      <td>-0.437545</td>\n",
       "    </tr>\n",
       "    <tr>\n",
       "      <th>4301</th>\n",
       "      <td>858000</td>\n",
       "      <td>3170</td>\n",
       "      <td>47.651878</td>\n",
       "      <td>267447150</td>\n",
       "      <td>70.0</td>\n",
       "      <td>6.8</td>\n",
       "      <td>1405</td>\n",
       "      <td>3170</td>\n",
       "      <td>1</td>\n",
       "      <td>0</td>\n",
       "      <td>...</td>\n",
       "      <td>0</td>\n",
       "      <td>1</td>\n",
       "      <td>0</td>\n",
       "      <td>0</td>\n",
       "      <td>1</td>\n",
       "      <td>0</td>\n",
       "      <td>0</td>\n",
       "      <td>0</td>\n",
       "      <td>1</td>\n",
       "      <td>1.275979</td>\n",
       "    </tr>\n",
       "  </tbody>\n",
       "</table>\n",
       "<p>184 rows × 30 columns</p>\n",
       "</div>"
      ],
      "text/plain": [
       "         budget      id  popularity    revenue  runtime  vote_average  \\\n",
       "4     209000000   44833   64.928382  303025485    131.0           5.5   \n",
       "8     200000000   44912   51.872839  219851172    114.0           5.1   \n",
       "11    195000000   81005   43.349855  197687603    114.0           5.5   \n",
       "20    176000003   76757   85.369080  183987723    124.0           5.2   \n",
       "22    175000000   15512   36.167578  381509870     94.0           6.0   \n",
       "...         ...     ...         ...        ...      ...           ...   \n",
       "3673    4000000     770   48.982550  400176459    238.0           7.7   \n",
       "3725    3300000  244786  192.528841   13092000    105.0           8.3   \n",
       "3747    4000000     627   63.513324   16491080     93.0           7.8   \n",
       "4160    1200000     500   66.925866   14661007     99.0           8.0   \n",
       "4301     858000    3170   47.651878  267447150     70.0           6.8   \n",
       "\n",
       "      vote_count  movie_id  profitable  Thriller  ...  Fantasy  Animation  \\\n",
       "4           2114     44833           1         1  ...        0          0   \n",
       "8           2487     44912           1         1  ...        0          0   \n",
       "11          2598     81005           1         0  ...        1          0   \n",
       "20          2768     76757           1         0  ...        1          0   \n",
       "22          1423     15512           1         0  ...        0          1   \n",
       "...          ...       ...         ...       ...  ...      ...        ...   \n",
       "3673         970       770           1         0  ...        0          0   \n",
       "3725        4254    244786           1         0  ...        0          0   \n",
       "3747        2655       627           1         0  ...        0          0   \n",
       "4160        3697       500           1         1  ...        0          0   \n",
       "4301        1405      3170           1         0  ...        0          1   \n",
       "\n",
       "      Music  Crime  Family  Science Fiction  Horror  History  Drama  \\\n",
       "4         0      0       0                1       0        0      0   \n",
       "8         0      0       0                1       0        0      0   \n",
       "11        0      0       1                0       0        0      0   \n",
       "20        0      0       0                1       0        0      0   \n",
       "22        0      0       1                1       0        0      0   \n",
       "...     ...    ...     ...              ...     ...      ...    ...   \n",
       "3673      0      0       0                0       0        0      1   \n",
       "3725      0      0       0                0       0        0      1   \n",
       "3747      0      1       0                0       0        0      1   \n",
       "4160      0      1       0                0       0        0      0   \n",
       "4301      0      0       1                0       0        0      1   \n",
       "\n",
       "      zscore_revenue  \n",
       "4           1.517148  \n",
       "8           0.953347  \n",
       "11          0.803110  \n",
       "20          0.710245  \n",
       "22          2.049158  \n",
       "...              ...  \n",
       "3673        2.175691  \n",
       "3725       -0.448180  \n",
       "3747       -0.425139  \n",
       "4160       -0.437545  \n",
       "4301        1.275979  \n",
       "\n",
       "[184 rows x 30 columns]"
      ]
     },
     "execution_count": 98,
     "metadata": {},
     "output_type": "execute_result"
    }
   ],
   "source": [
    "# Influential points\n",
    "influential_points = X_data.index[cooks[0] > 4*mean_cooks]\n",
    "influential_points\n",
    "\n",
    "df.iloc[influential_points, :]"
   ]
  },
  {
   "cell_type": "markdown",
   "id": "aec3afec",
   "metadata": {},
   "source": [
    "Remove extreme influential points and rebuild"
   ]
  },
  {
   "cell_type": "code",
   "execution_count": 99,
   "id": "1c136c6c",
   "metadata": {},
   "outputs": [
    {
     "name": "stdout",
     "output_type": "stream",
     "text": [
      "Removing these many top influential observations:  184\n"
     ]
    }
   ],
   "source": [
    "# Remove Influencial points: Likely to be outiers, harder to predict accurately.\n",
    "influential_points = X_data.index[cooks[0] > 4*mean_cooks]\n",
    "infuential_mask = df['id'].isin(df.iloc[influential_points, :]['id'].values)\n",
    "print(\"Removing these many top influential observations: \", infuential_mask.sum())\n",
    "df_ = df.loc[infuential_mask, :]"
   ]
  },
  {
   "cell_type": "markdown",
   "id": "c0803704",
   "metadata": {},
   "source": [
    "Build the model again.\n",
    "\n",
    "X are the columns 'budget', 'vote_count', 'vote_average', y is the 'revenue' column."
   ]
  },
  {
   "cell_type": "code",
   "execution_count": 107,
   "id": "dc6f9001",
   "metadata": {},
   "outputs": [],
   "source": [
    "# Split the dataset in X and y\n",
    "X_ = df.drop(columns=['revenue'])\n",
    "y = df[['revenue']]\n",
    "\n",
    "X = sm.add_constant(X_[['budget', 'vote_count', 'vote_average']])\n",
    "y = df['revenue']"
   ]
  },
  {
   "cell_type": "code",
   "execution_count": 108,
   "id": "6df928fb",
   "metadata": {},
   "outputs": [
    {
     "data": {
      "text/html": [
       "<div>\n",
       "<style scoped>\n",
       "    .dataframe tbody tr th:only-of-type {\n",
       "        vertical-align: middle;\n",
       "    }\n",
       "\n",
       "    .dataframe tbody tr th {\n",
       "        vertical-align: top;\n",
       "    }\n",
       "\n",
       "    .dataframe thead th {\n",
       "        text-align: right;\n",
       "    }\n",
       "</style>\n",
       "<table border=\"1\" class=\"dataframe\">\n",
       "  <thead>\n",
       "    <tr style=\"text-align: right;\">\n",
       "      <th></th>\n",
       "      <th>const</th>\n",
       "      <th>budget</th>\n",
       "      <th>vote_count</th>\n",
       "      <th>vote_average</th>\n",
       "    </tr>\n",
       "  </thead>\n",
       "  <tbody>\n",
       "    <tr>\n",
       "      <th>1813</th>\n",
       "      <td>1.0</td>\n",
       "      <td>0</td>\n",
       "      <td>7</td>\n",
       "      <td>3.8</td>\n",
       "    </tr>\n",
       "    <tr>\n",
       "      <th>1410</th>\n",
       "      <td>1.0</td>\n",
       "      <td>30000000</td>\n",
       "      <td>957</td>\n",
       "      <td>7.2</td>\n",
       "    </tr>\n",
       "    <tr>\n",
       "      <th>1913</th>\n",
       "      <td>1.0</td>\n",
       "      <td>0</td>\n",
       "      <td>128</td>\n",
       "      <td>5.9</td>\n",
       "    </tr>\n",
       "    <tr>\n",
       "      <th>3615</th>\n",
       "      <td>1.0</td>\n",
       "      <td>7000000</td>\n",
       "      <td>26</td>\n",
       "      <td>5.3</td>\n",
       "    </tr>\n",
       "    <tr>\n",
       "      <th>1889</th>\n",
       "      <td>1.0</td>\n",
       "      <td>22000000</td>\n",
       "      <td>530</td>\n",
       "      <td>7.2</td>\n",
       "    </tr>\n",
       "  </tbody>\n",
       "</table>\n",
       "</div>"
      ],
      "text/plain": [
       "      const    budget  vote_count  vote_average\n",
       "1813    1.0         0           7           3.8\n",
       "1410    1.0  30000000         957           7.2\n",
       "1913    1.0         0         128           5.9\n",
       "3615    1.0   7000000          26           5.3\n",
       "1889    1.0  22000000         530           7.2"
      ]
     },
     "execution_count": 108,
     "metadata": {},
     "output_type": "execute_result"
    }
   ],
   "source": [
    "# Train test split\n",
    "X_train, X_test, y_train, y_test = train_test_split(X, y, test_size=0.3, random_state=1234)\n",
    "X_train.head()"
   ]
  },
  {
   "cell_type": "code",
   "execution_count": 109,
   "id": "c7e0d4e0",
   "metadata": {},
   "outputs": [
    {
     "name": "stdout",
     "output_type": "stream",
     "text": [
      "                            OLS Regression Results                            \n",
      "==============================================================================\n",
      "Dep. Variable:                revenue   R-squared:                       0.654\n",
      "Model:                            OLS   Adj. R-squared:                  0.654\n",
      "Method:                 Least Squares   F-statistic:                     2058.\n",
      "Date:                Tue, 27 Sep 2022   Prob (F-statistic):               0.00\n",
      "Time:                        12:55:44   Log-Likelihood:                -62873.\n",
      "No. Observations:                3264   AIC:                         1.258e+05\n",
      "Df Residuals:                    3260   BIC:                         1.258e+05\n",
      "Df Model:                           3                                         \n",
      "Covariance Type:            nonrobust                                         \n",
      "================================================================================\n",
      "                   coef    std err          t      P>|t|      [0.025      0.975]\n",
      "--------------------------------------------------------------------------------\n",
      "const        -1.276e+07   5.32e+06     -2.400      0.016   -2.32e+07   -2.34e+06\n",
      "budget           1.3656      0.034     40.755      0.000       1.300       1.431\n",
      "vote_count    4.709e+04   1278.788     36.822      0.000    4.46e+04    4.96e+04\n",
      "vote_average  1.993e+06   8.75e+05      2.277      0.023    2.77e+05    3.71e+06\n",
      "==============================================================================\n",
      "Omnibus:                     1056.002   Durbin-Watson:                   1.998\n",
      "Prob(Omnibus):                  0.000   Jarque-Bera (JB):            10950.772\n",
      "Skew:                           1.231   Prob(JB):                         0.00\n",
      "Kurtosis:                      11.629   Cond. No.                     2.30e+08\n",
      "==============================================================================\n",
      "\n",
      "Notes:\n",
      "[1] Standard Errors assume that the covariance matrix of the errors is correctly specified.\n",
      "[2] The condition number is large, 2.3e+08. This might indicate that there are\n",
      "strong multicollinearity or other numerical problems.\n"
     ]
    }
   ],
   "source": [
    "# Create ols model on train data\n",
    "mod_t = sm.OLS(y_train, X_train).fit()\n",
    "print(mod_t.summary())"
   ]
  },
  {
   "cell_type": "markdown",
   "id": "f572dc46",
   "metadata": {},
   "source": [
    "Evaluation Metrics"
   ]
  },
  {
   "cell_type": "code",
   "execution_count": 110,
   "id": "9e626ba1",
   "metadata": {},
   "outputs": [],
   "source": [
    "# predict on test data\n",
    "y_pred = mod_t.predict(X_test)\n",
    "y_pred_train = mod_t.predict(X_train)"
   ]
  },
  {
   "cell_type": "code",
   "execution_count": 111,
   "id": "b8e09451",
   "metadata": {},
   "outputs": [],
   "source": [
    "from sklearn.metrics import explained_variance_score, mean_squared_error, mean_absolute_error, mean_absolute_percentage_error, r2_score"
   ]
  },
  {
   "cell_type": "code",
   "execution_count": 112,
   "id": "63abd442",
   "metadata": {},
   "outputs": [
    {
     "name": "stdout",
     "output_type": "stream",
     "text": [
      "MSE     :  3806247468248877.0 ,  3153826173364732.0\n",
      "MAPE    :  1.6227292764379426e+22 ,  1.8087258182891652e+22\n",
      "R2      :  0.583 ,  0.654\n",
      "MAE     :  35491072.76 ,  33242744.35\n",
      "ExpVar  :  0.583 ,  0.654\n"
     ]
    }
   ],
   "source": [
    "# Eval metrics: Test, Train\n",
    "print(\"MSE     : \", mean_squared_error(y_test,  y_pred).round(2), \", \", mean_squared_error(y_train,  y_pred_train).round(2))\n",
    "print(\"MAPE    : \", mean_absolute_percentage_error(y_test,  y_pred).round(2), \", \", mean_absolute_percentage_error(y_train,  y_pred_train).round(2))\n",
    "print(\"R2      : \", r2_score(y_test,  y_pred).round(3), \", \", r2_score(y_train,  y_pred_train).round(3))\n",
    "print(\"MAE     : \", mean_absolute_error(y_test,  y_pred).round(2), \", \", mean_absolute_error(y_train,  y_pred_train).round(2))\n",
    "print(\"ExpVar  : \", explained_variance_score(y_test,  y_pred).round(3), \", \", explained_variance_score(y_train,  y_pred_train).round(3))  # same as R-sq\n"
   ]
  },
  {
   "cell_type": "markdown",
   "id": "7a6c160e",
   "metadata": {},
   "source": [
    "Checking Model Assumptions"
   ]
  },
  {
   "cell_type": "markdown",
   "id": "4d986266",
   "metadata": {},
   "source": [
    "Try the same model but without train, test split"
   ]
  },
  {
   "cell_type": "code",
   "execution_count": 125,
   "id": "44d3d17f",
   "metadata": {},
   "outputs": [
    {
     "name": "stdout",
     "output_type": "stream",
     "text": [
      "                            OLS Regression Results                            \n",
      "==============================================================================\n",
      "Dep. Variable:                revenue   R-squared:                       0.633\n",
      "Model:                            OLS   Adj. R-squared:                  0.633\n",
      "Method:                 Least Squares   F-statistic:                     2680.\n",
      "Date:                Tue, 27 Sep 2022   Prob (F-statistic):               0.00\n",
      "Time:                        13:13:52   Log-Likelihood:                -89961.\n",
      "No. Observations:                4663   AIC:                         1.799e+05\n",
      "Df Residuals:                    4659   BIC:                         1.800e+05\n",
      "Df Model:                           3                                         \n",
      "Covariance Type:            nonrobust                                         \n",
      "================================================================================\n",
      "                   coef    std err          t      P>|t|      [0.025      0.975]\n",
      "--------------------------------------------------------------------------------\n",
      "Intercept    -8.777e+06   4.56e+06     -1.924      0.054   -1.77e+07    1.67e+05\n",
      "budget           1.3303      0.029     46.378      0.000       1.274       1.387\n",
      "vote_average  1.493e+06    7.5e+05      1.992      0.046    2.33e+04    2.96e+06\n",
      "vote_count    4.756e+04   1110.388     42.835      0.000    4.54e+04    4.97e+04\n",
      "==============================================================================\n",
      "Omnibus:                     1657.157   Durbin-Watson:                   1.484\n",
      "Prob(Omnibus):                  0.000   Jarque-Bera (JB):            15565.354\n",
      "Skew:                           1.424   Prob(JB):                         0.00\n",
      "Kurtosis:                      11.485   Cond. No.                     2.30e+08\n",
      "==============================================================================\n",
      "\n",
      "Notes:\n",
      "[1] Standard Errors assume that the covariance matrix of the errors is correctly specified.\n",
      "[2] The condition number is large, 2.3e+08. This might indicate that there are\n",
      "strong multicollinearity or other numerical problems.\n"
     ]
    }
   ],
   "source": [
    "mod = smf.ols(formula='revenue ~ budget + vote_average + vote_count', data=df)\n",
    "res = mod.fit()\n",
    "print(res.summary())"
   ]
  },
  {
   "cell_type": "markdown",
   "id": "ef320f90",
   "metadata": {},
   "source": [
    "Condition Number: Meant to be a measure to detect multicollinearity. Ratio of largest to smallest eigenvalue of exog vars. Gives warning if it exceeds value of 30, which is too low. Known to be sensitive to scaling. Better use VIF based method instead. "
   ]
  },
  {
   "cell_type": "code",
   "execution_count": 126,
   "id": "019c4a82",
   "metadata": {},
   "outputs": [
    {
     "data": {
      "text/plain": [
       "-7.899325087733619e-08"
      ]
     },
     "execution_count": 126,
     "metadata": {},
     "output_type": "execute_result"
    }
   ],
   "source": [
    "# Mean of the residuals\n",
    "res.resid.mean()"
   ]
  },
  {
   "cell_type": "markdown",
   "id": "ad0ebf4e",
   "metadata": {},
   "source": [
    "Check VIF"
   ]
  },
  {
   "cell_type": "markdown",
   "id": "2bf5c429",
   "metadata": {},
   "source": [
    "Variance Inflation Factor or VIF, gives a basic quantitative idea about how much the feature variables are correlated with each other. It is an extremely important parameter to test our linear model. The formula for calculating VIF for i-th column is:\n",
    "\n",
    "𝑉𝐼𝐹_𝑖=1/(1−(𝑅_𝑖)^2)"
   ]
  },
  {
   "cell_type": "code",
   "execution_count": 127,
   "id": "834663a5",
   "metadata": {},
   "outputs": [
    {
     "data": {
      "text/html": [
       "<div>\n",
       "<style scoped>\n",
       "    .dataframe tbody tr th:only-of-type {\n",
       "        vertical-align: middle;\n",
       "    }\n",
       "\n",
       "    .dataframe tbody tr th {\n",
       "        vertical-align: top;\n",
       "    }\n",
       "\n",
       "    .dataframe thead th {\n",
       "        text-align: right;\n",
       "    }\n",
       "</style>\n",
       "<table border=\"1\" class=\"dataframe\">\n",
       "  <thead>\n",
       "    <tr style=\"text-align: right;\">\n",
       "      <th></th>\n",
       "      <th>Features</th>\n",
       "      <th>VIF</th>\n",
       "    </tr>\n",
       "  </thead>\n",
       "  <tbody>\n",
       "    <tr>\n",
       "      <th>0</th>\n",
       "      <td>budget</td>\n",
       "      <td>1.95</td>\n",
       "    </tr>\n",
       "    <tr>\n",
       "      <th>1</th>\n",
       "      <td>vote_count</td>\n",
       "      <td>1.84</td>\n",
       "    </tr>\n",
       "    <tr>\n",
       "      <th>2</th>\n",
       "      <td>vote_average</td>\n",
       "      <td>1.71</td>\n",
       "    </tr>\n",
       "  </tbody>\n",
       "</table>\n",
       "</div>"
      ],
      "text/plain": [
       "       Features   VIF\n",
       "0        budget  1.95\n",
       "1    vote_count  1.84\n",
       "2  vote_average  1.71"
      ]
     },
     "execution_count": 127,
     "metadata": {},
     "output_type": "execute_result"
    }
   ],
   "source": [
    "# VIF\n",
    "from statsmodels.stats.outliers_influence import variance_inflation_factor\n",
    "\n",
    "design_mat = df[['budget', 'vote_count', 'vote_average']]\n",
    "\n",
    "vif = pd.DataFrame()\n",
    "vif['Features'] = design_mat.columns\n",
    "vif['VIF'] = [variance_inflation_factor(design_mat.values, i) for i in range(design_mat.shape[1])]\n",
    "vif['VIF'] = round(vif['VIF'], 2)\n",
    "vif = vif.sort_values(by = \"VIF\", ascending = False)\n",
    "vif"
   ]
  },
  {
   "cell_type": "markdown",
   "id": "c193709d",
   "metadata": {},
   "source": [
    "Rebuild the model\n",
    "\n",
    "Use 'budget', 'vote_average' and 'popularity' columns to predict 'revenue'."
   ]
  },
  {
   "cell_type": "code",
   "execution_count": 128,
   "id": "70f9efe8",
   "metadata": {},
   "outputs": [
    {
     "name": "stdout",
     "output_type": "stream",
     "text": [
      "                            OLS Regression Results                            \n",
      "==============================================================================\n",
      "Dep. Variable:                revenue   R-squared:                       0.603\n",
      "Model:                            OLS   Adj. R-squared:                  0.602\n",
      "Method:                 Least Squares   F-statistic:                     2354.\n",
      "Date:                Tue, 27 Sep 2022   Prob (F-statistic):               0.00\n",
      "Time:                        13:14:56   Log-Likelihood:                -90148.\n",
      "No. Observations:                4663   AIC:                         1.803e+05\n",
      "Df Residuals:                    4659   BIC:                         1.803e+05\n",
      "Df Model:                           3                                         \n",
      "Covariance Type:            nonrobust                                         \n",
      "================================================================================\n",
      "                   coef    std err          t      P>|t|      [0.025      0.975]\n",
      "--------------------------------------------------------------------------------\n",
      "Intercept    -2.289e+07   4.69e+06     -4.877      0.000   -3.21e+07   -1.37e+07\n",
      "budget           1.3565      0.030     44.635      0.000       1.297       1.416\n",
      "vote_average  2.336e+06   7.84e+05      2.982      0.003       8e+05    3.87e+06\n",
      "popularity    1.861e+06   5.09e+04     36.531      0.000    1.76e+06    1.96e+06\n",
      "==============================================================================\n",
      "Omnibus:                     1633.722   Durbin-Watson:                   1.454\n",
      "Prob(Omnibus):                  0.000   Jarque-Bera (JB):            19892.423\n",
      "Skew:                           1.319   Prob(JB):                         0.00\n",
      "Kurtosis:                      12.768   Cond. No.                     2.27e+08\n",
      "==============================================================================\n",
      "\n",
      "Notes:\n",
      "[1] Standard Errors assume that the covariance matrix of the errors is correctly specified.\n",
      "[2] The condition number is large, 2.27e+08. This might indicate that there are\n",
      "strong multicollinearity or other numerical problems.\n"
     ]
    }
   ],
   "source": [
    "# Remove vote_count add popularity\n",
    "mod = smf.ols(formula='revenue ~ budget + vote_average + popularity', data=df)\n",
    "res = mod.fit()\n",
    "print(res.summary())"
   ]
  },
  {
   "cell_type": "code",
   "execution_count": 129,
   "id": "7fc7fdb7",
   "metadata": {},
   "outputs": [
    {
     "data": {
      "text/html": [
       "<div>\n",
       "<style scoped>\n",
       "    .dataframe tbody tr th:only-of-type {\n",
       "        vertical-align: middle;\n",
       "    }\n",
       "\n",
       "    .dataframe tbody tr th {\n",
       "        vertical-align: top;\n",
       "    }\n",
       "\n",
       "    .dataframe thead th {\n",
       "        text-align: right;\n",
       "    }\n",
       "</style>\n",
       "<table border=\"1\" class=\"dataframe\">\n",
       "  <thead>\n",
       "    <tr style=\"text-align: right;\">\n",
       "      <th></th>\n",
       "      <th>Features</th>\n",
       "      <th>VIF</th>\n",
       "    </tr>\n",
       "  </thead>\n",
       "  <tbody>\n",
       "    <tr>\n",
       "      <th>2</th>\n",
       "      <td>popularity</td>\n",
       "      <td>2.55</td>\n",
       "    </tr>\n",
       "    <tr>\n",
       "      <th>1</th>\n",
       "      <td>vote_average</td>\n",
       "      <td>2.06</td>\n",
       "    </tr>\n",
       "    <tr>\n",
       "      <th>0</th>\n",
       "      <td>budget</td>\n",
       "      <td>2.03</td>\n",
       "    </tr>\n",
       "  </tbody>\n",
       "</table>\n",
       "</div>"
      ],
      "text/plain": [
       "       Features   VIF\n",
       "2    popularity  2.55\n",
       "1  vote_average  2.06\n",
       "0        budget  2.03"
      ]
     },
     "execution_count": 129,
     "metadata": {},
     "output_type": "execute_result"
    }
   ],
   "source": [
    "# VIF\n",
    "design_mat = df[['budget', 'vote_average', 'popularity']]\n",
    "\n",
    "vif = pd.DataFrame()\n",
    "vif['Features'] = design_mat.columns\n",
    "vif['VIF'] = [variance_inflation_factor(design_mat.values, i) for i in range(design_mat.shape[1])]\n",
    "vif['VIF'] = round(vif['VIF'], 2)\n",
    "vif = vif.sort_values(by = \"VIF\", ascending = False)\n",
    "vif"
   ]
  },
  {
   "cell_type": "markdown",
   "id": "ef0a70e1",
   "metadata": {},
   "source": [
    "Check for Heteroscedasticity\n",
    "\n",
    "Heteroscedasticity is a situation where the variance of the residuals is unequal over a range of measured values"
   ]
  },
  {
   "cell_type": "code",
   "execution_count": 130,
   "id": "3c4d6473",
   "metadata": {},
   "outputs": [
    {
     "data": {
      "image/png": "[encoded data removed]",
      "text/plain": [
       "<Figure size 432x288 with 1 Axes>"
      ]
     },
     "metadata": {
      "needs_background": "light"
     },
     "output_type": "display_data"
    }
   ],
   "source": [
    "# Fitted vs Residuals\n",
    "fig, ax = plt.subplots(figsize=(6,4))\n",
    "ax.scatter(res.fittedvalues, res.resid);"
   ]
  },
  {
   "cell_type": "markdown",
   "id": "45fad2ee",
   "metadata": {},
   "source": [
    "Here the model has some heteroscedasticity."
   ]
  },
  {
   "cell_type": "code",
   "execution_count": 131,
   "id": "7f9d6038",
   "metadata": {},
   "outputs": [
    {
     "data": {
      "image/png": "[encoded data removed]",
      "text/plain": [
       "<Figure size 432x288 with 1 Axes>"
      ]
     },
     "metadata": {
      "needs_background": "light"
     },
     "output_type": "display_data"
    }
   ],
   "source": [
    "# Standardized residuals\n",
    "fig, ax = plt.subplots(figsize=(6,4))\n",
    "resid_standardized = (res.resid-res.resid.mean())/res.resid.std()\n",
    "ax.scatter(res.fittedvalues, resid_standardized);"
   ]
  },
  {
   "cell_type": "markdown",
   "id": "471ecc4e",
   "metadata": {},
   "source": [
    "Overcoming Heteroscedasticity\n",
    "\n",
    "Do some transformations on the variables: Log and Box Cox\n",
    "\n",
    "Rebuild the model with new variables."
   ]
  },
  {
   "cell_type": "code",
   "execution_count": 132,
   "id": "edd87ff1",
   "metadata": {},
   "outputs": [
    {
     "name": "stdout",
     "output_type": "stream",
     "text": [
      "                             OLS Regression Results                            \n",
      "===============================================================================\n",
      "Dep. Variable:     np.log(revenue + 1)   R-squared:                       0.592\n",
      "Model:                             OLS   Adj. R-squared:                  0.592\n",
      "Method:                  Least Squares   F-statistic:                     2254.\n",
      "Date:                 Tue, 27 Sep 2022   Prob (F-statistic):               0.00\n",
      "Time:                         13:23:21   Log-Likelihood:                -14309.\n",
      "No. Observations:                 4663   AIC:                         2.863e+04\n",
      "Df Residuals:                     4659   BIC:                         2.865e+04\n",
      "Df Model:                            3                                         \n",
      "Covariance Type:             nonrobust                                         \n",
      "==========================================================================================\n",
      "                             coef    std err          t      P>|t|      [0.025      0.975]\n",
      "------------------------------------------------------------------------------------------\n",
      "Intercept                 -3.6914      0.398     -9.269      0.000      -4.472      -2.911\n",
      "np.log(budget + 1)         0.5149      0.013     38.354      0.000       0.489       0.541\n",
      "np.log(vote_count + 1)     1.8536      0.057     32.550      0.000       1.742       1.965\n",
      "vote_average              -0.0737      0.072     -1.018      0.309      -0.216       0.068\n",
      "==============================================================================\n",
      "Omnibus:                      778.840   Durbin-Watson:                   1.924\n",
      "Prob(Omnibus):                  0.000   Jarque-Bera (JB):             1497.896\n",
      "Skew:                          -1.027   Prob(JB):                         0.00\n",
      "Kurtosis:                       4.869   Cond. No.                         87.2\n",
      "==============================================================================\n",
      "\n",
      "Notes:\n",
      "[1] Standard Errors assume that the covariance matrix of the errors is correctly specified.\n"
     ]
    }
   ],
   "source": [
    "mod = smf.ols(formula='np.log(revenue+1) ~ np.log(budget+1) + np.log(vote_count+1) + vote_average', data=df)\n",
    "res = mod.fit()\n",
    "print(res.summary())"
   ]
  },
  {
   "cell_type": "code",
   "execution_count": 133,
   "id": "de214076",
   "metadata": {},
   "outputs": [
    {
     "data": {
      "image/png": "[encoded data removed]",
      "text/plain": [
       "<Figure size 432x288 with 1 Axes>"
      ]
     },
     "metadata": {
      "needs_background": "light"
     },
     "output_type": "display_data"
    }
   ],
   "source": [
    "# Fitted vs Residuals\n",
    "fig, ax = plt.subplots(figsize=(6,4))\n",
    "ax.scatter(res.fittedvalues, res.resid);"
   ]
  },
  {
   "cell_type": "markdown",
   "id": "0c6fa564",
   "metadata": {},
   "source": [
    "It is clear that taking logarithms does not combat Heteroscedasticity.\n",
    "\n",
    "Try Box-Cox transformation instead."
   ]
  },
  {
   "cell_type": "markdown",
   "id": "dda1533e",
   "metadata": {},
   "source": [
    "BoxCox Transformation\n",
    "\n",
    "It is used to transform a non-normal variable to take close to a normal shape.\n",
    "\n",
    "y = (x**lambda - 1) / lambda,  for lambda != 0\n",
    "    log(x),                    for lambda = 0"
   ]
  },
  {
   "cell_type": "code",
   "execution_count": 134,
   "id": "20170586",
   "metadata": {},
   "outputs": [
    {
     "name": "stdout",
     "output_type": "stream",
     "text": [
      "Lambda 0.0831349938544955\n"
     ]
    }
   ],
   "source": [
    "from scipy import stats\n",
    "fitted_data, fitted_lambda = stats.boxcox(df['revenue']+0.001)\n",
    "df['revenue_boxcox'] = fitted_data\n",
    "print(\"Lambda\", fitted_lambda)"
   ]
  },
  {
   "cell_type": "code",
   "execution_count": 135,
   "id": "d9d8bdf7",
   "metadata": {},
   "outputs": [
    {
     "name": "stdout",
     "output_type": "stream",
     "text": [
      "Lambda 0.13572758801570067\n"
     ]
    }
   ],
   "source": [
    "from scipy import stats\n",
    "fitted_data, fitted_lambda = stats.boxcox(df['budget']+0.001)\n",
    "df['budget_boxcox'] = fitted_data\n",
    "print(\"Lambda\", fitted_lambda)"
   ]
  },
  {
   "cell_type": "code",
   "execution_count": 136,
   "id": "93d1505a",
   "metadata": {},
   "outputs": [
    {
     "name": "stdout",
     "output_type": "stream",
     "text": [
      "Lambda 0.181138671546832\n"
     ]
    }
   ],
   "source": [
    "from scipy import stats\n",
    "fitted_data, fitted_lambda = stats.boxcox(df['vote_count']+0.001)\n",
    "df['vote_count_boxcox'] = fitted_data\n",
    "print(\"Lambda\", fitted_lambda)"
   ]
  },
  {
   "cell_type": "code",
   "execution_count": 137,
   "id": "7a6f54ca",
   "metadata": {},
   "outputs": [
    {
     "name": "stdout",
     "output_type": "stream",
     "text": [
      "Lambda 1.6403808933643558\n"
     ]
    }
   ],
   "source": [
    "from scipy import stats\n",
    "fitted_data, fitted_lambda = stats.boxcox(df['vote_average']+0.001)\n",
    "df['vote_average_boxcox'] = fitted_data\n",
    "print(\"Lambda\", fitted_lambda)"
   ]
  },
  {
   "cell_type": "code",
   "execution_count": 138,
   "id": "a026c131",
   "metadata": {},
   "outputs": [
    {
     "name": "stdout",
     "output_type": "stream",
     "text": [
      "                            OLS Regression Results                            \n",
      "==============================================================================\n",
      "Dep. Variable:         revenue_boxcox   R-squared:                       0.625\n",
      "Model:                            OLS   Adj. R-squared:                  0.624\n",
      "Method:                 Least Squares   F-statistic:                     2585.\n",
      "Date:                Tue, 27 Sep 2022   Prob (F-statistic):               0.00\n",
      "Time:                        13:24:00   Log-Likelihood:                -18625.\n",
      "No. Observations:                4663   AIC:                         3.726e+04\n",
      "Df Residuals:                    4659   BIC:                         3.728e+04\n",
      "Df Model:                           3                                         \n",
      "Covariance Type:            nonrobust                                         \n",
      "=======================================================================================\n",
      "                          coef    std err          t      P>|t|      [0.025      0.975]\n",
      "---------------------------------------------------------------------------------------\n",
      "Intercept              -7.6109      0.724    -10.517      0.000      -9.030      -6.192\n",
      "budget_boxcox           0.3239      0.008     40.460      0.000       0.308       0.340\n",
      "vote_average_boxcox     0.0530      0.066      0.797      0.426      -0.077       0.183\n",
      "vote_count_boxcox       1.8496      0.058     32.031      0.000       1.736       1.963\n",
      "==============================================================================\n",
      "Omnibus:                      679.691   Durbin-Watson:                   1.888\n",
      "Prob(Omnibus):                  0.000   Jarque-Bera (JB):             1232.882\n",
      "Skew:                          -0.934   Prob(JB):                    1.92e-268\n",
      "Kurtosis:                       4.690   Cond. No.                         223.\n",
      "==============================================================================\n",
      "\n",
      "Notes:\n",
      "[1] Standard Errors assume that the covariance matrix of the errors is correctly specified.\n"
     ]
    }
   ],
   "source": [
    "# Fit model\n",
    "mod = smf.ols(formula='revenue_boxcox ~ budget_boxcox + vote_average_boxcox + vote_count_boxcox', data=df)\n",
    "res = mod.fit()\n",
    "print(res.summary())"
   ]
  },
  {
   "cell_type": "code",
   "execution_count": 139,
   "id": "1dddab54",
   "metadata": {},
   "outputs": [
    {
     "data": {
      "image/png": "[encoded data removed]",
      "text/plain": [
       "<Figure size 432x288 with 1 Axes>"
      ]
     },
     "metadata": {
      "needs_background": "light"
     },
     "output_type": "display_data"
    }
   ],
   "source": [
    "# Fitted vs Residuals\n",
    "fig, ax = plt.subplots(figsize=(6,4))\n",
    "ax.scatter(res.fittedvalues, res.resid);"
   ]
  },
  {
   "cell_type": "markdown",
   "id": "ec63828b",
   "metadata": {},
   "source": [
    "Once again, from the residual plot it is clear that Box-Cox transformation does not overcome Heteroscedasticity."
   ]
  },
  {
   "cell_type": "markdown",
   "id": "fd4ba94f",
   "metadata": {},
   "source": [
    "Conclusion, we are not going to apply any transformations to the columns of df."
   ]
  },
  {
   "cell_type": "markdown",
   "id": "94f171f9",
   "metadata": {},
   "source": [
    "It is clear that rows with budget = 0 or revenue = 0 do not make sense, so we are going to drop them before proceeding with our linear regression model."
   ]
  },
  {
   "cell_type": "code",
   "execution_count": 140,
   "id": "1b0134f5",
   "metadata": {},
   "outputs": [],
   "source": [
    "df.drop(df[(df['budget'] == 0) & (df['revenue'] == 0)].index, inplace=True)"
   ]
  },
  {
   "cell_type": "markdown",
   "id": "d3bfefcc",
   "metadata": {},
   "source": [
    "Model Building Approach 1 : Forward Selection (Manual)\n",
    "\n",
    "It is a modelling/feature selection approach where we start with a model that doesn't contain any feature and then we start adding the most significant features one after the other. It is also known as forward selection.\n",
    "\n",
    "p-value and r2 value are the criterion for checking if the added variable added any value to the model or not\n",
    "\n",
    "We proceed in the following sequence:\n",
    "\n",
    "Build model with 1 variable\n",
    "\n",
    "Build model with 2 variables\n",
    "\n",
    "Build model with 3 variables"
   ]
  },
  {
   "cell_type": "code",
   "execution_count": 141,
   "id": "41ca6c8b",
   "metadata": {},
   "outputs": [
    {
     "data": {
      "text/html": [
       "<div>\n",
       "<style scoped>\n",
       "    .dataframe tbody tr th:only-of-type {\n",
       "        vertical-align: middle;\n",
       "    }\n",
       "\n",
       "    .dataframe tbody tr th {\n",
       "        vertical-align: top;\n",
       "    }\n",
       "\n",
       "    .dataframe thead th {\n",
       "        text-align: right;\n",
       "    }\n",
       "</style>\n",
       "<table border=\"1\" class=\"dataframe\">\n",
       "  <thead>\n",
       "    <tr style=\"text-align: right;\">\n",
       "      <th></th>\n",
       "      <th>budget</th>\n",
       "      <th>id</th>\n",
       "      <th>popularity</th>\n",
       "      <th>runtime</th>\n",
       "      <th>vote_average</th>\n",
       "      <th>vote_count</th>\n",
       "      <th>movie_id</th>\n",
       "      <th>profitable</th>\n",
       "      <th>Thriller</th>\n",
       "      <th>Action</th>\n",
       "      <th>...</th>\n",
       "      <th>Fantasy</th>\n",
       "      <th>Animation</th>\n",
       "      <th>Music</th>\n",
       "      <th>Crime</th>\n",
       "      <th>Family</th>\n",
       "      <th>Science Fiction</th>\n",
       "      <th>Horror</th>\n",
       "      <th>History</th>\n",
       "      <th>Drama</th>\n",
       "      <th>zscore_revenue</th>\n",
       "    </tr>\n",
       "  </thead>\n",
       "  <tbody>\n",
       "    <tr>\n",
       "      <th>1813</th>\n",
       "      <td>0</td>\n",
       "      <td>25353</td>\n",
       "      <td>1.684948</td>\n",
       "      <td>82.0</td>\n",
       "      <td>3.8</td>\n",
       "      <td>7</td>\n",
       "      <td>25353</td>\n",
       "      <td>1</td>\n",
       "      <td>0</td>\n",
       "      <td>0</td>\n",
       "      <td>...</td>\n",
       "      <td>0</td>\n",
       "      <td>1</td>\n",
       "      <td>0</td>\n",
       "      <td>0</td>\n",
       "      <td>1</td>\n",
       "      <td>0</td>\n",
       "      <td>0</td>\n",
       "      <td>0</td>\n",
       "      <td>0</td>\n",
       "      <td>-0.536925</td>\n",
       "    </tr>\n",
       "    <tr>\n",
       "      <th>1410</th>\n",
       "      <td>30000000</td>\n",
       "      <td>1669</td>\n",
       "      <td>46.212155</td>\n",
       "      <td>134.0</td>\n",
       "      <td>7.2</td>\n",
       "      <td>957</td>\n",
       "      <td>1669</td>\n",
       "      <td>1</td>\n",
       "      <td>1</td>\n",
       "      <td>1</td>\n",
       "      <td>...</td>\n",
       "      <td>0</td>\n",
       "      <td>0</td>\n",
       "      <td>0</td>\n",
       "      <td>0</td>\n",
       "      <td>0</td>\n",
       "      <td>0</td>\n",
       "      <td>0</td>\n",
       "      <td>0</td>\n",
       "      <td>0</td>\n",
       "      <td>0.813362</td>\n",
       "    </tr>\n",
       "    <tr>\n",
       "      <th>1913</th>\n",
       "      <td>0</td>\n",
       "      <td>7548</td>\n",
       "      <td>7.588597</td>\n",
       "      <td>114.0</td>\n",
       "      <td>5.9</td>\n",
       "      <td>128</td>\n",
       "      <td>7548</td>\n",
       "      <td>1</td>\n",
       "      <td>0</td>\n",
       "      <td>0</td>\n",
       "      <td>...</td>\n",
       "      <td>0</td>\n",
       "      <td>0</td>\n",
       "      <td>0</td>\n",
       "      <td>0</td>\n",
       "      <td>0</td>\n",
       "      <td>0</td>\n",
       "      <td>0</td>\n",
       "      <td>0</td>\n",
       "      <td>1</td>\n",
       "      <td>-0.536925</td>\n",
       "    </tr>\n",
       "    <tr>\n",
       "      <th>3615</th>\n",
       "      <td>7000000</td>\n",
       "      <td>13408</td>\n",
       "      <td>2.453459</td>\n",
       "      <td>93.0</td>\n",
       "      <td>5.3</td>\n",
       "      <td>26</td>\n",
       "      <td>13408</td>\n",
       "      <td>1</td>\n",
       "      <td>0</td>\n",
       "      <td>1</td>\n",
       "      <td>...</td>\n",
       "      <td>0</td>\n",
       "      <td>0</td>\n",
       "      <td>0</td>\n",
       "      <td>0</td>\n",
       "      <td>0</td>\n",
       "      <td>0</td>\n",
       "      <td>0</td>\n",
       "      <td>0</td>\n",
       "      <td>0</td>\n",
       "      <td>-0.467585</td>\n",
       "    </tr>\n",
       "    <tr>\n",
       "      <th>1889</th>\n",
       "      <td>22000000</td>\n",
       "      <td>10950</td>\n",
       "      <td>26.071644</td>\n",
       "      <td>132.0</td>\n",
       "      <td>7.2</td>\n",
       "      <td>530</td>\n",
       "      <td>10950</td>\n",
       "      <td>1</td>\n",
       "      <td>0</td>\n",
       "      <td>0</td>\n",
       "      <td>...</td>\n",
       "      <td>0</td>\n",
       "      <td>0</td>\n",
       "      <td>0</td>\n",
       "      <td>0</td>\n",
       "      <td>0</td>\n",
       "      <td>0</td>\n",
       "      <td>0</td>\n",
       "      <td>0</td>\n",
       "      <td>1</td>\n",
       "      <td>0.090378</td>\n",
       "    </tr>\n",
       "  </tbody>\n",
       "</table>\n",
       "<p>5 rows × 29 columns</p>\n",
       "</div>"
      ],
      "text/plain": [
       "        budget     id  popularity  runtime  vote_average  vote_count  \\\n",
       "1813         0  25353    1.684948     82.0           3.8           7   \n",
       "1410  30000000   1669   46.212155    134.0           7.2         957   \n",
       "1913         0   7548    7.588597    114.0           5.9         128   \n",
       "3615   7000000  13408    2.453459     93.0           5.3          26   \n",
       "1889  22000000  10950   26.071644    132.0           7.2         530   \n",
       "\n",
       "      movie_id  profitable  Thriller  Action  ...  Fantasy  Animation  Music  \\\n",
       "1813     25353           1         0       0  ...        0          1      0   \n",
       "1410      1669           1         1       1  ...        0          0      0   \n",
       "1913      7548           1         0       0  ...        0          0      0   \n",
       "3615     13408           1         0       1  ...        0          0      0   \n",
       "1889     10950           1         0       0  ...        0          0      0   \n",
       "\n",
       "      Crime  Family  Science Fiction  Horror  History  Drama  zscore_revenue  \n",
       "1813      0       1                0       0        0      0       -0.536925  \n",
       "1410      0       0                0       0        0      0        0.813362  \n",
       "1913      0       0                0       0        0      1       -0.536925  \n",
       "3615      0       0                0       0        0      0       -0.467585  \n",
       "1889      0       0                0       0        0      1        0.090378  \n",
       "\n",
       "[5 rows x 29 columns]"
      ]
     },
     "execution_count": 141,
     "metadata": {},
     "output_type": "execute_result"
    }
   ],
   "source": [
    "# Train test split\n",
    "X_train, X_test, y_train, y_test = train_test_split(X_, y, test_size=0.3, random_state=1234)\n",
    "X_train.head()"
   ]
  },
  {
   "cell_type": "markdown",
   "id": "89ceb85c",
   "metadata": {},
   "source": [
    "Build model with 1 variable"
   ]
  },
  {
   "cell_type": "code",
   "execution_count": 142,
   "id": "994b89dc",
   "metadata": {},
   "outputs": [],
   "source": [
    "# Select only one feature in regression model\n",
    "X_train1 = X_train['budget']"
   ]
  },
  {
   "cell_type": "code",
   "execution_count": 143,
   "id": "4ee83a34",
   "metadata": {},
   "outputs": [],
   "source": [
    "# Add a constant\n",
    "X_train1 = sm.add_constant(X_train1)\n",
    "\n",
    "# Create a first ols model\n",
    "model_1 = sm.OLS(y_train, X_train1).fit()"
   ]
  },
  {
   "cell_type": "code",
   "execution_count": 144,
   "id": "00c68068",
   "metadata": {},
   "outputs": [
    {
     "data": {
      "text/plain": [
       "const     1.029400e+07\n",
       "budget    1.984093e+00\n",
       "dtype: float64"
      ]
     },
     "execution_count": 144,
     "metadata": {},
     "output_type": "execute_result"
    }
   ],
   "source": [
    "# Check parameters created\n",
    "model_1.params"
   ]
  },
  {
   "cell_type": "code",
   "execution_count": 145,
   "id": "f05ce132",
   "metadata": {},
   "outputs": [
    {
     "name": "stdout",
     "output_type": "stream",
     "text": [
      "                            OLS Regression Results                            \n",
      "==============================================================================\n",
      "Dep. Variable:                revenue   R-squared:                       0.486\n",
      "Model:                            OLS   Adj. R-squared:                  0.486\n",
      "Method:                 Least Squares   F-statistic:                     3082.\n",
      "Date:                Tue, 27 Sep 2022   Prob (F-statistic):               0.00\n",
      "Time:                        13:25:20   Log-Likelihood:                -63522.\n",
      "No. Observations:                3264   AIC:                         1.270e+05\n",
      "Df Residuals:                    3262   BIC:                         1.271e+05\n",
      "Df Model:                           1                                         \n",
      "Covariance Type:            nonrobust                                         \n",
      "==============================================================================\n",
      "                 coef    std err          t      P>|t|      [0.025      0.975]\n",
      "------------------------------------------------------------------------------\n",
      "const       1.029e+07    1.5e+06      6.844      0.000    7.34e+06    1.32e+07\n",
      "budget         1.9841      0.036     55.517      0.000       1.914       2.054\n",
      "==============================================================================\n",
      "Omnibus:                     1327.735   Durbin-Watson:                   1.988\n",
      "Prob(Omnibus):                  0.000   Jarque-Bera (JB):             8806.227\n",
      "Skew:                           1.795   Prob(JB):                         0.00\n",
      "Kurtosis:                      10.202   Cond. No.                     5.28e+07\n",
      "==============================================================================\n",
      "\n",
      "Notes:\n",
      "[1] Standard Errors assume that the covariance matrix of the errors is correctly specified.\n",
      "[2] The condition number is large, 5.28e+07. This might indicate that there are\n",
      "strong multicollinearity or other numerical problems.\n"
     ]
    }
   ],
   "source": [
    "# Summary of the model\n",
    "print(model_1.summary())"
   ]
  },
  {
   "cell_type": "markdown",
   "id": "2fec2aa6",
   "metadata": {},
   "source": [
    "It is clear that one parameter model has a low R2 score."
   ]
  },
  {
   "cell_type": "markdown",
   "id": "db527934",
   "metadata": {},
   "source": [
    "Build model with 2 variables"
   ]
  },
  {
   "cell_type": "code",
   "execution_count": 150,
   "id": "7aad0247",
   "metadata": {},
   "outputs": [],
   "source": [
    "# Add one more feature in regression model\n",
    "X_train2 = X_train[['budget','vote_average']]"
   ]
  },
  {
   "cell_type": "code",
   "execution_count": 151,
   "id": "19c30590",
   "metadata": {},
   "outputs": [],
   "source": [
    "# Add a constant\n",
    "X_train2 = sm.add_constant(X_train2)\n",
    "\n",
    "# Create second ols model\n",
    "model_2 = sm.OLS(y_train, X_train2).fit()"
   ]
  },
  {
   "cell_type": "code",
   "execution_count": 152,
   "id": "1a188cce",
   "metadata": {},
   "outputs": [
    {
     "data": {
      "text/plain": [
       "const          -6.574540e+07\n",
       "budget          1.960823e+00\n",
       "vote_average    1.264347e+07\n",
       "dtype: float64"
      ]
     },
     "execution_count": 152,
     "metadata": {},
     "output_type": "execute_result"
    }
   ],
   "source": [
    "# Check parameters created\n",
    "model_2.params"
   ]
  },
  {
   "cell_type": "code",
   "execution_count": 153,
   "id": "ebadfda8",
   "metadata": {},
   "outputs": [
    {
     "name": "stdout",
     "output_type": "stream",
     "text": [
      "                            OLS Regression Results                            \n",
      "==============================================================================\n",
      "Dep. Variable:                revenue   R-squared:                       0.511\n",
      "Model:                            OLS   Adj. R-squared:                  0.510\n",
      "Method:                 Least Squares   F-statistic:                     1702.\n",
      "Date:                Tue, 27 Sep 2022   Prob (F-statistic):               0.00\n",
      "Time:                        13:26:44   Log-Likelihood:                -63441.\n",
      "No. Observations:                3264   AIC:                         1.269e+05\n",
      "Df Residuals:                    3261   BIC:                         1.269e+05\n",
      "Df Model:                           2                                         \n",
      "Covariance Type:            nonrobust                                         \n",
      "================================================================================\n",
      "                   coef    std err          t      P>|t|      [0.025      0.975]\n",
      "--------------------------------------------------------------------------------\n",
      "const        -6.575e+07   6.09e+06    -10.794      0.000   -7.77e+07   -5.38e+07\n",
      "budget           1.9608      0.035     56.157      0.000       1.892       2.029\n",
      "vote_average  1.264e+07   9.83e+05     12.863      0.000    1.07e+07    1.46e+07\n",
      "==============================================================================\n",
      "Omnibus:                     1257.587   Durbin-Watson:                   1.997\n",
      "Prob(Omnibus):                  0.000   Jarque-Bera (JB):             7595.569\n",
      "Skew:                           1.716   Prob(JB):                         0.00\n",
      "Kurtosis:                       9.639   Cond. No.                     2.22e+08\n",
      "==============================================================================\n",
      "\n",
      "Notes:\n",
      "[1] Standard Errors assume that the covariance matrix of the errors is correctly specified.\n",
      "[2] The condition number is large, 2.22e+08. This might indicate that there are\n",
      "strong multicollinearity or other numerical problems.\n"
     ]
    }
   ],
   "source": [
    "# Summary of the model\n",
    "print(model_2.summary())"
   ]
  },
  {
   "cell_type": "code",
   "execution_count": 154,
   "id": "031676ff",
   "metadata": {},
   "outputs": [
    {
     "data": {
      "text/html": [
       "<div>\n",
       "<style scoped>\n",
       "    .dataframe tbody tr th:only-of-type {\n",
       "        vertical-align: middle;\n",
       "    }\n",
       "\n",
       "    .dataframe tbody tr th {\n",
       "        vertical-align: top;\n",
       "    }\n",
       "\n",
       "    .dataframe thead th {\n",
       "        text-align: right;\n",
       "    }\n",
       "</style>\n",
       "<table border=\"1\" class=\"dataframe\">\n",
       "  <thead>\n",
       "    <tr style=\"text-align: right;\">\n",
       "      <th></th>\n",
       "      <th>Features</th>\n",
       "      <th>VIF</th>\n",
       "    </tr>\n",
       "  </thead>\n",
       "  <tbody>\n",
       "    <tr>\n",
       "      <th>0</th>\n",
       "      <td>const</td>\n",
       "      <td>27.09</td>\n",
       "    </tr>\n",
       "    <tr>\n",
       "      <th>1</th>\n",
       "      <td>budget</td>\n",
       "      <td>1.00</td>\n",
       "    </tr>\n",
       "    <tr>\n",
       "      <th>2</th>\n",
       "      <td>vote_average</td>\n",
       "      <td>1.00</td>\n",
       "    </tr>\n",
       "  </tbody>\n",
       "</table>\n",
       "</div>"
      ],
      "text/plain": [
       "       Features    VIF\n",
       "0         const  27.09\n",
       "1        budget   1.00\n",
       "2  vote_average   1.00"
      ]
     },
     "execution_count": 154,
     "metadata": {},
     "output_type": "execute_result"
    }
   ],
   "source": [
    "# Create a dataframe that will contain the names of all the feature variables and their respective VIFs\n",
    "vif = pd.DataFrame()\n",
    "vif['Features'] = X_train2.columns\n",
    "vif['VIF'] = [variance_inflation_factor(X_train2.values, i) for i in range(X_train2.shape[1])]\n",
    "vif['VIF'] = round(vif['VIF'], 2)\n",
    "vif = vif.sort_values(by = \"VIF\", ascending = False)\n",
    "vif"
   ]
  },
  {
   "cell_type": "markdown",
   "id": "84ece4af",
   "metadata": {},
   "source": [
    "There is no multicollinearity, because VIF values are low, but the R2 score of 0.511 is lower than for some 3 parameter models we have seen."
   ]
  },
  {
   "cell_type": "markdown",
   "id": "d9d31861",
   "metadata": {},
   "source": [
    "Build a model with 3 variables"
   ]
  },
  {
   "cell_type": "code",
   "execution_count": 155,
   "id": "206c9264",
   "metadata": {},
   "outputs": [],
   "source": [
    "# Adding one more feature in regression model\n",
    "X_train3 = X_train[['budget', 'vote_count', 'vote_average']]"
   ]
  },
  {
   "cell_type": "code",
   "execution_count": 156,
   "id": "6c1dfc7e",
   "metadata": {},
   "outputs": [],
   "source": [
    "# Add a constant\n",
    "X_train3 = sm.add_constant(X_train3)\n",
    "\n",
    "# Create third fitted model\n",
    "model_3 = sm.OLS(y_train, X_train3).fit()"
   ]
  },
  {
   "cell_type": "code",
   "execution_count": 157,
   "id": "62b52699",
   "metadata": {},
   "outputs": [
    {
     "data": {
      "text/plain": [
       "const          -1.276472e+07\n",
       "budget          1.365551e+00\n",
       "vote_count      4.708736e+04\n",
       "vote_average    1.992905e+06\n",
       "dtype: float64"
      ]
     },
     "execution_count": 157,
     "metadata": {},
     "output_type": "execute_result"
    }
   ],
   "source": [
    "# Check parameters created\n",
    "model_3.params"
   ]
  },
  {
   "cell_type": "code",
   "execution_count": 158,
   "id": "a5224fbf",
   "metadata": {},
   "outputs": [
    {
     "name": "stdout",
     "output_type": "stream",
     "text": [
      "                            OLS Regression Results                            \n",
      "==============================================================================\n",
      "Dep. Variable:                revenue   R-squared:                       0.654\n",
      "Model:                            OLS   Adj. R-squared:                  0.654\n",
      "Method:                 Least Squares   F-statistic:                     2058.\n",
      "Date:                Tue, 27 Sep 2022   Prob (F-statistic):               0.00\n",
      "Time:                        13:28:13   Log-Likelihood:                -62873.\n",
      "No. Observations:                3264   AIC:                         1.258e+05\n",
      "Df Residuals:                    3260   BIC:                         1.258e+05\n",
      "Df Model:                           3                                         \n",
      "Covariance Type:            nonrobust                                         \n",
      "================================================================================\n",
      "                   coef    std err          t      P>|t|      [0.025      0.975]\n",
      "--------------------------------------------------------------------------------\n",
      "const        -1.276e+07   5.32e+06     -2.400      0.016   -2.32e+07   -2.34e+06\n",
      "budget           1.3656      0.034     40.755      0.000       1.300       1.431\n",
      "vote_count    4.709e+04   1278.788     36.822      0.000    4.46e+04    4.96e+04\n",
      "vote_average  1.993e+06   8.75e+05      2.277      0.023    2.77e+05    3.71e+06\n",
      "==============================================================================\n",
      "Omnibus:                     1056.002   Durbin-Watson:                   1.998\n",
      "Prob(Omnibus):                  0.000   Jarque-Bera (JB):            10950.772\n",
      "Skew:                           1.231   Prob(JB):                         0.00\n",
      "Kurtosis:                      11.629   Cond. No.                     2.30e+08\n",
      "==============================================================================\n",
      "\n",
      "Notes:\n",
      "[1] Standard Errors assume that the covariance matrix of the errors is correctly specified.\n",
      "[2] The condition number is large, 2.3e+08. This might indicate that there are\n",
      "strong multicollinearity or other numerical problems.\n"
     ]
    }
   ],
   "source": [
    "# Summary of the model\n",
    "print(model_3.summary())"
   ]
  },
  {
   "cell_type": "code",
   "execution_count": 159,
   "id": "12e9d79c",
   "metadata": {},
   "outputs": [
    {
     "data": {
      "text/html": [
       "<div>\n",
       "<style scoped>\n",
       "    .dataframe tbody tr th:only-of-type {\n",
       "        vertical-align: middle;\n",
       "    }\n",
       "\n",
       "    .dataframe tbody tr th {\n",
       "        vertical-align: top;\n",
       "    }\n",
       "\n",
       "    .dataframe thead th {\n",
       "        text-align: right;\n",
       "    }\n",
       "</style>\n",
       "<table border=\"1\" class=\"dataframe\">\n",
       "  <thead>\n",
       "    <tr style=\"text-align: right;\">\n",
       "      <th></th>\n",
       "      <th>Features</th>\n",
       "      <th>VIF</th>\n",
       "    </tr>\n",
       "  </thead>\n",
       "  <tbody>\n",
       "    <tr>\n",
       "      <th>0</th>\n",
       "      <td>const</td>\n",
       "      <td>29.23</td>\n",
       "    </tr>\n",
       "    <tr>\n",
       "      <th>2</th>\n",
       "      <td>vote_count</td>\n",
       "      <td>1.45</td>\n",
       "    </tr>\n",
       "    <tr>\n",
       "      <th>1</th>\n",
       "      <td>budget</td>\n",
       "      <td>1.31</td>\n",
       "    </tr>\n",
       "    <tr>\n",
       "      <th>3</th>\n",
       "      <td>vote_average</td>\n",
       "      <td>1.13</td>\n",
       "    </tr>\n",
       "  </tbody>\n",
       "</table>\n",
       "</div>"
      ],
      "text/plain": [
       "       Features    VIF\n",
       "0         const  29.23\n",
       "2    vote_count   1.45\n",
       "1        budget   1.31\n",
       "3  vote_average   1.13"
      ]
     },
     "execution_count": 159,
     "metadata": {},
     "output_type": "execute_result"
    }
   ],
   "source": [
    "# Create a dataframe that will contain the names of all the feature variables and their respective VIFs\n",
    "vif = pd.DataFrame()\n",
    "vif['Features'] = X_train3.columns\n",
    "vif['VIF'] = [variance_inflation_factor(X_train3.values, i) for i in range(X_train3.shape[1])]\n",
    "vif['VIF'] = round(vif['VIF'], 2)\n",
    "vif = vif.sort_values(by = \"VIF\", ascending = False)\n",
    "vif"
   ]
  },
  {
   "cell_type": "markdown",
   "id": "f23c590b",
   "metadata": {},
   "source": [
    "We have achieved an Adj R-squared of 0.654 by manually picking the highly correlated variables.\n",
    "\n",
    "We can keep on adding variables one by one till the model stops improving.\n",
    "\n",
    "Now lets look at another approach of building a regression model."
   ]
  },
  {
   "cell_type": "markdown",
   "id": "36b478ff",
   "metadata": {},
   "source": [
    "\n",
    "Model Building Approach 2 : Manual Backward Selection\n",
    "\n",
    "\n",
    "Backward stepwise selection is a variable selection method.\n",
    "\n",
    "Steps associated in backward stepwise selection are :\n",
    "\n",
    "Create a model with all variables under consideration (we can choose top 10, 15, 20 etc as well).  In this case we will consider 7 variables\n",
    "\n",
    "Remove the least significant variables one after the other\n",
    "\n",
    "Keep on removing the variables until all the variables in model are significant and follow the assumptions of linear regression\n",
    "\n",
    "First, we choose 7 best variables using correlation\n",
    "\n",
    "Then we eliminate variables one by one using p-value and VIF"
   ]
  },
  {
   "cell_type": "code",
   "execution_count": 164,
   "id": "310f07dc",
   "metadata": {},
   "outputs": [
    {
     "data": {
      "text/html": [
       "<div>\n",
       "<style scoped>\n",
       "    .dataframe tbody tr th:only-of-type {\n",
       "        vertical-align: middle;\n",
       "    }\n",
       "\n",
       "    .dataframe tbody tr th {\n",
       "        vertical-align: top;\n",
       "    }\n",
       "\n",
       "    .dataframe thead th {\n",
       "        text-align: right;\n",
       "    }\n",
       "</style>\n",
       "<table border=\"1\" class=\"dataframe\">\n",
       "  <thead>\n",
       "    <tr style=\"text-align: right;\">\n",
       "      <th></th>\n",
       "      <th>const</th>\n",
       "      <th>budget</th>\n",
       "      <th>vote_count</th>\n",
       "      <th>vote_average</th>\n",
       "      <th>popularity</th>\n",
       "      <th>runtime</th>\n",
       "      <th>profitable</th>\n",
       "    </tr>\n",
       "  </thead>\n",
       "  <tbody>\n",
       "    <tr>\n",
       "      <th>0</th>\n",
       "      <td>1.0</td>\n",
       "      <td>270000000</td>\n",
       "      <td>1400</td>\n",
       "      <td>5.4</td>\n",
       "      <td>57.925623</td>\n",
       "      <td>154.0</td>\n",
       "      <td>1</td>\n",
       "    </tr>\n",
       "    <tr>\n",
       "      <th>1</th>\n",
       "      <td>1.0</td>\n",
       "      <td>225000000</td>\n",
       "      <td>1630</td>\n",
       "      <td>6.3</td>\n",
       "      <td>53.978602</td>\n",
       "      <td>150.0</td>\n",
       "      <td>1</td>\n",
       "    </tr>\n",
       "    <tr>\n",
       "      <th>2</th>\n",
       "      <td>1.0</td>\n",
       "      <td>200000000</td>\n",
       "      <td>1398</td>\n",
       "      <td>6.2</td>\n",
       "      <td>37.668301</td>\n",
       "      <td>140.0</td>\n",
       "      <td>1</td>\n",
       "    </tr>\n",
       "    <tr>\n",
       "      <th>3</th>\n",
       "      <td>1.0</td>\n",
       "      <td>180000000</td>\n",
       "      <td>1303</td>\n",
       "      <td>5.8</td>\n",
       "      <td>42.990906</td>\n",
       "      <td>113.0</td>\n",
       "      <td>1</td>\n",
       "    </tr>\n",
       "    <tr>\n",
       "      <th>4</th>\n",
       "      <td>1.0</td>\n",
       "      <td>209000000</td>\n",
       "      <td>2114</td>\n",
       "      <td>5.5</td>\n",
       "      <td>64.928382</td>\n",
       "      <td>131.0</td>\n",
       "      <td>1</td>\n",
       "    </tr>\n",
       "  </tbody>\n",
       "</table>\n",
       "</div>"
      ],
      "text/plain": [
       "   const     budget  vote_count  vote_average  popularity  runtime  profitable\n",
       "0    1.0  270000000        1400           5.4   57.925623    154.0           1\n",
       "1    1.0  225000000        1630           6.3   53.978602    150.0           1\n",
       "2    1.0  200000000        1398           6.2   37.668301    140.0           1\n",
       "3    1.0  180000000        1303           5.8   42.990906    113.0           1\n",
       "4    1.0  209000000        2114           5.5   64.928382    131.0           1"
      ]
     },
     "execution_count": 164,
     "metadata": {},
     "output_type": "execute_result"
    }
   ],
   "source": [
    "# Creating X_train dataframe with highest correlation variables\n",
    "# Add a constant\n",
    "X_data = sm.add_constant(df[['budget', 'vote_count', 'vote_average', 'popularity', 'runtime', 'profitable']])\n",
    "Y_data = df['revenue']\n",
    "X_data.head()"
   ]
  },
  {
   "cell_type": "code",
   "execution_count": 165,
   "id": "0b6e8c81",
   "metadata": {},
   "outputs": [
    {
     "data": {
      "text/html": [
       "<div>\n",
       "<style scoped>\n",
       "    .dataframe tbody tr th:only-of-type {\n",
       "        vertical-align: middle;\n",
       "    }\n",
       "\n",
       "    .dataframe tbody tr th {\n",
       "        vertical-align: top;\n",
       "    }\n",
       "\n",
       "    .dataframe thead th {\n",
       "        text-align: right;\n",
       "    }\n",
       "</style>\n",
       "<table border=\"1\" class=\"dataframe\">\n",
       "  <thead>\n",
       "    <tr style=\"text-align: right;\">\n",
       "      <th></th>\n",
       "      <th>const</th>\n",
       "      <th>budget</th>\n",
       "      <th>vote_count</th>\n",
       "      <th>vote_average</th>\n",
       "      <th>popularity</th>\n",
       "      <th>runtime</th>\n",
       "      <th>profitable</th>\n",
       "    </tr>\n",
       "  </thead>\n",
       "  <tbody>\n",
       "    <tr>\n",
       "      <th>669</th>\n",
       "      <td>1.0</td>\n",
       "      <td>58000000</td>\n",
       "      <td>1658</td>\n",
       "      <td>6.1</td>\n",
       "      <td>1.551497</td>\n",
       "      <td>119.0</td>\n",
       "      <td>0</td>\n",
       "    </tr>\n",
       "    <tr>\n",
       "      <th>2267</th>\n",
       "      <td>1.0</td>\n",
       "      <td>17000000</td>\n",
       "      <td>687</td>\n",
       "      <td>5.6</td>\n",
       "      <td>27.654472</td>\n",
       "      <td>100.0</td>\n",
       "      <td>1</td>\n",
       "    </tr>\n",
       "    <tr>\n",
       "      <th>1222</th>\n",
       "      <td>1.0</td>\n",
       "      <td>36000000</td>\n",
       "      <td>379</td>\n",
       "      <td>6.5</td>\n",
       "      <td>19.167377</td>\n",
       "      <td>105.0</td>\n",
       "      <td>1</td>\n",
       "    </tr>\n",
       "    <tr>\n",
       "      <th>2627</th>\n",
       "      <td>1.0</td>\n",
       "      <td>13000000</td>\n",
       "      <td>135</td>\n",
       "      <td>5.5</td>\n",
       "      <td>11.880899</td>\n",
       "      <td>106.0</td>\n",
       "      <td>1</td>\n",
       "    </tr>\n",
       "    <tr>\n",
       "      <th>1497</th>\n",
       "      <td>1.0</td>\n",
       "      <td>30000000</td>\n",
       "      <td>458</td>\n",
       "      <td>4.8</td>\n",
       "      <td>15.895340</td>\n",
       "      <td>87.0</td>\n",
       "      <td>1</td>\n",
       "    </tr>\n",
       "  </tbody>\n",
       "</table>\n",
       "</div>"
      ],
      "text/plain": [
       "      const    budget  vote_count  vote_average  popularity  runtime  \\\n",
       "669     1.0  58000000        1658           6.1    1.551497    119.0   \n",
       "2267    1.0  17000000         687           5.6   27.654472    100.0   \n",
       "1222    1.0  36000000         379           6.5   19.167377    105.0   \n",
       "2627    1.0  13000000         135           5.5   11.880899    106.0   \n",
       "1497    1.0  30000000         458           4.8   15.895340     87.0   \n",
       "\n",
       "      profitable  \n",
       "669            0  \n",
       "2267           1  \n",
       "1222           1  \n",
       "2627           1  \n",
       "1497           1  "
      ]
     },
     "execution_count": 165,
     "metadata": {},
     "output_type": "execute_result"
    }
   ],
   "source": [
    "# Train test split\n",
    "X_train, X_test, y_train, y_test = train_test_split(X_data, Y_data, test_size=0.3, random_state=1234)\n",
    "X_train.head()"
   ]
  },
  {
   "cell_type": "code",
   "execution_count": 166,
   "id": "5ac20fb2",
   "metadata": {},
   "outputs": [
    {
     "name": "stdout",
     "output_type": "stream",
     "text": [
      "                            OLS Regression Results                            \n",
      "==============================================================================\n",
      "Dep. Variable:                revenue   R-squared:                       0.689\n",
      "Model:                            OLS   Adj. R-squared:                  0.688\n",
      "Method:                 Least Squares   F-statistic:                     973.0\n",
      "Date:                Tue, 27 Sep 2022   Prob (F-statistic):               0.00\n",
      "Time:                        13:34:02   Log-Likelihood:                -50886.\n",
      "No. Observations:                2641   AIC:                         1.018e+05\n",
      "Df Residuals:                    2634   BIC:                         1.018e+05\n",
      "Df Model:                           6                                         \n",
      "Covariance Type:            nonrobust                                         \n",
      "================================================================================\n",
      "                   coef    std err          t      P>|t|      [0.025      0.975]\n",
      "--------------------------------------------------------------------------------\n",
      "const        -2.701e+07    8.4e+06     -3.216      0.001   -4.35e+07   -1.05e+07\n",
      "budget           1.3376      0.038     35.061      0.000       1.263       1.412\n",
      "vote_count    3.829e+04   2128.459     17.991      0.000    3.41e+04    4.25e+04\n",
      "vote_average -2.417e+06   1.36e+06     -1.775      0.076   -5.09e+06    2.53e+05\n",
      "popularity    6.736e+04   9.36e+04      0.719      0.472   -1.16e+05    2.51e+05\n",
      "runtime       8.209e+04      6e+04      1.369      0.171   -3.55e+04       2e+05\n",
      "profitable    6.027e+07   2.52e+06     23.903      0.000    5.53e+07    6.52e+07\n",
      "==============================================================================\n",
      "Omnibus:                      974.554   Durbin-Watson:                   2.045\n",
      "Prob(Omnibus):                  0.000   Jarque-Bera (JB):             6271.104\n",
      "Skew:                           1.602   Prob(JB):                         0.00\n",
      "Kurtosis:                       9.836   Cond. No.                     3.57e+08\n",
      "==============================================================================\n",
      "\n",
      "Notes:\n",
      "[1] Standard Errors assume that the covariance matrix of the errors is correctly specified.\n",
      "[2] The condition number is large, 3.57e+08. This might indicate that there are\n",
      "strong multicollinearity or other numerical problems.\n"
     ]
    }
   ],
   "source": [
    "random.seed(0)\n",
    "\n",
    "# Add a constant\n",
    "X_train_corrc = sm.add_constant(X_train)\n",
    "\n",
    "# Build the model with RFE features\n",
    "lm_corr = sm.OLS(y_train,X_train).fit()\n",
    "\n",
    "#Summary of linear model\n",
    "print(lm_corr.summary())"
   ]
  },
  {
   "cell_type": "code",
   "execution_count": 167,
   "id": "00bf471e",
   "metadata": {},
   "outputs": [
    {
     "data": {
      "text/html": [
       "<div>\n",
       "<style scoped>\n",
       "    .dataframe tbody tr th:only-of-type {\n",
       "        vertical-align: middle;\n",
       "    }\n",
       "\n",
       "    .dataframe tbody tr th {\n",
       "        vertical-align: top;\n",
       "    }\n",
       "\n",
       "    .dataframe thead th {\n",
       "        text-align: right;\n",
       "    }\n",
       "</style>\n",
       "<table border=\"1\" class=\"dataframe\">\n",
       "  <thead>\n",
       "    <tr style=\"text-align: right;\">\n",
       "      <th></th>\n",
       "      <th>Features</th>\n",
       "      <th>VIF</th>\n",
       "    </tr>\n",
       "  </thead>\n",
       "  <tbody>\n",
       "    <tr>\n",
       "      <th>0</th>\n",
       "      <td>const</td>\n",
       "      <td>58.34</td>\n",
       "    </tr>\n",
       "    <tr>\n",
       "      <th>2</th>\n",
       "      <td>vote_count</td>\n",
       "      <td>3.52</td>\n",
       "    </tr>\n",
       "    <tr>\n",
       "      <th>4</th>\n",
       "      <td>popularity</td>\n",
       "      <td>3.49</td>\n",
       "    </tr>\n",
       "    <tr>\n",
       "      <th>3</th>\n",
       "      <td>vote_average</td>\n",
       "      <td>1.42</td>\n",
       "    </tr>\n",
       "    <tr>\n",
       "      <th>1</th>\n",
       "      <td>budget</td>\n",
       "      <td>1.41</td>\n",
       "    </tr>\n",
       "    <tr>\n",
       "      <th>5</th>\n",
       "      <td>runtime</td>\n",
       "      <td>1.23</td>\n",
       "    </tr>\n",
       "    <tr>\n",
       "      <th>6</th>\n",
       "      <td>profitable</td>\n",
       "      <td>1.20</td>\n",
       "    </tr>\n",
       "  </tbody>\n",
       "</table>\n",
       "</div>"
      ],
      "text/plain": [
       "       Features    VIF\n",
       "0         const  58.34\n",
       "2    vote_count   3.52\n",
       "4    popularity   3.49\n",
       "3  vote_average   1.42\n",
       "1        budget   1.41\n",
       "5       runtime   1.23\n",
       "6    profitable   1.20"
      ]
     },
     "execution_count": 167,
     "metadata": {},
     "output_type": "execute_result"
    }
   ],
   "source": [
    "# Create a dataframe that will contain the names of all the feature variables and their respective VIFs\n",
    "vif = pd.DataFrame()\n",
    "vif['Features'] = X_train.columns\n",
    "vif['VIF'] = [variance_inflation_factor(X_train.values, i) for i in range(X_train.shape[1])]\n",
    "vif['VIF'] = round(vif['VIF'], 2)\n",
    "vif = vif.sort_values(by = \"VIF\", ascending = False)\n",
    "vif"
   ]
  },
  {
   "cell_type": "markdown",
   "id": "7571e5fe",
   "metadata": {},
   "source": [
    "After passing the arbitary selected columns we will manually evaluate each models p-value and VIF value. Unless we find the acceptable range for p-values and VIF we keep dropping the variables one at a time based on below criteria.\n",
    "\n",
    "High p-value High VIF : Drop the variable\n",
    "\n",
    "High p-value Low VIF : Drop the variable with high p-value first\n",
    "\n",
    "Low p-value Low VIF : accept the variable\n",
    "\n",
    "Check VIF\n",
    "\n",
    "Variance Inflation Factor or VIF, gives a basic quantitative idea about how much the feature variables are correlated with each other. It is an extremely important parameter to test our linear model. The formula for calculating VIF is:\n",
    "\n",
    "𝑉𝐼𝐹_𝑖=1/(1−(𝑅_𝑖)^2)"
   ]
  },
  {
   "cell_type": "markdown",
   "id": "e9a97af2",
   "metadata": {},
   "source": [
    "The 'popularity' column has the highest p-value, so we are going to drop it from the model."
   ]
  },
  {
   "cell_type": "code",
   "execution_count": 171,
   "id": "e9a9ed62",
   "metadata": {},
   "outputs": [
    {
     "name": "stdout",
     "output_type": "stream",
     "text": [
      "                            OLS Regression Results                            \n",
      "==============================================================================\n",
      "Dep. Variable:                revenue   R-squared:                       0.689\n",
      "Model:                            OLS   Adj. R-squared:                  0.688\n",
      "Method:                 Least Squares   F-statistic:                     1168.\n",
      "Date:                Tue, 27 Sep 2022   Prob (F-statistic):               0.00\n",
      "Time:                        13:47:15   Log-Likelihood:                -50886.\n",
      "No. Observations:                2641   AIC:                         1.018e+05\n",
      "Df Residuals:                    2635   BIC:                         1.018e+05\n",
      "Df Model:                           5                                         \n",
      "Covariance Type:            nonrobust                                         \n",
      "================================================================================\n",
      "                   coef    std err          t      P>|t|      [0.025      0.975]\n",
      "--------------------------------------------------------------------------------\n",
      "const        -2.702e+07    8.4e+06     -3.218      0.001   -4.35e+07   -1.06e+07\n",
      "budget           1.3416      0.038     35.537      0.000       1.268       1.416\n",
      "vote_count    3.944e+04   1412.177     27.928      0.000    3.67e+04    4.22e+04\n",
      "vote_average -2.345e+06   1.36e+06     -1.728      0.084   -5.01e+06    3.17e+05\n",
      "runtime       8.193e+04      6e+04      1.366      0.172   -3.56e+04    1.99e+05\n",
      "profitable    6.055e+07   2.49e+06     24.292      0.000    5.57e+07    6.54e+07\n",
      "==============================================================================\n",
      "Omnibus:                      979.148   Durbin-Watson:                   2.044\n",
      "Prob(Omnibus):                  0.000   Jarque-Bera (JB):             6283.843\n",
      "Skew:                           1.612   Prob(JB):                         0.00\n",
      "Kurtosis:                       9.835   Cond. No.                     3.57e+08\n",
      "==============================================================================\n",
      "\n",
      "Notes:\n",
      "[1] Standard Errors assume that the covariance matrix of the errors is correctly specified.\n",
      "[2] The condition number is large, 3.57e+08. This might indicate that there are\n",
      "strong multicollinearity or other numerical problems.\n"
     ]
    }
   ],
   "source": [
    "# Dropping insignificant variables\n",
    "\n",
    "X_train_corr1 = X_train.drop(['popularity'], 1,)\n",
    "\n",
    "# Adding a constant variable and Build a second fitted model\n",
    "\n",
    "X_train_corr1 = sm.add_constant(X_train_corr1)\n",
    "lm_corr1 = sm.OLS(y_train, X_train_corr1).fit()\n",
    "\n",
    "#Summary of linear model\n",
    "print(lm_corr1.summary())"
   ]
  },
  {
   "cell_type": "code",
   "execution_count": 172,
   "id": "00fa947d",
   "metadata": {},
   "outputs": [
    {
     "data": {
      "text/html": [
       "<div>\n",
       "<style scoped>\n",
       "    .dataframe tbody tr th:only-of-type {\n",
       "        vertical-align: middle;\n",
       "    }\n",
       "\n",
       "    .dataframe tbody tr th {\n",
       "        vertical-align: top;\n",
       "    }\n",
       "\n",
       "    .dataframe thead th {\n",
       "        text-align: right;\n",
       "    }\n",
       "</style>\n",
       "<table border=\"1\" class=\"dataframe\">\n",
       "  <thead>\n",
       "    <tr style=\"text-align: right;\">\n",
       "      <th></th>\n",
       "      <th>Features</th>\n",
       "      <th>VIF</th>\n",
       "    </tr>\n",
       "  </thead>\n",
       "  <tbody>\n",
       "    <tr>\n",
       "      <th>0</th>\n",
       "      <td>const</td>\n",
       "      <td>58.34</td>\n",
       "    </tr>\n",
       "    <tr>\n",
       "      <th>2</th>\n",
       "      <td>vote_count</td>\n",
       "      <td>1.55</td>\n",
       "    </tr>\n",
       "    <tr>\n",
       "      <th>3</th>\n",
       "      <td>vote_average</td>\n",
       "      <td>1.41</td>\n",
       "    </tr>\n",
       "    <tr>\n",
       "      <th>1</th>\n",
       "      <td>budget</td>\n",
       "      <td>1.38</td>\n",
       "    </tr>\n",
       "    <tr>\n",
       "      <th>4</th>\n",
       "      <td>runtime</td>\n",
       "      <td>1.23</td>\n",
       "    </tr>\n",
       "    <tr>\n",
       "      <th>5</th>\n",
       "      <td>profitable</td>\n",
       "      <td>1.17</td>\n",
       "    </tr>\n",
       "  </tbody>\n",
       "</table>\n",
       "</div>"
      ],
      "text/plain": [
       "       Features    VIF\n",
       "0         const  58.34\n",
       "2    vote_count   1.55\n",
       "3  vote_average   1.41\n",
       "1        budget   1.38\n",
       "4       runtime   1.23\n",
       "5    profitable   1.17"
      ]
     },
     "execution_count": 172,
     "metadata": {},
     "output_type": "execute_result"
    }
   ],
   "source": [
    "# Create a dataframe that will contain the names of all the feature variables and their respective VIFs\n",
    "vif = pd.DataFrame()\n",
    "vif['Features'] = X_train_corr1.columns\n",
    "vif['VIF'] = [variance_inflation_factor(X_train_corr1.values, i) for i in range(X_train_corr1.shape[1])]\n",
    "vif['VIF'] = round(vif['VIF'], 2)\n",
    "vif = vif.sort_values(by = \"VIF\", ascending = False)\n",
    "vif"
   ]
  },
  {
   "cell_type": "markdown",
   "id": "6c8243fa",
   "metadata": {},
   "source": [
    "We are going to drop 'runtime' because it has a high p-value"
   ]
  },
  {
   "cell_type": "code",
   "execution_count": 173,
   "id": "a251e64b",
   "metadata": {},
   "outputs": [
    {
     "name": "stdout",
     "output_type": "stream",
     "text": [
      "                            OLS Regression Results                            \n",
      "==============================================================================\n",
      "Dep. Variable:                revenue   R-squared:                       0.689\n",
      "Model:                            OLS   Adj. R-squared:                  0.688\n",
      "Method:                 Least Squares   F-statistic:                     1459.\n",
      "Date:                Tue, 27 Sep 2022   Prob (F-statistic):               0.00\n",
      "Time:                        13:48:04   Log-Likelihood:                -50887.\n",
      "No. Observations:                2641   AIC:                         1.018e+05\n",
      "Df Residuals:                    2636   BIC:                         1.018e+05\n",
      "Df Model:                           4                                         \n",
      "Covariance Type:            nonrobust                                         \n",
      "================================================================================\n",
      "                   coef    std err          t      P>|t|      [0.025      0.975]\n",
      "--------------------------------------------------------------------------------\n",
      "const        -2.275e+07    7.8e+06     -2.918      0.004    -3.8e+07   -7.46e+06\n",
      "budget           1.3532      0.037     36.787      0.000       1.281       1.425\n",
      "vote_count    3.937e+04   1411.571     27.892      0.000    3.66e+04    4.21e+04\n",
      "vote_average -1.654e+06   1.26e+06     -1.313      0.189   -4.12e+06    8.17e+05\n",
      "profitable    6.051e+07   2.49e+06     24.276      0.000    5.56e+07    6.54e+07\n",
      "==============================================================================\n",
      "Omnibus:                      981.382   Durbin-Watson:                   2.043\n",
      "Prob(Omnibus):                  0.000   Jarque-Bera (JB):             6335.147\n",
      "Skew:                           1.614   Prob(JB):                         0.00\n",
      "Kurtosis:                       9.867   Cond. No.                     3.34e+08\n",
      "==============================================================================\n",
      "\n",
      "Notes:\n",
      "[1] Standard Errors assume that the covariance matrix of the errors is correctly specified.\n",
      "[2] The condition number is large, 3.34e+08. This might indicate that there are\n",
      "strong multicollinearity or other numerical problems.\n"
     ]
    }
   ],
   "source": [
    "# Dropping insignificant variables\n",
    "\n",
    "X_train_corr2 = X_train_corr1.drop('runtime', 1,)\n",
    "\n",
    "# Adding a constant variable and Build a second fitted model\n",
    "\n",
    "X_train_corr2 = sm.add_constant(X_train_corr2)\n",
    "lm_corr2 = sm.OLS(y_train, X_train_corr2).fit()\n",
    "\n",
    "#Summary of linear model\n",
    "print(lm_corr2.summary())"
   ]
  },
  {
   "cell_type": "code",
   "execution_count": 174,
   "id": "6856f812",
   "metadata": {},
   "outputs": [
    {
     "data": {
      "text/html": [
       "<div>\n",
       "<style scoped>\n",
       "    .dataframe tbody tr th:only-of-type {\n",
       "        vertical-align: middle;\n",
       "    }\n",
       "\n",
       "    .dataframe tbody tr th {\n",
       "        vertical-align: top;\n",
       "    }\n",
       "\n",
       "    .dataframe thead th {\n",
       "        text-align: right;\n",
       "    }\n",
       "</style>\n",
       "<table border=\"1\" class=\"dataframe\">\n",
       "  <thead>\n",
       "    <tr style=\"text-align: right;\">\n",
       "      <th></th>\n",
       "      <th>Features</th>\n",
       "      <th>VIF</th>\n",
       "    </tr>\n",
       "  </thead>\n",
       "  <tbody>\n",
       "    <tr>\n",
       "      <th>0</th>\n",
       "      <td>const</td>\n",
       "      <td>50.26</td>\n",
       "    </tr>\n",
       "    <tr>\n",
       "      <th>2</th>\n",
       "      <td>vote_count</td>\n",
       "      <td>1.55</td>\n",
       "    </tr>\n",
       "    <tr>\n",
       "      <th>1</th>\n",
       "      <td>budget</td>\n",
       "      <td>1.31</td>\n",
       "    </tr>\n",
       "    <tr>\n",
       "      <th>3</th>\n",
       "      <td>vote_average</td>\n",
       "      <td>1.22</td>\n",
       "    </tr>\n",
       "    <tr>\n",
       "      <th>4</th>\n",
       "      <td>profitable</td>\n",
       "      <td>1.17</td>\n",
       "    </tr>\n",
       "  </tbody>\n",
       "</table>\n",
       "</div>"
      ],
      "text/plain": [
       "       Features    VIF\n",
       "0         const  50.26\n",
       "2    vote_count   1.55\n",
       "1        budget   1.31\n",
       "3  vote_average   1.22\n",
       "4    profitable   1.17"
      ]
     },
     "execution_count": 174,
     "metadata": {},
     "output_type": "execute_result"
    }
   ],
   "source": [
    "# Create a dataframe that will contain the names of all the feature variables and their respective VIFs\n",
    "vif = pd.DataFrame()\n",
    "vif['Features'] = X_train_corr2.columns\n",
    "vif['VIF'] = [variance_inflation_factor(X_train_corr2.values, i) for i in range(X_train_corr2.shape[1])]\n",
    "vif['VIF'] = round(vif['VIF'], 2)\n",
    "vif = vif.sort_values(by = \"VIF\", ascending = False)\n",
    "vif"
   ]
  },
  {
   "cell_type": "markdown",
   "id": "1eebddd3",
   "metadata": {},
   "source": [
    "Next we are going to drop the 'vote_average' column because it has a high p-value."
   ]
  },
  {
   "cell_type": "code",
   "execution_count": 175,
   "id": "938472d3",
   "metadata": {},
   "outputs": [
    {
     "name": "stdout",
     "output_type": "stream",
     "text": [
      "                            OLS Regression Results                            \n",
      "==============================================================================\n",
      "Dep. Variable:                revenue   R-squared:                       0.689\n",
      "Model:                            OLS   Adj. R-squared:                  0.688\n",
      "Method:                 Least Squares   F-statistic:                     1944.\n",
      "Date:                Tue, 27 Sep 2022   Prob (F-statistic):               0.00\n",
      "Time:                        13:51:32   Log-Likelihood:                -50888.\n",
      "No. Observations:                2641   AIC:                         1.018e+05\n",
      "Df Residuals:                    2637   BIC:                         1.018e+05\n",
      "Df Model:                           3                                         \n",
      "Covariance Type:            nonrobust                                         \n",
      "==============================================================================\n",
      "                 coef    std err          t      P>|t|      [0.025      0.975]\n",
      "------------------------------------------------------------------------------\n",
      "const      -3.263e+07   2.03e+06    -16.076      0.000   -3.66e+07   -2.86e+07\n",
      "budget         1.3649      0.036     38.243      0.000       1.295       1.435\n",
      "vote_count  3.876e+04   1332.548     29.087      0.000    3.61e+04    4.14e+04\n",
      "profitable  5.998e+07   2.46e+06     24.383      0.000    5.52e+07    6.48e+07\n",
      "==============================================================================\n",
      "Omnibus:                      977.567   Durbin-Watson:                   2.043\n",
      "Prob(Omnibus):                  0.000   Jarque-Bera (JB):             6259.263\n",
      "Skew:                           1.609   Prob(JB):                         0.00\n",
      "Kurtosis:                       9.821   Cond. No.                     1.23e+08\n",
      "==============================================================================\n",
      "\n",
      "Notes:\n",
      "[1] Standard Errors assume that the covariance matrix of the errors is correctly specified.\n",
      "[2] The condition number is large, 1.23e+08. This might indicate that there are\n",
      "strong multicollinearity or other numerical problems.\n"
     ]
    }
   ],
   "source": [
    "# Dropping insignificant variables\n",
    "\n",
    "X_train_corr3 = X_train_corr2.drop('vote_average', 1,)\n",
    "\n",
    "# Adding a constant variable and Build a second fitted model\n",
    "\n",
    "X_train_corr3 = sm.add_constant(X_train_corr3)\n",
    "lm_corr3 = sm.OLS(y_train, X_train_corr3).fit()\n",
    "\n",
    "#Summary of linear model\n",
    "print(lm_corr3.summary())"
   ]
  },
  {
   "cell_type": "code",
   "execution_count": 179,
   "id": "6b4b024a",
   "metadata": {},
   "outputs": [
    {
     "data": {
      "text/html": [
       "<div>\n",
       "<style scoped>\n",
       "    .dataframe tbody tr th:only-of-type {\n",
       "        vertical-align: middle;\n",
       "    }\n",
       "\n",
       "    .dataframe tbody tr th {\n",
       "        vertical-align: top;\n",
       "    }\n",
       "\n",
       "    .dataframe thead th {\n",
       "        text-align: right;\n",
       "    }\n",
       "</style>\n",
       "<table border=\"1\" class=\"dataframe\">\n",
       "  <thead>\n",
       "    <tr style=\"text-align: right;\">\n",
       "      <th></th>\n",
       "      <th>Features</th>\n",
       "      <th>VIF</th>\n",
       "    </tr>\n",
       "  </thead>\n",
       "  <tbody>\n",
       "    <tr>\n",
       "      <th>0</th>\n",
       "      <td>const</td>\n",
       "      <td>3.41</td>\n",
       "    </tr>\n",
       "    <tr>\n",
       "      <th>2</th>\n",
       "      <td>vote_count</td>\n",
       "      <td>1.38</td>\n",
       "    </tr>\n",
       "    <tr>\n",
       "      <th>1</th>\n",
       "      <td>budget</td>\n",
       "      <td>1.23</td>\n",
       "    </tr>\n",
       "    <tr>\n",
       "      <th>3</th>\n",
       "      <td>profitable</td>\n",
       "      <td>1.14</td>\n",
       "    </tr>\n",
       "  </tbody>\n",
       "</table>\n",
       "</div>"
      ],
      "text/plain": [
       "     Features   VIF\n",
       "0       const  3.41\n",
       "2  vote_count  1.38\n",
       "1      budget  1.23\n",
       "3  profitable  1.14"
      ]
     },
     "execution_count": 179,
     "metadata": {},
     "output_type": "execute_result"
    }
   ],
   "source": [
    "# Create a dataframe that will contain the names of all the feature variables and their respective VIFs\n",
    "vif = pd.DataFrame()\n",
    "vif['Features'] = X_train_corr3.columns\n",
    "vif['VIF'] = [variance_inflation_factor(X_train_corr3.values, i) for i in range(X_train_corr3.shape[1])]\n",
    "vif['VIF'] = round(vif['VIF'], 2)\n",
    "vif = vif.sort_values(by = \"VIF\", ascending = False)\n",
    "vif"
   ]
  },
  {
   "cell_type": "markdown",
   "id": "2bb0a859",
   "metadata": {},
   "source": [
    "Conclusion: the best linear regression model containes three predictor variables: vote_count, budget and profitable. \n",
    "\n",
    "The R2 Score is 0.689. "
   ]
  },
  {
   "cell_type": "markdown",
   "id": "b1f44f17",
   "metadata": {},
   "source": [
    "The information whether the movie is profitable is available much earlier than the information about revenue.\n",
    "\n",
    "However, if we don't want to include 'profitable', we can drop it from the model."
   ]
  },
  {
   "cell_type": "code",
   "execution_count": 180,
   "id": "7489925b",
   "metadata": {},
   "outputs": [
    {
     "name": "stdout",
     "output_type": "stream",
     "text": [
      "                            OLS Regression Results                            \n",
      "==============================================================================\n",
      "Dep. Variable:                revenue   R-squared:                       0.618\n",
      "Model:                            OLS   Adj. R-squared:                  0.618\n",
      "Method:                 Least Squares   F-statistic:                     2138.\n",
      "Date:                Tue, 27 Sep 2022   Prob (F-statistic):               0.00\n",
      "Time:                        13:55:26   Log-Likelihood:                -51156.\n",
      "No. Observations:                2641   AIC:                         1.023e+05\n",
      "Df Residuals:                    2638   BIC:                         1.023e+05\n",
      "Df Model:                           2                                         \n",
      "Covariance Type:            nonrobust                                         \n",
      "==============================================================================\n",
      "                 coef    std err          t      P>|t|      [0.025      0.975]\n",
      "------------------------------------------------------------------------------\n",
      "const      -3.484e+05    1.7e+06     -0.205      0.838   -3.69e+06    2.99e+06\n",
      "budget         1.3469      0.039     34.103      0.000       1.269       1.424\n",
      "vote_count  4.938e+04   1393.871     35.426      0.000    4.66e+04    5.21e+04\n",
      "==============================================================================\n",
      "Omnibus:                      800.378   Durbin-Watson:                   2.030\n",
      "Prob(Omnibus):                  0.000   Jarque-Bera (JB):             4208.614\n",
      "Skew:                           1.341   Prob(JB):                         0.00\n",
      "Kurtosis:                       8.573   Cond. No.                     6.50e+07\n",
      "==============================================================================\n",
      "\n",
      "Notes:\n",
      "[1] Standard Errors assume that the covariance matrix of the errors is correctly specified.\n",
      "[2] The condition number is large, 6.5e+07. This might indicate that there are\n",
      "strong multicollinearity or other numerical problems.\n"
     ]
    }
   ],
   "source": [
    "X_train_corr4 = X_train_corr3.drop('profitable', 1,)\n",
    "\n",
    "# Adding a constant variable and Build a third fitted model\n",
    "\n",
    "X_train_corr4 = sm.add_constant(X_train_corr4)\n",
    "lm_corr4 = sm.OLS(y_train, X_train_corr4).fit()\n",
    "\n",
    "#Summary of linear model\n",
    "print(lm_corr4.summary())"
   ]
  },
  {
   "cell_type": "markdown",
   "id": "96ab663f",
   "metadata": {},
   "source": [
    "It is clear that the two predictor Linear Regression model is not as good as a three predictor model."
   ]
  },
  {
   "cell_type": "markdown",
   "id": "0d1545e7",
   "metadata": {},
   "source": [
    "The best Linear Regression model is the model with three predictors includes the independent variables: vote_count, budget and profitable and has the R2 Score of 0.689.\n",
    "\n",
    "If we don't want to use 'profitable' as a predictor, the next best model with three predictors includes the independent variables: 'budget', 'vote_count', 'vote_average' and has the R2 Score of 0.654."
   ]
  },
  {
   "cell_type": "code",
   "execution_count": null,
   "id": "b2a75efa",
   "metadata": {},
   "outputs": [],
   "source": []
  }
 ],
 "metadata": {
  "kernelspec": {
   "display_name": "Python 3 (ipykernel)",
   "language": "python",
   "name": "python3"
  },
  "language_info": {
   "codemirror_mode": {
    "name": "ipython",
    "version": 3
   },
   "file_extension": ".py",
   "mimetype": "text/x-python",
   "name": "python",
   "nbconvert_exporter": "python",
   "pygments_lexer": "ipython3",
   "version": "3.9.7"
  }
 },
 "nbformat": 4,
 "nbformat_minor": 5
}
