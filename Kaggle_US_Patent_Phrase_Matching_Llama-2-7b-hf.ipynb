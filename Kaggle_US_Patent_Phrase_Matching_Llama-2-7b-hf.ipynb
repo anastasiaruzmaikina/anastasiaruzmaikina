{
 "cells": [
  {
   "cell_type": "code",
   "execution_count": 1,
   "metadata": {
    "_cell_guid": "b1076dfc-b9ad-4769-8c92-a6c4dae69d19",
    "_uuid": "8f2839f25d086af736a60e9eeb907d3b93b6e0e5",
    "execution": {
     "iopub.execute_input": "2024-10-22T18:50:22.198276Z",
     "iopub.status.busy": "2024-10-22T18:50:22.197466Z",
     "iopub.status.idle": "2024-10-22T18:50:22.202687Z",
     "shell.execute_reply": "2024-10-22T18:50:22.201558Z",
     "shell.execute_reply.started": "2024-10-22T18:50:22.198229Z"
    }
   },
   "outputs": [],
   "source": [
    "# This notebook is by Anastasia Ruzmaikina. It uses Llama-2-7b in Kaggle Competition US Patent Phrase to Phrase Matching"
   ]
  },
  {
   "cell_type": "markdown",
   "metadata": {},
   "source": []
  },
  {
   "cell_type": "markdown",
   "metadata": {},
   "source": [
    "Can you extract meaning from a large, text-based dataset derived from inventions? Here's your chance to do so.\n",
    "\n",
    "The U.S. Patent and Trademark Office (USPTO) offers one of the largest repositories of scientific, technical, and commercial information in the world through its Open Data Portal. Patents are a form of intellectual property granted in exchange for the public disclosure of new and useful inventions. Because patents undergo an intensive vetting process prior to grant, and because the history of U.S. innovation spans over two centuries and 11 million patents, the U.S. patent archives stand as a rare combination of data volume, quality, and diversity.\n",
    "\n",
    "In this competition, you will train your models on a novel semantic similarity dataset to extract relevant information by matching key phrases in patent documents. Determining the semantic similarity between phrases is critically important during the patent search and examination process to determine if an invention has been described before. For example, if one invention claims \"television set\" and a prior publication describes \"TV set\", a model would ideally recognize these are the same and assist a patent attorney or examiner in retrieving relevant documents. This extends beyond paraphrase identification; if one invention claims a \"strong material\" and another uses \"steel\", that may also be a match. What counts as a \"strong material\" varies per domain (it may be steel in one domain and ripstop fabric in another, but you wouldn't want your parachute made of steel). We have included the Cooperative Patent Classification as the technical domain context as an additional feature to help you disambiguate these situations.\n",
    "\n",
    "Can you build a model to match phrases in order to extract contextual information, thereby helping the patent community connect the dots between millions of patent documents?\n",
    "\n"
   ]
  },
  {
   "cell_type": "markdown",
   "metadata": {},
   "source": [
    "In this notebook I use Llama-2-7b to classify key phrases appearing in patents by similarity to known phrases. The classifier outputs the similarity scores 0, 0.25, 0.5, 0.75, 1."
   ]
  },
  {
   "cell_type": "markdown",
   "metadata": {},
   "source": [
    "This notebook has 61.5% accuracy on the competition test dataset. A random guessing algorithm would have 20% accuracy since there are five possible scores. Increasing accuracy of Llama2 would require to use larger r-value (here I used r=4) and therefore increased training time."
   ]
  },
  {
   "cell_type": "code",
   "execution_count": 2,
   "metadata": {
    "execution": {
     "iopub.execute_input": "2024-10-22T18:50:22.226237Z",
     "iopub.status.busy": "2024-10-22T18:50:22.225335Z",
     "iopub.status.idle": "2024-10-22T18:50:22.790580Z",
     "shell.execute_reply": "2024-10-22T18:50:22.789515Z",
     "shell.execute_reply.started": "2024-10-22T18:50:22.226190Z"
    }
   },
   "outputs": [
    {
     "name": "stdout",
     "output_type": "stream",
     "text": [
      "/kaggle/input/us-patent-phrase-to-phrase-matching/sample_submission.csv\n",
      "/kaggle/input/us-patent-phrase-to-phrase-matching/train.csv\n",
      "/kaggle/input/us-patent-phrase-to-phrase-matching/test.csv\n",
      "/kaggle/input/accelerate-and-bitsandbytes/accelerate-0.29.3-py3-none-any.whl\n",
      "/kaggle/input/accelerate-and-bitsandbytes/bitsandbytes-0.43.1-py3-none-manylinux_2_24_x86_64.whl\n",
      "/kaggle/input/daigt-pip/peft-0.6.0-py3-none-any.whl\n",
      "/kaggle/input/daigt-pip/optimum-1.14.0-py3-none-any.whl\n",
      "/kaggle/input/daigt-pip/tokenizers-0.14.1-cp310-cp310-manylinux_2_17_x86_64.manylinux2014_x86_64.whl\n",
      "/kaggle/input/daigt-pip/transformers-4.35.0-py3-none-any.whl\n",
      "/kaggle/input/huggingface-hub-permissible-models-and-datasets/top_300_permissible_models.csv\n",
      "/kaggle/input/huggingface-hub-permissible-models-and-datasets/all_datasets.csv\n",
      "/kaggle/input/huggingface-hub-permissible-models-and-datasets/all_models.csv\n",
      "/kaggle/input/huggingface-hub-permissible-models-and-datasets/all_spaces.csv\n",
      "/kaggle/input/d/jefersonpazze/llama2-7b-hf/config.json\n",
      "/kaggle/input/d/jefersonpazze/llama2-7b-hf/Responsible-Use-Guide.pdf\n",
      "/kaggle/input/d/jefersonpazze/llama2-7b-hf/pytorch_model-00002-of-00002.bin\n",
      "/kaggle/input/d/jefersonpazze/llama2-7b-hf/USE_POLICY.md\n",
      "/kaggle/input/d/jefersonpazze/llama2-7b-hf/tokenizer.json\n",
      "/kaggle/input/d/jefersonpazze/llama2-7b-hf/tokenizer_config.json\n",
      "/kaggle/input/d/jefersonpazze/llama2-7b-hf/pytorch_model.bin.index.json\n",
      "/kaggle/input/d/jefersonpazze/llama2-7b-hf/LICENSE.txt\n",
      "/kaggle/input/d/jefersonpazze/llama2-7b-hf/pytorch_model-00001-of-00002.bin\n",
      "/kaggle/input/d/jefersonpazze/llama2-7b-hf/special_tokens_map.json\n",
      "/kaggle/input/d/jefersonpazze/llama2-7b-hf/gitattributes.txt\n",
      "/kaggle/input/d/jefersonpazze/llama2-7b-hf/tokenizer.model\n",
      "/kaggle/input/d/jefersonpazze/llama2-7b-hf/generation_config.json\n",
      "/kaggle/input/bitsandbytes-0-43-1/bitsandbytes-0.43.1-py3-none-manylinux_2_24_x86_64.whl\n",
      "/kaggle/input/bitsandbytes-0-42-0/bitsandbytes-0.42.0-py3-none-any.whl\n",
      "/kaggle/input/llm-detect-pip/accelerate-0.24.1-py3-none-any.whl\n",
      "/kaggle/input/llm-detect-pip/nvidia_nccl_cu12-2.18.1-py3-none-manylinux1_x86_64.whl\n",
      "/kaggle/input/llm-detect-pip/tqdm-4.66.1-py3-none-any.whl\n",
      "/kaggle/input/llm-detect-pip/huggingface_hub-0.17.3-py3-none-any.whl\n",
      "/kaggle/input/llm-detect-pip/idna-3.4-py3-none-any.whl\n",
      "/kaggle/input/llm-detect-pip/numpy-1.26.1-cp310-cp310-manylinux_2_17_x86_64.manylinux2014_x86_64.whl\n",
      "/kaggle/input/llm-detect-pip/transformers-4.34.1-py3-none-any.whl\n",
      "/kaggle/input/llm-detect-pip/peft-0.5.0-py3-none-any.whl\n",
      "/kaggle/input/llm-detect-pip/psutil-5.9.6-cp36-abi3-manylinux_2_12_x86_64.manylinux2010_x86_64.manylinux_2_17_x86_64.manylinux2014_x86_64.whl\n",
      "/kaggle/input/llm-detect-pip/Jinja2-3.1.2-py3-none-any.whl\n",
      "/kaggle/input/llm-detect-pip/tokenizers-0.14.1-cp310-cp310-manylinux_2_17_x86_64.manylinux2014_x86_64.whl\n",
      "/kaggle/input/llm-detect-pip/regex-2023.10.3-cp310-cp310-manylinux_2_17_x86_64.manylinux2014_x86_64.whl\n",
      "/kaggle/input/llm-detect-pip/nvidia_cudnn_cu12-8.9.2.26-py3-none-manylinux1_x86_64.whl\n",
      "/kaggle/input/llm-detect-pip/torch-2.1.0-cp310-cp310-manylinux1_x86_64.whl\n",
      "/kaggle/input/llm-detect-pip/requests-2.31.0-py3-none-any.whl\n",
      "/kaggle/input/llm-detect-pip/urllib3-2.0.7-py3-none-any.whl\n",
      "/kaggle/input/llm-detect-pip/nvidia_cuda_cupti_cu12-12.1.105-py3-none-manylinux1_x86_64.whl\n",
      "/kaggle/input/llm-detect-pip/nvidia_nvtx_cu12-12.1.105-py3-none-manylinux1_x86_64.whl\n",
      "/kaggle/input/llm-detect-pip/fsspec-2023.10.0-py3-none-any.whl\n",
      "/kaggle/input/llm-detect-pip/typing_extensions-4.8.0-py3-none-any.whl\n",
      "/kaggle/input/llm-detect-pip/__results__.html\n",
      "/kaggle/input/llm-detect-pip/nvidia_cuda_runtime_cu12-12.1.105-py3-none-manylinux1_x86_64.whl\n",
      "/kaggle/input/llm-detect-pip/mpmath-1.3.0-py3-none-any.whl\n",
      "/kaggle/input/llm-detect-pip/packaging-23.2-py3-none-any.whl\n",
      "/kaggle/input/llm-detect-pip/networkx-3.2.1-py3-none-any.whl\n",
      "/kaggle/input/llm-detect-pip/PyYAML-6.0.1-cp310-cp310-manylinux_2_17_x86_64.manylinux2014_x86_64.whl\n",
      "/kaggle/input/llm-detect-pip/nvidia_nvjitlink_cu12-12.3.52-py3-none-manylinux1_x86_64.whl\n",
      "/kaggle/input/llm-detect-pip/triton-2.1.0-0-cp310-cp310-manylinux2014_x86_64.manylinux_2_17_x86_64.whl\n",
      "/kaggle/input/llm-detect-pip/nvidia_cublas_cu12-12.1.3.1-py3-none-manylinux1_x86_64.whl\n",
      "/kaggle/input/llm-detect-pip/__notebook__.ipynb\n",
      "/kaggle/input/llm-detect-pip/nvidia_curand_cu12-10.3.2.106-py3-none-manylinux1_x86_64.whl\n",
      "/kaggle/input/llm-detect-pip/nvidia_cusolver_cu12-11.4.5.107-py3-none-manylinux1_x86_64.whl\n",
      "/kaggle/input/llm-detect-pip/nvidia_cusparse_cu12-12.1.0.106-py3-none-manylinux1_x86_64.whl\n",
      "/kaggle/input/llm-detect-pip/safetensors-0.4.0-cp310-cp310-manylinux_2_17_x86_64.manylinux2014_x86_64.whl\n",
      "/kaggle/input/llm-detect-pip/__output__.json\n",
      "/kaggle/input/llm-detect-pip/charset_normalizer-3.3.2-cp310-cp310-manylinux_2_17_x86_64.manylinux2014_x86_64.whl\n",
      "/kaggle/input/llm-detect-pip/huggingface_hub-0.18.0-py3-none-any.whl\n",
      "/kaggle/input/llm-detect-pip/nvidia_cuda_nvrtc_cu12-12.1.105-py3-none-manylinux1_x86_64.whl\n",
      "/kaggle/input/llm-detect-pip/bitsandbytes-0.41.1-py3-none-any.whl\n",
      "/kaggle/input/llm-detect-pip/sympy-1.12-py3-none-any.whl\n",
      "/kaggle/input/llm-detect-pip/MarkupSafe-2.1.3-cp310-cp310-manylinux_2_17_x86_64.manylinux2014_x86_64.whl\n",
      "/kaggle/input/llm-detect-pip/certifi-2023.7.22-py3-none-any.whl\n",
      "/kaggle/input/llm-detect-pip/nvidia_cufft_cu12-11.0.2.54-py3-none-manylinux1_x86_64.whl\n",
      "/kaggle/input/llm-detect-pip/filelock-3.13.1-py3-none-any.whl\n",
      "/kaggle/input/llm-detect-pip/custom.css\n",
      "/kaggle/input/llama2-7b-hf/Llama2-7b-hf/config.json\n",
      "/kaggle/input/llama2-7b-hf/Llama2-7b-hf/pytorch_model-00002-of-00002.bin\n",
      "/kaggle/input/llama2-7b-hf/Llama2-7b-hf/tokenizer.json\n",
      "/kaggle/input/llama2-7b-hf/Llama2-7b-hf/tokenizer_config.json\n",
      "/kaggle/input/llama2-7b-hf/Llama2-7b-hf/pytorch_model.bin.index.json\n",
      "/kaggle/input/llama2-7b-hf/Llama2-7b-hf/pytorch_model-00001-of-00002.bin\n",
      "/kaggle/input/llama2-7b-hf/Llama2-7b-hf/special_tokens_map.json\n",
      "/kaggle/input/llama2-7b-hf/Llama2-7b-hf/tokenizer.model\n",
      "/kaggle/input/llama2-7b-hf/Llama2-7b-hf/generation_config.json\n"
     ]
    }
   ],
   "source": [
    "import numpy as np # linear algebra\n",
    "import pandas as pd # data processing, CSV file I/O (e.g. pd.read_csv)\n",
    "\n",
    "# Input data files are available in the read-only \"../input/\" directory\n",
    "# For example, running this (by clicking run or pressing Shift+Enter) will list all files under the input directory\n",
    "\n",
    "import os\n",
    "for dirname, _, filenames in os.walk('/kaggle/input'):\n",
    "    for filename in filenames:\n",
    "        print(os.path.join(dirname, filename))\n"
   ]
  },
  {
   "cell_type": "code",
   "execution_count": 3,
   "metadata": {
    "execution": {
     "iopub.execute_input": "2024-10-22T18:50:22.794829Z",
     "iopub.status.busy": "2024-10-22T18:50:22.793977Z",
     "iopub.status.idle": "2024-10-22T18:52:49.746683Z",
     "shell.execute_reply": "2024-10-22T18:52:49.745476Z",
     "shell.execute_reply.started": "2024-10-22T18:50:22.794753Z"
    }
   },
   "outputs": [],
   "source": [
    "# Install package for inferences\n",
    "!pip install -qq --no-deps /kaggle/input/daigt-pip/peft-0.6.0-py3-none-any.whl --use-deprecated=legacy-resolver\n",
    "!pip install -qq --no-deps /kaggle/input/daigt-pip/transformers-4.35.0-py3-none-any.whl --use-deprecated=legacy-resolver\n",
    "!pip install -qq --no-deps /kaggle/input/daigt-pip/tokenizers-0.14.1-cp310-cp310-manylinux_2_17_x86_64.manylinux2014_x86_64.whl --use-deprecated=legacy-resolver\n",
    "!pip install -qq --no-deps /kaggle/input/accelerate-and-bitsandbytes/accelerate-0.29.3-py3-none-any.whl --use-deprecated=legacy-resolver\n",
    "!pip install -qq --no-deps /kaggle/input/accelerate-and-bitsandbytes/bitsandbytes-0.43.1-py3-none-manylinux_2_24_x86_64.whl --use-deprecated=legacy-resolver\n",
    "!pip install -qq --no-deps /kaggle/input/daigt-pip/optimum-1.14.0-py3-none-any.whl --use-deprecated=legacy-resolver\n",
    "#!pip install -qq --no-deps /kaggle/input/llm-detect-pip/accelerate-0.24.1-py3-none-any.whl\n",
    "#!pip install -qq --no-deps /kaggle/input/llm-detect-pip/bitsandbytes-0.41.1-py3-none-any.whl\n",
    "#!os.register_at_fork()"
   ]
  },
  {
   "cell_type": "code",
   "execution_count": 4,
   "metadata": {
    "execution": {
     "iopub.execute_input": "2024-10-22T18:52:49.748536Z",
     "iopub.status.busy": "2024-10-22T18:52:49.748196Z",
     "iopub.status.idle": "2024-10-22T18:52:49.754474Z",
     "shell.execute_reply": "2024-10-22T18:52:49.753575Z",
     "shell.execute_reply.started": "2024-10-22T18:52:49.748499Z"
    }
   },
   "outputs": [],
   "source": [
    "from __future__ import annotations\n",
    "\n",
    "TARGET_MODEL = '/kaggle/input/llama2-7b-hf/Llama2-7b-hf'#\"mistralai/Mistral-7B-v0.1\"\n",
    "\n",
    "DEBUG = False\n",
    "from pathlib import Path\n",
    "\n",
    "OUTPUT_DIR = Path(\"./\")\n",
    "OUTPUT_DIR.mkdir(exist_ok=True, parents=True)\n",
    "\n",
    "INPUT_DIR = Path(\"../input/\")\n"
   ]
  },
  {
   "cell_type": "code",
   "execution_count": 5,
   "metadata": {
    "execution": {
     "iopub.execute_input": "2024-10-22T18:52:49.757840Z",
     "iopub.status.busy": "2024-10-22T18:52:49.757399Z",
     "iopub.status.idle": "2024-10-22T18:53:55.653579Z",
     "shell.execute_reply": "2024-10-22T18:53:55.652471Z",
     "shell.execute_reply.started": "2024-10-22T18:52:49.757799Z"
    }
   },
   "outputs": [
    {
     "name": "stdout",
     "output_type": "stream",
     "text": [
      "\u001b[31mERROR: Directory '/kaggle/input/bitsandbytes-0-42-0' is not installable. Neither 'setup.py' nor 'pyproject.toml' found.\u001b[0m\u001b[31m\n",
      "\u001b[0m"
     ]
    }
   ],
   "source": [
    "#!pip install -q -U peft --no-index --find-links ../input/llm-detect-pip/ --use-deprecated=legacy-resolver\n",
    "#!pip install -q -U accelerate --no-index --find-links ../input/llm-detect-pip/ --use-deprecated=legacy-resolver\n",
    "#!pip install -q -U bitsandbytes --no-index --find-links ../input/llm-detect-pip/ --use-deprecated=legacy-resolver\n",
    "#!pip install -q -U transformers --no-index --find-links ../input/llm-detect-pip/ --use-deprecated=legacy-resolver\n",
    "# Install package for inferences\n",
    "#!pip install -qq --no-deps /kaggle/input/hf-libraries/bitsandbytes --use-deprecated=legacy-resolver\n",
    "!pip install -qq --no-deps /kaggle/input/daigt-pip/peft-0.6.0-py3-none-any.whl --use-deprecated=legacy-resolver\n",
    "#!pip install -qq --no-deps /kaggle/input/daigt-pip/transformers-4.35.0-py3-none-any.whl \n",
    "#!pip install -qq --no-deps /kaggle/input/daigt-pip/tokenizers-0.14.1-cp310-cp310-manylinux_2_17_x86_64.manylinux2014_x86_64.whl\n",
    "!pip install -qq --no-deps /kaggle/input/daigt-pip/optimum-1.14.0-py3-none-any.whl --use-deprecated=legacy-resolver\n",
    "#!pip install -qq --no-deps /kaggle/input/llm-detect-pip/accelerate-0.24.1-py3-none-any.whl\n",
    "#!pip install -qq --no-deps /kaggle/input/llm-detect-pip/bitsandbytes-0.41.1-py3-none-any.whl --use-deprecated=legacy-resolver\n",
    "#!pip install -qq --no-deps /kaggle/input/bitsandbytes-0-42-0 --use-deprecated=legacy-resolver"
   ]
  },
  {
   "cell_type": "code",
   "execution_count": 6,
   "metadata": {
    "execution": {
     "iopub.execute_input": "2024-10-22T18:53:55.656164Z",
     "iopub.status.busy": "2024-10-22T18:53:55.655260Z",
     "iopub.status.idle": "2024-10-22T18:53:55.822922Z",
     "shell.execute_reply": "2024-10-22T18:53:55.822054Z",
     "shell.execute_reply.started": "2024-10-22T18:53:55.656087Z"
    }
   },
   "outputs": [
    {
     "data": {
      "text/html": [
       "<div>\n",
       "<style scoped>\n",
       "    .dataframe tbody tr th:only-of-type {\n",
       "        vertical-align: middle;\n",
       "    }\n",
       "\n",
       "    .dataframe tbody tr th {\n",
       "        vertical-align: top;\n",
       "    }\n",
       "\n",
       "    .dataframe thead th {\n",
       "        text-align: right;\n",
       "    }\n",
       "</style>\n",
       "<table border=\"1\" class=\"dataframe\">\n",
       "  <thead>\n",
       "    <tr style=\"text-align: right;\">\n",
       "      <th></th>\n",
       "      <th>index</th>\n",
       "      <th>id</th>\n",
       "      <th>input</th>\n",
       "      <th>anchor</th>\n",
       "      <th>target</th>\n",
       "      <th>context</th>\n",
       "      <th>score</th>\n",
       "    </tr>\n",
       "  </thead>\n",
       "  <tbody>\n",
       "    <tr>\n",
       "      <th>0</th>\n",
       "      <td>24642</td>\n",
       "      <td>6b3767533645a402</td>\n",
       "      <td>ANCHOR: polls; TARGET:grips;</td>\n",
       "      <td>polls</td>\n",
       "      <td>grips</td>\n",
       "      <td>B21</td>\n",
       "      <td>3</td>\n",
       "    </tr>\n",
       "    <tr>\n",
       "      <th>1</th>\n",
       "      <td>4308</td>\n",
       "      <td>3ecb239abc30accd</td>\n",
       "      <td>ANCHOR: carburization; TARGET:ferrous metals;</td>\n",
       "      <td>carburization</td>\n",
       "      <td>ferrous metals</td>\n",
       "      <td>B23</td>\n",
       "      <td>1</td>\n",
       "    </tr>\n",
       "    <tr>\n",
       "      <th>2</th>\n",
       "      <td>8562</td>\n",
       "      <td>b383be364933dd71</td>\n",
       "      <td>ANCHOR: define panel; TARGET:define internal p...</td>\n",
       "      <td>define panel</td>\n",
       "      <td>define internal panel</td>\n",
       "      <td>B65</td>\n",
       "      <td>2</td>\n",
       "    </tr>\n",
       "    <tr>\n",
       "      <th>3</th>\n",
       "      <td>10335</td>\n",
       "      <td>7f2fc70fdfa18c87</td>\n",
       "      <td>ANCHOR: dual clutch; TARGET:dual clutch in tra...</td>\n",
       "      <td>dual clutch</td>\n",
       "      <td>dual clutch in tractor</td>\n",
       "      <td>B62</td>\n",
       "      <td>2</td>\n",
       "    </tr>\n",
       "    <tr>\n",
       "      <th>4</th>\n",
       "      <td>15399</td>\n",
       "      <td>37e4b7aba2d2455b</td>\n",
       "      <td>ANCHOR: her2 targeted; TARGET:receptor tyrosin...</td>\n",
       "      <td>her2 targeted</td>\n",
       "      <td>receptor tyrosine protein kinase erbb 2</td>\n",
       "      <td>A61</td>\n",
       "      <td>2</td>\n",
       "    </tr>\n",
       "    <tr>\n",
       "      <th>...</th>\n",
       "      <td>...</td>\n",
       "      <td>...</td>\n",
       "      <td>...</td>\n",
       "      <td>...</td>\n",
       "      <td>...</td>\n",
       "      <td>...</td>\n",
       "      <td>...</td>\n",
       "    </tr>\n",
       "    <tr>\n",
       "      <th>36468</th>\n",
       "      <td>8614</td>\n",
       "      <td>ad60c58d0705710d</td>\n",
       "      <td>ANCHOR: deflect light; TARGET:electric bulb;</td>\n",
       "      <td>deflect light</td>\n",
       "      <td>electric bulb</td>\n",
       "      <td>H01</td>\n",
       "      <td>1</td>\n",
       "    </tr>\n",
       "    <tr>\n",
       "      <th>36469</th>\n",
       "      <td>13035</td>\n",
       "      <td>b85f0f63384bb17c</td>\n",
       "      <td>ANCHOR: fit within perimeter; TARGET:enclosed ...</td>\n",
       "      <td>fit within perimeter</td>\n",
       "      <td>enclosed perimeter</td>\n",
       "      <td>B01</td>\n",
       "      <td>3</td>\n",
       "    </tr>\n",
       "    <tr>\n",
       "      <th>36470</th>\n",
       "      <td>11959</td>\n",
       "      <td>b5aa182bf28bbb90</td>\n",
       "      <td>ANCHOR: estimated amount; TARGET:list;</td>\n",
       "      <td>estimated amount</td>\n",
       "      <td>list</td>\n",
       "      <td>G06</td>\n",
       "      <td>0</td>\n",
       "    </tr>\n",
       "    <tr>\n",
       "      <th>36471</th>\n",
       "      <td>26953</td>\n",
       "      <td>75f7cf6c79b16f4d</td>\n",
       "      <td>ANCHOR: rear adjustment; TARGET:rear movement;</td>\n",
       "      <td>rear adjustment</td>\n",
       "      <td>rear movement</td>\n",
       "      <td>E05</td>\n",
       "      <td>3</td>\n",
       "    </tr>\n",
       "    <tr>\n",
       "      <th>36472</th>\n",
       "      <td>22340</td>\n",
       "      <td>69fa4fcc998be5dc</td>\n",
       "      <td>ANCHOR: optimal quantity; TARGET:optimal taste;</td>\n",
       "      <td>optimal quantity</td>\n",
       "      <td>optimal taste</td>\n",
       "      <td>A01</td>\n",
       "      <td>0</td>\n",
       "    </tr>\n",
       "  </tbody>\n",
       "</table>\n",
       "<p>36473 rows × 7 columns</p>\n",
       "</div>"
      ],
      "text/plain": [
       "       index                id  \\\n",
       "0      24642  6b3767533645a402   \n",
       "1       4308  3ecb239abc30accd   \n",
       "2       8562  b383be364933dd71   \n",
       "3      10335  7f2fc70fdfa18c87   \n",
       "4      15399  37e4b7aba2d2455b   \n",
       "...      ...               ...   \n",
       "36468   8614  ad60c58d0705710d   \n",
       "36469  13035  b85f0f63384bb17c   \n",
       "36470  11959  b5aa182bf28bbb90   \n",
       "36471  26953  75f7cf6c79b16f4d   \n",
       "36472  22340  69fa4fcc998be5dc   \n",
       "\n",
       "                                                   input  \\\n",
       "0                           ANCHOR: polls; TARGET:grips;   \n",
       "1          ANCHOR: carburization; TARGET:ferrous metals;   \n",
       "2      ANCHOR: define panel; TARGET:define internal p...   \n",
       "3      ANCHOR: dual clutch; TARGET:dual clutch in tra...   \n",
       "4      ANCHOR: her2 targeted; TARGET:receptor tyrosin...   \n",
       "...                                                  ...   \n",
       "36468       ANCHOR: deflect light; TARGET:electric bulb;   \n",
       "36469  ANCHOR: fit within perimeter; TARGET:enclosed ...   \n",
       "36470             ANCHOR: estimated amount; TARGET:list;   \n",
       "36471     ANCHOR: rear adjustment; TARGET:rear movement;   \n",
       "36472    ANCHOR: optimal quantity; TARGET:optimal taste;   \n",
       "\n",
       "                     anchor                                   target context  \\\n",
       "0                     polls                                    grips     B21   \n",
       "1             carburization                           ferrous metals     B23   \n",
       "2              define panel                    define internal panel     B65   \n",
       "3               dual clutch                   dual clutch in tractor     B62   \n",
       "4             her2 targeted  receptor tyrosine protein kinase erbb 2     A61   \n",
       "...                     ...                                      ...     ...   \n",
       "36468         deflect light                            electric bulb     H01   \n",
       "36469  fit within perimeter                       enclosed perimeter     B01   \n",
       "36470      estimated amount                                     list     G06   \n",
       "36471       rear adjustment                            rear movement     E05   \n",
       "36472      optimal quantity                            optimal taste     A01   \n",
       "\n",
       "       score  \n",
       "0          3  \n",
       "1          1  \n",
       "2          2  \n",
       "3          2  \n",
       "4          2  \n",
       "...      ...  \n",
       "36468      1  \n",
       "36469      3  \n",
       "36470      0  \n",
       "36471      3  \n",
       "36472      0  \n",
       "\n",
       "[36473 rows x 7 columns]"
      ]
     },
     "execution_count": 6,
     "metadata": {},
     "output_type": "execute_result"
    }
   ],
   "source": [
    "import pandas as pd\n",
    "train_df = pd.read_csv('/kaggle/input/us-patent-phrase-to-phrase-matching/train.csv')#(INPUT_DIR / \"\", sep=',')\n",
    "train_df.score = train_df['score'] * 4\n",
    "train_df.score = train_df['score'].round().astype(int)\n",
    "train_df['input'] = 'ANCHOR: ' + train_df.anchor + '; TARGET:' + train_df.target + ';'\n",
    "train_df.insert(1, 'input', train_df.pop('input'))\n",
    "train_df = train_df.sample(frac=1)\n",
    "train_df = train_df.reset_index()\n",
    "\n",
    "test_df = pd.read_csv('/kaggle/input/us-patent-phrase-to-phrase-matching/test.csv')  #(INPUT_DIR / \"\", sep=',')\n",
    "test_df['input'] = 'ANCHOR: ' + test_df.anchor + '; TARGET:' + test_df.target + ';'\n",
    "test_df.insert(1, 'input', test_df.pop('input'))\n",
    "\n",
    "train_df"
   ]
  },
  {
   "cell_type": "code",
   "execution_count": 7,
   "metadata": {
    "execution": {
     "iopub.execute_input": "2024-10-22T18:53:55.824254Z",
     "iopub.status.busy": "2024-10-22T18:53:55.823982Z",
     "iopub.status.idle": "2024-10-22T18:53:55.842495Z",
     "shell.execute_reply": "2024-10-22T18:53:55.841641Z",
     "shell.execute_reply.started": "2024-10-22T18:53:55.824224Z"
    }
   },
   "outputs": [
    {
     "data": {
      "text/html": [
       "<div>\n",
       "<style scoped>\n",
       "    .dataframe tbody tr th:only-of-type {\n",
       "        vertical-align: middle;\n",
       "    }\n",
       "\n",
       "    .dataframe tbody tr th {\n",
       "        vertical-align: top;\n",
       "    }\n",
       "\n",
       "    .dataframe thead th {\n",
       "        text-align: right;\n",
       "    }\n",
       "</style>\n",
       "<table border=\"1\" class=\"dataframe\">\n",
       "  <thead>\n",
       "    <tr style=\"text-align: right;\">\n",
       "      <th></th>\n",
       "      <th>index</th>\n",
       "      <th>id</th>\n",
       "      <th>input</th>\n",
       "      <th>anchor</th>\n",
       "      <th>target</th>\n",
       "      <th>context</th>\n",
       "      <th>label</th>\n",
       "    </tr>\n",
       "  </thead>\n",
       "  <tbody>\n",
       "    <tr>\n",
       "      <th>0</th>\n",
       "      <td>24642</td>\n",
       "      <td>6b3767533645a402</td>\n",
       "      <td>ANCHOR: polls; TARGET:grips;</td>\n",
       "      <td>polls</td>\n",
       "      <td>grips</td>\n",
       "      <td>B21</td>\n",
       "      <td>3</td>\n",
       "    </tr>\n",
       "    <tr>\n",
       "      <th>1</th>\n",
       "      <td>4308</td>\n",
       "      <td>3ecb239abc30accd</td>\n",
       "      <td>ANCHOR: carburization; TARGET:ferrous metals;</td>\n",
       "      <td>carburization</td>\n",
       "      <td>ferrous metals</td>\n",
       "      <td>B23</td>\n",
       "      <td>1</td>\n",
       "    </tr>\n",
       "    <tr>\n",
       "      <th>2</th>\n",
       "      <td>8562</td>\n",
       "      <td>b383be364933dd71</td>\n",
       "      <td>ANCHOR: define panel; TARGET:define internal p...</td>\n",
       "      <td>define panel</td>\n",
       "      <td>define internal panel</td>\n",
       "      <td>B65</td>\n",
       "      <td>2</td>\n",
       "    </tr>\n",
       "    <tr>\n",
       "      <th>3</th>\n",
       "      <td>10335</td>\n",
       "      <td>7f2fc70fdfa18c87</td>\n",
       "      <td>ANCHOR: dual clutch; TARGET:dual clutch in tra...</td>\n",
       "      <td>dual clutch</td>\n",
       "      <td>dual clutch in tractor</td>\n",
       "      <td>B62</td>\n",
       "      <td>2</td>\n",
       "    </tr>\n",
       "    <tr>\n",
       "      <th>4</th>\n",
       "      <td>15399</td>\n",
       "      <td>37e4b7aba2d2455b</td>\n",
       "      <td>ANCHOR: her2 targeted; TARGET:receptor tyrosin...</td>\n",
       "      <td>her2 targeted</td>\n",
       "      <td>receptor tyrosine protein kinase erbb 2</td>\n",
       "      <td>A61</td>\n",
       "      <td>2</td>\n",
       "    </tr>\n",
       "    <tr>\n",
       "      <th>...</th>\n",
       "      <td>...</td>\n",
       "      <td>...</td>\n",
       "      <td>...</td>\n",
       "      <td>...</td>\n",
       "      <td>...</td>\n",
       "      <td>...</td>\n",
       "      <td>...</td>\n",
       "    </tr>\n",
       "    <tr>\n",
       "      <th>36468</th>\n",
       "      <td>8614</td>\n",
       "      <td>ad60c58d0705710d</td>\n",
       "      <td>ANCHOR: deflect light; TARGET:electric bulb;</td>\n",
       "      <td>deflect light</td>\n",
       "      <td>electric bulb</td>\n",
       "      <td>H01</td>\n",
       "      <td>1</td>\n",
       "    </tr>\n",
       "    <tr>\n",
       "      <th>36469</th>\n",
       "      <td>13035</td>\n",
       "      <td>b85f0f63384bb17c</td>\n",
       "      <td>ANCHOR: fit within perimeter; TARGET:enclosed ...</td>\n",
       "      <td>fit within perimeter</td>\n",
       "      <td>enclosed perimeter</td>\n",
       "      <td>B01</td>\n",
       "      <td>3</td>\n",
       "    </tr>\n",
       "    <tr>\n",
       "      <th>36470</th>\n",
       "      <td>11959</td>\n",
       "      <td>b5aa182bf28bbb90</td>\n",
       "      <td>ANCHOR: estimated amount; TARGET:list;</td>\n",
       "      <td>estimated amount</td>\n",
       "      <td>list</td>\n",
       "      <td>G06</td>\n",
       "      <td>0</td>\n",
       "    </tr>\n",
       "    <tr>\n",
       "      <th>36471</th>\n",
       "      <td>26953</td>\n",
       "      <td>75f7cf6c79b16f4d</td>\n",
       "      <td>ANCHOR: rear adjustment; TARGET:rear movement;</td>\n",
       "      <td>rear adjustment</td>\n",
       "      <td>rear movement</td>\n",
       "      <td>E05</td>\n",
       "      <td>3</td>\n",
       "    </tr>\n",
       "    <tr>\n",
       "      <th>36472</th>\n",
       "      <td>22340</td>\n",
       "      <td>69fa4fcc998be5dc</td>\n",
       "      <td>ANCHOR: optimal quantity; TARGET:optimal taste;</td>\n",
       "      <td>optimal quantity</td>\n",
       "      <td>optimal taste</td>\n",
       "      <td>A01</td>\n",
       "      <td>0</td>\n",
       "    </tr>\n",
       "  </tbody>\n",
       "</table>\n",
       "<p>36473 rows × 7 columns</p>\n",
       "</div>"
      ],
      "text/plain": [
       "       index                id  \\\n",
       "0      24642  6b3767533645a402   \n",
       "1       4308  3ecb239abc30accd   \n",
       "2       8562  b383be364933dd71   \n",
       "3      10335  7f2fc70fdfa18c87   \n",
       "4      15399  37e4b7aba2d2455b   \n",
       "...      ...               ...   \n",
       "36468   8614  ad60c58d0705710d   \n",
       "36469  13035  b85f0f63384bb17c   \n",
       "36470  11959  b5aa182bf28bbb90   \n",
       "36471  26953  75f7cf6c79b16f4d   \n",
       "36472  22340  69fa4fcc998be5dc   \n",
       "\n",
       "                                                   input  \\\n",
       "0                           ANCHOR: polls; TARGET:grips;   \n",
       "1          ANCHOR: carburization; TARGET:ferrous metals;   \n",
       "2      ANCHOR: define panel; TARGET:define internal p...   \n",
       "3      ANCHOR: dual clutch; TARGET:dual clutch in tra...   \n",
       "4      ANCHOR: her2 targeted; TARGET:receptor tyrosin...   \n",
       "...                                                  ...   \n",
       "36468       ANCHOR: deflect light; TARGET:electric bulb;   \n",
       "36469  ANCHOR: fit within perimeter; TARGET:enclosed ...   \n",
       "36470             ANCHOR: estimated amount; TARGET:list;   \n",
       "36471     ANCHOR: rear adjustment; TARGET:rear movement;   \n",
       "36472    ANCHOR: optimal quantity; TARGET:optimal taste;   \n",
       "\n",
       "                     anchor                                   target context  \\\n",
       "0                     polls                                    grips     B21   \n",
       "1             carburization                           ferrous metals     B23   \n",
       "2              define panel                    define internal panel     B65   \n",
       "3               dual clutch                   dual clutch in tractor     B62   \n",
       "4             her2 targeted  receptor tyrosine protein kinase erbb 2     A61   \n",
       "...                     ...                                      ...     ...   \n",
       "36468         deflect light                            electric bulb     H01   \n",
       "36469  fit within perimeter                       enclosed perimeter     B01   \n",
       "36470      estimated amount                                     list     G06   \n",
       "36471       rear adjustment                            rear movement     E05   \n",
       "36472      optimal quantity                            optimal taste     A01   \n",
       "\n",
       "       label  \n",
       "0          3  \n",
       "1          1  \n",
       "2          2  \n",
       "3          2  \n",
       "4          2  \n",
       "...      ...  \n",
       "36468      1  \n",
       "36469      3  \n",
       "36470      0  \n",
       "36471      3  \n",
       "36472      0  \n",
       "\n",
       "[36473 rows x 7 columns]"
      ]
     },
     "execution_count": 7,
     "metadata": {},
     "output_type": "execute_result"
    }
   ],
   "source": [
    "train_df = train_df.rename(columns={'score': 'label'})\n",
    "train_df"
   ]
  },
  {
   "cell_type": "code",
   "execution_count": 8,
   "metadata": {
    "execution": {
     "iopub.execute_input": "2024-10-22T18:53:55.843921Z",
     "iopub.status.busy": "2024-10-22T18:53:55.843607Z",
     "iopub.status.idle": "2024-10-22T18:53:55.855713Z",
     "shell.execute_reply": "2024-10-22T18:53:55.854845Z",
     "shell.execute_reply.started": "2024-10-22T18:53:55.843889Z"
    }
   },
   "outputs": [
    {
     "data": {
      "text/plain": [
       "label\n",
       "2    12300\n",
       "1    11519\n",
       "0     7471\n",
       "3     4029\n",
       "4     1154\n",
       "Name: count, dtype: int64"
      ]
     },
     "execution_count": 8,
     "metadata": {},
     "output_type": "execute_result"
    }
   ],
   "source": [
    "train_df.label.value_counts()"
   ]
  },
  {
   "cell_type": "code",
   "execution_count": 9,
   "metadata": {
    "execution": {
     "iopub.execute_input": "2024-10-22T18:53:55.858036Z",
     "iopub.status.busy": "2024-10-22T18:53:55.857126Z",
     "iopub.status.idle": "2024-10-22T18:53:55.872968Z",
     "shell.execute_reply": "2024-10-22T18:53:55.872139Z",
     "shell.execute_reply.started": "2024-10-22T18:53:55.857993Z"
    }
   },
   "outputs": [
    {
     "name": "stdout",
     "output_type": "stream",
     "text": [
      "Train dataframe has shape: (36473, 4)\n"
     ]
    },
    {
     "data": {
      "text/html": [
       "<div>\n",
       "<style scoped>\n",
       "    .dataframe tbody tr th:only-of-type {\n",
       "        vertical-align: middle;\n",
       "    }\n",
       "\n",
       "    .dataframe tbody tr th {\n",
       "        vertical-align: top;\n",
       "    }\n",
       "\n",
       "    .dataframe thead th {\n",
       "        text-align: right;\n",
       "    }\n",
       "</style>\n",
       "<table border=\"1\" class=\"dataframe\">\n",
       "  <thead>\n",
       "    <tr style=\"text-align: right;\">\n",
       "      <th></th>\n",
       "      <th>index</th>\n",
       "      <th>input</th>\n",
       "      <th>context</th>\n",
       "      <th>label</th>\n",
       "    </tr>\n",
       "  </thead>\n",
       "  <tbody>\n",
       "    <tr>\n",
       "      <th>0</th>\n",
       "      <td>24642</td>\n",
       "      <td>ANCHOR: polls; TARGET:grips;</td>\n",
       "      <td>B21</td>\n",
       "      <td>3</td>\n",
       "    </tr>\n",
       "    <tr>\n",
       "      <th>1</th>\n",
       "      <td>4308</td>\n",
       "      <td>ANCHOR: carburization; TARGET:ferrous metals;</td>\n",
       "      <td>B23</td>\n",
       "      <td>1</td>\n",
       "    </tr>\n",
       "    <tr>\n",
       "      <th>2</th>\n",
       "      <td>8562</td>\n",
       "      <td>ANCHOR: define panel; TARGET:define internal p...</td>\n",
       "      <td>B65</td>\n",
       "      <td>2</td>\n",
       "    </tr>\n",
       "    <tr>\n",
       "      <th>3</th>\n",
       "      <td>10335</td>\n",
       "      <td>ANCHOR: dual clutch; TARGET:dual clutch in tra...</td>\n",
       "      <td>B62</td>\n",
       "      <td>2</td>\n",
       "    </tr>\n",
       "    <tr>\n",
       "      <th>4</th>\n",
       "      <td>15399</td>\n",
       "      <td>ANCHOR: her2 targeted; TARGET:receptor tyrosin...</td>\n",
       "      <td>A61</td>\n",
       "      <td>2</td>\n",
       "    </tr>\n",
       "  </tbody>\n",
       "</table>\n",
       "</div>"
      ],
      "text/plain": [
       "   index                                              input context  label\n",
       "0  24642                       ANCHOR: polls; TARGET:grips;     B21      3\n",
       "1   4308      ANCHOR: carburization; TARGET:ferrous metals;     B23      1\n",
       "2   8562  ANCHOR: define panel; TARGET:define internal p...     B65      2\n",
       "3  10335  ANCHOR: dual clutch; TARGET:dual clutch in tra...     B62      2\n",
       "4  15399  ANCHOR: her2 targeted; TARGET:receptor tyrosin...     A61      2"
      ]
     },
     "execution_count": 9,
     "metadata": {},
     "output_type": "execute_result"
    }
   ],
   "source": [
    "train_df = train_df.drop(['id', 'target', 'anchor'], axis=1)\n",
    "test1_df = test_df\n",
    "test_df = test_df.drop(['id', 'target', 'anchor'], axis=1)\n",
    "train_df.reset_index(inplace=True, drop=True)\n",
    "print(f\"Train dataframe has shape: {train_df.shape}\")\n",
    "train_df.head()"
   ]
  },
  {
   "cell_type": "code",
   "execution_count": 10,
   "metadata": {
    "execution": {
     "iopub.execute_input": "2024-10-22T18:53:55.874433Z",
     "iopub.status.busy": "2024-10-22T18:53:55.874089Z",
     "iopub.status.idle": "2024-10-22T18:53:56.537232Z",
     "shell.execute_reply": "2024-10-22T18:53:56.536279Z",
     "shell.execute_reply.started": "2024-10-22T18:53:55.874391Z"
    }
   },
   "outputs": [
    {
     "name": "stdout",
     "output_type": "stream",
     "text": [
      "fold  label\n",
      "0.0   2        615\n",
      "      1        576\n",
      "      0        373\n",
      "      3        202\n",
      "      4         58\n",
      "              ... \n",
      "19.0  2        615\n",
      "      1        576\n",
      "      0        373\n",
      "      3        201\n",
      "      4         58\n",
      "Name: count, Length: 100, dtype: int64\n"
     ]
    },
    {
     "data": {
      "text/html": [
       "<div>\n",
       "<style scoped>\n",
       "    .dataframe tbody tr th:only-of-type {\n",
       "        vertical-align: middle;\n",
       "    }\n",
       "\n",
       "    .dataframe tbody tr th {\n",
       "        vertical-align: top;\n",
       "    }\n",
       "\n",
       "    .dataframe thead th {\n",
       "        text-align: right;\n",
       "    }\n",
       "</style>\n",
       "<table border=\"1\" class=\"dataframe\">\n",
       "  <thead>\n",
       "    <tr style=\"text-align: right;\">\n",
       "      <th></th>\n",
       "      <th>index</th>\n",
       "      <th>input</th>\n",
       "      <th>context</th>\n",
       "      <th>label</th>\n",
       "      <th>fold</th>\n",
       "    </tr>\n",
       "  </thead>\n",
       "  <tbody>\n",
       "    <tr>\n",
       "      <th>0</th>\n",
       "      <td>24642</td>\n",
       "      <td>ANCHOR: polls; TARGET:grips;</td>\n",
       "      <td>B21</td>\n",
       "      <td>3</td>\n",
       "      <td>5.0</td>\n",
       "    </tr>\n",
       "    <tr>\n",
       "      <th>1</th>\n",
       "      <td>4308</td>\n",
       "      <td>ANCHOR: carburization; TARGET:ferrous metals;</td>\n",
       "      <td>B23</td>\n",
       "      <td>1</td>\n",
       "      <td>7.0</td>\n",
       "    </tr>\n",
       "    <tr>\n",
       "      <th>2</th>\n",
       "      <td>8562</td>\n",
       "      <td>ANCHOR: define panel; TARGET:define internal p...</td>\n",
       "      <td>B65</td>\n",
       "      <td>2</td>\n",
       "      <td>11.0</td>\n",
       "    </tr>\n",
       "    <tr>\n",
       "      <th>3</th>\n",
       "      <td>10335</td>\n",
       "      <td>ANCHOR: dual clutch; TARGET:dual clutch in tra...</td>\n",
       "      <td>B62</td>\n",
       "      <td>2</td>\n",
       "      <td>2.0</td>\n",
       "    </tr>\n",
       "    <tr>\n",
       "      <th>4</th>\n",
       "      <td>15399</td>\n",
       "      <td>ANCHOR: her2 targeted; TARGET:receptor tyrosin...</td>\n",
       "      <td>A61</td>\n",
       "      <td>2</td>\n",
       "      <td>14.0</td>\n",
       "    </tr>\n",
       "  </tbody>\n",
       "</table>\n",
       "</div>"
      ],
      "text/plain": [
       "   index                                              input context  label  \\\n",
       "0  24642                       ANCHOR: polls; TARGET:grips;     B21      3   \n",
       "1   4308      ANCHOR: carburization; TARGET:ferrous metals;     B23      1   \n",
       "2   8562  ANCHOR: define panel; TARGET:define internal p...     B65      2   \n",
       "3  10335  ANCHOR: dual clutch; TARGET:dual clutch in tra...     B62      2   \n",
       "4  15399  ANCHOR: her2 targeted; TARGET:receptor tyrosin...     A61      2   \n",
       "\n",
       "   fold  \n",
       "0   5.0  \n",
       "1   7.0  \n",
       "2  11.0  \n",
       "3   2.0  \n",
       "4  14.0  "
      ]
     },
     "execution_count": 10,
     "metadata": {},
     "output_type": "execute_result"
    }
   ],
   "source": [
    "from sklearn.model_selection import StratifiedKFold\n",
    "\n",
    "skf = StratifiedKFold(n_splits=20, shuffle=True, random_state=42)\n",
    "X = train_df.loc[:, train_df.columns != \"label\"]\n",
    "y = train_df.loc[:, train_df.columns == \"label\"]\n",
    "\n",
    "for i, (train_index, valid_index) in enumerate(skf.split(X, y)):\n",
    "    train_df.loc[valid_index, \"fold\"] = i\n",
    "    \n",
    "print(train_df.groupby(\"fold\")[\"label\"].value_counts())\n",
    "train_df.head()"
   ]
  },
  {
   "cell_type": "code",
   "execution_count": 11,
   "metadata": {
    "execution": {
     "iopub.execute_input": "2024-10-22T18:53:56.540938Z",
     "iopub.status.busy": "2024-10-22T18:53:56.540543Z",
     "iopub.status.idle": "2024-10-22T18:53:56.550264Z",
     "shell.execute_reply": "2024-10-22T18:53:56.549370Z",
     "shell.execute_reply.started": "2024-10-22T18:53:56.540904Z"
    }
   },
   "outputs": [
    {
     "name": "stdout",
     "output_type": "stream",
     "text": [
      "(34649, 5)\n",
      "(1824, 5)\n"
     ]
    }
   ],
   "source": [
    "# fold0 as valid\n",
    "valid_df = train_df[train_df[\"fold\"] == 0]\n",
    "train_df = train_df[train_df[\"fold\"] != 0]\n",
    "print(train_df.shape)\n",
    "print(valid_df.shape)"
   ]
  },
  {
   "cell_type": "code",
   "execution_count": 12,
   "metadata": {
    "execution": {
     "iopub.execute_input": "2024-10-22T18:53:56.551935Z",
     "iopub.status.busy": "2024-10-22T18:53:56.551467Z",
     "iopub.status.idle": "2024-10-22T18:54:01.871590Z",
     "shell.execute_reply": "2024-10-22T18:54:01.870615Z",
     "shell.execute_reply.started": "2024-10-22T18:53:56.551894Z"
    }
   },
   "outputs": [
    {
     "name": "stderr",
     "output_type": "stream",
     "text": [
      "/opt/conda/lib/python3.10/site-packages/transformers/utils/generic.py:441: FutureWarning: `torch.utils._pytree._register_pytree_node` is deprecated. Please use `torch.utils._pytree.register_pytree_node` instead.\n",
      "  _torch_pytree._register_pytree_node(\n",
      "/opt/conda/lib/python3.10/site-packages/transformers/utils/generic.py:309: FutureWarning: `torch.utils._pytree._register_pytree_node` is deprecated. Please use `torch.utils._pytree.register_pytree_node` instead.\n",
      "  _torch_pytree._register_pytree_node(\n"
     ]
    }
   ],
   "source": [
    "# load model with 4bit bnb\n",
    "\n",
    "from peft import get_peft_config, PeftModel, PeftConfig, get_peft_model, LoraConfig, TaskType # type: ignore\n",
    "from transformers import BitsAndBytesConfig\n",
    "import torch\n",
    "\n",
    "peft_config = LoraConfig(\n",
    "    r=4,\n",
    "    lora_alpha=16,\n",
    "    lora_dropout=0.1,\n",
    "    bias=\"none\",\n",
    "    task_type=TaskType.SEQ_CLS,\n",
    "    inference_mode=False,\n",
    "    target_modules=[\n",
    "        \"q_proj\",\n",
    "        \"v_proj\"\n",
    "    ],\n",
    ")\n",
    "\n",
    "bnb_config = BitsAndBytesConfig(\n",
    "    load_in_4bit=True,\n",
    "    bnb_4bit_quant_type=\"nf4\",\n",
    "    bnb_4bit_use_double_quant=True,\n",
    "    bnb_4bit_compute_dtype=torch.bfloat16\n",
    ")"
   ]
  },
  {
   "cell_type": "code",
   "execution_count": 13,
   "metadata": {
    "execution": {
     "iopub.execute_input": "2024-10-22T18:54:01.873451Z",
     "iopub.status.busy": "2024-10-22T18:54:01.872993Z",
     "iopub.status.idle": "2024-10-22T18:54:06.489140Z",
     "shell.execute_reply": "2024-10-22T18:54:06.487958Z",
     "shell.execute_reply.started": "2024-10-22T18:54:01.873417Z"
    }
   },
   "outputs": [
    {
     "name": "stderr",
     "output_type": "stream",
     "text": [
      "/opt/conda/lib/python3.10/pty.py:89: RuntimeWarning: os.fork() was called. os.fork() is incompatible with multithreaded code, and JAX is multithreaded, so this will likely lead to a deadlock.\n",
      "  pid, fd = os.forkpty()\n"
     ]
    },
    {
     "name": "stdout",
     "output_type": "stream",
     "text": [
      "++++++++++++++++++++++++++++++++++++++++++++++++++++++++++++\n",
      "++++++++++++++++++ BUG REPORT INFORMATION ++++++++++++++++++\n",
      "++++++++++++++++++++++++++++++++++++++++++++++++++++++++++++\n",
      "++++++++++++++++++++++++++ OTHER +++++++++++++++++++++++++++\n",
      "CUDA specs: CUDASpecs(highest_compute_capability=(6, 0), cuda_version_string='123', cuda_version_tuple=(12, 3))\n",
      "PyTorch settings found: CUDA_VERSION=123, Highest Compute Capability: (6, 0).\n",
      "To manually override the PyTorch CUDA version please see: https://github.com/TimDettmers/bitsandbytes/blob/main/docs/source/nonpytorchcuda.mdx\n",
      "WARNING: Compute capability < 7.5 detected! Only slow 8-bit matmul is supported for your GPU!\n",
      "If you run into issues with 8-bit matmul, you can try 4-bit quantization:\n",
      "https://huggingface.co/blog/4bit-transformers-bitsandbytes\n",
      "Found duplicate CUDA runtime files (see below).\n",
      "\n",
      "We select the PyTorch default CUDA runtime, which is 12.3,\n",
      "but this might mismatch with the CUDA version that is needed for bitsandbytes.\n",
      "To override this behavior set the `BNB_CUDA_VERSION=<version string, e.g. 122>` environmental variable.\n",
      "\n",
      "For example, if you want to use the CUDA version 122,\n",
      "    BNB_CUDA_VERSION=122 python ...\n",
      "\n",
      "OR set the environmental variable in your .bashrc:\n",
      "    export BNB_CUDA_VERSION=122\n",
      "\n",
      "In the case of a manual override, make sure you set LD_LIBRARY_PATH, e.g.\n",
      "export LD_LIBRARY_PATH=$LD_LIBRARY_PATH:/usr/local/cuda-11.2,\n",
      "* Found CUDA runtime at: /usr/local/cuda/lib64/libcudart.so.12\n",
      "* Found CUDA runtime at: /usr/local/cuda/lib64/libcudart.so.12.3.101\n",
      "* Found CUDA runtime at: /usr/local/cuda/lib64/libcudart.so\n",
      "* Found CUDA runtime at: /opt/conda/lib/libcudart.so.12\n",
      "* Found CUDA runtime at: /opt/conda/lib/libcudart.so\n",
      "* Found CUDA runtime at: /opt/conda/lib/libcudart.so.12.3.101\n",
      "* Found CUDA runtime at: /usr/local/cuda/lib64/libcudart.so.12\n",
      "* Found CUDA runtime at: /usr/local/cuda/lib64/libcudart.so.12.3.101\n",
      "* Found CUDA runtime at: /usr/local/cuda/lib64/libcudart.so\n",
      "* Found CUDA runtime at: /opt/conda/lib/libcudart.so.12\n",
      "* Found CUDA runtime at: /opt/conda/lib/libcudart.so\n",
      "* Found CUDA runtime at: /opt/conda/lib/libcudart.so.12.3.101\n",
      "* Found CUDA runtime at: /opt/conda/lib/libcudart.so.12\n",
      "* Found CUDA runtime at: /opt/conda/lib/libcudart.so\n",
      "* Found CUDA runtime at: /opt/conda/lib/libcudart.so.12.3.101\n",
      "++++++++++++++++++++++++++++++++++++++++++++++++++++++++++++\n",
      "++++++++++++++++++++++ DEBUG INFO END ++++++++++++++++++++++\n",
      "++++++++++++++++++++++++++++++++++++++++++++++++++++++++++++\n",
      "Checking that the library is importable and CUDA is callable...\n",
      "SUCCESS!\n",
      "Installation was successful!\n"
     ]
    }
   ],
   "source": [
    "!python -m bitsandbytes"
   ]
  },
  {
   "cell_type": "code",
   "execution_count": 14,
   "metadata": {
    "execution": {
     "iopub.execute_input": "2024-10-22T18:54:06.491128Z",
     "iopub.status.busy": "2024-10-22T18:54:06.490756Z",
     "iopub.status.idle": "2024-10-22T18:54:06.741343Z",
     "shell.execute_reply": "2024-10-22T18:54:06.740527Z",
     "shell.execute_reply.started": "2024-10-22T18:54:06.491091Z"
    }
   },
   "outputs": [],
   "source": [
    "from transformers import AutoTokenizer, LlamaForSequenceClassification\n",
    "\n",
    "tokenizer = AutoTokenizer.from_pretrained(TARGET_MODEL, use_fast=False)\n",
    "tokenizer.pad_token = tokenizer.eos_token"
   ]
  },
  {
   "cell_type": "code",
   "execution_count": 15,
   "metadata": {
    "execution": {
     "iopub.execute_input": "2024-10-22T18:54:06.743028Z",
     "iopub.status.busy": "2024-10-22T18:54:06.742547Z",
     "iopub.status.idle": "2024-10-22T18:54:06.747297Z",
     "shell.execute_reply": "2024-10-22T18:54:06.746369Z",
     "shell.execute_reply.started": "2024-10-22T18:54:06.742980Z"
    }
   },
   "outputs": [],
   "source": [
    "#!pip install accelerate\n",
    "#!pip install bitsandbytes>=0.39.0"
   ]
  },
  {
   "cell_type": "code",
   "execution_count": 16,
   "metadata": {
    "execution": {
     "iopub.execute_input": "2024-10-22T18:54:06.748885Z",
     "iopub.status.busy": "2024-10-22T18:54:06.748506Z",
     "iopub.status.idle": "2024-10-22T18:56:56.817038Z",
     "shell.execute_reply": "2024-10-22T18:56:56.816283Z",
     "shell.execute_reply.started": "2024-10-22T18:54:06.748841Z"
    }
   },
   "outputs": [
    {
     "data": {
      "application/vnd.jupyter.widget-view+json": {
       "model_id": "a263f4686ee44a988da23a744f589902",
       "version_major": 2,
       "version_minor": 0
      },
      "text/plain": [
       "Loading checkpoint shards:   0%|          | 0/2 [00:00<?, ?it/s]"
      ]
     },
     "metadata": {},
     "output_type": "display_data"
    },
    {
     "name": "stderr",
     "output_type": "stream",
     "text": [
      "/opt/conda/lib/python3.10/site-packages/transformers/modeling_utils.py:484: FutureWarning: You are using `torch.load` with `weights_only=False` (the current default value), which uses the default pickle module implicitly. It is possible to construct malicious pickle data which will execute arbitrary code during unpickling (See https://github.com/pytorch/pytorch/blob/main/SECURITY.md#untrusted-models for more details). In a future release, the default value for `weights_only` will be flipped to `True`. This limits the functions that could be executed during unpickling. Arbitrary objects will no longer be allowed to be loaded via this mode unless they are explicitly allowlisted by the user via `torch.serialization.add_safe_globals`. We recommend you start setting `weights_only=True` for any use case where you don't have full control of the loaded file. Please open an issue on GitHub for any issues related to this experimental feature.\n",
      "  return torch.load(checkpoint_file, map_location=map_location)\n",
      "Some weights of LlamaForSequenceClassification were not initialized from the model checkpoint at /kaggle/input/llama2-7b-hf/Llama2-7b-hf and are newly initialized: ['score.weight']\n",
      "You should probably TRAIN this model on a down-stream task to be able to use it for predictions and inference.\n"
     ]
    }
   ],
   "source": [
    "base_model = LlamaForSequenceClassification.from_pretrained(\n",
    "    TARGET_MODEL,\n",
    "    num_labels=5,\n",
    "    quantization_config=bnb_config,\n",
    "    device_map={\"\":0}\n",
    ")\n",
    "base_model.config.pretraining_tp = 1 # 1 is 7b\n",
    "base_model.config.pad_token_id = tokenizer.pad_token_id"
   ]
  },
  {
   "cell_type": "code",
   "execution_count": 17,
   "metadata": {
    "execution": {
     "iopub.execute_input": "2024-10-22T18:56:56.818612Z",
     "iopub.status.busy": "2024-10-22T18:56:56.818225Z",
     "iopub.status.idle": "2024-10-22T18:56:56.930353Z",
     "shell.execute_reply": "2024-10-22T18:56:56.929424Z",
     "shell.execute_reply.started": "2024-10-22T18:56:56.818569Z"
    }
   },
   "outputs": [],
   "source": [
    "model = get_peft_model(base_model, peft_config)\n"
   ]
  },
  {
   "cell_type": "code",
   "execution_count": 18,
   "metadata": {
    "execution": {
     "iopub.execute_input": "2024-10-22T18:56:56.931800Z",
     "iopub.status.busy": "2024-10-22T18:56:56.931484Z",
     "iopub.status.idle": "2024-10-22T18:56:56.940566Z",
     "shell.execute_reply": "2024-10-22T18:56:56.939622Z",
     "shell.execute_reply.started": "2024-10-22T18:56:56.931752Z"
    }
   },
   "outputs": [
    {
     "name": "stdout",
     "output_type": "stream",
     "text": [
      "trainable params: 2,117,632 || all params: 6,609,481,728 || trainable%: 0.03203930485243638\n"
     ]
    }
   ],
   "source": [
    "model.print_trainable_parameters()\n"
   ]
  },
  {
   "cell_type": "code",
   "execution_count": 19,
   "metadata": {
    "execution": {
     "iopub.execute_input": "2024-10-22T18:56:56.942470Z",
     "iopub.status.busy": "2024-10-22T18:56:56.941916Z",
     "iopub.status.idle": "2024-10-22T18:56:56.956371Z",
     "shell.execute_reply": "2024-10-22T18:56:56.955674Z",
     "shell.execute_reply.started": "2024-10-22T18:56:56.942437Z"
    }
   },
   "outputs": [],
   "source": [
    "#remove this for actual calculation  here we take a smaller sample of the dataframe to speed up \n",
    "train_df = train_df.sample(2000, random_state=42)  #2400\n"
   ]
  },
  {
   "cell_type": "code",
   "execution_count": 20,
   "metadata": {
    "execution": {
     "iopub.execute_input": "2024-10-22T18:56:56.957860Z",
     "iopub.status.busy": "2024-10-22T18:56:56.957447Z",
     "iopub.status.idle": "2024-10-22T18:56:56.966944Z",
     "shell.execute_reply": "2024-10-22T18:56:56.966067Z",
     "shell.execute_reply.started": "2024-10-22T18:56:56.957825Z"
    }
   },
   "outputs": [
    {
     "name": "stdout",
     "output_type": "stream",
     "text": [
      "(2000, 5)\n",
      "(1094, 5)\n",
      "(730, 5)\n"
     ]
    }
   ],
   "source": [
    "valid_df1 = valid_df.sample(frac = 0.4, random_state=42)\n",
    "valid_df = valid_df.loc[~valid_df.index.isin(valid_df1.index)]\n",
    "print(train_df.shape)\n",
    "print(valid_df.shape)\n",
    "print(valid_df1.shape)"
   ]
  },
  {
   "cell_type": "code",
   "execution_count": 21,
   "metadata": {
    "execution": {
     "iopub.execute_input": "2024-10-22T18:56:56.968220Z",
     "iopub.status.busy": "2024-10-22T18:56:56.967933Z",
     "iopub.status.idle": "2024-10-22T18:56:57.531687Z",
     "shell.execute_reply": "2024-10-22T18:56:57.530751Z",
     "shell.execute_reply.started": "2024-10-22T18:56:56.968181Z"
    }
   },
   "outputs": [],
   "source": [
    "# datasets\n",
    "from datasets import Dataset\n",
    "\n",
    "# from pandas\n",
    "train_ds = Dataset.from_pandas(train_df)\n",
    "valid_ds = Dataset.from_pandas(valid_df)\n",
    "test_ds = Dataset.from_pandas(test_df)\n",
    "valid_ds1 = Dataset.from_pandas(valid_df1)"
   ]
  },
  {
   "cell_type": "code",
   "execution_count": 22,
   "metadata": {
    "execution": {
     "iopub.execute_input": "2024-10-22T18:56:57.533379Z",
     "iopub.status.busy": "2024-10-22T18:56:57.532977Z",
     "iopub.status.idle": "2024-10-22T18:56:57.539005Z",
     "shell.execute_reply": "2024-10-22T18:56:57.538102Z",
     "shell.execute_reply.started": "2024-10-22T18:56:57.533346Z"
    }
   },
   "outputs": [],
   "source": [
    "def preprocess_function(examples, max_length=512):\n",
    "    return tokenizer(examples[\"input\"], truncation=True, max_length=max_length, padding=True)"
   ]
  },
  {
   "cell_type": "code",
   "execution_count": 23,
   "metadata": {
    "execution": {
     "iopub.execute_input": "2024-10-22T18:56:57.540549Z",
     "iopub.status.busy": "2024-10-22T18:56:57.540205Z",
     "iopub.status.idle": "2024-10-22T18:56:58.469970Z",
     "shell.execute_reply": "2024-10-22T18:56:58.469067Z",
     "shell.execute_reply.started": "2024-10-22T18:56:57.540508Z"
    }
   },
   "outputs": [
    {
     "data": {
      "application/vnd.jupyter.widget-view+json": {
       "model_id": "197addc34309413d9bbb5c9cfa163b67",
       "version_major": 2,
       "version_minor": 0
      },
      "text/plain": [
       "Map:   0%|          | 0/2000 [00:00<?, ? examples/s]"
      ]
     },
     "metadata": {},
     "output_type": "display_data"
    },
    {
     "data": {
      "application/vnd.jupyter.widget-view+json": {
       "model_id": "002a4a541f764a68b680ecb45e704e17",
       "version_major": 2,
       "version_minor": 0
      },
      "text/plain": [
       "Map:   0%|          | 0/1094 [00:00<?, ? examples/s]"
      ]
     },
     "metadata": {},
     "output_type": "display_data"
    },
    {
     "data": {
      "application/vnd.jupyter.widget-view+json": {
       "model_id": "34a19243b767404bbc10afc6e81323be",
       "version_major": 2,
       "version_minor": 0
      },
      "text/plain": [
       "Map:   0%|          | 0/36 [00:00<?, ? examples/s]"
      ]
     },
     "metadata": {},
     "output_type": "display_data"
    },
    {
     "data": {
      "application/vnd.jupyter.widget-view+json": {
       "model_id": "80a3afd83e644ed2935477526d50d3c5",
       "version_major": 2,
       "version_minor": 0
      },
      "text/plain": [
       "Map:   0%|          | 0/730 [00:00<?, ? examples/s]"
      ]
     },
     "metadata": {},
     "output_type": "display_data"
    }
   ],
   "source": [
    "train_tokenized_ds = train_ds.map(preprocess_function, batched=True)\n",
    "valid_tokenized_ds = valid_ds.map(preprocess_function, batched=True)\n",
    "test_tokenized_ds = test_ds.map(preprocess_function, batched=True)\n",
    "valid_tokenized_ds1 = valid_ds1.map(preprocess_function, batched=True)"
   ]
  },
  {
   "cell_type": "code",
   "execution_count": 24,
   "metadata": {
    "execution": {
     "iopub.execute_input": "2024-10-22T18:56:58.471407Z",
     "iopub.status.busy": "2024-10-22T18:56:58.471125Z",
     "iopub.status.idle": "2024-10-22T18:57:08.340132Z",
     "shell.execute_reply": "2024-10-22T18:57:08.339326Z",
     "shell.execute_reply.started": "2024-10-22T18:56:58.471371Z"
    }
   },
   "outputs": [],
   "source": [
    "from transformers import DataCollatorWithPadding\n",
    "\n",
    "data_collator = DataCollatorWithPadding(tokenizer=tokenizer, padding=\"longest\")"
   ]
  },
  {
   "cell_type": "code",
   "execution_count": 25,
   "metadata": {
    "execution": {
     "iopub.execute_input": "2024-10-22T18:57:08.342019Z",
     "iopub.status.busy": "2024-10-22T18:57:08.341315Z",
     "iopub.status.idle": "2024-10-22T18:57:08.349549Z",
     "shell.execute_reply": "2024-10-22T18:57:08.348714Z",
     "shell.execute_reply.started": "2024-10-22T18:57:08.341982Z"
    }
   },
   "outputs": [],
   "source": [
    "import numpy as np\n",
    "from sklearn.metrics import accuracy_score, roc_auc_score\n",
    "import numpy as np\n",
    "\n",
    "def compute_metrics(eval_pred):\n",
    "    predictions, labels = eval_pred\n",
    "    predictions = np.argmax(predictions, axis=1)\n",
    "    \n",
    "    accuracy_val = accuracy_score(labels, predictions)\n",
    "    #roc_auc_val = roc_auc_score(labels, predictions)\n",
    "    \n",
    "    return {\n",
    "        \"accuracy\": accuracy_val,\n",
    "        #\"roc_auc\": roc_auc_val,\n",
    "    }"
   ]
  },
  {
   "cell_type": "code",
   "execution_count": 26,
   "metadata": {
    "execution": {
     "iopub.execute_input": "2024-10-22T18:57:08.350919Z",
     "iopub.status.busy": "2024-10-22T18:57:08.350619Z",
     "iopub.status.idle": "2024-10-22T20:26:45.443580Z",
     "shell.execute_reply": "2024-10-22T20:26:45.442618Z",
     "shell.execute_reply.started": "2024-10-22T18:57:08.350887Z"
    }
   },
   "outputs": [
    {
     "name": "stderr",
     "output_type": "stream",
     "text": [
      "/opt/conda/lib/python3.10/site-packages/accelerate/accelerator.py:436: FutureWarning: Passing the following arguments to `Accelerator` is deprecated and will be removed in version 1.0 of Accelerate: dict_keys(['dispatch_batches', 'split_batches']). Please pass an `accelerate.DataLoaderConfiguration` instead: \n",
      "dataloader_config = DataLoaderConfiguration(dispatch_batches=None, split_batches=False)\n",
      "  warnings.warn(\n"
     ]
    },
    {
     "data": {
      "text/html": [
       "\n",
       "    <div>\n",
       "      \n",
       "      <progress value='125' max='125' style='width:300px; height:20px; vertical-align: middle;'></progress>\n",
       "      [125/125 1:29:19, Epoch 1/1]\n",
       "    </div>\n",
       "    <table border=\"1\" class=\"dataframe\">\n",
       "  <thead>\n",
       " <tr style=\"text-align: left;\">\n",
       "      <th>Step</th>\n",
       "      <th>Training Loss</th>\n",
       "      <th>Validation Loss</th>\n",
       "      <th>Accuracy</th>\n",
       "    </tr>\n",
       "  </thead>\n",
       "  <tbody>\n",
       "    <tr>\n",
       "      <td>20</td>\n",
       "      <td>1.647300</td>\n",
       "      <td>1.537109</td>\n",
       "      <td>0.368373</td>\n",
       "    </tr>\n",
       "    <tr>\n",
       "      <td>40</td>\n",
       "      <td>1.470700</td>\n",
       "      <td>1.559570</td>\n",
       "      <td>0.394881</td>\n",
       "    </tr>\n",
       "    <tr>\n",
       "      <td>60</td>\n",
       "      <td>1.305500</td>\n",
       "      <td>1.213867</td>\n",
       "      <td>0.534735</td>\n",
       "    </tr>\n",
       "    <tr>\n",
       "      <td>80</td>\n",
       "      <td>1.195000</td>\n",
       "      <td>1.213867</td>\n",
       "      <td>0.446984</td>\n",
       "    </tr>\n",
       "    <tr>\n",
       "      <td>100</td>\n",
       "      <td>1.128400</td>\n",
       "      <td>1.025391</td>\n",
       "      <td>0.575868</td>\n",
       "    </tr>\n",
       "    <tr>\n",
       "      <td>120</td>\n",
       "      <td>1.006400</td>\n",
       "      <td>1.001953</td>\n",
       "      <td>0.582267</td>\n",
       "    </tr>\n",
       "  </tbody>\n",
       "</table><p>"
      ],
      "text/plain": [
       "<IPython.core.display.HTML object>"
      ]
     },
     "metadata": {},
     "output_type": "display_data"
    },
    {
     "data": {
      "text/plain": [
       "TrainOutput(global_step=125, training_loss=1.2838131103515624, metrics={'train_runtime': 5376.65, 'train_samples_per_second': 0.372, 'train_steps_per_second': 0.023, 'total_flos': 2643191169024000.0, 'train_loss': 1.2838131103515624, 'epoch': 1.0})"
      ]
     },
     "execution_count": 26,
     "metadata": {},
     "output_type": "execute_result"
    }
   ],
   "source": [
    "from transformers import TrainingArguments, Trainer\n",
    "\n",
    "steps = 5 if DEBUG else 20\n",
    "\n",
    "training_args = TrainingArguments(\n",
    "    output_dir=OUTPUT_DIR,\n",
    "    learning_rate=5e-4,\n",
    "    per_device_train_batch_size=1,\n",
    "    per_device_eval_batch_size=1,\n",
    "    gradient_accumulation_steps=16,\n",
    "    max_grad_norm=0.3,\n",
    "    optim='paged_adamw_32bit',\n",
    "    lr_scheduler_type=\"cosine\",\n",
    "    num_train_epochs=1,\n",
    "    weight_decay=0.01,\n",
    "    evaluation_strategy=\"steps\",\n",
    "    save_strategy=\"steps\",\n",
    "    load_best_model_at_end=True,\n",
    "    push_to_hub=False,\n",
    "    warmup_steps=steps,\n",
    "    eval_steps=steps,\n",
    "    logging_steps=steps,\n",
    "    report_to='none' # if DEBUG else 'wandb',\n",
    ")\n",
    "trainer = Trainer(\n",
    "    model=model,\n",
    "    args=training_args,\n",
    "    train_dataset=train_tokenized_ds,\n",
    "    eval_dataset=valid_tokenized_ds,\n",
    "    tokenizer=tokenizer,\n",
    "    data_collator=data_collator,\n",
    "    compute_metrics=compute_metrics,\n",
    ")\n",
    "\n",
    "trainer.train()"
   ]
  },
  {
   "cell_type": "code",
   "execution_count": 27,
   "metadata": {
    "execution": {
     "iopub.execute_input": "2024-10-22T20:26:45.445242Z",
     "iopub.status.busy": "2024-10-22T20:26:45.444905Z",
     "iopub.status.idle": "2024-10-22T20:33:00.123336Z",
     "shell.execute_reply": "2024-10-22T20:33:00.122220Z",
     "shell.execute_reply.started": "2024-10-22T20:26:45.445208Z"
    }
   },
   "outputs": [
    {
     "data": {
      "text/html": [],
      "text/plain": [
       "<IPython.core.display.HTML object>"
      ]
     },
     "metadata": {},
     "output_type": "display_data"
    }
   ],
   "source": [
    "#this is to check if the predictions work on a known dataframe not previously seen by the model\n",
    "preds = trainer.predict(valid_tokenized_ds1)\n",
    "logits = preds.predictions"
   ]
  },
  {
   "cell_type": "code",
   "execution_count": 28,
   "metadata": {
    "execution": {
     "iopub.execute_input": "2024-10-22T20:33:00.125813Z",
     "iopub.status.busy": "2024-10-22T20:33:00.124999Z",
     "iopub.status.idle": "2024-10-22T20:33:00.135772Z",
     "shell.execute_reply": "2024-10-22T20:33:00.134761Z",
     "shell.execute_reply.started": "2024-10-22T20:33:00.125736Z"
    }
   },
   "outputs": [
    {
     "data": {
      "text/plain": [
       "array([1, 2, 0, 3, 3, 2, 2, 2, 1, 0, 2, 0, 1, 2, 1, 2, 2, 1, 2, 1, 2, 0,\n",
       "       2, 1, 2, 2, 1, 2, 2, 0, 2, 1, 1, 2, 2, 1, 1, 0, 0, 2, 0, 3, 2, 0,\n",
       "       1, 2, 0, 1, 2, 1, 3, 1, 2, 2, 2, 2, 2, 2, 2, 0, 1, 1, 2, 1, 1, 1,\n",
       "       0, 1, 3, 2, 2, 2, 1, 0, 0, 2, 0, 2, 2, 1, 2, 1, 1, 2, 2, 0, 1, 3,\n",
       "       4, 1, 1, 1, 1, 3, 2, 1, 1, 0, 1, 2])"
      ]
     },
     "execution_count": 28,
     "metadata": {},
     "output_type": "execute_result"
    }
   ],
   "source": [
    "# from scipy.special import expit as sigmoid\n",
    "import numpy as np\n",
    "def sigmoid(x):\n",
    "    return 1 / (1 + np.exp(-x))  \n",
    "logits = sigmoid(logits)\n",
    "logits = np.argmax(logits, axis=1)\n",
    "logits[:100]\n",
    "\n"
   ]
  },
  {
   "cell_type": "code",
   "execution_count": 29,
   "metadata": {
    "execution": {
     "iopub.execute_input": "2024-10-22T20:33:00.145517Z",
     "iopub.status.busy": "2024-10-22T20:33:00.145163Z",
     "iopub.status.idle": "2024-10-22T20:33:00.164055Z",
     "shell.execute_reply": "2024-10-22T20:33:00.162667Z",
     "shell.execute_reply.started": "2024-10-22T20:33:00.145479Z"
    }
   },
   "outputs": [
    {
     "data": {
      "text/html": [
       "<div>\n",
       "<style scoped>\n",
       "    .dataframe tbody tr th:only-of-type {\n",
       "        vertical-align: middle;\n",
       "    }\n",
       "\n",
       "    .dataframe tbody tr th {\n",
       "        vertical-align: top;\n",
       "    }\n",
       "\n",
       "    .dataframe thead th {\n",
       "        text-align: right;\n",
       "    }\n",
       "</style>\n",
       "<table border=\"1\" class=\"dataframe\">\n",
       "  <thead>\n",
       "    <tr style=\"text-align: right;\">\n",
       "      <th></th>\n",
       "      <th>index</th>\n",
       "      <th>input</th>\n",
       "      <th>context</th>\n",
       "      <th>label</th>\n",
       "      <th>fold</th>\n",
       "      <th>preds</th>\n",
       "    </tr>\n",
       "  </thead>\n",
       "  <tbody>\n",
       "    <tr>\n",
       "      <th>11198</th>\n",
       "      <td>24689</td>\n",
       "      <td>ANCHOR: polyglycolic acid; TARGET:acid;</td>\n",
       "      <td>C04</td>\n",
       "      <td>1</td>\n",
       "      <td>0.0</td>\n",
       "      <td>1</td>\n",
       "    </tr>\n",
       "    <tr>\n",
       "      <th>34693</th>\n",
       "      <td>23100</td>\n",
       "      <td>ANCHOR: oxygen carrier; TARGET:carrier for oxy...</td>\n",
       "      <td>F23</td>\n",
       "      <td>4</td>\n",
       "      <td>0.0</td>\n",
       "      <td>2</td>\n",
       "    </tr>\n",
       "    <tr>\n",
       "      <th>5658</th>\n",
       "      <td>34480</td>\n",
       "      <td>ANCHOR: use as cooling fluid; TARGET:thermometer;</td>\n",
       "      <td>F24</td>\n",
       "      <td>0</td>\n",
       "      <td>0.0</td>\n",
       "      <td>0</td>\n",
       "    </tr>\n",
       "    <tr>\n",
       "      <th>14934</th>\n",
       "      <td>30843</td>\n",
       "      <td>ANCHOR: slip segment; TARGET:slip element;</td>\n",
       "      <td>H01</td>\n",
       "      <td>3</td>\n",
       "      <td>0.0</td>\n",
       "      <td>3</td>\n",
       "    </tr>\n",
       "    <tr>\n",
       "      <th>18573</th>\n",
       "      <td>33226</td>\n",
       "      <td>ANCHOR: tooth spaces; TARGET:tooth gaps;</td>\n",
       "      <td>G01</td>\n",
       "      <td>3</td>\n",
       "      <td>0.0</td>\n",
       "      <td>3</td>\n",
       "    </tr>\n",
       "    <tr>\n",
       "      <th>...</th>\n",
       "      <td>...</td>\n",
       "      <td>...</td>\n",
       "      <td>...</td>\n",
       "      <td>...</td>\n",
       "      <td>...</td>\n",
       "      <td>...</td>\n",
       "    </tr>\n",
       "    <tr>\n",
       "      <th>29914</th>\n",
       "      <td>24232</td>\n",
       "      <td>ANCHOR: physical transport medium; TARGET:phys...</td>\n",
       "      <td>G06</td>\n",
       "      <td>2</td>\n",
       "      <td>0.0</td>\n",
       "      <td>3</td>\n",
       "    </tr>\n",
       "    <tr>\n",
       "      <th>23123</th>\n",
       "      <td>19945</td>\n",
       "      <td>ANCHOR: melt coating; TARGET:melt coating;</td>\n",
       "      <td>B41</td>\n",
       "      <td>4</td>\n",
       "      <td>0.0</td>\n",
       "      <td>4</td>\n",
       "    </tr>\n",
       "    <tr>\n",
       "      <th>8209</th>\n",
       "      <td>2079</td>\n",
       "      <td>ANCHOR: arcuate means; TARGET:guide members;</td>\n",
       "      <td>D03</td>\n",
       "      <td>1</td>\n",
       "      <td>0.0</td>\n",
       "      <td>1</td>\n",
       "    </tr>\n",
       "    <tr>\n",
       "      <th>1879</th>\n",
       "      <td>12550</td>\n",
       "      <td>ANCHOR: faucet assembly; TARGET:faucet;</td>\n",
       "      <td>F16</td>\n",
       "      <td>2</td>\n",
       "      <td>0.0</td>\n",
       "      <td>2</td>\n",
       "    </tr>\n",
       "    <tr>\n",
       "      <th>17816</th>\n",
       "      <td>6347</td>\n",
       "      <td>ANCHOR: component composite coating; TARGET:co...</td>\n",
       "      <td>C08</td>\n",
       "      <td>2</td>\n",
       "      <td>0.0</td>\n",
       "      <td>2</td>\n",
       "    </tr>\n",
       "  </tbody>\n",
       "</table>\n",
       "<p>730 rows × 6 columns</p>\n",
       "</div>"
      ],
      "text/plain": [
       "       index                                              input context  \\\n",
       "11198  24689            ANCHOR: polyglycolic acid; TARGET:acid;     C04   \n",
       "34693  23100  ANCHOR: oxygen carrier; TARGET:carrier for oxy...     F23   \n",
       "5658   34480  ANCHOR: use as cooling fluid; TARGET:thermometer;     F24   \n",
       "14934  30843         ANCHOR: slip segment; TARGET:slip element;     H01   \n",
       "18573  33226           ANCHOR: tooth spaces; TARGET:tooth gaps;     G01   \n",
       "...      ...                                                ...     ...   \n",
       "29914  24232  ANCHOR: physical transport medium; TARGET:phys...     G06   \n",
       "23123  19945         ANCHOR: melt coating; TARGET:melt coating;     B41   \n",
       "8209    2079       ANCHOR: arcuate means; TARGET:guide members;     D03   \n",
       "1879   12550            ANCHOR: faucet assembly; TARGET:faucet;     F16   \n",
       "17816   6347  ANCHOR: component composite coating; TARGET:co...     C08   \n",
       "\n",
       "       label  fold  preds  \n",
       "11198      1   0.0      1  \n",
       "34693      4   0.0      2  \n",
       "5658       0   0.0      0  \n",
       "14934      3   0.0      3  \n",
       "18573      3   0.0      3  \n",
       "...      ...   ...    ...  \n",
       "29914      2   0.0      3  \n",
       "23123      4   0.0      4  \n",
       "8209       1   0.0      1  \n",
       "1879       2   0.0      2  \n",
       "17816      2   0.0      2  \n",
       "\n",
       "[730 rows x 6 columns]"
      ]
     },
     "execution_count": 29,
     "metadata": {},
     "output_type": "execute_result"
    }
   ],
   "source": [
    "#this is to check if the predictions work on a known dataframe not previosly seen by the model\n",
    "valid_df1['preds'] = logits\n",
    "valid_df1"
   ]
  },
  {
   "cell_type": "code",
   "execution_count": 30,
   "metadata": {
    "execution": {
     "iopub.execute_input": "2024-10-22T20:33:00.165581Z",
     "iopub.status.busy": "2024-10-22T20:33:00.165254Z",
     "iopub.status.idle": "2024-10-22T20:33:00.173213Z",
     "shell.execute_reply": "2024-10-22T20:33:00.171986Z",
     "shell.execute_reply.started": "2024-10-22T20:33:00.165545Z"
    }
   },
   "outputs": [],
   "source": [
    "#count = valid_df1[(valid_df1['preds'] > 0.8 ) & (valid_df1['label'] == 4)].shape[0] + valid_df1[0.6 <(valid_df1['preds'] <= 0.8  ) & (valid_df1['label'] == 3)].shape[0]+ valid_df1[0.4 <(valid_df1['preds'] <= 0.6 ) & (valid_df1['label'] == 2)].shape[0]+ valid_df1[0.2 <(valid_df1['preds'] <= 0.4  ) & (valid_df1['label'] == 1)].shape[0]+ valid_df1[0 =<(valid_df1['preds'] <= 0.2  ) & (valid_df1['label'] == 0)].shape[0]\n",
    "#print(count, count/valid_df1.shape[0])"
   ]
  },
  {
   "cell_type": "code",
   "execution_count": 31,
   "metadata": {
    "execution": {
     "iopub.execute_input": "2024-10-22T20:33:00.175500Z",
     "iopub.status.busy": "2024-10-22T20:33:00.174714Z",
     "iopub.status.idle": "2024-10-22T20:33:18.630074Z",
     "shell.execute_reply": "2024-10-22T20:33:18.629067Z",
     "shell.execute_reply.started": "2024-10-22T20:33:00.175438Z"
    }
   },
   "outputs": [
    {
     "data": {
      "text/html": [],
      "text/plain": [
       "<IPython.core.display.HTML object>"
      ]
     },
     "metadata": {},
     "output_type": "display_data"
    }
   ],
   "source": [
    "preds = trainer.predict(test_tokenized_ds)#.predictions.astype(float)\n",
    "logits = preds.predictions\n"
   ]
  },
  {
   "cell_type": "code",
   "execution_count": 32,
   "metadata": {
    "execution": {
     "iopub.execute_input": "2024-10-22T20:33:18.631977Z",
     "iopub.status.busy": "2024-10-22T20:33:18.631514Z",
     "iopub.status.idle": "2024-10-22T20:33:18.640963Z",
     "shell.execute_reply": "2024-10-22T20:33:18.639939Z",
     "shell.execute_reply.started": "2024-10-22T20:33:18.631928Z"
    }
   },
   "outputs": [
    {
     "data": {
      "text/plain": [
       "array([2, 2, 1, 1, 2, 2, 2, 0, 1, 2, 1, 1, 2, 3, 3, 1, 1, 1, 2, 1, 2, 1,\n",
       "       2, 1, 2, 0, 0, 0, 0, 3, 0, 1, 3, 1, 1, 1])"
      ]
     },
     "execution_count": 32,
     "metadata": {},
     "output_type": "execute_result"
    }
   ],
   "source": [
    "# from scipy.special import expit as sigmoid\n",
    "import numpy as np\n",
    "def sigmoid(x):\n",
    "    #if x > -100:\n",
    "        return 1 / (1 + np.exp(-x))  \n",
    "   # else:\n",
    "       # return 0\n",
    "logits = sigmoid(logits)\n",
    "logits = np.argmax(logits, axis=1)\n",
    "logits[:100]"
   ]
  },
  {
   "cell_type": "code",
   "execution_count": 35,
   "metadata": {
    "execution": {
     "iopub.execute_input": "2024-10-22T20:33:44.567035Z",
     "iopub.status.busy": "2024-10-22T20:33:44.566579Z",
     "iopub.status.idle": "2024-10-22T20:33:44.591534Z",
     "shell.execute_reply": "2024-10-22T20:33:44.590455Z",
     "shell.execute_reply.started": "2024-10-22T20:33:44.566991Z"
    }
   },
   "outputs": [
    {
     "data": {
      "text/html": [
       "<div>\n",
       "<style scoped>\n",
       "    .dataframe tbody tr th:only-of-type {\n",
       "        vertical-align: middle;\n",
       "    }\n",
       "\n",
       "    .dataframe tbody tr th {\n",
       "        vertical-align: top;\n",
       "    }\n",
       "\n",
       "    .dataframe thead th {\n",
       "        text-align: right;\n",
       "    }\n",
       "</style>\n",
       "<table border=\"1\" class=\"dataframe\">\n",
       "  <thead>\n",
       "    <tr style=\"text-align: right;\">\n",
       "      <th></th>\n",
       "      <th>id</th>\n",
       "      <th>score</th>\n",
       "    </tr>\n",
       "  </thead>\n",
       "  <tbody>\n",
       "    <tr>\n",
       "      <th>0</th>\n",
       "      <td>4112d61851461f60</td>\n",
       "      <td>0.50</td>\n",
       "    </tr>\n",
       "    <tr>\n",
       "      <th>1</th>\n",
       "      <td>09e418c93a776564</td>\n",
       "      <td>0.50</td>\n",
       "    </tr>\n",
       "    <tr>\n",
       "      <th>2</th>\n",
       "      <td>36baf228038e314b</td>\n",
       "      <td>0.25</td>\n",
       "    </tr>\n",
       "    <tr>\n",
       "      <th>3</th>\n",
       "      <td>1f37ead645e7f0c8</td>\n",
       "      <td>0.25</td>\n",
       "    </tr>\n",
       "    <tr>\n",
       "      <th>4</th>\n",
       "      <td>71a5b6ad068d531f</td>\n",
       "      <td>0.50</td>\n",
       "    </tr>\n",
       "  </tbody>\n",
       "</table>\n",
       "</div>"
      ],
      "text/plain": [
       "                 id  score\n",
       "0  4112d61851461f60   0.50\n",
       "1  09e418c93a776564   0.50\n",
       "2  36baf228038e314b   0.25\n",
       "3  1f37ead645e7f0c8   0.25\n",
       "4  71a5b6ad068d531f   0.50"
      ]
     },
     "execution_count": 35,
     "metadata": {},
     "output_type": "execute_result"
    }
   ],
   "source": [
    "#this is to provide the sample submission\n",
    "sub = pd.DataFrame()\n",
    "test_df = pd.read_csv('/kaggle/input/us-patent-phrase-to-phrase-matching/test.csv')\n",
    "#sub['id'] = valid_df['id']\n",
    "sub['id'] = test_df['id']\n",
    "import math\n",
    "sub['score'] = logits\n",
    "#sub['score'] = sub['score'].round(2)\n",
    "sub['score'] = sub['score'].apply(lambda x: 0.00 if x==0 else x)\n",
    "sub['score'] = sub['score'].apply(lambda x: 0.25 if x==1 else x)\n",
    "sub['score'] = sub['score'].apply(lambda x: 0.50 if x==2 else x)\n",
    "sub['score'] = sub['score'].apply(lambda x: 0.75 if x==3 else x)\n",
    "sub['score'] = sub['score'].apply(lambda x: 1.00 if x==4 else x)\n",
    "\n",
    "sub.to_csv('/kaggle/working/submission.csv', index=False)\n",
    "sub.head()"
   ]
  },
  {
   "cell_type": "code",
   "execution_count": 36,
   "metadata": {
    "execution": {
     "iopub.execute_input": "2024-10-22T20:33:48.610948Z",
     "iopub.status.busy": "2024-10-22T20:33:48.610492Z",
     "iopub.status.idle": "2024-10-22T20:33:48.630057Z",
     "shell.execute_reply": "2024-10-22T20:33:48.628982Z",
     "shell.execute_reply.started": "2024-10-22T20:33:48.610905Z"
    }
   },
   "outputs": [
    {
     "data": {
      "text/html": [
       "<div>\n",
       "<style scoped>\n",
       "    .dataframe tbody tr th:only-of-type {\n",
       "        vertical-align: middle;\n",
       "    }\n",
       "\n",
       "    .dataframe tbody tr th {\n",
       "        vertical-align: top;\n",
       "    }\n",
       "\n",
       "    .dataframe thead th {\n",
       "        text-align: right;\n",
       "    }\n",
       "</style>\n",
       "<table border=\"1\" class=\"dataframe\">\n",
       "  <thead>\n",
       "    <tr style=\"text-align: right;\">\n",
       "      <th></th>\n",
       "      <th>id</th>\n",
       "      <th>score</th>\n",
       "    </tr>\n",
       "  </thead>\n",
       "  <tbody>\n",
       "    <tr>\n",
       "      <th>0</th>\n",
       "      <td>4112d61851461f60</td>\n",
       "      <td>0.50</td>\n",
       "    </tr>\n",
       "    <tr>\n",
       "      <th>1</th>\n",
       "      <td>09e418c93a776564</td>\n",
       "      <td>0.50</td>\n",
       "    </tr>\n",
       "    <tr>\n",
       "      <th>2</th>\n",
       "      <td>36baf228038e314b</td>\n",
       "      <td>0.25</td>\n",
       "    </tr>\n",
       "    <tr>\n",
       "      <th>3</th>\n",
       "      <td>1f37ead645e7f0c8</td>\n",
       "      <td>0.25</td>\n",
       "    </tr>\n",
       "    <tr>\n",
       "      <th>4</th>\n",
       "      <td>71a5b6ad068d531f</td>\n",
       "      <td>0.50</td>\n",
       "    </tr>\n",
       "    <tr>\n",
       "      <th>5</th>\n",
       "      <td>474c874d0c07bd21</td>\n",
       "      <td>0.50</td>\n",
       "    </tr>\n",
       "    <tr>\n",
       "      <th>6</th>\n",
       "      <td>442c114ed5c4e3c9</td>\n",
       "      <td>0.50</td>\n",
       "    </tr>\n",
       "    <tr>\n",
       "      <th>7</th>\n",
       "      <td>b8ae62ea5e1d8bdb</td>\n",
       "      <td>0.00</td>\n",
       "    </tr>\n",
       "    <tr>\n",
       "      <th>8</th>\n",
       "      <td>faaddaf8fcba8a3f</td>\n",
       "      <td>0.25</td>\n",
       "    </tr>\n",
       "    <tr>\n",
       "      <th>9</th>\n",
       "      <td>ae0262c02566d2ce</td>\n",
       "      <td>0.50</td>\n",
       "    </tr>\n",
       "    <tr>\n",
       "      <th>10</th>\n",
       "      <td>a8808e31641e856d</td>\n",
       "      <td>0.25</td>\n",
       "    </tr>\n",
       "    <tr>\n",
       "      <th>11</th>\n",
       "      <td>16ae4b99d3601e60</td>\n",
       "      <td>0.25</td>\n",
       "    </tr>\n",
       "    <tr>\n",
       "      <th>12</th>\n",
       "      <td>25c555ca3d5a2092</td>\n",
       "      <td>0.50</td>\n",
       "    </tr>\n",
       "    <tr>\n",
       "      <th>13</th>\n",
       "      <td>5203a36c501f1b7c</td>\n",
       "      <td>0.75</td>\n",
       "    </tr>\n",
       "    <tr>\n",
       "      <th>14</th>\n",
       "      <td>b9fdc772bb8fd61c</td>\n",
       "      <td>0.75</td>\n",
       "    </tr>\n",
       "    <tr>\n",
       "      <th>15</th>\n",
       "      <td>7aa5908a77a7ec24</td>\n",
       "      <td>0.25</td>\n",
       "    </tr>\n",
       "    <tr>\n",
       "      <th>16</th>\n",
       "      <td>d19ef3979396d47e</td>\n",
       "      <td>0.25</td>\n",
       "    </tr>\n",
       "    <tr>\n",
       "      <th>17</th>\n",
       "      <td>fd83613b7843f5e1</td>\n",
       "      <td>0.25</td>\n",
       "    </tr>\n",
       "    <tr>\n",
       "      <th>18</th>\n",
       "      <td>2a619016908bfa45</td>\n",
       "      <td>0.50</td>\n",
       "    </tr>\n",
       "    <tr>\n",
       "      <th>19</th>\n",
       "      <td>733979d75f59770d</td>\n",
       "      <td>0.25</td>\n",
       "    </tr>\n",
       "    <tr>\n",
       "      <th>20</th>\n",
       "      <td>6546846df17f9800</td>\n",
       "      <td>0.50</td>\n",
       "    </tr>\n",
       "    <tr>\n",
       "      <th>21</th>\n",
       "      <td>3ff0e7a35015be69</td>\n",
       "      <td>0.25</td>\n",
       "    </tr>\n",
       "    <tr>\n",
       "      <th>22</th>\n",
       "      <td>12ca31f018a2e2b9</td>\n",
       "      <td>0.50</td>\n",
       "    </tr>\n",
       "    <tr>\n",
       "      <th>23</th>\n",
       "      <td>03ba802ed4029e4d</td>\n",
       "      <td>0.25</td>\n",
       "    </tr>\n",
       "    <tr>\n",
       "      <th>24</th>\n",
       "      <td>c404f8b378cbb008</td>\n",
       "      <td>0.50</td>\n",
       "    </tr>\n",
       "    <tr>\n",
       "      <th>25</th>\n",
       "      <td>78243984c02a72e4</td>\n",
       "      <td>0.00</td>\n",
       "    </tr>\n",
       "    <tr>\n",
       "      <th>26</th>\n",
       "      <td>de51114bc0faec3e</td>\n",
       "      <td>0.00</td>\n",
       "    </tr>\n",
       "    <tr>\n",
       "      <th>27</th>\n",
       "      <td>7e3aff857f056bf9</td>\n",
       "      <td>0.00</td>\n",
       "    </tr>\n",
       "    <tr>\n",
       "      <th>28</th>\n",
       "      <td>26c3c6dc6174b589</td>\n",
       "      <td>0.00</td>\n",
       "    </tr>\n",
       "    <tr>\n",
       "      <th>29</th>\n",
       "      <td>b892011ab2e2cabc</td>\n",
       "      <td>0.75</td>\n",
       "    </tr>\n",
       "    <tr>\n",
       "      <th>30</th>\n",
       "      <td>8247ff562ca185cc</td>\n",
       "      <td>0.00</td>\n",
       "    </tr>\n",
       "    <tr>\n",
       "      <th>31</th>\n",
       "      <td>c057aecbba832387</td>\n",
       "      <td>0.25</td>\n",
       "    </tr>\n",
       "    <tr>\n",
       "      <th>32</th>\n",
       "      <td>9f2279ce667b21dc</td>\n",
       "      <td>0.75</td>\n",
       "    </tr>\n",
       "    <tr>\n",
       "      <th>33</th>\n",
       "      <td>b9ea2b06a878df6f</td>\n",
       "      <td>0.25</td>\n",
       "    </tr>\n",
       "    <tr>\n",
       "      <th>34</th>\n",
       "      <td>79795133c30ef097</td>\n",
       "      <td>0.25</td>\n",
       "    </tr>\n",
       "    <tr>\n",
       "      <th>35</th>\n",
       "      <td>25522ee5411e63e9</td>\n",
       "      <td>0.25</td>\n",
       "    </tr>\n",
       "  </tbody>\n",
       "</table>\n",
       "</div>"
      ],
      "text/plain": [
       "                  id  score\n",
       "0   4112d61851461f60   0.50\n",
       "1   09e418c93a776564   0.50\n",
       "2   36baf228038e314b   0.25\n",
       "3   1f37ead645e7f0c8   0.25\n",
       "4   71a5b6ad068d531f   0.50\n",
       "5   474c874d0c07bd21   0.50\n",
       "6   442c114ed5c4e3c9   0.50\n",
       "7   b8ae62ea5e1d8bdb   0.00\n",
       "8   faaddaf8fcba8a3f   0.25\n",
       "9   ae0262c02566d2ce   0.50\n",
       "10  a8808e31641e856d   0.25\n",
       "11  16ae4b99d3601e60   0.25\n",
       "12  25c555ca3d5a2092   0.50\n",
       "13  5203a36c501f1b7c   0.75\n",
       "14  b9fdc772bb8fd61c   0.75\n",
       "15  7aa5908a77a7ec24   0.25\n",
       "16  d19ef3979396d47e   0.25\n",
       "17  fd83613b7843f5e1   0.25\n",
       "18  2a619016908bfa45   0.50\n",
       "19  733979d75f59770d   0.25\n",
       "20  6546846df17f9800   0.50\n",
       "21  3ff0e7a35015be69   0.25\n",
       "22  12ca31f018a2e2b9   0.50\n",
       "23  03ba802ed4029e4d   0.25\n",
       "24  c404f8b378cbb008   0.50\n",
       "25  78243984c02a72e4   0.00\n",
       "26  de51114bc0faec3e   0.00\n",
       "27  7e3aff857f056bf9   0.00\n",
       "28  26c3c6dc6174b589   0.00\n",
       "29  b892011ab2e2cabc   0.75\n",
       "30  8247ff562ca185cc   0.00\n",
       "31  c057aecbba832387   0.25\n",
       "32  9f2279ce667b21dc   0.75\n",
       "33  b9ea2b06a878df6f   0.25\n",
       "34  79795133c30ef097   0.25\n",
       "35  25522ee5411e63e9   0.25"
      ]
     },
     "execution_count": 36,
     "metadata": {},
     "output_type": "execute_result"
    }
   ],
   "source": [
    "dfs = pd.read_csv('/kaggle/working/submission.csv')\n",
    "dfs"
   ]
  }
 ],
 "metadata": {
  "kaggle": {
   "accelerator": "gpu",
   "dataSources": [
    {
     "databundleVersionId": 3279164,
     "sourceId": 33657,
     "sourceType": "competition"
    },
    {
     "datasetId": 3601853,
     "sourceId": 6266221,
     "sourceType": "datasetVersion"
    },
    {
     "datasetId": 3774343,
     "sourceId": 6528795,
     "sourceType": "datasetVersion"
    },
    {
     "datasetId": 3972872,
     "sourceId": 6921012,
     "sourceType": "datasetVersion"
    },
    {
     "datasetId": 4225280,
     "sourceId": 7286316,
     "sourceType": "datasetVersion"
    },
    {
     "datasetId": 4822801,
     "sourceId": 8153733,
     "sourceType": "datasetVersion"
    },
    {
     "datasetId": 4913635,
     "sourceId": 8274980,
     "sourceType": "datasetVersion"
    },
    {
     "datasetId": 5700155,
     "sourceId": 9392708,
     "sourceType": "datasetVersion"
    },
    {
     "sourceId": 148861315,
     "sourceType": "kernelVersion"
    }
   ],
   "dockerImageVersionId": 30762,
   "isGpuEnabled": true,
   "isInternetEnabled": false,
   "language": "python",
   "sourceType": "notebook"
  },
  "kernelspec": {
   "display_name": "Python 3 (ipykernel)",
   "language": "python",
   "name": "python3"
  },
  "language_info": {
   "codemirror_mode": {
    "name": "ipython",
    "version": 3
   },
   "file_extension": ".py",
   "mimetype": "text/x-python",
   "name": "python",
   "nbconvert_exporter": "python",
   "pygments_lexer": "ipython3",
   "version": "3.9.7"
  }
 },
 "nbformat": 4,
 "nbformat_minor": 4
}
